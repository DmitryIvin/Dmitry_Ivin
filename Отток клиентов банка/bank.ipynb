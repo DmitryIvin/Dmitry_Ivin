{
 "cells": [
  {
   "cell_type": "markdown",
   "metadata": {},
   "source": [
    "# Отток клиентов"
   ]
  },
  {
   "cell_type": "markdown",
   "metadata": {},
   "source": [
    "Из «Бета-Банка» стали уходить клиенты. Каждый месяц. Немного, но заметно. Банковские маркетологи посчитали: сохранять текущих клиентов дешевле, чем привлекать новых.\n",
    "\n",
    "Нужно спрогнозировать, уйдёт клиент из банка в ближайшее время или нет. Вам предоставлены исторические данные о поведении клиентов и расторжении договоров с банком. \n",
    "\n",
    "Постройте модель с предельно большим значением *F1*-меры. Чтобы сдать проект успешно, нужно довести метрику до 0.59. Проверьте *F1*-меру на тестовой выборке самостоятельно.\n",
    "\n",
    "Дополнительно измеряйте *AUC-ROC*, сравнивайте её значение с *F1*-мерой.\n",
    "\n",
    "Источник данных: [https://www.kaggle.com/barelydedicated/bank-customer-churn-modeling](https://www.kaggle.com/barelydedicated/bank-customer-churn-modeling)"
   ]
  },
  {
   "cell_type": "markdown",
   "metadata": {},
   "source": [
    "Признаки\n",
    "   - RowNumber — индекс строки в данных\n",
    "   - CustomerId — уникальный идентификатор клиента\n",
    "   - Surname — фамилия\n",
    "   - CreditScore — кредитный рейтинг\n",
    "   - Geography — страна проживания\n",
    "   - Gender — пол\n",
    "   - Age — возраст\n",
    "   - Tenure — сколько лет человек является клиентом банка\n",
    "   - Balance — баланс на счёте\n",
    "   - NumOfProducts — количество продуктов банка, используемых клиентом\n",
    "   - HasCrCard — наличие кредитной карты\n",
    "   - IsActiveMember — активность клиента\n",
    "   - EstimatedSalary — предполагаемая зарплата\n",
    "   \n",
    "Целевой признак\n",
    "   - Exited — факт ухода клиента"
   ]
  },
  {
   "cell_type": "markdown",
   "metadata": {},
   "source": [
    "Перед нами - задача бинарной классификации"
   ]
  },
  {
   "cell_type": "markdown",
   "metadata": {},
   "source": [
    "## Подготовка данных"
   ]
  },
  {
   "cell_type": "markdown",
   "metadata": {},
   "source": [
    "Импортируем библиотеки"
   ]
  },
  {
   "cell_type": "code",
   "execution_count": 1,
   "metadata": {},
   "outputs": [],
   "source": [
    "import pandas as pd\n",
    "import numpy as np\n",
    "from sklearn.preprocessing import OrdinalEncoder # это для порядкого кодирования\n",
    "from sklearn.preprocessing import StandardScaler # это для масштабирвоания\n",
    "from sklearn.model_selection import train_test_split # это для разделения на обучающую и валидационную выборку\n",
    "from sklearn.metrics import f1_score # метрика f1-мера\n",
    "from sklearn.tree import DecisionTreeClassifier\n",
    "from sklearn.ensemble import RandomForestClassifier\n",
    "from sklearn.utils import shuffle # это для \"перетасовывания\" строк\n",
    "from sklearn.metrics import roc_auc_score # метрика auc-roc\n",
    "from sklearn.metrics import roc_curve # для графика roc-кривой\n",
    "import matplotlib.pyplot as plt\n",
    "import warnings\n",
    "warnings.filterwarnings('ignore')"
   ]
  },
  {
   "cell_type": "markdown",
   "metadata": {},
   "source": [
    "Загрузим данные:"
   ]
  },
  {
   "cell_type": "code",
   "execution_count": 2,
   "metadata": {},
   "outputs": [],
   "source": [
    "data = pd.read_csv('Churn.csv')"
   ]
  },
  {
   "cell_type": "code",
   "execution_count": 3,
   "metadata": {},
   "outputs": [
    {
     "data": {
      "text/html": [
       "<div>\n",
       "<style scoped>\n",
       "    .dataframe tbody tr th:only-of-type {\n",
       "        vertical-align: middle;\n",
       "    }\n",
       "\n",
       "    .dataframe tbody tr th {\n",
       "        vertical-align: top;\n",
       "    }\n",
       "\n",
       "    .dataframe thead th {\n",
       "        text-align: right;\n",
       "    }\n",
       "</style>\n",
       "<table border=\"1\" class=\"dataframe\">\n",
       "  <thead>\n",
       "    <tr style=\"text-align: right;\">\n",
       "      <th></th>\n",
       "      <th>RowNumber</th>\n",
       "      <th>CustomerId</th>\n",
       "      <th>Surname</th>\n",
       "      <th>CreditScore</th>\n",
       "      <th>Geography</th>\n",
       "      <th>Gender</th>\n",
       "      <th>Age</th>\n",
       "      <th>Tenure</th>\n",
       "      <th>Balance</th>\n",
       "      <th>NumOfProducts</th>\n",
       "      <th>HasCrCard</th>\n",
       "      <th>IsActiveMember</th>\n",
       "      <th>EstimatedSalary</th>\n",
       "      <th>Exited</th>\n",
       "    </tr>\n",
       "  </thead>\n",
       "  <tbody>\n",
       "    <tr>\n",
       "      <th>0</th>\n",
       "      <td>1</td>\n",
       "      <td>15634602</td>\n",
       "      <td>Hargrave</td>\n",
       "      <td>619</td>\n",
       "      <td>France</td>\n",
       "      <td>Female</td>\n",
       "      <td>42</td>\n",
       "      <td>2.0</td>\n",
       "      <td>0.00</td>\n",
       "      <td>1</td>\n",
       "      <td>1</td>\n",
       "      <td>1</td>\n",
       "      <td>101348.88</td>\n",
       "      <td>1</td>\n",
       "    </tr>\n",
       "    <tr>\n",
       "      <th>1</th>\n",
       "      <td>2</td>\n",
       "      <td>15647311</td>\n",
       "      <td>Hill</td>\n",
       "      <td>608</td>\n",
       "      <td>Spain</td>\n",
       "      <td>Female</td>\n",
       "      <td>41</td>\n",
       "      <td>1.0</td>\n",
       "      <td>83807.86</td>\n",
       "      <td>1</td>\n",
       "      <td>0</td>\n",
       "      <td>1</td>\n",
       "      <td>112542.58</td>\n",
       "      <td>0</td>\n",
       "    </tr>\n",
       "    <tr>\n",
       "      <th>2</th>\n",
       "      <td>3</td>\n",
       "      <td>15619304</td>\n",
       "      <td>Onio</td>\n",
       "      <td>502</td>\n",
       "      <td>France</td>\n",
       "      <td>Female</td>\n",
       "      <td>42</td>\n",
       "      <td>8.0</td>\n",
       "      <td>159660.80</td>\n",
       "      <td>3</td>\n",
       "      <td>1</td>\n",
       "      <td>0</td>\n",
       "      <td>113931.57</td>\n",
       "      <td>1</td>\n",
       "    </tr>\n",
       "    <tr>\n",
       "      <th>3</th>\n",
       "      <td>4</td>\n",
       "      <td>15701354</td>\n",
       "      <td>Boni</td>\n",
       "      <td>699</td>\n",
       "      <td>France</td>\n",
       "      <td>Female</td>\n",
       "      <td>39</td>\n",
       "      <td>1.0</td>\n",
       "      <td>0.00</td>\n",
       "      <td>2</td>\n",
       "      <td>0</td>\n",
       "      <td>0</td>\n",
       "      <td>93826.63</td>\n",
       "      <td>0</td>\n",
       "    </tr>\n",
       "    <tr>\n",
       "      <th>4</th>\n",
       "      <td>5</td>\n",
       "      <td>15737888</td>\n",
       "      <td>Mitchell</td>\n",
       "      <td>850</td>\n",
       "      <td>Spain</td>\n",
       "      <td>Female</td>\n",
       "      <td>43</td>\n",
       "      <td>2.0</td>\n",
       "      <td>125510.82</td>\n",
       "      <td>1</td>\n",
       "      <td>1</td>\n",
       "      <td>1</td>\n",
       "      <td>79084.10</td>\n",
       "      <td>0</td>\n",
       "    </tr>\n",
       "    <tr>\n",
       "      <th>...</th>\n",
       "      <td>...</td>\n",
       "      <td>...</td>\n",
       "      <td>...</td>\n",
       "      <td>...</td>\n",
       "      <td>...</td>\n",
       "      <td>...</td>\n",
       "      <td>...</td>\n",
       "      <td>...</td>\n",
       "      <td>...</td>\n",
       "      <td>...</td>\n",
       "      <td>...</td>\n",
       "      <td>...</td>\n",
       "      <td>...</td>\n",
       "      <td>...</td>\n",
       "    </tr>\n",
       "    <tr>\n",
       "      <th>9995</th>\n",
       "      <td>9996</td>\n",
       "      <td>15606229</td>\n",
       "      <td>Obijiaku</td>\n",
       "      <td>771</td>\n",
       "      <td>France</td>\n",
       "      <td>Male</td>\n",
       "      <td>39</td>\n",
       "      <td>5.0</td>\n",
       "      <td>0.00</td>\n",
       "      <td>2</td>\n",
       "      <td>1</td>\n",
       "      <td>0</td>\n",
       "      <td>96270.64</td>\n",
       "      <td>0</td>\n",
       "    </tr>\n",
       "    <tr>\n",
       "      <th>9996</th>\n",
       "      <td>9997</td>\n",
       "      <td>15569892</td>\n",
       "      <td>Johnstone</td>\n",
       "      <td>516</td>\n",
       "      <td>France</td>\n",
       "      <td>Male</td>\n",
       "      <td>35</td>\n",
       "      <td>10.0</td>\n",
       "      <td>57369.61</td>\n",
       "      <td>1</td>\n",
       "      <td>1</td>\n",
       "      <td>1</td>\n",
       "      <td>101699.77</td>\n",
       "      <td>0</td>\n",
       "    </tr>\n",
       "    <tr>\n",
       "      <th>9997</th>\n",
       "      <td>9998</td>\n",
       "      <td>15584532</td>\n",
       "      <td>Liu</td>\n",
       "      <td>709</td>\n",
       "      <td>France</td>\n",
       "      <td>Female</td>\n",
       "      <td>36</td>\n",
       "      <td>7.0</td>\n",
       "      <td>0.00</td>\n",
       "      <td>1</td>\n",
       "      <td>0</td>\n",
       "      <td>1</td>\n",
       "      <td>42085.58</td>\n",
       "      <td>1</td>\n",
       "    </tr>\n",
       "    <tr>\n",
       "      <th>9998</th>\n",
       "      <td>9999</td>\n",
       "      <td>15682355</td>\n",
       "      <td>Sabbatini</td>\n",
       "      <td>772</td>\n",
       "      <td>Germany</td>\n",
       "      <td>Male</td>\n",
       "      <td>42</td>\n",
       "      <td>3.0</td>\n",
       "      <td>75075.31</td>\n",
       "      <td>2</td>\n",
       "      <td>1</td>\n",
       "      <td>0</td>\n",
       "      <td>92888.52</td>\n",
       "      <td>1</td>\n",
       "    </tr>\n",
       "    <tr>\n",
       "      <th>9999</th>\n",
       "      <td>10000</td>\n",
       "      <td>15628319</td>\n",
       "      <td>Walker</td>\n",
       "      <td>792</td>\n",
       "      <td>France</td>\n",
       "      <td>Female</td>\n",
       "      <td>28</td>\n",
       "      <td>NaN</td>\n",
       "      <td>130142.79</td>\n",
       "      <td>1</td>\n",
       "      <td>1</td>\n",
       "      <td>0</td>\n",
       "      <td>38190.78</td>\n",
       "      <td>0</td>\n",
       "    </tr>\n",
       "  </tbody>\n",
       "</table>\n",
       "<p>10000 rows × 14 columns</p>\n",
       "</div>"
      ],
      "text/plain": [
       "      RowNumber  CustomerId    Surname  CreditScore Geography  Gender  Age  \\\n",
       "0             1    15634602   Hargrave          619    France  Female   42   \n",
       "1             2    15647311       Hill          608     Spain  Female   41   \n",
       "2             3    15619304       Onio          502    France  Female   42   \n",
       "3             4    15701354       Boni          699    France  Female   39   \n",
       "4             5    15737888   Mitchell          850     Spain  Female   43   \n",
       "...         ...         ...        ...          ...       ...     ...  ...   \n",
       "9995       9996    15606229   Obijiaku          771    France    Male   39   \n",
       "9996       9997    15569892  Johnstone          516    France    Male   35   \n",
       "9997       9998    15584532        Liu          709    France  Female   36   \n",
       "9998       9999    15682355  Sabbatini          772   Germany    Male   42   \n",
       "9999      10000    15628319     Walker          792    France  Female   28   \n",
       "\n",
       "      Tenure    Balance  NumOfProducts  HasCrCard  IsActiveMember  \\\n",
       "0        2.0       0.00              1          1               1   \n",
       "1        1.0   83807.86              1          0               1   \n",
       "2        8.0  159660.80              3          1               0   \n",
       "3        1.0       0.00              2          0               0   \n",
       "4        2.0  125510.82              1          1               1   \n",
       "...      ...        ...            ...        ...             ...   \n",
       "9995     5.0       0.00              2          1               0   \n",
       "9996    10.0   57369.61              1          1               1   \n",
       "9997     7.0       0.00              1          0               1   \n",
       "9998     3.0   75075.31              2          1               0   \n",
       "9999     NaN  130142.79              1          1               0   \n",
       "\n",
       "      EstimatedSalary  Exited  \n",
       "0           101348.88       1  \n",
       "1           112542.58       0  \n",
       "2           113931.57       1  \n",
       "3            93826.63       0  \n",
       "4            79084.10       0  \n",
       "...               ...     ...  \n",
       "9995         96270.64       0  \n",
       "9996        101699.77       0  \n",
       "9997         42085.58       1  \n",
       "9998         92888.52       1  \n",
       "9999         38190.78       0  \n",
       "\n",
       "[10000 rows x 14 columns]"
      ]
     },
     "execution_count": 3,
     "metadata": {},
     "output_type": "execute_result"
    }
   ],
   "source": [
    "data"
   ]
  },
  {
   "cell_type": "markdown",
   "metadata": {},
   "source": [
    "Посмотрим информацию о датафрейме:"
   ]
  },
  {
   "cell_type": "code",
   "execution_count": 4,
   "metadata": {
    "scrolled": false
   },
   "outputs": [
    {
     "name": "stdout",
     "output_type": "stream",
     "text": [
      "<class 'pandas.core.frame.DataFrame'>\n",
      "RangeIndex: 10000 entries, 0 to 9999\n",
      "Data columns (total 14 columns):\n",
      " #   Column           Non-Null Count  Dtype  \n",
      "---  ------           --------------  -----  \n",
      " 0   RowNumber        10000 non-null  int64  \n",
      " 1   CustomerId       10000 non-null  int64  \n",
      " 2   Surname          10000 non-null  object \n",
      " 3   CreditScore      10000 non-null  int64  \n",
      " 4   Geography        10000 non-null  object \n",
      " 5   Gender           10000 non-null  object \n",
      " 6   Age              10000 non-null  int64  \n",
      " 7   Tenure           9091 non-null   float64\n",
      " 8   Balance          10000 non-null  float64\n",
      " 9   NumOfProducts    10000 non-null  int64  \n",
      " 10  HasCrCard        10000 non-null  int64  \n",
      " 11  IsActiveMember   10000 non-null  int64  \n",
      " 12  EstimatedSalary  10000 non-null  float64\n",
      " 13  Exited           10000 non-null  int64  \n",
      "dtypes: float64(3), int64(8), object(3)\n",
      "memory usage: 1.1+ MB\n"
     ]
    }
   ],
   "source": [
    "data.info()"
   ]
  },
  {
   "cell_type": "markdown",
   "metadata": {},
   "source": [
    "Пропуски в одном столбце - Tenure"
   ]
  },
  {
   "cell_type": "markdown",
   "metadata": {},
   "source": [
    "Уберем заглавные буквы"
   ]
  },
  {
   "cell_type": "code",
   "execution_count": 5,
   "metadata": {},
   "outputs": [],
   "source": [
    "data.columns = data.columns.str.lower()"
   ]
  },
  {
   "cell_type": "markdown",
   "metadata": {},
   "source": [
    "Надо что-то сделать с пропусками в столбце Tenure. Думаю, можно заполнить пропуски медианой по стране"
   ]
  },
  {
   "cell_type": "code",
   "execution_count": 6,
   "metadata": {},
   "outputs": [],
   "source": [
    "data['tenure'] = data.groupby(\"geography\")['tenure'].transform(lambda x: x.fillna(x.median()))"
   ]
  },
  {
   "cell_type": "code",
   "execution_count": 7,
   "metadata": {},
   "outputs": [
    {
     "name": "stdout",
     "output_type": "stream",
     "text": [
      "<class 'pandas.core.frame.DataFrame'>\n",
      "RangeIndex: 10000 entries, 0 to 9999\n",
      "Data columns (total 14 columns):\n",
      " #   Column           Non-Null Count  Dtype  \n",
      "---  ------           --------------  -----  \n",
      " 0   rownumber        10000 non-null  int64  \n",
      " 1   customerid       10000 non-null  int64  \n",
      " 2   surname          10000 non-null  object \n",
      " 3   creditscore      10000 non-null  int64  \n",
      " 4   geography        10000 non-null  object \n",
      " 5   gender           10000 non-null  object \n",
      " 6   age              10000 non-null  int64  \n",
      " 7   tenure           10000 non-null  float64\n",
      " 8   balance          10000 non-null  float64\n",
      " 9   numofproducts    10000 non-null  int64  \n",
      " 10  hascrcard        10000 non-null  int64  \n",
      " 11  isactivemember   10000 non-null  int64  \n",
      " 12  estimatedsalary  10000 non-null  float64\n",
      " 13  exited           10000 non-null  int64  \n",
      "dtypes: float64(3), int64(8), object(3)\n",
      "memory usage: 1.1+ MB\n"
     ]
    }
   ],
   "source": [
    "data.info()"
   ]
  },
  {
   "cell_type": "markdown",
   "metadata": {},
   "source": [
    "Я бы удалил следующие столбцы:\n",
    "\n",
    "    - RowNomber - зачем нам повтор индексов?\n",
    "    - Surname - фамилия вряд-ли будет влиять на отток клиентов\n",
    "    - Id клиента тоже не влияет"
   ]
  },
  {
   "cell_type": "code",
   "execution_count": 8,
   "metadata": {},
   "outputs": [],
   "source": [
    "data = data.drop(['surname', 'customerid', 'rownumber'], axis=1)"
   ]
  },
  {
   "cell_type": "code",
   "execution_count": 9,
   "metadata": {},
   "outputs": [
    {
     "data": {
      "text/html": [
       "<div>\n",
       "<style scoped>\n",
       "    .dataframe tbody tr th:only-of-type {\n",
       "        vertical-align: middle;\n",
       "    }\n",
       "\n",
       "    .dataframe tbody tr th {\n",
       "        vertical-align: top;\n",
       "    }\n",
       "\n",
       "    .dataframe thead th {\n",
       "        text-align: right;\n",
       "    }\n",
       "</style>\n",
       "<table border=\"1\" class=\"dataframe\">\n",
       "  <thead>\n",
       "    <tr style=\"text-align: right;\">\n",
       "      <th></th>\n",
       "      <th>creditscore</th>\n",
       "      <th>geography</th>\n",
       "      <th>gender</th>\n",
       "      <th>age</th>\n",
       "      <th>tenure</th>\n",
       "      <th>balance</th>\n",
       "      <th>numofproducts</th>\n",
       "      <th>hascrcard</th>\n",
       "      <th>isactivemember</th>\n",
       "      <th>estimatedsalary</th>\n",
       "      <th>exited</th>\n",
       "    </tr>\n",
       "  </thead>\n",
       "  <tbody>\n",
       "    <tr>\n",
       "      <th>0</th>\n",
       "      <td>619</td>\n",
       "      <td>France</td>\n",
       "      <td>Female</td>\n",
       "      <td>42</td>\n",
       "      <td>2.0</td>\n",
       "      <td>0.00</td>\n",
       "      <td>1</td>\n",
       "      <td>1</td>\n",
       "      <td>1</td>\n",
       "      <td>101348.88</td>\n",
       "      <td>1</td>\n",
       "    </tr>\n",
       "    <tr>\n",
       "      <th>1</th>\n",
       "      <td>608</td>\n",
       "      <td>Spain</td>\n",
       "      <td>Female</td>\n",
       "      <td>41</td>\n",
       "      <td>1.0</td>\n",
       "      <td>83807.86</td>\n",
       "      <td>1</td>\n",
       "      <td>0</td>\n",
       "      <td>1</td>\n",
       "      <td>112542.58</td>\n",
       "      <td>0</td>\n",
       "    </tr>\n",
       "    <tr>\n",
       "      <th>2</th>\n",
       "      <td>502</td>\n",
       "      <td>France</td>\n",
       "      <td>Female</td>\n",
       "      <td>42</td>\n",
       "      <td>8.0</td>\n",
       "      <td>159660.80</td>\n",
       "      <td>3</td>\n",
       "      <td>1</td>\n",
       "      <td>0</td>\n",
       "      <td>113931.57</td>\n",
       "      <td>1</td>\n",
       "    </tr>\n",
       "    <tr>\n",
       "      <th>3</th>\n",
       "      <td>699</td>\n",
       "      <td>France</td>\n",
       "      <td>Female</td>\n",
       "      <td>39</td>\n",
       "      <td>1.0</td>\n",
       "      <td>0.00</td>\n",
       "      <td>2</td>\n",
       "      <td>0</td>\n",
       "      <td>0</td>\n",
       "      <td>93826.63</td>\n",
       "      <td>0</td>\n",
       "    </tr>\n",
       "    <tr>\n",
       "      <th>4</th>\n",
       "      <td>850</td>\n",
       "      <td>Spain</td>\n",
       "      <td>Female</td>\n",
       "      <td>43</td>\n",
       "      <td>2.0</td>\n",
       "      <td>125510.82</td>\n",
       "      <td>1</td>\n",
       "      <td>1</td>\n",
       "      <td>1</td>\n",
       "      <td>79084.10</td>\n",
       "      <td>0</td>\n",
       "    </tr>\n",
       "    <tr>\n",
       "      <th>...</th>\n",
       "      <td>...</td>\n",
       "      <td>...</td>\n",
       "      <td>...</td>\n",
       "      <td>...</td>\n",
       "      <td>...</td>\n",
       "      <td>...</td>\n",
       "      <td>...</td>\n",
       "      <td>...</td>\n",
       "      <td>...</td>\n",
       "      <td>...</td>\n",
       "      <td>...</td>\n",
       "    </tr>\n",
       "    <tr>\n",
       "      <th>9995</th>\n",
       "      <td>771</td>\n",
       "      <td>France</td>\n",
       "      <td>Male</td>\n",
       "      <td>39</td>\n",
       "      <td>5.0</td>\n",
       "      <td>0.00</td>\n",
       "      <td>2</td>\n",
       "      <td>1</td>\n",
       "      <td>0</td>\n",
       "      <td>96270.64</td>\n",
       "      <td>0</td>\n",
       "    </tr>\n",
       "    <tr>\n",
       "      <th>9996</th>\n",
       "      <td>516</td>\n",
       "      <td>France</td>\n",
       "      <td>Male</td>\n",
       "      <td>35</td>\n",
       "      <td>10.0</td>\n",
       "      <td>57369.61</td>\n",
       "      <td>1</td>\n",
       "      <td>1</td>\n",
       "      <td>1</td>\n",
       "      <td>101699.77</td>\n",
       "      <td>0</td>\n",
       "    </tr>\n",
       "    <tr>\n",
       "      <th>9997</th>\n",
       "      <td>709</td>\n",
       "      <td>France</td>\n",
       "      <td>Female</td>\n",
       "      <td>36</td>\n",
       "      <td>7.0</td>\n",
       "      <td>0.00</td>\n",
       "      <td>1</td>\n",
       "      <td>0</td>\n",
       "      <td>1</td>\n",
       "      <td>42085.58</td>\n",
       "      <td>1</td>\n",
       "    </tr>\n",
       "    <tr>\n",
       "      <th>9998</th>\n",
       "      <td>772</td>\n",
       "      <td>Germany</td>\n",
       "      <td>Male</td>\n",
       "      <td>42</td>\n",
       "      <td>3.0</td>\n",
       "      <td>75075.31</td>\n",
       "      <td>2</td>\n",
       "      <td>1</td>\n",
       "      <td>0</td>\n",
       "      <td>92888.52</td>\n",
       "      <td>1</td>\n",
       "    </tr>\n",
       "    <tr>\n",
       "      <th>9999</th>\n",
       "      <td>792</td>\n",
       "      <td>France</td>\n",
       "      <td>Female</td>\n",
       "      <td>28</td>\n",
       "      <td>5.0</td>\n",
       "      <td>130142.79</td>\n",
       "      <td>1</td>\n",
       "      <td>1</td>\n",
       "      <td>0</td>\n",
       "      <td>38190.78</td>\n",
       "      <td>0</td>\n",
       "    </tr>\n",
       "  </tbody>\n",
       "</table>\n",
       "<p>10000 rows × 11 columns</p>\n",
       "</div>"
      ],
      "text/plain": [
       "      creditscore geography  gender  age  tenure    balance  numofproducts  \\\n",
       "0             619    France  Female   42     2.0       0.00              1   \n",
       "1             608     Spain  Female   41     1.0   83807.86              1   \n",
       "2             502    France  Female   42     8.0  159660.80              3   \n",
       "3             699    France  Female   39     1.0       0.00              2   \n",
       "4             850     Spain  Female   43     2.0  125510.82              1   \n",
       "...           ...       ...     ...  ...     ...        ...            ...   \n",
       "9995          771    France    Male   39     5.0       0.00              2   \n",
       "9996          516    France    Male   35    10.0   57369.61              1   \n",
       "9997          709    France  Female   36     7.0       0.00              1   \n",
       "9998          772   Germany    Male   42     3.0   75075.31              2   \n",
       "9999          792    France  Female   28     5.0  130142.79              1   \n",
       "\n",
       "      hascrcard  isactivemember  estimatedsalary  exited  \n",
       "0             1               1        101348.88       1  \n",
       "1             0               1        112542.58       0  \n",
       "2             1               0        113931.57       1  \n",
       "3             0               0         93826.63       0  \n",
       "4             1               1         79084.10       0  \n",
       "...         ...             ...              ...     ...  \n",
       "9995          1               0         96270.64       0  \n",
       "9996          1               1        101699.77       0  \n",
       "9997          0               1         42085.58       1  \n",
       "9998          1               0         92888.52       1  \n",
       "9999          1               0         38190.78       0  \n",
       "\n",
       "[10000 rows x 11 columns]"
      ]
     },
     "execution_count": 9,
     "metadata": {},
     "output_type": "execute_result"
    }
   ],
   "source": [
    "data"
   ]
  },
  {
   "cell_type": "markdown",
   "metadata": {},
   "source": [
    "Далее мы имеем два категориальных столбца - страна и пол. Воспользуемся порядковым кодированием, чтобы преобразовать категории в цифры "
   ]
  },
  {
   "cell_type": "code",
   "execution_count": 10,
   "metadata": {},
   "outputs": [],
   "source": [
    "encoder = OrdinalEncoder(dtype=np.int64) # создали объект\n",
    "data[['geography', 'gender']] = encoder.fit_transform(data[[\"geography\", \"gender\"]])\n",
    "# вызываем метод fit_transform для географии и пола\n"
   ]
  },
  {
   "cell_type": "code",
   "execution_count": 11,
   "metadata": {},
   "outputs": [
    {
     "data": {
      "text/html": [
       "<div>\n",
       "<style scoped>\n",
       "    .dataframe tbody tr th:only-of-type {\n",
       "        vertical-align: middle;\n",
       "    }\n",
       "\n",
       "    .dataframe tbody tr th {\n",
       "        vertical-align: top;\n",
       "    }\n",
       "\n",
       "    .dataframe thead th {\n",
       "        text-align: right;\n",
       "    }\n",
       "</style>\n",
       "<table border=\"1\" class=\"dataframe\">\n",
       "  <thead>\n",
       "    <tr style=\"text-align: right;\">\n",
       "      <th></th>\n",
       "      <th>creditscore</th>\n",
       "      <th>geography</th>\n",
       "      <th>gender</th>\n",
       "      <th>age</th>\n",
       "      <th>tenure</th>\n",
       "      <th>balance</th>\n",
       "      <th>numofproducts</th>\n",
       "      <th>hascrcard</th>\n",
       "      <th>isactivemember</th>\n",
       "      <th>estimatedsalary</th>\n",
       "      <th>exited</th>\n",
       "    </tr>\n",
       "  </thead>\n",
       "  <tbody>\n",
       "    <tr>\n",
       "      <th>0</th>\n",
       "      <td>619</td>\n",
       "      <td>0</td>\n",
       "      <td>0</td>\n",
       "      <td>42</td>\n",
       "      <td>2.0</td>\n",
       "      <td>0.00</td>\n",
       "      <td>1</td>\n",
       "      <td>1</td>\n",
       "      <td>1</td>\n",
       "      <td>101348.88</td>\n",
       "      <td>1</td>\n",
       "    </tr>\n",
       "    <tr>\n",
       "      <th>1</th>\n",
       "      <td>608</td>\n",
       "      <td>2</td>\n",
       "      <td>0</td>\n",
       "      <td>41</td>\n",
       "      <td>1.0</td>\n",
       "      <td>83807.86</td>\n",
       "      <td>1</td>\n",
       "      <td>0</td>\n",
       "      <td>1</td>\n",
       "      <td>112542.58</td>\n",
       "      <td>0</td>\n",
       "    </tr>\n",
       "    <tr>\n",
       "      <th>2</th>\n",
       "      <td>502</td>\n",
       "      <td>0</td>\n",
       "      <td>0</td>\n",
       "      <td>42</td>\n",
       "      <td>8.0</td>\n",
       "      <td>159660.80</td>\n",
       "      <td>3</td>\n",
       "      <td>1</td>\n",
       "      <td>0</td>\n",
       "      <td>113931.57</td>\n",
       "      <td>1</td>\n",
       "    </tr>\n",
       "    <tr>\n",
       "      <th>3</th>\n",
       "      <td>699</td>\n",
       "      <td>0</td>\n",
       "      <td>0</td>\n",
       "      <td>39</td>\n",
       "      <td>1.0</td>\n",
       "      <td>0.00</td>\n",
       "      <td>2</td>\n",
       "      <td>0</td>\n",
       "      <td>0</td>\n",
       "      <td>93826.63</td>\n",
       "      <td>0</td>\n",
       "    </tr>\n",
       "    <tr>\n",
       "      <th>4</th>\n",
       "      <td>850</td>\n",
       "      <td>2</td>\n",
       "      <td>0</td>\n",
       "      <td>43</td>\n",
       "      <td>2.0</td>\n",
       "      <td>125510.82</td>\n",
       "      <td>1</td>\n",
       "      <td>1</td>\n",
       "      <td>1</td>\n",
       "      <td>79084.10</td>\n",
       "      <td>0</td>\n",
       "    </tr>\n",
       "    <tr>\n",
       "      <th>...</th>\n",
       "      <td>...</td>\n",
       "      <td>...</td>\n",
       "      <td>...</td>\n",
       "      <td>...</td>\n",
       "      <td>...</td>\n",
       "      <td>...</td>\n",
       "      <td>...</td>\n",
       "      <td>...</td>\n",
       "      <td>...</td>\n",
       "      <td>...</td>\n",
       "      <td>...</td>\n",
       "    </tr>\n",
       "    <tr>\n",
       "      <th>9995</th>\n",
       "      <td>771</td>\n",
       "      <td>0</td>\n",
       "      <td>1</td>\n",
       "      <td>39</td>\n",
       "      <td>5.0</td>\n",
       "      <td>0.00</td>\n",
       "      <td>2</td>\n",
       "      <td>1</td>\n",
       "      <td>0</td>\n",
       "      <td>96270.64</td>\n",
       "      <td>0</td>\n",
       "    </tr>\n",
       "    <tr>\n",
       "      <th>9996</th>\n",
       "      <td>516</td>\n",
       "      <td>0</td>\n",
       "      <td>1</td>\n",
       "      <td>35</td>\n",
       "      <td>10.0</td>\n",
       "      <td>57369.61</td>\n",
       "      <td>1</td>\n",
       "      <td>1</td>\n",
       "      <td>1</td>\n",
       "      <td>101699.77</td>\n",
       "      <td>0</td>\n",
       "    </tr>\n",
       "    <tr>\n",
       "      <th>9997</th>\n",
       "      <td>709</td>\n",
       "      <td>0</td>\n",
       "      <td>0</td>\n",
       "      <td>36</td>\n",
       "      <td>7.0</td>\n",
       "      <td>0.00</td>\n",
       "      <td>1</td>\n",
       "      <td>0</td>\n",
       "      <td>1</td>\n",
       "      <td>42085.58</td>\n",
       "      <td>1</td>\n",
       "    </tr>\n",
       "    <tr>\n",
       "      <th>9998</th>\n",
       "      <td>772</td>\n",
       "      <td>1</td>\n",
       "      <td>1</td>\n",
       "      <td>42</td>\n",
       "      <td>3.0</td>\n",
       "      <td>75075.31</td>\n",
       "      <td>2</td>\n",
       "      <td>1</td>\n",
       "      <td>0</td>\n",
       "      <td>92888.52</td>\n",
       "      <td>1</td>\n",
       "    </tr>\n",
       "    <tr>\n",
       "      <th>9999</th>\n",
       "      <td>792</td>\n",
       "      <td>0</td>\n",
       "      <td>0</td>\n",
       "      <td>28</td>\n",
       "      <td>5.0</td>\n",
       "      <td>130142.79</td>\n",
       "      <td>1</td>\n",
       "      <td>1</td>\n",
       "      <td>0</td>\n",
       "      <td>38190.78</td>\n",
       "      <td>0</td>\n",
       "    </tr>\n",
       "  </tbody>\n",
       "</table>\n",
       "<p>10000 rows × 11 columns</p>\n",
       "</div>"
      ],
      "text/plain": [
       "      creditscore  geography  gender  age  tenure    balance  numofproducts  \\\n",
       "0             619          0       0   42     2.0       0.00              1   \n",
       "1             608          2       0   41     1.0   83807.86              1   \n",
       "2             502          0       0   42     8.0  159660.80              3   \n",
       "3             699          0       0   39     1.0       0.00              2   \n",
       "4             850          2       0   43     2.0  125510.82              1   \n",
       "...           ...        ...     ...  ...     ...        ...            ...   \n",
       "9995          771          0       1   39     5.0       0.00              2   \n",
       "9996          516          0       1   35    10.0   57369.61              1   \n",
       "9997          709          0       0   36     7.0       0.00              1   \n",
       "9998          772          1       1   42     3.0   75075.31              2   \n",
       "9999          792          0       0   28     5.0  130142.79              1   \n",
       "\n",
       "      hascrcard  isactivemember  estimatedsalary  exited  \n",
       "0             1               1        101348.88       1  \n",
       "1             0               1        112542.58       0  \n",
       "2             1               0        113931.57       1  \n",
       "3             0               0         93826.63       0  \n",
       "4             1               1         79084.10       0  \n",
       "...         ...             ...              ...     ...  \n",
       "9995          1               0         96270.64       0  \n",
       "9996          1               1        101699.77       0  \n",
       "9997          0               1         42085.58       1  \n",
       "9998          1               0         92888.52       1  \n",
       "9999          1               0         38190.78       0  \n",
       "\n",
       "[10000 rows x 11 columns]"
      ]
     },
     "execution_count": 11,
     "metadata": {},
     "output_type": "execute_result"
    }
   ],
   "source": [
    "data"
   ]
  },
  {
   "cell_type": "markdown",
   "metadata": {},
   "source": [
    "Так же я бы сделал масштабирование признаков, потому что в столбце \"баланс\" у нас числа большие, в \"кредитном рейтинге\" числа меньше, а в \"возрасте\" еще меньше. Иначе мы попадем в ловушку. Но это после разбиения на выборки"
   ]
  },
  {
   "cell_type": "markdown",
   "metadata": {},
   "source": [
    "Посмотрим на баланс классов:"
   ]
  },
  {
   "cell_type": "code",
   "execution_count": 12,
   "metadata": {},
   "outputs": [
    {
     "data": {
      "text/plain": [
       "0    0.7963\n",
       "1    0.2037\n",
       "Name: exited, dtype: float64"
      ]
     },
     "execution_count": 12,
     "metadata": {},
     "output_type": "execute_result"
    }
   ],
   "source": [
    "data['exited'].value_counts(normalize=True)"
   ]
  },
  {
   "cell_type": "markdown",
   "metadata": {},
   "source": [
    "### Выводы"
   ]
  },
  {
   "cell_type": "markdown",
   "metadata": {},
   "source": [
    "Прочитали данные и выяснили:\n",
    "\n",
    "- столбцы с фамилией, порядковым номером и ай клиентов нас не инетерсуют - удалили\n",
    "- обнаружили пропуски в столбце tenure - и заполнили их по медиане соответствующей страны\n",
    "- обнаружили два категориальных столбца: пол и страна - применили к ним порядковое кодирование\n",
    "- имеется дисбаланс классов, ушедших в 4 раза меньше, чем оставшихся\n",
    "\n",
    "Переходим к следующим этапам"
   ]
  },
  {
   "cell_type": "markdown",
   "metadata": {},
   "source": [
    "## Исследование задачи"
   ]
  },
  {
   "cell_type": "markdown",
   "metadata": {},
   "source": [
    "Разделим наши данные на выборки:"
   ]
  },
  {
   "cell_type": "code",
   "execution_count": 13,
   "metadata": {},
   "outputs": [],
   "source": [
    "features = data.drop('exited', axis=1)\n",
    "target = data['exited']"
   ]
  },
  {
   "cell_type": "code",
   "execution_count": 14,
   "metadata": {},
   "outputs": [],
   "source": [
    "features_train, features_valid, target_train, target_valid = train_test_split(features, target, test_size=0.4, random_state=12345)"
   ]
  },
  {
   "cell_type": "code",
   "execution_count": 15,
   "metadata": {},
   "outputs": [],
   "source": [
    "features_valid, features_test, target_valid , target_test = train_test_split(features_valid, target_valid, test_size=0.5, random_state=12345)"
   ]
  },
  {
   "cell_type": "markdown",
   "metadata": {},
   "source": [
    "Теперь можно приступить к масштабированию"
   ]
  },
  {
   "cell_type": "code",
   "execution_count": 16,
   "metadata": {},
   "outputs": [],
   "source": [
    "numeric = ['creditscore', 'age', 'balance', 'estimatedsalary'] # столбцы для масштабирования"
   ]
  },
  {
   "cell_type": "code",
   "execution_count": 17,
   "metadata": {},
   "outputs": [],
   "source": [
    "# масштабирование\n",
    "scaler = StandardScaler()\n",
    "scaler.fit(features_train[numeric]) \n",
    "features_train[numeric] = scaler.transform(features_train[numeric])\n",
    "features_valid[numeric] = scaler.transform(features_valid[numeric])\n",
    "features_test[numeric] = scaler.transform(features_test[numeric])\n"
   ]
  },
  {
   "cell_type": "markdown",
   "metadata": {},
   "source": [
    "Scaler обучили только на тренировочной части данных"
   ]
  },
  {
   "cell_type": "markdown",
   "metadata": {},
   "source": [
    "Теперь можно приступать к обучению без учета баланса"
   ]
  },
  {
   "cell_type": "markdown",
   "metadata": {},
   "source": [
    "### Решающее дерево"
   ]
  },
  {
   "cell_type": "markdown",
   "metadata": {},
   "source": [
    "В качестве метрики будем использовать f1-меру"
   ]
  },
  {
   "cell_type": "code",
   "execution_count": 18,
   "metadata": {
    "scrolled": false
   },
   "outputs": [],
   "source": [
    "my_result = {'depth' : [], 'result' : []}\n",
    "for depth in range(1,16): #перебираем глубину\n",
    "    model_tree = DecisionTreeClassifier(max_depth = depth, random_state=12345) # определяем модель\n",
    "    model_tree.fit(features_train, target_train) # учим\n",
    "    predictions_valid = model_tree.predict(features_valid) # предсказываем\n",
    "    result = f1_score(target_valid, predictions_valid) # оцениваем качество\n",
    "    my_result['depth'].append(depth)\n",
    "    my_result['result'].append(result)\n",
    "tree = pd.DataFrame(data=my_result)  "
   ]
  },
  {
   "cell_type": "code",
   "execution_count": 19,
   "metadata": {},
   "outputs": [
    {
     "data": {
      "text/html": [
       "<div>\n",
       "<style scoped>\n",
       "    .dataframe tbody tr th:only-of-type {\n",
       "        vertical-align: middle;\n",
       "    }\n",
       "\n",
       "    .dataframe tbody tr th {\n",
       "        vertical-align: top;\n",
       "    }\n",
       "\n",
       "    .dataframe thead th {\n",
       "        text-align: right;\n",
       "    }\n",
       "</style>\n",
       "<table border=\"1\" class=\"dataframe\">\n",
       "  <thead>\n",
       "    <tr style=\"text-align: right;\">\n",
       "      <th></th>\n",
       "      <th>depth</th>\n",
       "      <th>result</th>\n",
       "    </tr>\n",
       "  </thead>\n",
       "  <tbody>\n",
       "    <tr>\n",
       "      <th>3</th>\n",
       "      <td>4</td>\n",
       "      <td>0.55287</td>\n",
       "    </tr>\n",
       "  </tbody>\n",
       "</table>\n",
       "</div>"
      ],
      "text/plain": [
       "   depth   result\n",
       "3      4  0.55287"
      ]
     },
     "execution_count": 19,
     "metadata": {},
     "output_type": "execute_result"
    }
   ],
   "source": [
    "tree.loc[tree['result'] == tree['result'].max()]"
   ]
  },
  {
   "cell_type": "markdown",
   "metadata": {},
   "source": [
    "### Случайный лес"
   ]
  },
  {
   "cell_type": "code",
   "execution_count": 20,
   "metadata": {
    "scrolled": true
   },
   "outputs": [],
   "source": [
    "my_result_forest = {'n_estimators' : [], 'depth' : [], 'result' : []}\n",
    "for est in range(10, 121, 10):\n",
    "    for depth in range(1,16):\n",
    "        model_forest = RandomForestClassifier(random_state=12345, n_estimators=est, max_depth=depth)\n",
    "        model_forest.fit(features_train, target_train)\n",
    "        predictions_valid = model_forest.predict(features_valid)\n",
    "        result = f1_score(target_valid, predictions_valid)\n",
    "        my_result_forest['n_estimators'].append(est)\n",
    "        my_result_forest['depth'].append(depth)\n",
    "        my_result_forest['result'].append(result) \n",
    "forest = pd.DataFrame(data=my_result_forest)        "
   ]
  },
  {
   "cell_type": "code",
   "execution_count": 21,
   "metadata": {},
   "outputs": [
    {
     "data": {
      "text/html": [
       "<div>\n",
       "<style scoped>\n",
       "    .dataframe tbody tr th:only-of-type {\n",
       "        vertical-align: middle;\n",
       "    }\n",
       "\n",
       "    .dataframe tbody tr th {\n",
       "        vertical-align: top;\n",
       "    }\n",
       "\n",
       "    .dataframe thead th {\n",
       "        text-align: right;\n",
       "    }\n",
       "</style>\n",
       "<table border=\"1\" class=\"dataframe\">\n",
       "  <thead>\n",
       "    <tr style=\"text-align: right;\">\n",
       "      <th></th>\n",
       "      <th>n_estimators</th>\n",
       "      <th>depth</th>\n",
       "      <th>result</th>\n",
       "    </tr>\n",
       "  </thead>\n",
       "  <tbody>\n",
       "    <tr>\n",
       "      <th>146</th>\n",
       "      <td>100</td>\n",
       "      <td>12</td>\n",
       "      <td>0.576271</td>\n",
       "    </tr>\n",
       "  </tbody>\n",
       "</table>\n",
       "</div>"
      ],
      "text/plain": [
       "     n_estimators  depth    result\n",
       "146           100     12  0.576271"
      ]
     },
     "execution_count": 21,
     "metadata": {},
     "output_type": "execute_result"
    }
   ],
   "source": [
    "forest.loc[forest['result'] == forest['result'].max()]"
   ]
  },
  {
   "cell_type": "markdown",
   "metadata": {},
   "source": [
    "Случаный лес дает лучший результат"
   ]
  },
  {
   "cell_type": "markdown",
   "metadata": {},
   "source": [
    "Таким образом, лучший результат f1-меры - 0.5762. По заданию нам надо довести результат до 0.59. Давайте поработем с балансом классов"
   ]
  },
  {
   "cell_type": "code",
   "execution_count": 22,
   "metadata": {},
   "outputs": [
    {
     "name": "stdout",
     "output_type": "stream",
     "text": [
      "0.576271186440678\n"
     ]
    }
   ],
   "source": [
    "model_forest = RandomForestClassifier(random_state=12345, n_estimators=100, max_depth=12)\n",
    "model_forest.fit(features_train, target_train)\n",
    "predictions_valid = model_forest.predict(features_valid)\n",
    "result = f1_score(target_valid, predictions_valid)\n",
    "print(result)"
   ]
  },
  {
   "cell_type": "code",
   "execution_count": 23,
   "metadata": {},
   "outputs": [],
   "source": [
    "probabilities_valid = model_forest.predict_proba(features_valid)\n",
    "probabilities_one_valid = probabilities_valid[:, 1]"
   ]
  },
  {
   "cell_type": "markdown",
   "metadata": {},
   "source": [
    "Посчитаем roc-auc:"
   ]
  },
  {
   "cell_type": "code",
   "execution_count": 24,
   "metadata": {},
   "outputs": [
    {
     "data": {
      "text/plain": [
       "0.846536090830455"
      ]
     },
     "execution_count": 24,
     "metadata": {},
     "output_type": "execute_result"
    }
   ],
   "source": [
    "roc_auc_score(target_valid, probabilities_one_valid)"
   ]
  },
  {
   "cell_type": "markdown",
   "metadata": {},
   "source": [
    "## Борьба с дисбалансом"
   ]
  },
  {
   "cell_type": "markdown",
   "metadata": {},
   "source": [
    "### Увеличение выборки"
   ]
  },
  {
   "cell_type": "markdown",
   "metadata": {},
   "source": [
    "Сначала попробуем добиться баланса c помощью увеличения выборки техникой upsampling. Умножать будем на 4, потому что в целевом признаке нулей в 4 раза больше единиц"
   ]
  },
  {
   "cell_type": "code",
   "execution_count": 25,
   "metadata": {},
   "outputs": [],
   "source": [
    "def upsample(features, target, repeat):\n",
    "    features_zeros = features[target == 0]\n",
    "    features_ones = features[target == 1]\n",
    "    target_zeros = target[target == 0]\n",
    "    target_ones = target[target == 1]\n",
    "    \n",
    "\n",
    "    features_upsampled = pd.concat([features_zeros] + [features_ones] * repeat)\n",
    "    target_upsampled = pd.concat([target_zeros] + [target_ones] * repeat)\n",
    "    \n",
    "    features_upsampled, target_upsampled = shuffle(\n",
    "        features_upsampled, target_upsampled, random_state=12345)\n",
    "    \n",
    "    return features_upsampled, target_upsampled"
   ]
  },
  {
   "cell_type": "markdown",
   "metadata": {},
   "source": [
    "Получим новые выборки с учетом борьбы с дисбалансом:"
   ]
  },
  {
   "cell_type": "code",
   "execution_count": 26,
   "metadata": {},
   "outputs": [],
   "source": [
    "features_upsampled, target_upsampled = upsample(features_train, target_train, 4)"
   ]
  },
  {
   "cell_type": "code",
   "execution_count": 27,
   "metadata": {
    "scrolled": true
   },
   "outputs": [],
   "source": [
    "my_result_forest_ups = {'n_estimators' : [], 'depth' : [], 'result' : []}\n",
    "for est in range(10, 121, 10):\n",
    "    for depth in range(1,16):\n",
    "        model_forest = RandomForestClassifier(random_state=12345, n_estimators=est, max_depth=depth)\n",
    "        model_forest.fit(features_upsampled, target_upsampled)\n",
    "        predictions_valid = model_forest.predict(features_valid)\n",
    "        result = f1_score(target_valid, predictions_valid)\n",
    "        my_result_forest_ups['n_estimators'].append(est)\n",
    "        my_result_forest_ups['depth'].append(depth)\n",
    "        my_result_forest_ups['result'].append(result) \n",
    "forest_ups = pd.DataFrame(data=my_result_forest_ups)                 "
   ]
  },
  {
   "cell_type": "code",
   "execution_count": 28,
   "metadata": {},
   "outputs": [
    {
     "data": {
      "text/html": [
       "<div>\n",
       "<style scoped>\n",
       "    .dataframe tbody tr th:only-of-type {\n",
       "        vertical-align: middle;\n",
       "    }\n",
       "\n",
       "    .dataframe tbody tr th {\n",
       "        vertical-align: top;\n",
       "    }\n",
       "\n",
       "    .dataframe thead th {\n",
       "        text-align: right;\n",
       "    }\n",
       "</style>\n",
       "<table border=\"1\" class=\"dataframe\">\n",
       "  <thead>\n",
       "    <tr style=\"text-align: right;\">\n",
       "      <th></th>\n",
       "      <th>n_estimators</th>\n",
       "      <th>depth</th>\n",
       "      <th>result</th>\n",
       "    </tr>\n",
       "  </thead>\n",
       "  <tbody>\n",
       "    <tr>\n",
       "      <th>52</th>\n",
       "      <td>40</td>\n",
       "      <td>8</td>\n",
       "      <td>0.620833</td>\n",
       "    </tr>\n",
       "  </tbody>\n",
       "</table>\n",
       "</div>"
      ],
      "text/plain": [
       "    n_estimators  depth    result\n",
       "52            40      8  0.620833"
      ]
     },
     "execution_count": 28,
     "metadata": {},
     "output_type": "execute_result"
    }
   ],
   "source": [
    "forest_ups.loc[forest_ups['result'] == forest_ups['result'].max()]"
   ]
  },
  {
   "cell_type": "markdown",
   "metadata": {},
   "source": [
    "Получим нашу модель:"
   ]
  },
  {
   "cell_type": "code",
   "execution_count": 29,
   "metadata": {},
   "outputs": [
    {
     "name": "stdout",
     "output_type": "stream",
     "text": [
      "0.6208333333333333\n"
     ]
    }
   ],
   "source": [
    "model_forest = RandomForestClassifier(random_state=12345, n_estimators=40, max_depth=8)\n",
    "model_forest.fit(features_upsampled, target_upsampled)\n",
    "predictions_valid = model_forest.predict(features_valid)\n",
    "result = f1_score(target_valid, predictions_valid)\n",
    "print(result)"
   ]
  },
  {
   "cell_type": "markdown",
   "metadata": {},
   "source": [
    "Чтобы посчитать auc-roc, нам необходимы вероятности:"
   ]
  },
  {
   "cell_type": "code",
   "execution_count": 30,
   "metadata": {},
   "outputs": [],
   "source": [
    "probabilities_valid = model_forest.predict_proba(features_valid)\n",
    "probabilities_one_valid = probabilities_valid[:, 1]"
   ]
  },
  {
   "cell_type": "markdown",
   "metadata": {},
   "source": [
    "Посчитаем roc-auc"
   ]
  },
  {
   "cell_type": "code",
   "execution_count": 31,
   "metadata": {},
   "outputs": [
    {
     "data": {
      "text/plain": [
       "0.8533017983413883"
      ]
     },
     "execution_count": 31,
     "metadata": {},
     "output_type": "execute_result"
    }
   ],
   "source": [
    "roc_auc_score(target_valid, probabilities_one_valid)"
   ]
  },
  {
   "cell_type": "markdown",
   "metadata": {},
   "source": [
    "### Взвешивание классов"
   ]
  },
  {
   "cell_type": "code",
   "execution_count": 32,
   "metadata": {},
   "outputs": [],
   "source": [
    "my_result_forest_balance = {'n_estimators' : [], 'depth' : [], 'result' : []}\n",
    "for est in range(10, 121, 10):\n",
    "    for depth in range(1,16):\n",
    "        model_forest_balance = RandomForestClassifier(random_state=12345, n_estimators=est, max_depth=depth, class_weight='balanced')\n",
    "        model_forest_balance.fit(features_train, target_train)\n",
    "        predictions_valid = model_forest_balance.predict(features_valid)\n",
    "        result = f1_score(target_valid, predictions_valid)\n",
    "        my_result_forest_balance['n_estimators'].append(est)\n",
    "        my_result_forest_balance['depth'].append(depth)\n",
    "        my_result_forest_balance['result'].append(result) \n",
    "forest_balance = pd.DataFrame(data=my_result_forest_balance)        "
   ]
  },
  {
   "cell_type": "code",
   "execution_count": 33,
   "metadata": {},
   "outputs": [
    {
     "data": {
      "text/html": [
       "<div>\n",
       "<style scoped>\n",
       "    .dataframe tbody tr th:only-of-type {\n",
       "        vertical-align: middle;\n",
       "    }\n",
       "\n",
       "    .dataframe tbody tr th {\n",
       "        vertical-align: top;\n",
       "    }\n",
       "\n",
       "    .dataframe thead th {\n",
       "        text-align: right;\n",
       "    }\n",
       "</style>\n",
       "<table border=\"1\" class=\"dataframe\">\n",
       "  <thead>\n",
       "    <tr style=\"text-align: right;\">\n",
       "      <th></th>\n",
       "      <th>n_estimators</th>\n",
       "      <th>depth</th>\n",
       "      <th>result</th>\n",
       "    </tr>\n",
       "  </thead>\n",
       "  <tbody>\n",
       "    <tr>\n",
       "      <th>84</th>\n",
       "      <td>60</td>\n",
       "      <td>10</td>\n",
       "      <td>0.625</td>\n",
       "    </tr>\n",
       "  </tbody>\n",
       "</table>\n",
       "</div>"
      ],
      "text/plain": [
       "    n_estimators  depth  result\n",
       "84            60     10   0.625"
      ]
     },
     "execution_count": 33,
     "metadata": {},
     "output_type": "execute_result"
    }
   ],
   "source": [
    "forest_balance.loc[forest_balance['result'] == forest_balance['result'].max()]"
   ]
  },
  {
   "cell_type": "markdown",
   "metadata": {},
   "source": [
    "Получим нашу модель:"
   ]
  },
  {
   "cell_type": "code",
   "execution_count": 34,
   "metadata": {},
   "outputs": [
    {
     "name": "stdout",
     "output_type": "stream",
     "text": [
      "0.6182237600922723\n"
     ]
    }
   ],
   "source": [
    "model_forest_balance = RandomForestClassifier(random_state=12345, n_estimators=70, max_depth=9, class_weight='balanced')\n",
    "model_forest_balance.fit(features_train, target_train)\n",
    "predictions_valid = model_forest_balance.predict(features_valid)\n",
    "result = f1_score(target_valid, predictions_valid)\n",
    "print(result)"
   ]
  },
  {
   "cell_type": "code",
   "execution_count": 35,
   "metadata": {},
   "outputs": [],
   "source": [
    "probabilities_valid = model_forest_balance.predict_proba(features_valid)\n",
    "probabilities_one_valid = probabilities_valid[:, 1]"
   ]
  },
  {
   "cell_type": "code",
   "execution_count": 36,
   "metadata": {},
   "outputs": [
    {
     "data": {
      "text/plain": [
       "0.8495983522765078"
      ]
     },
     "execution_count": 36,
     "metadata": {},
     "output_type": "execute_result"
    }
   ],
   "source": [
    "roc_auc_score(target_valid, probabilities_one_valid)"
   ]
  },
  {
   "cell_type": "markdown",
   "metadata": {},
   "source": [
    "### Выводы"
   ]
  },
  {
   "cell_type": "markdown",
   "metadata": {},
   "source": [
    "Убрав дисбаланс классов, мы получили более качетсвенную модель:\n",
    "\n",
    "    - с дисбалансом f1-мера была 0,5762\n",
    "    - без дисбаланса f1-мера стала 0,6208 при методе увеличения выборки\n",
    "    - без дисбаланса f1-мера стала 0.6182 при методе взвешивания классов\n",
    "    \n",
    "\n",
    "Так же мы посчитали auc-roc, которая равна 0,8583 при увеличении выборки и 0.8496 при взвешивании"
   ]
  },
  {
   "cell_type": "markdown",
   "metadata": {},
   "source": [
    "## Тестирование модели"
   ]
  },
  {
   "cell_type": "markdown",
   "metadata": {},
   "source": [
    "У нас есть обученная модель. Подставим в нее тестовую выборку:"
   ]
  },
  {
   "cell_type": "code",
   "execution_count": 37,
   "metadata": {},
   "outputs": [],
   "source": [
    "predictions_test = model_forest_balance.predict(features_test)"
   ]
  },
  {
   "cell_type": "markdown",
   "metadata": {},
   "source": [
    "Посчитаем f1-меру:"
   ]
  },
  {
   "cell_type": "code",
   "execution_count": 38,
   "metadata": {},
   "outputs": [
    {
     "data": {
      "text/plain": [
       "0.6091954022988505"
      ]
     },
     "execution_count": 38,
     "metadata": {},
     "output_type": "execute_result"
    }
   ],
   "source": [
    "f1_score(target_test, predictions_test)"
   ]
  },
  {
   "cell_type": "markdown",
   "metadata": {},
   "source": [
    "Таким образом, f1-мера равна 0.61"
   ]
  },
  {
   "cell_type": "code",
   "execution_count": 39,
   "metadata": {},
   "outputs": [],
   "source": [
    "probabilities_test = model_forest_balance.predict_proba(features_test)\n",
    "probabilities_one_test = probabilities_test[:, 1]"
   ]
  },
  {
   "cell_type": "code",
   "execution_count": 40,
   "metadata": {},
   "outputs": [
    {
     "data": {
      "text/plain": [
       "0.8529376932890201"
      ]
     },
     "execution_count": 40,
     "metadata": {},
     "output_type": "execute_result"
    }
   ],
   "source": [
    "roc_auc_score(target_test, probabilities_one_test)"
   ]
  },
  {
   "cell_type": "markdown",
   "metadata": {},
   "source": [
    "Построим ROC-кривую"
   ]
  },
  {
   "cell_type": "code",
   "execution_count": 41,
   "metadata": {},
   "outputs": [],
   "source": [
    "fpr, tpr, thresholds = roc_curve(target_test, probabilities_one_test)"
   ]
  },
  {
   "cell_type": "code",
   "execution_count": 42,
   "metadata": {},
   "outputs": [
    {
     "data": {
      "image/png": "[encoded data removed]",
      "text/plain": [
       "<Figure size 432x288 with 1 Axes>"
      ]
     },
     "metadata": {
      "needs_background": "light"
     },
     "output_type": "display_data"
    }
   ],
   "source": [
    "plt.figure()\n",
    "plt.plot([0, 1], [0, 1], linestyle='--')\n",
    "plt.plot(fpr, tpr)\n",
    "plt.xlim([0.0, 1.0])\n",
    "plt.ylim([0.0, 1.0])\n",
    "plt.xlabel('False Positive Rate')\n",
    "plt.ylabel('True Positive Rate')\n",
    "plt.title('ROC-кривая')\n",
    "plt.show()"
   ]
  },
  {
   "cell_type": "markdown",
   "metadata": {},
   "source": [
    "### Выводы"
   ]
  },
  {
   "cell_type": "markdown",
   "metadata": {},
   "source": [
    "На тестовой выборке f1-мера равна 0.61, roc-auc равна 0.85. Таким образом выполнена задача по доведению f1-меры до значения не меньше 0.59. Это было достигнуто благодаря достижению баланса классов с помощью взвешивания классов"
   ]
  },
  {
   "cell_type": "code",
   "execution_count": null,
   "metadata": {},
   "outputs": [],
   "source": []
  }
 ],
 "metadata": {
  "ExecuteTimeLog": [
   {
    "duration": 129,
    "start_time": "2021-10-02T06:07:55.567Z"
   },
   {
    "duration": 684,
    "start_time": "2021-10-02T06:08:39.458Z"
   },
   {
    "duration": 31,
    "start_time": "2021-10-02T06:08:56.436Z"
   },
   {
    "duration": 28,
    "start_time": "2021-10-02T06:08:59.780Z"
   },
   {
    "duration": 5,
    "start_time": "2021-10-02T06:10:18.488Z"
   },
   {
    "duration": 20,
    "start_time": "2021-10-02T06:10:21.300Z"
   },
   {
    "duration": 121,
    "start_time": "2021-10-02T06:12:32.605Z"
   },
   {
    "duration": 5,
    "start_time": "2021-10-02T06:12:43.999Z"
   },
   {
    "duration": 19,
    "start_time": "2021-10-02T06:12:46.651Z"
   },
   {
    "duration": 437,
    "start_time": "2021-10-02T06:13:28.418Z"
   },
   {
    "duration": 631,
    "start_time": "2021-10-02T06:13:44.420Z"
   },
   {
    "duration": 32,
    "start_time": "2021-10-02T06:13:45.053Z"
   },
   {
    "duration": 28,
    "start_time": "2021-10-02T06:13:45.087Z"
   },
   {
    "duration": 20,
    "start_time": "2021-10-02T06:13:45.118Z"
   },
   {
    "duration": 21,
    "start_time": "2021-10-02T06:13:45.140Z"
   },
   {
    "duration": 37,
    "start_time": "2021-10-02T06:13:45.163Z"
   },
   {
    "duration": 8,
    "start_time": "2021-10-02T06:13:59.212Z"
   },
   {
    "duration": 161,
    "start_time": "2021-10-02T06:14:55.501Z"
   },
   {
    "duration": 7,
    "start_time": "2021-10-02T06:24:51.342Z"
   },
   {
    "duration": 9,
    "start_time": "2021-10-02T06:25:28.534Z"
   },
   {
    "duration": 111,
    "start_time": "2021-10-02T06:26:06.055Z"
   },
   {
    "duration": 165,
    "start_time": "2021-10-02T06:26:47.501Z"
   },
   {
    "duration": 460,
    "start_time": "2021-10-02T06:27:45.736Z"
   },
   {
    "duration": 4,
    "start_time": "2021-10-02T06:27:48.132Z"
   },
   {
    "duration": 391,
    "start_time": "2021-10-02T06:27:51.400Z"
   },
   {
    "duration": 352,
    "start_time": "2021-10-02T06:27:55.812Z"
   },
   {
    "duration": 3,
    "start_time": "2021-10-02T06:30:39.594Z"
   },
   {
    "duration": 667,
    "start_time": "2021-10-02T06:31:58.947Z"
   },
   {
    "duration": 33,
    "start_time": "2021-10-02T06:31:59.616Z"
   },
   {
    "duration": 33,
    "start_time": "2021-10-02T06:31:59.653Z"
   },
   {
    "duration": 15,
    "start_time": "2021-10-02T06:31:59.687Z"
   },
   {
    "duration": 19,
    "start_time": "2021-10-02T06:31:59.704Z"
   },
   {
    "duration": 507,
    "start_time": "2021-10-02T06:31:59.724Z"
   },
   {
    "duration": 342,
    "start_time": "2021-10-02T06:32:08.225Z"
   },
   {
    "duration": 5,
    "start_time": "2021-10-02T06:32:22.852Z"
   },
   {
    "duration": 11,
    "start_time": "2021-10-02T06:42:13.092Z"
   },
   {
    "duration": 1307,
    "start_time": "2021-10-02T14:55:26.411Z"
   },
   {
    "duration": 508,
    "start_time": "2021-10-02T14:56:29.502Z"
   },
   {
    "duration": 1358,
    "start_time": "2021-10-02T14:56:42.738Z"
   },
   {
    "duration": 118,
    "start_time": "2021-10-02T14:56:44.099Z"
   },
   {
    "duration": 45,
    "start_time": "2021-10-02T14:56:44.220Z"
   },
   {
    "duration": 20,
    "start_time": "2021-10-02T14:56:44.269Z"
   },
   {
    "duration": 4,
    "start_time": "2021-10-02T14:56:44.291Z"
   },
   {
    "duration": 9,
    "start_time": "2021-10-02T14:56:44.297Z"
   },
   {
    "duration": 511,
    "start_time": "2021-10-02T14:56:44.308Z"
   },
   {
    "duration": 493,
    "start_time": "2021-10-02T14:56:44.329Z"
   },
   {
    "duration": 30,
    "start_time": "2021-10-02T14:58:18.216Z"
   },
   {
    "duration": 11,
    "start_time": "2021-10-02T14:58:53.827Z"
   },
   {
    "duration": 27,
    "start_time": "2021-10-02T14:59:12.668Z"
   },
   {
    "duration": 14,
    "start_time": "2021-10-02T14:59:30.484Z"
   },
   {
    "duration": 33,
    "start_time": "2021-10-02T14:59:51.306Z"
   },
   {
    "duration": 29,
    "start_time": "2021-10-02T15:00:06.406Z"
   },
   {
    "duration": 118,
    "start_time": "2021-10-02T15:08:42.887Z"
   },
   {
    "duration": 135,
    "start_time": "2021-10-02T15:09:38.436Z"
   },
   {
    "duration": 121,
    "start_time": "2021-10-02T15:10:21.587Z"
   },
   {
    "duration": 116,
    "start_time": "2021-10-02T15:10:37.095Z"
   },
   {
    "duration": 117,
    "start_time": "2021-10-02T15:10:59.387Z"
   },
   {
    "duration": 134,
    "start_time": "2021-10-02T15:12:20.262Z"
   },
   {
    "duration": 1714,
    "start_time": "2021-10-02T15:12:38.528Z"
   },
   {
    "duration": 665,
    "start_time": "2021-10-02T15:17:47.089Z"
   },
   {
    "duration": 695,
    "start_time": "2021-10-02T15:18:17.024Z"
   },
   {
    "duration": 460,
    "start_time": "2021-10-02T15:18:25.087Z"
   },
   {
    "duration": 378,
    "start_time": "2021-10-02T15:18:28.500Z"
   },
   {
    "duration": 784,
    "start_time": "2021-10-02T15:19:41.287Z"
   },
   {
    "duration": 635,
    "start_time": "2021-10-02T15:20:02.567Z"
   },
   {
    "duration": 363,
    "start_time": "2021-10-02T15:21:27.043Z"
   },
   {
    "duration": 1187,
    "start_time": "2021-10-02T15:21:35.867Z"
   },
   {
    "duration": 20,
    "start_time": "2021-10-02T15:22:05.009Z"
   },
   {
    "duration": 29,
    "start_time": "2021-10-02T15:22:14.709Z"
   },
   {
    "duration": 14,
    "start_time": "2021-10-02T15:22:52.516Z"
   },
   {
    "duration": 8,
    "start_time": "2021-10-02T15:23:20.814Z"
   },
   {
    "duration": 28,
    "start_time": "2021-10-02T15:23:29.242Z"
   },
   {
    "duration": 354,
    "start_time": "2021-10-02T15:23:41.650Z"
   },
   {
    "duration": 10,
    "start_time": "2021-10-02T15:23:43.922Z"
   },
   {
    "duration": 9,
    "start_time": "2021-10-02T15:24:01.391Z"
   },
   {
    "duration": 29,
    "start_time": "2021-10-02T15:27:31.428Z"
   },
   {
    "duration": 11,
    "start_time": "2021-10-02T15:27:46.482Z"
   },
   {
    "duration": 12672,
    "start_time": "2021-10-02T15:30:46.980Z"
   },
   {
    "duration": 12,
    "start_time": "2021-10-02T15:31:09.338Z"
   },
   {
    "duration": 9,
    "start_time": "2021-10-02T15:31:15.765Z"
   },
   {
    "duration": 5599,
    "start_time": "2021-10-02T15:31:30.473Z"
   },
   {
    "duration": 14,
    "start_time": "2021-10-02T15:31:52.564Z"
   },
   {
    "duration": 12,
    "start_time": "2021-10-02T15:32:03.648Z"
   },
   {
    "duration": 18,
    "start_time": "2021-10-02T15:32:15.306Z"
   },
   {
    "duration": 37,
    "start_time": "2021-10-02T15:32:35.565Z"
   },
   {
    "duration": 8,
    "start_time": "2021-10-02T15:32:39.659Z"
   },
   {
    "duration": 26,
    "start_time": "2021-10-02T15:32:54.995Z"
   },
   {
    "duration": 23,
    "start_time": "2021-10-02T15:33:17.617Z"
   },
   {
    "duration": 23,
    "start_time": "2021-10-02T15:33:40.598Z"
   },
   {
    "duration": 27,
    "start_time": "2021-10-02T15:35:10.024Z"
   },
   {
    "duration": 29,
    "start_time": "2021-10-02T15:35:11.548Z"
   },
   {
    "duration": 10,
    "start_time": "2021-10-02T15:40:53.865Z"
   },
   {
    "duration": 128,
    "start_time": "2021-10-02T15:46:13.064Z"
   },
   {
    "duration": 449,
    "start_time": "2021-10-02T15:47:27.953Z"
   },
   {
    "duration": 4,
    "start_time": "2021-10-02T15:47:41.098Z"
   },
   {
    "duration": 12,
    "start_time": "2021-10-02T15:47:47.866Z"
   },
   {
    "duration": 26,
    "start_time": "2021-10-02T15:47:53.228Z"
   },
   {
    "duration": 26,
    "start_time": "2021-10-02T15:47:54.024Z"
   },
   {
    "duration": 17,
    "start_time": "2021-10-02T15:47:54.684Z"
   },
   {
    "duration": 4,
    "start_time": "2021-10-02T15:48:12.414Z"
   },
   {
    "duration": 42,
    "start_time": "2021-10-02T15:48:12.421Z"
   },
   {
    "duration": 34,
    "start_time": "2021-10-02T15:48:12.466Z"
   },
   {
    "duration": 13,
    "start_time": "2021-10-02T15:48:12.503Z"
   },
   {
    "duration": 4,
    "start_time": "2021-10-02T15:48:12.518Z"
   },
   {
    "duration": 6,
    "start_time": "2021-10-02T15:48:12.559Z"
   },
   {
    "duration": 7211,
    "start_time": "2021-10-02T15:48:12.568Z"
   },
   {
    "duration": 14,
    "start_time": "2021-10-02T15:48:19.782Z"
   },
   {
    "duration": 7,
    "start_time": "2021-10-02T15:48:26.342Z"
   },
   {
    "duration": 367,
    "start_time": "2021-10-02T15:48:56.967Z"
   },
   {
    "duration": 4,
    "start_time": "2021-10-02T15:48:59.393Z"
   },
   {
    "duration": 6,
    "start_time": "2021-10-02T15:49:02.521Z"
   },
   {
    "duration": 6,
    "start_time": "2021-10-02T15:49:25.902Z"
   },
   {
    "duration": 12,
    "start_time": "2021-10-02T15:50:16.975Z"
   },
   {
    "duration": 492,
    "start_time": "2021-10-02T15:50:32.279Z"
   },
   {
    "duration": 13,
    "start_time": "2021-10-02T15:51:20.649Z"
   },
   {
    "duration": 26,
    "start_time": "2021-10-02T15:51:22.358Z"
   },
   {
    "duration": 6,
    "start_time": "2021-10-02T15:51:24.658Z"
   },
   {
    "duration": 26,
    "start_time": "2021-10-02T15:51:26.660Z"
   },
   {
    "duration": 17,
    "start_time": "2021-10-02T15:51:27.218Z"
   },
   {
    "duration": 9,
    "start_time": "2021-10-02T15:52:23.903Z"
   },
   {
    "duration": 374,
    "start_time": "2021-10-02T15:52:26.393Z"
   },
   {
    "duration": 12,
    "start_time": "2021-10-02T15:52:34.079Z"
   },
   {
    "duration": 415,
    "start_time": "2021-10-02T15:52:35.468Z"
   },
   {
    "duration": 26,
    "start_time": "2021-10-02T15:57:26.416Z"
   },
   {
    "duration": 379,
    "start_time": "2021-10-02T15:57:35.876Z"
   },
   {
    "duration": 404,
    "start_time": "2021-10-02T15:57:40.578Z"
   },
   {
    "duration": 399,
    "start_time": "2021-10-02T15:58:07.557Z"
   },
   {
    "duration": 487,
    "start_time": "2021-10-02T15:58:15.417Z"
   },
   {
    "duration": 8718,
    "start_time": "2021-10-02T15:58:44.204Z"
   },
   {
    "duration": 8808,
    "start_time": "2021-10-02T15:58:59.076Z"
   },
   {
    "duration": 347,
    "start_time": "2021-10-02T15:59:27.761Z"
   },
   {
    "duration": 382,
    "start_time": "2021-10-02T16:00:05.583Z"
   },
   {
    "duration": 1135,
    "start_time": "2021-10-02T18:32:30.020Z"
   },
   {
    "duration": 77,
    "start_time": "2021-10-02T18:32:31.157Z"
   },
   {
    "duration": 25,
    "start_time": "2021-10-02T18:32:31.236Z"
   },
   {
    "duration": 19,
    "start_time": "2021-10-02T18:32:31.264Z"
   },
   {
    "duration": 6,
    "start_time": "2021-10-02T18:32:31.285Z"
   },
   {
    "duration": 9,
    "start_time": "2021-10-02T18:32:31.293Z"
   },
   {
    "duration": 3321,
    "start_time": "2021-10-02T18:32:31.304Z"
   },
   {
    "duration": 8,
    "start_time": "2021-10-02T18:32:34.627Z"
   },
   {
    "duration": 6,
    "start_time": "2021-10-02T18:32:34.638Z"
   },
   {
    "duration": 35,
    "start_time": "2021-10-02T18:32:34.646Z"
   },
   {
    "duration": 13,
    "start_time": "2021-10-02T18:32:34.683Z"
   },
   {
    "duration": 20,
    "start_time": "2021-10-02T18:32:34.698Z"
   },
   {
    "duration": 21,
    "start_time": "2021-10-02T18:32:34.720Z"
   },
   {
    "duration": 35,
    "start_time": "2021-10-02T18:32:34.743Z"
   },
   {
    "duration": 13,
    "start_time": "2021-10-02T18:32:34.779Z"
   },
   {
    "duration": 427,
    "start_time": "2021-10-02T18:32:34.793Z"
   },
   {
    "duration": 4,
    "start_time": "2021-10-02T18:36:57.192Z"
   },
   {
    "duration": 33,
    "start_time": "2021-10-02T18:36:57.198Z"
   },
   {
    "duration": 21,
    "start_time": "2021-10-02T18:36:57.233Z"
   },
   {
    "duration": 10,
    "start_time": "2021-10-02T18:36:57.256Z"
   },
   {
    "duration": 3,
    "start_time": "2021-10-02T18:36:57.268Z"
   },
   {
    "duration": 3,
    "start_time": "2021-10-02T18:36:57.276Z"
   },
   {
    "duration": 5100,
    "start_time": "2021-10-02T18:36:57.281Z"
   },
   {
    "duration": 12,
    "start_time": "2021-10-02T18:37:02.384Z"
   },
   {
    "duration": 16,
    "start_time": "2021-10-02T18:37:02.399Z"
   },
   {
    "duration": 17,
    "start_time": "2021-10-02T18:38:42.078Z"
   },
   {
    "duration": 361,
    "start_time": "2021-10-02T18:38:44.384Z"
   },
   {
    "duration": 7,
    "start_time": "2021-10-02T18:39:37.139Z"
   },
   {
    "duration": 19,
    "start_time": "2021-10-02T18:39:41.121Z"
   },
   {
    "duration": 8,
    "start_time": "2021-10-02T18:40:13.738Z"
   },
   {
    "duration": 18,
    "start_time": "2021-10-02T18:40:15.344Z"
   },
   {
    "duration": 15,
    "start_time": "2021-10-02T18:41:01.203Z"
   },
   {
    "duration": 18,
    "start_time": "2021-10-02T18:41:03.053Z"
   },
   {
    "duration": 1072,
    "start_time": "2021-10-02T18:41:36.066Z"
   },
   {
    "duration": 81,
    "start_time": "2021-10-02T18:41:37.140Z"
   },
   {
    "duration": 28,
    "start_time": "2021-10-02T18:41:37.225Z"
   },
   {
    "duration": 28,
    "start_time": "2021-10-02T18:41:37.255Z"
   },
   {
    "duration": 3,
    "start_time": "2021-10-02T18:41:37.285Z"
   },
   {
    "duration": 4,
    "start_time": "2021-10-02T18:41:37.291Z"
   },
   {
    "duration": 3203,
    "start_time": "2021-10-02T18:41:37.297Z"
   },
   {
    "duration": 10,
    "start_time": "2021-10-02T18:41:40.503Z"
   },
   {
    "duration": 7,
    "start_time": "2021-10-02T18:41:40.515Z"
   },
   {
    "duration": 19,
    "start_time": "2021-10-02T18:41:40.524Z"
   },
   {
    "duration": 45,
    "start_time": "2021-10-02T18:41:40.545Z"
   },
   {
    "duration": 19,
    "start_time": "2021-10-02T18:41:40.593Z"
   },
   {
    "duration": 426,
    "start_time": "2021-10-02T18:41:40.614Z"
   },
   {
    "duration": 1098,
    "start_time": "2021-10-02T18:41:39.944Z"
   },
   {
    "duration": 1098,
    "start_time": "2021-10-02T18:41:39.946Z"
   },
   {
    "duration": 1096,
    "start_time": "2021-10-02T18:41:39.949Z"
   },
   {
    "duration": 1097,
    "start_time": "2021-10-02T18:41:39.950Z"
   },
   {
    "duration": 7,
    "start_time": "2021-10-02T18:41:54.102Z"
   },
   {
    "duration": 747,
    "start_time": "2021-10-02T18:42:27.469Z"
   },
   {
    "duration": 7,
    "start_time": "2021-10-02T18:42:54.382Z"
   },
   {
    "duration": 17,
    "start_time": "2021-10-02T18:42:58.030Z"
   },
   {
    "duration": 5,
    "start_time": "2021-10-02T18:43:01.756Z"
   },
   {
    "duration": 12,
    "start_time": "2021-10-02T18:44:11.614Z"
   },
   {
    "duration": 6,
    "start_time": "2021-10-02T18:46:16.678Z"
   },
   {
    "duration": 3,
    "start_time": "2021-10-02T19:14:35.922Z"
   },
   {
    "duration": 19,
    "start_time": "2021-10-02T19:15:17.061Z"
   },
   {
    "duration": 8,
    "start_time": "2021-10-02T19:15:21.665Z"
   },
   {
    "duration": 11,
    "start_time": "2021-10-02T19:15:49.541Z"
   },
   {
    "duration": 106,
    "start_time": "2021-10-02T19:16:14.071Z"
   },
   {
    "duration": 1160,
    "start_time": "2021-10-03T05:42:41.466Z"
   },
   {
    "duration": 31,
    "start_time": "2021-10-03T05:42:42.628Z"
   },
   {
    "duration": 30,
    "start_time": "2021-10-03T05:42:42.663Z"
   },
   {
    "duration": 7,
    "start_time": "2021-10-03T05:42:42.695Z"
   },
   {
    "duration": 2,
    "start_time": "2021-10-03T05:42:42.704Z"
   },
   {
    "duration": 4,
    "start_time": "2021-10-03T05:42:42.708Z"
   },
   {
    "duration": 2929,
    "start_time": "2021-10-03T05:42:42.714Z"
   },
   {
    "duration": 8,
    "start_time": "2021-10-03T05:42:45.646Z"
   },
   {
    "duration": 8,
    "start_time": "2021-10-03T05:42:45.656Z"
   },
   {
    "duration": 29,
    "start_time": "2021-10-03T05:42:45.665Z"
   },
   {
    "duration": 23,
    "start_time": "2021-10-03T05:42:45.696Z"
   },
   {
    "duration": 16,
    "start_time": "2021-10-03T05:42:45.720Z"
   },
   {
    "duration": 13,
    "start_time": "2021-10-03T05:42:45.738Z"
   },
   {
    "duration": 7,
    "start_time": "2021-10-03T05:42:45.752Z"
   },
   {
    "duration": 16,
    "start_time": "2021-10-03T05:42:45.760Z"
   },
   {
    "duration": 18,
    "start_time": "2021-10-03T05:42:45.778Z"
   },
   {
    "duration": 19,
    "start_time": "2021-10-03T05:42:45.798Z"
   },
   {
    "duration": 11,
    "start_time": "2021-10-03T05:45:55.285Z"
   },
   {
    "duration": 3,
    "start_time": "2021-10-03T05:49:11.233Z"
   },
   {
    "duration": 449,
    "start_time": "2021-10-03T05:50:01.404Z"
   },
   {
    "duration": 27,
    "start_time": "2021-10-03T05:50:29.520Z"
   },
   {
    "duration": 375,
    "start_time": "2021-10-03T05:50:33.353Z"
   },
   {
    "duration": 12,
    "start_time": "2021-10-03T05:52:01.474Z"
   },
   {
    "duration": 1243,
    "start_time": "2021-10-03T05:52:41.660Z"
   },
   {
    "duration": 112,
    "start_time": "2021-10-03T05:53:14.037Z"
   },
   {
    "duration": 68637,
    "start_time": "2021-10-03T05:53:18.623Z"
   },
   {
    "duration": 68656,
    "start_time": "2021-10-03T05:55:18.655Z"
   },
   {
    "duration": 1350,
    "start_time": "2021-10-03T12:48:59.468Z"
   },
   {
    "duration": 35,
    "start_time": "2021-10-03T12:49:00.821Z"
   },
   {
    "duration": 42,
    "start_time": "2021-10-03T12:49:00.864Z"
   },
   {
    "duration": 17,
    "start_time": "2021-10-03T12:49:00.910Z"
   },
   {
    "duration": 15,
    "start_time": "2021-10-03T12:49:00.929Z"
   },
   {
    "duration": 4,
    "start_time": "2021-10-03T12:49:00.963Z"
   },
   {
    "duration": 5152,
    "start_time": "2021-10-03T12:49:00.970Z"
   },
   {
    "duration": 12,
    "start_time": "2021-10-03T12:49:06.125Z"
   },
   {
    "duration": 22,
    "start_time": "2021-10-03T12:49:06.141Z"
   },
   {
    "duration": 30,
    "start_time": "2021-10-03T12:49:06.166Z"
   },
   {
    "duration": 23,
    "start_time": "2021-10-03T12:49:06.199Z"
   },
   {
    "duration": 56,
    "start_time": "2021-10-03T12:49:06.224Z"
   },
   {
    "duration": 11,
    "start_time": "2021-10-03T12:49:06.282Z"
   },
   {
    "duration": 7,
    "start_time": "2021-10-03T12:49:06.295Z"
   },
   {
    "duration": 8,
    "start_time": "2021-10-03T12:49:06.304Z"
   },
   {
    "duration": 3,
    "start_time": "2021-10-03T12:49:06.315Z"
   },
   {
    "duration": 27,
    "start_time": "2021-10-03T12:49:06.363Z"
   },
   {
    "duration": 551,
    "start_time": "2021-10-03T12:49:06.392Z"
   },
   {
    "duration": 105326,
    "start_time": "2021-10-03T12:49:06.946Z"
   },
   {
    "duration": 75,
    "start_time": "2021-10-03T12:52:38.534Z"
   },
   {
    "duration": 5,
    "start_time": "2021-10-03T12:55:27.933Z"
   },
   {
    "duration": 637,
    "start_time": "2021-10-03T12:55:49.555Z"
   },
   {
    "duration": 5,
    "start_time": "2021-10-03T12:56:35.986Z"
   },
   {
    "duration": 21,
    "start_time": "2021-10-03T12:56:40.663Z"
   },
   {
    "duration": 167145,
    "start_time": "2021-10-03T12:57:17.712Z"
   },
   {
    "duration": 6,
    "start_time": "2021-10-03T13:37:53.697Z"
   },
   {
    "duration": 89,
    "start_time": "2021-10-03T13:38:10.739Z"
   },
   {
    "duration": 100,
    "start_time": "2021-10-03T13:40:32.517Z"
   },
   {
    "duration": 1162,
    "start_time": "2021-10-03T13:40:37.725Z"
   },
   {
    "duration": 45,
    "start_time": "2021-10-03T13:41:13.696Z"
   },
   {
    "duration": 8,
    "start_time": "2021-10-03T13:41:16.127Z"
   },
   {
    "duration": 740,
    "start_time": "2021-10-03T14:09:28.585Z"
   },
   {
    "duration": 6,
    "start_time": "2021-10-03T14:13:10.277Z"
   },
   {
    "duration": 33,
    "start_time": "2021-10-03T14:13:10.286Z"
   },
   {
    "duration": 40,
    "start_time": "2021-10-03T14:13:10.322Z"
   },
   {
    "duration": 11,
    "start_time": "2021-10-03T14:13:10.365Z"
   },
   {
    "duration": 4,
    "start_time": "2021-10-03T14:13:10.378Z"
   },
   {
    "duration": 6,
    "start_time": "2021-10-03T14:13:10.384Z"
   },
   {
    "duration": 5071,
    "start_time": "2021-10-03T14:13:10.393Z"
   },
   {
    "duration": 12,
    "start_time": "2021-10-03T14:13:15.467Z"
   },
   {
    "duration": 5,
    "start_time": "2021-10-03T14:13:15.483Z"
   },
   {
    "duration": 30,
    "start_time": "2021-10-03T14:13:15.491Z"
   },
   {
    "duration": 60,
    "start_time": "2021-10-03T14:13:15.523Z"
   },
   {
    "duration": 30,
    "start_time": "2021-10-03T14:13:15.585Z"
   },
   {
    "duration": 9,
    "start_time": "2021-10-03T14:13:15.618Z"
   },
   {
    "duration": 34,
    "start_time": "2021-10-03T14:13:15.629Z"
   },
   {
    "duration": 14,
    "start_time": "2021-10-03T14:13:15.666Z"
   },
   {
    "duration": 5,
    "start_time": "2021-10-03T14:13:15.682Z"
   },
   {
    "duration": 29,
    "start_time": "2021-10-03T14:13:15.689Z"
   },
   {
    "duration": 1962,
    "start_time": "2021-10-03T14:13:28.633Z"
   },
   {
    "duration": 82,
    "start_time": "2021-10-03T14:13:32.241Z"
   },
   {
    "duration": 9,
    "start_time": "2021-10-03T14:13:33.157Z"
   },
   {
    "duration": 1558,
    "start_time": "2021-10-03T14:14:05.537Z"
   },
   {
    "duration": 34,
    "start_time": "2021-10-03T14:14:07.098Z"
   },
   {
    "duration": 54,
    "start_time": "2021-10-03T14:14:07.135Z"
   },
   {
    "duration": 13,
    "start_time": "2021-10-03T14:14:07.192Z"
   },
   {
    "duration": 5,
    "start_time": "2021-10-03T14:14:07.207Z"
   },
   {
    "duration": 18,
    "start_time": "2021-10-03T14:14:07.214Z"
   },
   {
    "duration": 7068,
    "start_time": "2021-10-03T14:14:07.235Z"
   },
   {
    "duration": 13,
    "start_time": "2021-10-03T14:14:14.306Z"
   },
   {
    "duration": 7,
    "start_time": "2021-10-03T14:14:14.323Z"
   },
   {
    "duration": 61,
    "start_time": "2021-10-03T14:14:14.333Z"
   },
   {
    "duration": 20,
    "start_time": "2021-10-03T14:14:14.396Z"
   },
   {
    "duration": 62,
    "start_time": "2021-10-03T14:14:14.419Z"
   },
   {
    "duration": 10,
    "start_time": "2021-10-03T14:14:14.484Z"
   },
   {
    "duration": 6,
    "start_time": "2021-10-03T14:14:14.498Z"
   },
   {
    "duration": 9,
    "start_time": "2021-10-03T14:14:14.507Z"
   },
   {
    "duration": 43,
    "start_time": "2021-10-03T14:14:14.518Z"
   },
   {
    "duration": 36,
    "start_time": "2021-10-03T14:14:14.566Z"
   },
   {
    "duration": 616,
    "start_time": "2021-10-03T14:14:14.605Z"
   },
   {
    "duration": 112067,
    "start_time": "2021-10-03T14:14:15.223Z"
   },
   {
    "duration": 503,
    "start_time": "2021-10-03T14:16:07.293Z"
   },
   {
    "duration": 424,
    "start_time": "2021-10-03T14:16:07.376Z"
   },
   {
    "duration": 420,
    "start_time": "2021-10-03T14:16:07.382Z"
   },
   {
    "duration": 419,
    "start_time": "2021-10-03T14:16:07.385Z"
   },
   {
    "duration": 422,
    "start_time": "2021-10-03T14:16:07.386Z"
   },
   {
    "duration": 420,
    "start_time": "2021-10-03T14:16:07.391Z"
   },
   {
    "duration": 420,
    "start_time": "2021-10-03T14:16:07.393Z"
   },
   {
    "duration": 420,
    "start_time": "2021-10-03T14:16:07.395Z"
   },
   {
    "duration": 422,
    "start_time": "2021-10-03T14:16:07.396Z"
   },
   {
    "duration": 1603,
    "start_time": "2021-10-03T14:16:21.689Z"
   },
   {
    "duration": 43,
    "start_time": "2021-10-03T14:17:35.628Z"
   },
   {
    "duration": 8,
    "start_time": "2021-10-03T14:17:36.246Z"
   },
   {
    "duration": 5,
    "start_time": "2021-10-03T14:18:30.352Z"
   },
   {
    "duration": 22,
    "start_time": "2021-10-03T14:18:31.074Z"
   },
   {
    "duration": 1227,
    "start_time": "2021-10-03T14:18:34.695Z"
   },
   {
    "duration": 45,
    "start_time": "2021-10-03T14:18:38.749Z"
   },
   {
    "duration": 8,
    "start_time": "2021-10-03T14:18:40.144Z"
   },
   {
    "duration": 1234,
    "start_time": "2021-10-03T14:19:05.212Z"
   },
   {
    "duration": 5,
    "start_time": "2021-10-03T14:39:40.145Z"
   },
   {
    "duration": 5,
    "start_time": "2021-10-03T14:39:46.786Z"
   },
   {
    "duration": 10,
    "start_time": "2021-10-03T14:39:57.032Z"
   },
   {
    "duration": 238,
    "start_time": "2021-10-03T14:39:57.647Z"
   },
   {
    "duration": 283,
    "start_time": "2021-10-03T14:40:02.776Z"
   },
   {
    "duration": 7,
    "start_time": "2021-10-03T14:40:07.042Z"
   },
   {
    "duration": 6,
    "start_time": "2021-10-03T14:40:07.930Z"
   },
   {
    "duration": 6,
    "start_time": "2021-10-03T14:40:08.710Z"
   },
   {
    "duration": 5,
    "start_time": "2021-10-03T14:40:09.336Z"
   },
   {
    "duration": 8,
    "start_time": "2021-10-03T14:40:34.841Z"
   },
   {
    "duration": 7,
    "start_time": "2021-10-03T14:40:35.803Z"
   },
   {
    "duration": 5,
    "start_time": "2021-10-03T14:40:36.597Z"
   },
   {
    "duration": 6,
    "start_time": "2021-10-03T14:40:37.204Z"
   },
   {
    "duration": 6,
    "start_time": "2021-10-03T14:40:37.769Z"
   },
   {
    "duration": 3,
    "start_time": "2021-10-03T14:40:46.073Z"
   },
   {
    "duration": 42,
    "start_time": "2021-10-03T14:40:49.284Z"
   },
   {
    "duration": 254,
    "start_time": "2021-10-03T14:40:53.035Z"
   },
   {
    "duration": 1380,
    "start_time": "2021-10-03T14:41:10.723Z"
   },
   {
    "duration": 34,
    "start_time": "2021-10-03T14:41:12.106Z"
   },
   {
    "duration": 52,
    "start_time": "2021-10-03T14:41:12.146Z"
   },
   {
    "duration": 11,
    "start_time": "2021-10-03T14:41:12.201Z"
   },
   {
    "duration": 7,
    "start_time": "2021-10-03T14:41:12.215Z"
   },
   {
    "duration": 37,
    "start_time": "2021-10-03T14:41:12.224Z"
   },
   {
    "duration": 5126,
    "start_time": "2021-10-03T14:41:12.264Z"
   },
   {
    "duration": 11,
    "start_time": "2021-10-03T14:41:17.394Z"
   },
   {
    "duration": 18,
    "start_time": "2021-10-03T14:41:17.408Z"
   },
   {
    "duration": 51,
    "start_time": "2021-10-03T14:41:17.428Z"
   },
   {
    "duration": 22,
    "start_time": "2021-10-03T14:41:17.481Z"
   },
   {
    "duration": 26,
    "start_time": "2021-10-03T14:41:17.505Z"
   },
   {
    "duration": 11,
    "start_time": "2021-10-03T14:41:17.562Z"
   },
   {
    "duration": 14,
    "start_time": "2021-10-03T14:41:17.575Z"
   },
   {
    "duration": 9,
    "start_time": "2021-10-03T14:41:17.591Z"
   },
   {
    "duration": 7,
    "start_time": "2021-10-03T14:41:17.602Z"
   },
   {
    "duration": 7,
    "start_time": "2021-10-03T14:41:17.612Z"
   },
   {
    "duration": 82,
    "start_time": "2021-10-03T14:41:17.622Z"
   },
   {
    "duration": 423,
    "start_time": "2021-10-03T14:41:17.706Z"
   },
   {
    "duration": 429,
    "start_time": "2021-10-03T14:41:17.703Z"
   },
   {
    "duration": 429,
    "start_time": "2021-10-03T14:41:17.704Z"
   },
   {
    "duration": 429,
    "start_time": "2021-10-03T14:41:17.705Z"
   },
   {
    "duration": 429,
    "start_time": "2021-10-03T14:41:17.707Z"
   },
   {
    "duration": 420,
    "start_time": "2021-10-03T14:41:17.717Z"
   },
   {
    "duration": 420,
    "start_time": "2021-10-03T14:41:17.719Z"
   },
   {
    "duration": 420,
    "start_time": "2021-10-03T14:41:17.720Z"
   },
   {
    "duration": 416,
    "start_time": "2021-10-03T14:41:17.726Z"
   },
   {
    "duration": 415,
    "start_time": "2021-10-03T14:41:17.728Z"
   },
   {
    "duration": 415,
    "start_time": "2021-10-03T14:41:17.729Z"
   },
   {
    "duration": 6,
    "start_time": "2021-10-03T14:41:48.417Z"
   },
   {
    "duration": 7,
    "start_time": "2021-10-03T14:41:55.189Z"
   },
   {
    "duration": 5,
    "start_time": "2021-10-03T14:42:02.921Z"
   },
   {
    "duration": 6,
    "start_time": "2021-10-03T14:42:11.907Z"
   },
   {
    "duration": 6,
    "start_time": "2021-10-03T14:42:21.307Z"
   },
   {
    "duration": 9,
    "start_time": "2021-10-03T14:42:38.977Z"
   },
   {
    "duration": 8,
    "start_time": "2021-10-03T14:42:39.643Z"
   },
   {
    "duration": 6,
    "start_time": "2021-10-03T14:42:40.274Z"
   },
   {
    "duration": 5,
    "start_time": "2021-10-03T14:42:40.880Z"
   },
   {
    "duration": 5,
    "start_time": "2021-10-03T14:42:42.502Z"
   },
   {
    "duration": 6,
    "start_time": "2021-10-03T14:42:43.065Z"
   },
   {
    "duration": 5,
    "start_time": "2021-10-03T14:42:44.094Z"
   },
   {
    "duration": 6,
    "start_time": "2021-10-03T14:42:52.140Z"
   },
   {
    "duration": 4,
    "start_time": "2021-10-03T14:42:57.791Z"
   },
   {
    "duration": 41,
    "start_time": "2021-10-03T14:42:58.398Z"
   },
   {
    "duration": 437,
    "start_time": "2021-10-03T14:43:00.721Z"
   },
   {
    "duration": 95100,
    "start_time": "2021-10-03T14:43:04.952Z"
   },
   {
    "duration": 1002,
    "start_time": "2021-10-03T14:47:17.116Z"
   },
   {
    "duration": 56,
    "start_time": "2021-10-03T14:47:19.147Z"
   },
   {
    "duration": 9,
    "start_time": "2021-10-03T14:47:20.099Z"
   },
   {
    "duration": 38,
    "start_time": "2021-10-03T14:48:08.081Z"
   },
   {
    "duration": 1128,
    "start_time": "2021-10-03T14:48:36.764Z"
   },
   {
    "duration": 64,
    "start_time": "2021-10-03T14:48:41.133Z"
   },
   {
    "duration": 8,
    "start_time": "2021-10-03T14:48:41.742Z"
   },
   {
    "duration": 6,
    "start_time": "2021-10-03T14:48:44.151Z"
   },
   {
    "duration": 31,
    "start_time": "2021-10-03T14:48:44.941Z"
   },
   {
    "duration": 122126,
    "start_time": "2021-10-03T14:48:45.854Z"
   },
   {
    "duration": 446,
    "start_time": "2021-10-03T14:51:02.420Z"
   },
   {
    "duration": 23,
    "start_time": "2021-10-03T14:51:05.547Z"
   },
   {
    "duration": 8,
    "start_time": "2021-10-03T14:51:06.685Z"
   },
   {
    "duration": 20,
    "start_time": "2021-10-03T14:51:33.439Z"
   },
   {
    "duration": 21,
    "start_time": "2021-10-03T14:52:03.973Z"
   },
   {
    "duration": 7,
    "start_time": "2021-10-03T14:52:05.050Z"
   },
   {
    "duration": 22,
    "start_time": "2021-10-03T14:52:31.718Z"
   },
   {
    "duration": 8,
    "start_time": "2021-10-03T14:52:34.416Z"
   },
   {
    "duration": 7,
    "start_time": "2021-10-03T14:52:41.116Z"
   },
   {
    "duration": 9,
    "start_time": "2021-10-03T14:52:46.090Z"
   },
   {
    "duration": 440,
    "start_time": "2021-10-03T14:56:40.647Z"
   },
   {
    "duration": 20,
    "start_time": "2021-10-03T14:56:51.177Z"
   },
   {
    "duration": 8,
    "start_time": "2021-10-03T14:56:52.050Z"
   },
   {
    "duration": 27,
    "start_time": "2021-10-03T14:58:04.627Z"
   },
   {
    "duration": 19,
    "start_time": "2021-10-03T14:58:09.993Z"
   },
   {
    "duration": 9,
    "start_time": "2021-10-03T14:58:11.449Z"
   },
   {
    "duration": 1307,
    "start_time": "2021-10-03T14:58:36.895Z"
   },
   {
    "duration": 34,
    "start_time": "2021-10-03T14:58:38.205Z"
   },
   {
    "duration": 46,
    "start_time": "2021-10-03T14:58:38.242Z"
   },
   {
    "duration": 16,
    "start_time": "2021-10-03T14:58:38.291Z"
   },
   {
    "duration": 4,
    "start_time": "2021-10-03T14:58:38.310Z"
   },
   {
    "duration": 8,
    "start_time": "2021-10-03T14:58:38.317Z"
   },
   {
    "duration": 5152,
    "start_time": "2021-10-03T14:58:38.328Z"
   },
   {
    "duration": 13,
    "start_time": "2021-10-03T14:58:43.483Z"
   },
   {
    "duration": 6,
    "start_time": "2021-10-03T14:58:43.501Z"
   },
   {
    "duration": 56,
    "start_time": "2021-10-03T14:58:43.510Z"
   },
   {
    "duration": 20,
    "start_time": "2021-10-03T14:58:43.568Z"
   },
   {
    "duration": 31,
    "start_time": "2021-10-03T14:58:43.591Z"
   },
   {
    "duration": 10,
    "start_time": "2021-10-03T14:58:43.624Z"
   },
   {
    "duration": 31,
    "start_time": "2021-10-03T14:58:43.636Z"
   },
   {
    "duration": 11,
    "start_time": "2021-10-03T14:58:43.670Z"
   },
   {
    "duration": 9,
    "start_time": "2021-10-03T14:58:43.683Z"
   },
   {
    "duration": 4,
    "start_time": "2021-10-03T14:58:43.695Z"
   },
   {
    "duration": 72,
    "start_time": "2021-10-03T14:58:43.702Z"
   },
   {
    "duration": 472,
    "start_time": "2021-10-03T14:58:43.776Z"
   },
   {
    "duration": 94390,
    "start_time": "2021-10-03T14:58:44.250Z"
   },
   {
    "duration": 1243,
    "start_time": "2021-10-03T15:00:18.642Z"
   },
   {
    "duration": 74,
    "start_time": "2021-10-03T15:00:19.888Z"
   },
   {
    "duration": 15,
    "start_time": "2021-10-03T15:00:19.967Z"
   },
   {
    "duration": 5,
    "start_time": "2021-10-03T15:00:19.985Z"
   },
   {
    "duration": 26,
    "start_time": "2021-10-03T15:00:19.993Z"
   },
   {
    "duration": 128150,
    "start_time": "2021-10-03T15:00:20.022Z"
   },
   {
    "duration": 458,
    "start_time": "2021-10-03T15:02:28.176Z"
   },
   {
    "duration": 34,
    "start_time": "2021-10-03T15:02:28.637Z"
   },
   {
    "duration": 8,
    "start_time": "2021-10-03T15:02:28.673Z"
   },
   {
    "duration": 35,
    "start_time": "2021-10-03T15:02:28.683Z"
   },
   {
    "duration": 8,
    "start_time": "2021-10-03T15:02:28.720Z"
   },
   {
    "duration": 45,
    "start_time": "2021-10-03T15:02:28.730Z"
   },
   {
    "duration": 9,
    "start_time": "2021-10-03T15:02:28.777Z"
   },
   {
    "duration": 1064,
    "start_time": "2021-10-03T15:31:12.576Z"
   },
   {
    "duration": 8,
    "start_time": "2021-10-03T15:31:18.237Z"
   },
   {
    "duration": 1405,
    "start_time": "2021-10-03T15:35:20.890Z"
   },
   {
    "duration": 35,
    "start_time": "2021-10-03T15:35:22.297Z"
   },
   {
    "duration": 60,
    "start_time": "2021-10-03T15:35:22.336Z"
   },
   {
    "duration": 12,
    "start_time": "2021-10-03T15:35:22.400Z"
   },
   {
    "duration": 17,
    "start_time": "2021-10-03T15:35:22.414Z"
   },
   {
    "duration": 11,
    "start_time": "2021-10-03T15:35:22.434Z"
   },
   {
    "duration": 5670,
    "start_time": "2021-10-03T15:35:22.448Z"
   },
   {
    "duration": 12,
    "start_time": "2021-10-03T15:35:28.120Z"
   },
   {
    "duration": 32,
    "start_time": "2021-10-03T15:35:28.137Z"
   },
   {
    "duration": 29,
    "start_time": "2021-10-03T15:35:28.173Z"
   },
   {
    "duration": 21,
    "start_time": "2021-10-03T15:35:28.205Z"
   },
   {
    "duration": 47,
    "start_time": "2021-10-03T15:35:28.229Z"
   },
   {
    "duration": 9,
    "start_time": "2021-10-03T15:35:28.279Z"
   },
   {
    "duration": 10,
    "start_time": "2021-10-03T15:35:28.291Z"
   },
   {
    "duration": 11,
    "start_time": "2021-10-03T15:35:28.303Z"
   },
   {
    "duration": 8,
    "start_time": "2021-10-03T15:35:28.317Z"
   },
   {
    "duration": 4,
    "start_time": "2021-10-03T15:35:28.327Z"
   },
   {
    "duration": 48,
    "start_time": "2021-10-03T15:35:28.367Z"
   },
   {
    "duration": 611,
    "start_time": "2021-10-03T15:35:28.419Z"
   },
   {
    "duration": 95849,
    "start_time": "2021-10-03T15:35:29.033Z"
   },
   {
    "duration": 1055,
    "start_time": "2021-10-03T15:37:04.885Z"
   },
   {
    "duration": 71,
    "start_time": "2021-10-03T15:37:05.943Z"
   },
   {
    "duration": 8,
    "start_time": "2021-10-03T15:37:06.016Z"
   },
   {
    "duration": 11,
    "start_time": "2021-10-03T15:37:06.027Z"
   },
   {
    "duration": 44,
    "start_time": "2021-10-03T15:37:06.041Z"
   },
   {
    "duration": 137217,
    "start_time": "2021-10-03T15:37:06.088Z"
   },
   {
    "duration": 517,
    "start_time": "2021-10-03T15:39:23.310Z"
   },
   {
    "duration": 44,
    "start_time": "2021-10-03T15:39:23.830Z"
   },
   {
    "duration": 10,
    "start_time": "2021-10-03T15:39:23.877Z"
   },
   {
    "duration": 27,
    "start_time": "2021-10-03T15:39:23.889Z"
   },
   {
    "duration": 8,
    "start_time": "2021-10-03T15:39:23.919Z"
   },
   {
    "duration": 47,
    "start_time": "2021-10-03T15:39:23.929Z"
   },
   {
    "duration": 9,
    "start_time": "2021-10-03T15:39:23.978Z"
   },
   {
    "duration": 840,
    "start_time": "2021-10-04T15:05:49.400Z"
   },
   {
    "duration": 1093,
    "start_time": "2021-10-04T15:10:31.107Z"
   },
   {
    "duration": 31,
    "start_time": "2021-10-04T15:10:32.202Z"
   },
   {
    "duration": 26,
    "start_time": "2021-10-04T15:10:32.235Z"
   },
   {
    "duration": 9,
    "start_time": "2021-10-04T15:10:32.262Z"
   },
   {
    "duration": 21,
    "start_time": "2021-10-04T15:10:40.493Z"
   },
   {
    "duration": 367,
    "start_time": "2021-10-04T15:11:52.763Z"
   },
   {
    "duration": 20,
    "start_time": "2021-10-04T15:12:00.857Z"
   },
   {
    "duration": 3,
    "start_time": "2021-10-04T15:12:06.486Z"
   },
   {
    "duration": 8,
    "start_time": "2021-10-04T15:12:10.234Z"
   },
   {
    "duration": 11,
    "start_time": "2021-10-04T15:12:12.460Z"
   },
   {
    "duration": 20,
    "start_time": "2021-10-04T15:12:15.750Z"
   },
   {
    "duration": 9,
    "start_time": "2021-10-04T15:12:24.432Z"
   },
   {
    "duration": 5,
    "start_time": "2021-10-04T15:12:34.635Z"
   },
   {
    "duration": 7,
    "start_time": "2021-10-04T15:12:50.759Z"
   },
   {
    "duration": 4,
    "start_time": "2021-10-04T15:13:01.885Z"
   },
   {
    "duration": 7,
    "start_time": "2021-10-04T15:13:25.427Z"
   },
   {
    "duration": 5,
    "start_time": "2021-10-04T15:13:43.042Z"
   },
   {
    "duration": 21,
    "start_time": "2021-10-04T15:13:47.800Z"
   },
   {
    "duration": 9,
    "start_time": "2021-10-04T15:15:31.442Z"
   },
   {
    "duration": 4,
    "start_time": "2021-10-04T15:15:35.338Z"
   },
   {
    "duration": 4,
    "start_time": "2021-10-04T15:15:53.896Z"
   },
   {
    "duration": 5,
    "start_time": "2021-10-04T15:16:01.906Z"
   },
   {
    "duration": 10,
    "start_time": "2021-10-04T15:16:08.312Z"
   },
   {
    "duration": 10,
    "start_time": "2021-10-04T15:16:13.912Z"
   },
   {
    "duration": 10,
    "start_time": "2021-10-04T15:16:30.534Z"
   },
   {
    "duration": 6,
    "start_time": "2021-10-04T15:16:45.931Z"
   },
   {
    "duration": 6,
    "start_time": "2021-10-04T15:16:48.977Z"
   },
   {
    "duration": 4,
    "start_time": "2021-10-04T15:17:19.175Z"
   },
   {
    "duration": 41,
    "start_time": "2021-10-04T15:17:19.182Z"
   },
   {
    "duration": 20,
    "start_time": "2021-10-04T15:17:19.226Z"
   },
   {
    "duration": 8,
    "start_time": "2021-10-04T15:17:19.248Z"
   },
   {
    "duration": 13,
    "start_time": "2021-10-04T15:17:19.258Z"
   },
   {
    "duration": 17,
    "start_time": "2021-10-04T15:17:19.273Z"
   },
   {
    "duration": 3079,
    "start_time": "2021-10-04T15:17:19.291Z"
   },
   {
    "duration": 9,
    "start_time": "2021-10-04T15:17:22.371Z"
   },
   {
    "duration": 27,
    "start_time": "2021-10-04T15:17:22.383Z"
   },
   {
    "duration": 10,
    "start_time": "2021-10-04T15:17:28.832Z"
   },
   {
    "duration": 9,
    "start_time": "2021-10-04T15:17:29.455Z"
   },
   {
    "duration": 139,
    "start_time": "2021-10-04T15:27:28.751Z"
   },
   {
    "duration": 4,
    "start_time": "2021-10-04T15:30:17.939Z"
   },
   {
    "duration": 35,
    "start_time": "2021-10-04T15:30:17.945Z"
   },
   {
    "duration": 20,
    "start_time": "2021-10-04T15:30:17.982Z"
   },
   {
    "duration": 10,
    "start_time": "2021-10-04T15:30:18.004Z"
   },
   {
    "duration": 3,
    "start_time": "2021-10-04T15:30:18.015Z"
   },
   {
    "duration": 5,
    "start_time": "2021-10-04T15:30:18.020Z"
   },
   {
    "duration": 6,
    "start_time": "2021-10-04T15:30:18.026Z"
   },
   {
    "duration": 15,
    "start_time": "2021-10-04T15:30:18.034Z"
   },
   {
    "duration": 10,
    "start_time": "2021-10-04T15:30:18.052Z"
   },
   {
    "duration": 7,
    "start_time": "2021-10-04T15:30:18.064Z"
   },
   {
    "duration": 5,
    "start_time": "2021-10-04T15:30:18.073Z"
   },
   {
    "duration": 22,
    "start_time": "2021-10-04T15:30:18.079Z"
   },
   {
    "duration": 18,
    "start_time": "2021-10-04T15:30:18.103Z"
   },
   {
    "duration": 39,
    "start_time": "2021-10-04T15:30:18.122Z"
   },
   {
    "duration": 6,
    "start_time": "2021-10-04T15:30:18.163Z"
   },
   {
    "duration": 6,
    "start_time": "2021-10-04T15:30:18.171Z"
   },
   {
    "duration": 10,
    "start_time": "2021-10-04T15:30:18.179Z"
   },
   {
    "duration": 7,
    "start_time": "2021-10-04T15:30:18.190Z"
   },
   {
    "duration": 11,
    "start_time": "2021-10-04T15:30:18.198Z"
   },
   {
    "duration": 39,
    "start_time": "2021-10-04T15:30:18.211Z"
   },
   {
    "duration": 87,
    "start_time": "2021-10-04T15:30:26.663Z"
   },
   {
    "duration": 314,
    "start_time": "2021-10-04T15:30:36.260Z"
   },
   {
    "duration": 5,
    "start_time": "2021-10-04T15:30:44.751Z"
   },
   {
    "duration": 8,
    "start_time": "2021-10-04T15:31:04.998Z"
   },
   {
    "duration": 289,
    "start_time": "2021-10-04T15:32:03.781Z"
   },
   {
    "duration": 287,
    "start_time": "2021-10-04T15:32:11.510Z"
   },
   {
    "duration": 285,
    "start_time": "2021-10-04T15:32:19.150Z"
   },
   {
    "duration": 8,
    "start_time": "2021-10-04T15:32:22.869Z"
   },
   {
    "duration": 6,
    "start_time": "2021-10-04T15:32:40.733Z"
   },
   {
    "duration": 76,
    "start_time": "2021-10-04T15:34:08.820Z"
   },
   {
    "duration": 284,
    "start_time": "2021-10-04T15:34:36.127Z"
   },
   {
    "duration": 245,
    "start_time": "2021-10-04T15:36:46.375Z"
   },
   {
    "duration": 8,
    "start_time": "2021-10-04T15:37:01.021Z"
   },
   {
    "duration": 83,
    "start_time": "2021-10-04T15:37:49.368Z"
   },
   {
    "duration": 57051,
    "start_time": "2021-10-04T15:39:34.309Z"
   },
   {
    "duration": 11,
    "start_time": "2021-10-04T15:41:04.594Z"
   },
   {
    "duration": 4,
    "start_time": "2021-10-04T15:41:32.997Z"
   },
   {
    "duration": 12,
    "start_time": "2021-10-04T15:41:45.800Z"
   },
   {
    "duration": 297,
    "start_time": "2021-10-04T15:52:25.661Z"
   },
   {
    "duration": 48,
    "start_time": "2021-10-04T15:52:35.923Z"
   },
   {
    "duration": 8,
    "start_time": "2021-10-04T15:52:39.258Z"
   },
   {
    "duration": 56161,
    "start_time": "2021-10-04T15:55:34.874Z"
   },
   {
    "duration": 9,
    "start_time": "2021-10-04T15:57:14.552Z"
   },
   {
    "duration": 264,
    "start_time": "2021-10-04T15:58:53.450Z"
   },
   {
    "duration": 267,
    "start_time": "2021-10-04T15:59:36.511Z"
   },
   {
    "duration": 393,
    "start_time": "2021-10-04T16:00:02.677Z"
   },
   {
    "duration": 25,
    "start_time": "2021-10-04T16:00:14.395Z"
   },
   {
    "duration": 6,
    "start_time": "2021-10-04T16:00:25.324Z"
   },
   {
    "duration": 25,
    "start_time": "2021-10-04T16:02:10.848Z"
   },
   {
    "duration": 6,
    "start_time": "2021-10-04T16:02:12.558Z"
   },
   {
    "duration": 23,
    "start_time": "2021-10-04T16:02:27.412Z"
   },
   {
    "duration": 8,
    "start_time": "2021-10-04T16:02:28.138Z"
   },
   {
    "duration": 85,
    "start_time": "2021-10-04T16:02:50.569Z"
   },
   {
    "duration": 4,
    "start_time": "2021-10-04T16:08:54.833Z"
   },
   {
    "duration": 4,
    "start_time": "2021-10-04T16:09:51.674Z"
   },
   {
    "duration": 274,
    "start_time": "2021-10-04T16:10:13.412Z"
   },
   {
    "duration": 80,
    "start_time": "2021-10-04T16:10:26.593Z"
   },
   {
    "duration": 167,
    "start_time": "2021-10-04T16:10:30.594Z"
   },
   {
    "duration": 1216,
    "start_time": "2021-10-04T16:11:28.764Z"
   },
   {
    "duration": 33,
    "start_time": "2021-10-04T16:11:29.982Z"
   },
   {
    "duration": 31,
    "start_time": "2021-10-04T16:11:30.019Z"
   },
   {
    "duration": 9,
    "start_time": "2021-10-04T16:11:30.052Z"
   },
   {
    "duration": 5,
    "start_time": "2021-10-04T16:11:30.063Z"
   },
   {
    "duration": 8,
    "start_time": "2021-10-04T16:11:30.070Z"
   },
   {
    "duration": 10,
    "start_time": "2021-10-04T16:11:30.079Z"
   },
   {
    "duration": 7,
    "start_time": "2021-10-04T16:11:30.092Z"
   },
   {
    "duration": 17,
    "start_time": "2021-10-04T16:11:30.101Z"
   },
   {
    "duration": 8,
    "start_time": "2021-10-04T16:11:30.120Z"
   },
   {
    "duration": 22,
    "start_time": "2021-10-04T16:11:30.130Z"
   },
   {
    "duration": 28,
    "start_time": "2021-10-04T16:11:30.154Z"
   },
   {
    "duration": 16,
    "start_time": "2021-10-04T16:11:30.183Z"
   },
   {
    "duration": 20,
    "start_time": "2021-10-04T16:11:30.201Z"
   },
   {
    "duration": 17,
    "start_time": "2021-10-04T16:11:30.222Z"
   },
   {
    "duration": 6,
    "start_time": "2021-10-04T16:11:30.250Z"
   },
   {
    "duration": 14,
    "start_time": "2021-10-04T16:11:30.257Z"
   },
   {
    "duration": 15,
    "start_time": "2021-10-04T16:11:30.273Z"
   },
   {
    "duration": 24,
    "start_time": "2021-10-04T16:11:30.290Z"
   },
   {
    "duration": 33,
    "start_time": "2021-10-04T16:11:30.316Z"
   },
   {
    "duration": 306,
    "start_time": "2021-10-04T16:11:30.351Z"
   },
   {
    "duration": 8,
    "start_time": "2021-10-04T16:11:30.659Z"
   },
   {
    "duration": 58000,
    "start_time": "2021-10-04T16:11:30.669Z"
   },
   {
    "duration": 8,
    "start_time": "2021-10-04T16:12:28.671Z"
   },
   {
    "duration": 683,
    "start_time": "2021-10-04T16:12:28.681Z"
   },
   {
    "duration": 40,
    "start_time": "2021-10-04T16:12:29.368Z"
   },
   {
    "duration": 7,
    "start_time": "2021-10-04T16:12:29.411Z"
   },
   {
    "duration": 30,
    "start_time": "2021-10-04T16:12:29.420Z"
   },
   {
    "duration": 20,
    "start_time": "2021-10-04T16:12:29.452Z"
   },
   {
    "duration": 80559,
    "start_time": "2021-10-04T16:12:29.474Z"
   },
   {
    "duration": 14,
    "start_time": "2021-10-04T16:13:50.035Z"
   },
   {
    "duration": 405,
    "start_time": "2021-10-04T16:13:50.051Z"
   },
   {
    "duration": 17,
    "start_time": "2021-10-04T16:13:50.459Z"
   },
   {
    "duration": 6,
    "start_time": "2021-10-04T16:13:50.478Z"
   },
   {
    "duration": 56392,
    "start_time": "2021-10-04T16:13:50.486Z"
   },
   {
    "duration": 10,
    "start_time": "2021-10-04T16:14:46.880Z"
   },
   {
    "duration": 397,
    "start_time": "2021-10-04T16:14:46.892Z"
   },
   {
    "duration": 27,
    "start_time": "2021-10-04T16:14:47.291Z"
   },
   {
    "duration": 30,
    "start_time": "2021-10-04T16:14:47.320Z"
   },
   {
    "duration": 25,
    "start_time": "2021-10-04T16:14:47.353Z"
   },
   {
    "duration": 7,
    "start_time": "2021-10-04T16:14:47.380Z"
   },
   {
    "duration": 26,
    "start_time": "2021-10-04T16:14:47.389Z"
   },
   {
    "duration": 5,
    "start_time": "2021-10-04T16:14:47.417Z"
   },
   {
    "duration": 4,
    "start_time": "2021-10-04T16:14:47.450Z"
   },
   {
    "duration": 183,
    "start_time": "2021-10-04T16:14:47.456Z"
   }
  ],
  "kernelspec": {
   "display_name": "Python 3",
   "language": "python",
   "name": "python3"
  },
  "language_info": {
   "codemirror_mode": {
    "name": "ipython",
    "version": 3
   },
   "file_extension": ".py",
   "mimetype": "text/x-python",
   "name": "python",
   "nbconvert_exporter": "python",
   "pygments_lexer": "ipython3",
   "version": "3.8.5"
  },
  "toc": {
   "base_numbering": 1,
   "nav_menu": {},
   "number_sections": true,
   "sideBar": true,
   "skip_h1_title": true,
   "title_cell": "Содержание",
   "title_sidebar": "Contents",
   "toc_cell": true,
   "toc_position": {},
   "toc_section_display": true,
   "toc_window_display": false
  }
 },
 "nbformat": 4,
 "nbformat_minor": 2
}
