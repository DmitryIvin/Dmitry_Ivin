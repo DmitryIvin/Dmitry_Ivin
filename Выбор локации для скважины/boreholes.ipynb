{
 "cells": [
  {
   "cell_type": "markdown",
   "metadata": {},
   "source": [
    "# Выбор локации для скважины"
   ]
  },
  {
   "cell_type": "markdown",
   "metadata": {},
   "source": [
    "Допустим, вы работаете в добывающей компании «ГлавРосГосНефть». Нужно решить, где бурить новую скважину.\n",
    "\n",
    "Вам предоставлены пробы нефти в трёх регионах: в каждом 10 000 месторождений, где измерили качество нефти и объём её запасов. Постройте модель машинного обучения, которая поможет определить регион, где добыча принесёт наибольшую прибыль. Проанализируйте возможную прибыль и риски техникой *Bootstrap.*\n",
    "\n",
    "Шаги для выбора локации:\n",
    "\n",
    "- В избранном регионе ищут месторождения, для каждого определяют значения признаков;\n",
    "- Строят модель и оценивают объём запасов;\n",
    "- Выбирают месторождения с самым высокими оценками значений. Количество месторождений зависит от бюджета компании и стоимости разработки одной скважины;\n",
    "- Прибыль равна суммарной прибыли отобранных месторождений."
   ]
  },
  {
   "cell_type": "markdown",
   "metadata": {},
   "source": [
    "# Описание данных"
   ]
  },
  {
   "cell_type": "markdown",
   "metadata": {},
   "source": [
    " - id — уникальный идентификатор скважины;\n",
    " - f0, f1, f2 — три признака точек (неважно, что они означают, но сами признаки значимы);\n",
    " - product — объём запасов в скважине (тыс. баррелей)."
   ]
  },
  {
   "cell_type": "markdown",
   "metadata": {},
   "source": [
    "## Загрузка и подготовка данных"
   ]
  },
  {
   "cell_type": "code",
   "execution_count": 1,
   "metadata": {},
   "outputs": [],
   "source": [
    "import pandas as pd\n",
    "import numpy as np\n",
    "from sklearn.model_selection import train_test_split\n",
    "from sklearn.linear_model import LinearRegression\n",
    "from sklearn.metrics import mean_squared_error \n",
    "from sklearn.metrics import r2_score\n",
    "from numpy.random import RandomState"
   ]
  },
  {
   "cell_type": "markdown",
   "metadata": {},
   "source": [
    "<div class=\"alert alert-block alert-success\">\n",
    "<b>Успех:</b> Отлично, что все импорты собраны в первой ячейке ноутбука! Если у того, кто будет запускать твой ноутбук будут отсутствовать некоторые библиотеки, то он это увидит сразу, а не в процессе!\n",
    "</div>"
   ]
  },
  {
   "cell_type": "markdown",
   "metadata": {},
   "source": [
    "Загрузим данные:"
   ]
  },
  {
   "cell_type": "code",
   "execution_count": 2,
   "metadata": {},
   "outputs": [],
   "source": [
    "data_0 = pd.read_csv('geo_data_0.csv')\n",
    "data_1 = pd.read_csv('geo_data_1.csv')\n",
    "data_2 = pd.read_csv('geo_data_2.csv')"
   ]
  },
  {
   "cell_type": "markdown",
   "metadata": {},
   "source": [
    "Посмотрим на них:"
   ]
  },
  {
   "cell_type": "code",
   "execution_count": 3,
   "metadata": {
    "scrolled": false
   },
   "outputs": [
    {
     "data": {
      "text/html": [
       "<div>\n",
       "<style scoped>\n",
       "    .dataframe tbody tr th:only-of-type {\n",
       "        vertical-align: middle;\n",
       "    }\n",
       "\n",
       "    .dataframe tbody tr th {\n",
       "        vertical-align: top;\n",
       "    }\n",
       "\n",
       "    .dataframe thead th {\n",
       "        text-align: right;\n",
       "    }\n",
       "</style>\n",
       "<table border=\"1\" class=\"dataframe\">\n",
       "  <thead>\n",
       "    <tr style=\"text-align: right;\">\n",
       "      <th></th>\n",
       "      <th>id</th>\n",
       "      <th>f0</th>\n",
       "      <th>f1</th>\n",
       "      <th>f2</th>\n",
       "      <th>product</th>\n",
       "    </tr>\n",
       "  </thead>\n",
       "  <tbody>\n",
       "    <tr>\n",
       "      <th>0</th>\n",
       "      <td>txEyH</td>\n",
       "      <td>0.705745</td>\n",
       "      <td>-0.497823</td>\n",
       "      <td>1.221170</td>\n",
       "      <td>105.280062</td>\n",
       "    </tr>\n",
       "    <tr>\n",
       "      <th>1</th>\n",
       "      <td>2acmU</td>\n",
       "      <td>1.334711</td>\n",
       "      <td>-0.340164</td>\n",
       "      <td>4.365080</td>\n",
       "      <td>73.037750</td>\n",
       "    </tr>\n",
       "    <tr>\n",
       "      <th>2</th>\n",
       "      <td>409Wp</td>\n",
       "      <td>1.022732</td>\n",
       "      <td>0.151990</td>\n",
       "      <td>1.419926</td>\n",
       "      <td>85.265647</td>\n",
       "    </tr>\n",
       "    <tr>\n",
       "      <th>3</th>\n",
       "      <td>iJLyR</td>\n",
       "      <td>-0.032172</td>\n",
       "      <td>0.139033</td>\n",
       "      <td>2.978566</td>\n",
       "      <td>168.620776</td>\n",
       "    </tr>\n",
       "    <tr>\n",
       "      <th>4</th>\n",
       "      <td>Xdl7t</td>\n",
       "      <td>1.988431</td>\n",
       "      <td>0.155413</td>\n",
       "      <td>4.751769</td>\n",
       "      <td>154.036647</td>\n",
       "    </tr>\n",
       "    <tr>\n",
       "      <th>...</th>\n",
       "      <td>...</td>\n",
       "      <td>...</td>\n",
       "      <td>...</td>\n",
       "      <td>...</td>\n",
       "      <td>...</td>\n",
       "    </tr>\n",
       "    <tr>\n",
       "      <th>99995</th>\n",
       "      <td>DLsed</td>\n",
       "      <td>0.971957</td>\n",
       "      <td>0.370953</td>\n",
       "      <td>6.075346</td>\n",
       "      <td>110.744026</td>\n",
       "    </tr>\n",
       "    <tr>\n",
       "      <th>99996</th>\n",
       "      <td>QKivN</td>\n",
       "      <td>1.392429</td>\n",
       "      <td>-0.382606</td>\n",
       "      <td>1.273912</td>\n",
       "      <td>122.346843</td>\n",
       "    </tr>\n",
       "    <tr>\n",
       "      <th>99997</th>\n",
       "      <td>3rnvd</td>\n",
       "      <td>1.029585</td>\n",
       "      <td>0.018787</td>\n",
       "      <td>-1.348308</td>\n",
       "      <td>64.375443</td>\n",
       "    </tr>\n",
       "    <tr>\n",
       "      <th>99998</th>\n",
       "      <td>7kl59</td>\n",
       "      <td>0.998163</td>\n",
       "      <td>-0.528582</td>\n",
       "      <td>1.583869</td>\n",
       "      <td>74.040764</td>\n",
       "    </tr>\n",
       "    <tr>\n",
       "      <th>99999</th>\n",
       "      <td>1CWhH</td>\n",
       "      <td>1.764754</td>\n",
       "      <td>-0.266417</td>\n",
       "      <td>5.722849</td>\n",
       "      <td>149.633246</td>\n",
       "    </tr>\n",
       "  </tbody>\n",
       "</table>\n",
       "<p>100000 rows × 5 columns</p>\n",
       "</div>"
      ],
      "text/plain": [
       "          id        f0        f1        f2     product\n",
       "0      txEyH  0.705745 -0.497823  1.221170  105.280062\n",
       "1      2acmU  1.334711 -0.340164  4.365080   73.037750\n",
       "2      409Wp  1.022732  0.151990  1.419926   85.265647\n",
       "3      iJLyR -0.032172  0.139033  2.978566  168.620776\n",
       "4      Xdl7t  1.988431  0.155413  4.751769  154.036647\n",
       "...      ...       ...       ...       ...         ...\n",
       "99995  DLsed  0.971957  0.370953  6.075346  110.744026\n",
       "99996  QKivN  1.392429 -0.382606  1.273912  122.346843\n",
       "99997  3rnvd  1.029585  0.018787 -1.348308   64.375443\n",
       "99998  7kl59  0.998163 -0.528582  1.583869   74.040764\n",
       "99999  1CWhH  1.764754 -0.266417  5.722849  149.633246\n",
       "\n",
       "[100000 rows x 5 columns]"
      ]
     },
     "execution_count": 3,
     "metadata": {},
     "output_type": "execute_result"
    }
   ],
   "source": [
    "data_0"
   ]
  },
  {
   "cell_type": "code",
   "execution_count": 4,
   "metadata": {},
   "outputs": [
    {
     "data": {
      "text/html": [
       "<div>\n",
       "<style scoped>\n",
       "    .dataframe tbody tr th:only-of-type {\n",
       "        vertical-align: middle;\n",
       "    }\n",
       "\n",
       "    .dataframe tbody tr th {\n",
       "        vertical-align: top;\n",
       "    }\n",
       "\n",
       "    .dataframe thead th {\n",
       "        text-align: right;\n",
       "    }\n",
       "</style>\n",
       "<table border=\"1\" class=\"dataframe\">\n",
       "  <thead>\n",
       "    <tr style=\"text-align: right;\">\n",
       "      <th></th>\n",
       "      <th>id</th>\n",
       "      <th>f0</th>\n",
       "      <th>f1</th>\n",
       "      <th>f2</th>\n",
       "      <th>product</th>\n",
       "    </tr>\n",
       "  </thead>\n",
       "  <tbody>\n",
       "    <tr>\n",
       "      <th>0</th>\n",
       "      <td>kBEdx</td>\n",
       "      <td>-15.001348</td>\n",
       "      <td>-8.276000</td>\n",
       "      <td>-0.005876</td>\n",
       "      <td>3.179103</td>\n",
       "    </tr>\n",
       "    <tr>\n",
       "      <th>1</th>\n",
       "      <td>62mP7</td>\n",
       "      <td>14.272088</td>\n",
       "      <td>-3.475083</td>\n",
       "      <td>0.999183</td>\n",
       "      <td>26.953261</td>\n",
       "    </tr>\n",
       "    <tr>\n",
       "      <th>2</th>\n",
       "      <td>vyE1P</td>\n",
       "      <td>6.263187</td>\n",
       "      <td>-5.948386</td>\n",
       "      <td>5.001160</td>\n",
       "      <td>134.766305</td>\n",
       "    </tr>\n",
       "    <tr>\n",
       "      <th>3</th>\n",
       "      <td>KcrkZ</td>\n",
       "      <td>-13.081196</td>\n",
       "      <td>-11.506057</td>\n",
       "      <td>4.999415</td>\n",
       "      <td>137.945408</td>\n",
       "    </tr>\n",
       "    <tr>\n",
       "      <th>4</th>\n",
       "      <td>AHL4O</td>\n",
       "      <td>12.702195</td>\n",
       "      <td>-8.147433</td>\n",
       "      <td>5.004363</td>\n",
       "      <td>134.766305</td>\n",
       "    </tr>\n",
       "    <tr>\n",
       "      <th>...</th>\n",
       "      <td>...</td>\n",
       "      <td>...</td>\n",
       "      <td>...</td>\n",
       "      <td>...</td>\n",
       "      <td>...</td>\n",
       "    </tr>\n",
       "    <tr>\n",
       "      <th>99995</th>\n",
       "      <td>QywKC</td>\n",
       "      <td>9.535637</td>\n",
       "      <td>-6.878139</td>\n",
       "      <td>1.998296</td>\n",
       "      <td>53.906522</td>\n",
       "    </tr>\n",
       "    <tr>\n",
       "      <th>99996</th>\n",
       "      <td>ptvty</td>\n",
       "      <td>-10.160631</td>\n",
       "      <td>-12.558096</td>\n",
       "      <td>5.005581</td>\n",
       "      <td>137.945408</td>\n",
       "    </tr>\n",
       "    <tr>\n",
       "      <th>99997</th>\n",
       "      <td>09gWa</td>\n",
       "      <td>-7.378891</td>\n",
       "      <td>-3.084104</td>\n",
       "      <td>4.998651</td>\n",
       "      <td>137.945408</td>\n",
       "    </tr>\n",
       "    <tr>\n",
       "      <th>99998</th>\n",
       "      <td>rqwUm</td>\n",
       "      <td>0.665714</td>\n",
       "      <td>-6.152593</td>\n",
       "      <td>1.000146</td>\n",
       "      <td>30.132364</td>\n",
       "    </tr>\n",
       "    <tr>\n",
       "      <th>99999</th>\n",
       "      <td>relB0</td>\n",
       "      <td>-3.426139</td>\n",
       "      <td>-7.794274</td>\n",
       "      <td>-0.003299</td>\n",
       "      <td>3.179103</td>\n",
       "    </tr>\n",
       "  </tbody>\n",
       "</table>\n",
       "<p>100000 rows × 5 columns</p>\n",
       "</div>"
      ],
      "text/plain": [
       "          id         f0         f1        f2     product\n",
       "0      kBEdx -15.001348  -8.276000 -0.005876    3.179103\n",
       "1      62mP7  14.272088  -3.475083  0.999183   26.953261\n",
       "2      vyE1P   6.263187  -5.948386  5.001160  134.766305\n",
       "3      KcrkZ -13.081196 -11.506057  4.999415  137.945408\n",
       "4      AHL4O  12.702195  -8.147433  5.004363  134.766305\n",
       "...      ...        ...        ...       ...         ...\n",
       "99995  QywKC   9.535637  -6.878139  1.998296   53.906522\n",
       "99996  ptvty -10.160631 -12.558096  5.005581  137.945408\n",
       "99997  09gWa  -7.378891  -3.084104  4.998651  137.945408\n",
       "99998  rqwUm   0.665714  -6.152593  1.000146   30.132364\n",
       "99999  relB0  -3.426139  -7.794274 -0.003299    3.179103\n",
       "\n",
       "[100000 rows x 5 columns]"
      ]
     },
     "execution_count": 4,
     "metadata": {},
     "output_type": "execute_result"
    }
   ],
   "source": [
    "data_1"
   ]
  },
  {
   "cell_type": "code",
   "execution_count": 5,
   "metadata": {},
   "outputs": [
    {
     "data": {
      "text/html": [
       "<div>\n",
       "<style scoped>\n",
       "    .dataframe tbody tr th:only-of-type {\n",
       "        vertical-align: middle;\n",
       "    }\n",
       "\n",
       "    .dataframe tbody tr th {\n",
       "        vertical-align: top;\n",
       "    }\n",
       "\n",
       "    .dataframe thead th {\n",
       "        text-align: right;\n",
       "    }\n",
       "</style>\n",
       "<table border=\"1\" class=\"dataframe\">\n",
       "  <thead>\n",
       "    <tr style=\"text-align: right;\">\n",
       "      <th></th>\n",
       "      <th>id</th>\n",
       "      <th>f0</th>\n",
       "      <th>f1</th>\n",
       "      <th>f2</th>\n",
       "      <th>product</th>\n",
       "    </tr>\n",
       "  </thead>\n",
       "  <tbody>\n",
       "    <tr>\n",
       "      <th>0</th>\n",
       "      <td>fwXo0</td>\n",
       "      <td>-1.146987</td>\n",
       "      <td>0.963328</td>\n",
       "      <td>-0.828965</td>\n",
       "      <td>27.758673</td>\n",
       "    </tr>\n",
       "    <tr>\n",
       "      <th>1</th>\n",
       "      <td>WJtFt</td>\n",
       "      <td>0.262778</td>\n",
       "      <td>0.269839</td>\n",
       "      <td>-2.530187</td>\n",
       "      <td>56.069697</td>\n",
       "    </tr>\n",
       "    <tr>\n",
       "      <th>2</th>\n",
       "      <td>ovLUW</td>\n",
       "      <td>0.194587</td>\n",
       "      <td>0.289035</td>\n",
       "      <td>-5.586433</td>\n",
       "      <td>62.871910</td>\n",
       "    </tr>\n",
       "    <tr>\n",
       "      <th>3</th>\n",
       "      <td>q6cA6</td>\n",
       "      <td>2.236060</td>\n",
       "      <td>-0.553760</td>\n",
       "      <td>0.930038</td>\n",
       "      <td>114.572842</td>\n",
       "    </tr>\n",
       "    <tr>\n",
       "      <th>4</th>\n",
       "      <td>WPMUX</td>\n",
       "      <td>-0.515993</td>\n",
       "      <td>1.716266</td>\n",
       "      <td>5.899011</td>\n",
       "      <td>149.600746</td>\n",
       "    </tr>\n",
       "    <tr>\n",
       "      <th>...</th>\n",
       "      <td>...</td>\n",
       "      <td>...</td>\n",
       "      <td>...</td>\n",
       "      <td>...</td>\n",
       "      <td>...</td>\n",
       "    </tr>\n",
       "    <tr>\n",
       "      <th>99995</th>\n",
       "      <td>4GxBu</td>\n",
       "      <td>-1.777037</td>\n",
       "      <td>1.125220</td>\n",
       "      <td>6.263374</td>\n",
       "      <td>172.327046</td>\n",
       "    </tr>\n",
       "    <tr>\n",
       "      <th>99996</th>\n",
       "      <td>YKFjq</td>\n",
       "      <td>-1.261523</td>\n",
       "      <td>-0.894828</td>\n",
       "      <td>2.524545</td>\n",
       "      <td>138.748846</td>\n",
       "    </tr>\n",
       "    <tr>\n",
       "      <th>99997</th>\n",
       "      <td>tKPY3</td>\n",
       "      <td>-1.199934</td>\n",
       "      <td>-2.957637</td>\n",
       "      <td>5.219411</td>\n",
       "      <td>157.080080</td>\n",
       "    </tr>\n",
       "    <tr>\n",
       "      <th>99998</th>\n",
       "      <td>nmxp2</td>\n",
       "      <td>-2.419896</td>\n",
       "      <td>2.417221</td>\n",
       "      <td>-5.548444</td>\n",
       "      <td>51.795253</td>\n",
       "    </tr>\n",
       "    <tr>\n",
       "      <th>99999</th>\n",
       "      <td>V9kWn</td>\n",
       "      <td>-2.551421</td>\n",
       "      <td>-2.025625</td>\n",
       "      <td>6.090891</td>\n",
       "      <td>102.775767</td>\n",
       "    </tr>\n",
       "  </tbody>\n",
       "</table>\n",
       "<p>100000 rows × 5 columns</p>\n",
       "</div>"
      ],
      "text/plain": [
       "          id        f0        f1        f2     product\n",
       "0      fwXo0 -1.146987  0.963328 -0.828965   27.758673\n",
       "1      WJtFt  0.262778  0.269839 -2.530187   56.069697\n",
       "2      ovLUW  0.194587  0.289035 -5.586433   62.871910\n",
       "3      q6cA6  2.236060 -0.553760  0.930038  114.572842\n",
       "4      WPMUX -0.515993  1.716266  5.899011  149.600746\n",
       "...      ...       ...       ...       ...         ...\n",
       "99995  4GxBu -1.777037  1.125220  6.263374  172.327046\n",
       "99996  YKFjq -1.261523 -0.894828  2.524545  138.748846\n",
       "99997  tKPY3 -1.199934 -2.957637  5.219411  157.080080\n",
       "99998  nmxp2 -2.419896  2.417221 -5.548444   51.795253\n",
       "99999  V9kWn -2.551421 -2.025625  6.090891  102.775767\n",
       "\n",
       "[100000 rows x 5 columns]"
      ]
     },
     "execution_count": 5,
     "metadata": {},
     "output_type": "execute_result"
    }
   ],
   "source": [
    "data_2"
   ]
  },
  {
   "cell_type": "markdown",
   "metadata": {},
   "source": [
    "Во всех датасетах присутствует id скважины - для обучения и предсказания этот столбец нам не нужен"
   ]
  },
  {
   "cell_type": "code",
   "execution_count": 6,
   "metadata": {},
   "outputs": [],
   "source": [
    "data_0 = data_0.drop(['id'], axis=1)\n",
    "data_1 = data_1.drop(['id'], axis=1)\n",
    "data_2 = data_2.drop(['id'], axis=1)"
   ]
  },
  {
   "cell_type": "markdown",
   "metadata": {},
   "source": [
    "И посмотрим на информацию об этих данных:"
   ]
  },
  {
   "cell_type": "code",
   "execution_count": 7,
   "metadata": {},
   "outputs": [
    {
     "name": "stdout",
     "output_type": "stream",
     "text": [
      "<class 'pandas.core.frame.DataFrame'>\n",
      "RangeIndex: 100000 entries, 0 to 99999\n",
      "Data columns (total 4 columns):\n",
      " #   Column   Non-Null Count   Dtype  \n",
      "---  ------   --------------   -----  \n",
      " 0   f0       100000 non-null  float64\n",
      " 1   f1       100000 non-null  float64\n",
      " 2   f2       100000 non-null  float64\n",
      " 3   product  100000 non-null  float64\n",
      "dtypes: float64(4)\n",
      "memory usage: 3.1 MB\n"
     ]
    }
   ],
   "source": [
    "data_0.info()"
   ]
  },
  {
   "cell_type": "code",
   "execution_count": 8,
   "metadata": {},
   "outputs": [
    {
     "name": "stdout",
     "output_type": "stream",
     "text": [
      "<class 'pandas.core.frame.DataFrame'>\n",
      "RangeIndex: 100000 entries, 0 to 99999\n",
      "Data columns (total 4 columns):\n",
      " #   Column   Non-Null Count   Dtype  \n",
      "---  ------   --------------   -----  \n",
      " 0   f0       100000 non-null  float64\n",
      " 1   f1       100000 non-null  float64\n",
      " 2   f2       100000 non-null  float64\n",
      " 3   product  100000 non-null  float64\n",
      "dtypes: float64(4)\n",
      "memory usage: 3.1 MB\n"
     ]
    }
   ],
   "source": [
    "data_1.info()"
   ]
  },
  {
   "cell_type": "code",
   "execution_count": 9,
   "metadata": {},
   "outputs": [
    {
     "name": "stdout",
     "output_type": "stream",
     "text": [
      "<class 'pandas.core.frame.DataFrame'>\n",
      "RangeIndex: 100000 entries, 0 to 99999\n",
      "Data columns (total 4 columns):\n",
      " #   Column   Non-Null Count   Dtype  \n",
      "---  ------   --------------   -----  \n",
      " 0   f0       100000 non-null  float64\n",
      " 1   f1       100000 non-null  float64\n",
      " 2   f2       100000 non-null  float64\n",
      " 3   product  100000 non-null  float64\n",
      "dtypes: float64(4)\n",
      "memory usage: 3.1 MB\n"
     ]
    }
   ],
   "source": [
    "data_2.info()"
   ]
  },
  {
   "cell_type": "markdown",
   "metadata": {},
   "source": [
    "Пропусков нет, числа в формате float, все ок. Перейдем к следующему пункту"
   ]
  },
  {
   "cell_type": "markdown",
   "metadata": {},
   "source": [
    "## Обучение и проверка модели"
   ]
  },
  {
   "cell_type": "markdown",
   "metadata": {},
   "source": [
    "### Для региона 0:"
   ]
  },
  {
   "cell_type": "markdown",
   "metadata": {},
   "source": [
    "Выделим признаки и цель:"
   ]
  },
  {
   "cell_type": "code",
   "execution_count": 10,
   "metadata": {},
   "outputs": [],
   "source": [
    "features_0 = data_0.drop(['product'], axis=1)\n",
    "target_0 = data_0['product']"
   ]
  },
  {
   "cell_type": "markdown",
   "metadata": {},
   "source": [
    "Разобьем на выборки:"
   ]
  },
  {
   "cell_type": "code",
   "execution_count": 11,
   "metadata": {},
   "outputs": [],
   "source": [
    "features_train_0, features_valid_0, target_train_0, target_valid_0 = \\\n",
    "        train_test_split(features_0, target_0, test_size=0.25, random_state=12345)"
   ]
  },
  {
   "cell_type": "markdown",
   "metadata": {},
   "source": [
    "Создадим и обучим модель:"
   ]
  },
  {
   "cell_type": "code",
   "execution_count": 12,
   "metadata": {},
   "outputs": [],
   "source": [
    "model_0 = LinearRegression()"
   ]
  },
  {
   "cell_type": "code",
   "execution_count": 13,
   "metadata": {},
   "outputs": [
    {
     "data": {
      "text/plain": [
       "LinearRegression()"
      ]
     },
     "execution_count": 13,
     "metadata": {},
     "output_type": "execute_result"
    }
   ],
   "source": [
    "model_0.fit(features_train_0, target_train_0)"
   ]
  },
  {
   "cell_type": "code",
   "execution_count": 14,
   "metadata": {},
   "outputs": [],
   "source": [
    "predictions_valid_0 = model_0.predict(features_valid_0)"
   ]
  },
  {
   "cell_type": "markdown",
   "metadata": {},
   "source": [
    "Посчитаем MSE и RMSE:"
   ]
  },
  {
   "cell_type": "code",
   "execution_count": 15,
   "metadata": {},
   "outputs": [],
   "source": [
    "mse_0 = mean_squared_error(target_valid_0, predictions_valid_0)\n",
    "rmse_0 = mean_squared_error(target_valid_0, predictions_valid_0)**0.5"
   ]
  },
  {
   "cell_type": "code",
   "execution_count": 16,
   "metadata": {},
   "outputs": [
    {
     "name": "stdout",
     "output_type": "stream",
     "text": [
      "MSE = 1412.2129364399243\n",
      "RMSE = 37.5794217150813\n"
     ]
    }
   ],
   "source": [
    "print('MSE =', mse_0)\n",
    "print('RMSE =', rmse_0)"
   ]
  },
  {
   "cell_type": "markdown",
   "metadata": {},
   "source": [
    "Проверим модель на адекватность с помощью коэффициента детерминации:"
   ]
  },
  {
   "cell_type": "code",
   "execution_count": 17,
   "metadata": {},
   "outputs": [
    {
     "name": "stdout",
     "output_type": "stream",
     "text": [
      "R2 = 0.27994321524487786\n"
     ]
    }
   ],
   "source": [
    "r2_score_0 = r2_score(target_valid_0, predictions_valid_0)\n",
    "print(\"R2 =\", r2_score_0)"
   ]
  },
  {
   "cell_type": "markdown",
   "metadata": {},
   "source": [
    "Это не 0, но и не единица. То есть не среднее, но и не идеал."
   ]
  },
  {
   "cell_type": "markdown",
   "metadata": {},
   "source": [
    "Можно посчитать и среднее:"
   ]
  },
  {
   "cell_type": "code",
   "execution_count": 18,
   "metadata": {},
   "outputs": [],
   "source": [
    "m_0 = target_train_0.mean() # среднее\n",
    "predicted_valid_0 = pd.Series(target_train_0.mean(), index=target_valid_0.index)\n",
    "mse_0 = mean_squared_error(target_valid_0, predicted_valid_0)"
   ]
  },
  {
   "cell_type": "code",
   "execution_count": 19,
   "metadata": {},
   "outputs": [
    {
     "name": "stdout",
     "output_type": "stream",
     "text": [
      "Mean = 92.6404677530568\n",
      "MSE = 1961.5678757223516\n",
      "RMSE = 44.289591053907365\n"
     ]
    }
   ],
   "source": [
    "print(\"Mean =\", m_0)\n",
    "print(\"MSE =\", mse_0)\n",
    "print(\"RMSE =\", mse_0 ** 0.5)"
   ]
  },
  {
   "cell_type": "markdown",
   "metadata": {},
   "source": [
    "Посчитаем среднее предсказание для каждого региона:"
   ]
  },
  {
   "cell_type": "code",
   "execution_count": 20,
   "metadata": {},
   "outputs": [
    {
     "name": "stdout",
     "output_type": "stream",
     "text": [
      "92.59256778438038\n"
     ]
    }
   ],
   "source": [
    "mean_product_0 = predictions_valid_0.mean()\n",
    "print(mean_product_0)"
   ]
  },
  {
   "cell_type": "markdown",
   "metadata": {},
   "source": [
    "Сделаем из предсказаний объект Series"
   ]
  },
  {
   "cell_type": "code",
   "execution_count": 21,
   "metadata": {},
   "outputs": [],
   "source": [
    "predictions_valid_0 = pd.Series(predictions_valid_0, index=target_valid_0.index) "
   ]
  },
  {
   "cell_type": "markdown",
   "metadata": {},
   "source": [
    "**Cделаем то же самое для других регионов:**"
   ]
  },
  {
   "cell_type": "markdown",
   "metadata": {},
   "source": [
    "### Для региона 1:"
   ]
  },
  {
   "cell_type": "markdown",
   "metadata": {},
   "source": [
    "Признаки и цель, разбиемние на выборки:"
   ]
  },
  {
   "cell_type": "code",
   "execution_count": 22,
   "metadata": {},
   "outputs": [],
   "source": [
    "features_1 = data_1.drop(['product'], axis=1)\n",
    "target_1 = data_1['product']\n",
    "features_train_1, features_valid_1, target_train_1, target_valid_1 = \\\n",
    "        train_test_split(features_1, target_1, test_size=0.25, random_state=12345)"
   ]
  },
  {
   "cell_type": "markdown",
   "metadata": {},
   "source": [
    "Модель:"
   ]
  },
  {
   "cell_type": "code",
   "execution_count": 23,
   "metadata": {},
   "outputs": [],
   "source": [
    "model_1 = LinearRegression()\n",
    "model_1.fit(features_train_1, target_train_1)\n",
    "predictions_valid_1 = model_1.predict(features_valid_1)"
   ]
  },
  {
   "cell_type": "markdown",
   "metadata": {},
   "source": [
    "Качество:"
   ]
  },
  {
   "cell_type": "code",
   "execution_count": 24,
   "metadata": {},
   "outputs": [],
   "source": [
    "mse_1 = mean_squared_error(target_valid_1, predictions_valid_1)\n",
    "rmse_1 = mean_squared_error(target_valid_1, predictions_valid_1)**0.5"
   ]
  },
  {
   "cell_type": "code",
   "execution_count": 25,
   "metadata": {},
   "outputs": [
    {
     "name": "stdout",
     "output_type": "stream",
     "text": [
      "MSE = 0.7976263360391137\n",
      "RMSE = 0.8930992867756158\n"
     ]
    }
   ],
   "source": [
    "print('MSE =', mse_1)\n",
    "print('RMSE =', rmse_1)"
   ]
  },
  {
   "cell_type": "code",
   "execution_count": 26,
   "metadata": {},
   "outputs": [
    {
     "name": "stdout",
     "output_type": "stream",
     "text": [
      "R2 = 0.9996233978805127\n"
     ]
    }
   ],
   "source": [
    "r2_score_1 = r2_score(target_valid_1, predictions_valid_1)\n",
    "print(\"R2 =\", r2_score_1)"
   ]
  },
  {
   "cell_type": "markdown",
   "metadata": {},
   "source": [
    "Среднее:"
   ]
  },
  {
   "cell_type": "code",
   "execution_count": 27,
   "metadata": {},
   "outputs": [
    {
     "name": "stdout",
     "output_type": "stream",
     "text": [
      "68.728546895446\n"
     ]
    }
   ],
   "source": [
    "mean_product_1 = predictions_valid_1.mean()\n",
    "print(mean_product_1)"
   ]
  },
  {
   "cell_type": "code",
   "execution_count": 28,
   "metadata": {},
   "outputs": [],
   "source": [
    "predictions_valid_1 = pd.Series(predictions_valid_1, index=target_valid_1.index) "
   ]
  },
  {
   "cell_type": "markdown",
   "metadata": {},
   "source": [
    "### Для региона 2:"
   ]
  },
  {
   "cell_type": "code",
   "execution_count": 29,
   "metadata": {},
   "outputs": [],
   "source": [
    "features_2 = data_2.drop(['product'], axis=1)\n",
    "target_2 = data_2['product']\n",
    "features_train_2, features_valid_2, target_train_2, target_valid_2 = \\\n",
    "        train_test_split(features_2, target_2, test_size=0.25, random_state=12345)"
   ]
  },
  {
   "cell_type": "code",
   "execution_count": 30,
   "metadata": {},
   "outputs": [],
   "source": [
    "model_2 = LinearRegression()\n",
    "model_2.fit(features_train_2, target_train_2)\n",
    "predictions_valid_2 = model_2.predict(features_valid_2)"
   ]
  },
  {
   "cell_type": "markdown",
   "metadata": {},
   "source": [
    "Качество:"
   ]
  },
  {
   "cell_type": "code",
   "execution_count": 31,
   "metadata": {},
   "outputs": [],
   "source": [
    "mse_2 = mean_squared_error(target_valid_2, predictions_valid_2)\n",
    "rmse_2 = mean_squared_error(target_valid_2, predictions_valid_2)**0.5"
   ]
  },
  {
   "cell_type": "code",
   "execution_count": 32,
   "metadata": {},
   "outputs": [
    {
     "name": "stdout",
     "output_type": "stream",
     "text": [
      "MSE = 1602.3775813236196\n",
      "RMSE = 40.02970873393434\n"
     ]
    }
   ],
   "source": [
    "print('MSE =', mse_2)\n",
    "print('RMSE =', rmse_2)"
   ]
  },
  {
   "cell_type": "code",
   "execution_count": 33,
   "metadata": {},
   "outputs": [
    {
     "name": "stdout",
     "output_type": "stream",
     "text": [
      "R2 = 0.20524758386040443\n"
     ]
    }
   ],
   "source": [
    "r2_score_2 = r2_score(target_valid_2, predictions_valid_2)\n",
    "print(\"R2 =\", r2_score_2)"
   ]
  },
  {
   "cell_type": "markdown",
   "metadata": {},
   "source": [
    "Среднее:"
   ]
  },
  {
   "cell_type": "code",
   "execution_count": 34,
   "metadata": {},
   "outputs": [
    {
     "name": "stdout",
     "output_type": "stream",
     "text": [
      "94.96504596800489\n"
     ]
    }
   ],
   "source": [
    "mean_product_2 = predictions_valid_2.mean()\n",
    "print(mean_product_2)"
   ]
  },
  {
   "cell_type": "code",
   "execution_count": 35,
   "metadata": {},
   "outputs": [],
   "source": [
    "predictions_valid_2 = pd.Series(predictions_valid_2, index=target_valid_2.index) "
   ]
  },
  {
   "cell_type": "markdown",
   "metadata": {},
   "source": [
    "### Итоги"
   ]
  },
  {
   "cell_type": "markdown",
   "metadata": {},
   "source": [
    "Давайте теперь создадим таблицу с результатами расчетов:"
   ]
  },
  {
   "cell_type": "code",
   "execution_count": 36,
   "metadata": {},
   "outputs": [],
   "source": [
    "mse_final = [mse_0, mse_1, mse_2]\n",
    "rmse_final = [rmse_0, rmse_1, rmse_2]\n",
    "r2_score_final = [r2_score_0, r2_score_1, r2_score_2]\n",
    "mean_product = [mean_product_0, mean_product_1, mean_product_2]"
   ]
  },
  {
   "cell_type": "markdown",
   "metadata": {},
   "source": [
    "Создадим датафрейм:"
   ]
  },
  {
   "cell_type": "code",
   "execution_count": 37,
   "metadata": {},
   "outputs": [],
   "source": [
    "result = {'mse' : mse_final, 'rmse' : rmse_final, 'r2_score' : r2_score_final, 'mean': mean_product}\n",
    "result = pd.DataFrame(data=result) "
   ]
  },
  {
   "cell_type": "code",
   "execution_count": 38,
   "metadata": {},
   "outputs": [
    {
     "data": {
      "text/html": [
       "<div>\n",
       "<style scoped>\n",
       "    .dataframe tbody tr th:only-of-type {\n",
       "        vertical-align: middle;\n",
       "    }\n",
       "\n",
       "    .dataframe tbody tr th {\n",
       "        vertical-align: top;\n",
       "    }\n",
       "\n",
       "    .dataframe thead th {\n",
       "        text-align: right;\n",
       "    }\n",
       "</style>\n",
       "<table border=\"1\" class=\"dataframe\">\n",
       "  <thead>\n",
       "    <tr style=\"text-align: right;\">\n",
       "      <th></th>\n",
       "      <th>mse</th>\n",
       "      <th>rmse</th>\n",
       "      <th>r2_score</th>\n",
       "      <th>mean</th>\n",
       "    </tr>\n",
       "  </thead>\n",
       "  <tbody>\n",
       "    <tr>\n",
       "      <th>0</th>\n",
       "      <td>1961.567876</td>\n",
       "      <td>37.579422</td>\n",
       "      <td>0.279943</td>\n",
       "      <td>92.592568</td>\n",
       "    </tr>\n",
       "    <tr>\n",
       "      <th>1</th>\n",
       "      <td>0.797626</td>\n",
       "      <td>0.893099</td>\n",
       "      <td>0.999623</td>\n",
       "      <td>68.728547</td>\n",
       "    </tr>\n",
       "    <tr>\n",
       "      <th>2</th>\n",
       "      <td>1602.377581</td>\n",
       "      <td>40.029709</td>\n",
       "      <td>0.205248</td>\n",
       "      <td>94.965046</td>\n",
       "    </tr>\n",
       "  </tbody>\n",
       "</table>\n",
       "</div>"
      ],
      "text/plain": [
       "           mse       rmse  r2_score       mean\n",
       "0  1961.567876  37.579422  0.279943  92.592568\n",
       "1     0.797626   0.893099  0.999623  68.728547\n",
       "2  1602.377581  40.029709  0.205248  94.965046"
      ]
     },
     "execution_count": 38,
     "metadata": {},
     "output_type": "execute_result"
    }
   ],
   "source": [
    "result"
   ]
  },
  {
   "cell_type": "markdown",
   "metadata": {},
   "source": [
    "### Выводы"
   ]
  },
  {
   "cell_type": "markdown",
   "metadata": {},
   "source": [
    "- Итак, мы обучили три модели: по каждому региону своя. Для региона \"1\" модель получилась идеальной - коэффициент детерминации почти равен единице, для других двух коэффициент детерминации больше 0, что говорит о не самом плохом качестве модели. \n",
    "\n",
    "- средний запас предсказанного сырья у региона \"2\" наибольший и равен 94.96 тыс. баррелей. Но и качество модели там наихудшее.\n",
    "\n",
    "- У региона \"1\" с  наилучшей моделью запасы самые маленькие - 68.73 тыс. баррелей"
   ]
  },
  {
   "cell_type": "markdown",
   "metadata": {},
   "source": [
    "## Подготовка к расчёту прибыли"
   ]
  },
  {
   "cell_type": "markdown",
   "metadata": {},
   "source": [
    "Сохраним ключевые значения для расчетов в отдельных переменных:"
   ]
  },
  {
   "cell_type": "code",
   "execution_count": 39,
   "metadata": {},
   "outputs": [],
   "source": [
    "BUDGET = 10**10 # бюджет в 10 млрд\n",
    "BARREL = 450 # 450р за баррель\n",
    "N = 200 # количество учитываемых скважин\n",
    "BARREL_THOUSAND = BARREL * 1000"
   ]
  },
  {
   "cell_type": "markdown",
   "metadata": {},
   "source": [
    "Рассчитаем объем сырья для безубыточной разработки новой скважины:"
   ]
  },
  {
   "cell_type": "code",
   "execution_count": 40,
   "metadata": {},
   "outputs": [],
   "source": [
    "VOLUME = BUDGET / BARREL/ N # необходимый объем для \"выхода в ноль\""
   ]
  },
  {
   "cell_type": "markdown",
   "metadata": {},
   "source": [
    "Теперь у нас есть количество требуемой нефти в баррелях, а у нас в таблице указаны тыс. баррелей. Поэтому разделим на 1000"
   ]
  },
  {
   "cell_type": "code",
   "execution_count": 41,
   "metadata": {},
   "outputs": [
    {
     "name": "stdout",
     "output_type": "stream",
     "text": [
      "Объем сырья для безубыточной разработки: 111.11\n"
     ]
    }
   ],
   "source": [
    "print('Объем сырья для безубыточной разработки: {}'.format(round(VOLUME / 1000, 2)))"
   ]
  },
  {
   "cell_type": "markdown",
   "metadata": {},
   "source": [
    "То есть для безубыточной добычи на 200 скважинах нам необходимо, чтобы сумма запасов была 111,11 тыс. баррелей в каждой"
   ]
  },
  {
   "cell_type": "markdown",
   "metadata": {},
   "source": [
    "Давайте посмотрим на средние значения по регионам:"
   ]
  },
  {
   "cell_type": "code",
   "execution_count": 42,
   "metadata": {},
   "outputs": [
    {
     "name": "stdout",
     "output_type": "stream",
     "text": [
      "Регион 0: 92.5\n",
      "Регион 1: 68.83\n",
      "Регион 2: 95.0\n"
     ]
    }
   ],
   "source": [
    "print('Регион 0:', round(data_0['product'].mean(),2))\n",
    "print('Регион 1:', round(data_1['product'].mean(),2))\n",
    "print('Регион 2:', round(data_2['product'].mean(),2))"
   ]
  },
  {
   "cell_type": "markdown",
   "metadata": {},
   "source": [
    "Таким образом, средние значения запасов нефти в регионах меньше необходимых для получения прибыли"
   ]
  },
  {
   "cell_type": "markdown",
   "metadata": {},
   "source": [
    "## Расчёт прибыли и рисков "
   ]
  },
  {
   "cell_type": "markdown",
   "metadata": {},
   "source": [
    "Из прошлых пунктов имеем:\n",
    "\n",
    "- predictions_valid_0, predictions_valid_1, predictions_valid_2 - предсказания\n",
    "- mean_product_0, mean_product_1, mean_product_2 - средние значения предсказаний\n",
    "- barrel_thousand\n",
    "- volume\n",
    "- budget"
   ]
  },
  {
   "cell_type": "markdown",
   "metadata": {},
   "source": [
    "Напишем функцию для расчёта прибыли по выбранным скважинам и предсказаниям модели:"
   ]
  },
  {
   "cell_type": "code",
   "execution_count": 43,
   "metadata": {},
   "outputs": [],
   "source": [
    "def profit(predictions, target): # на вход подаются предсказания и целевые признаки\n",
    "    predictions = pd.Series(predictions,index=target.index) # для начала нам нужно, чтобы инексы совпадали\n",
    "    max_predictions = predictions.sort_values(ascending=False)[:200] # 200 наибольших\n",
    "    total = sum(target[max_predictions.index]) # суммируем 200 целевых признаков, которые соответствуют предсказаниям\n",
    "    profit = total * BARREL_THOUSAND - BUDGET # считаем прибыль\n",
    "    return profit"
   ]
  },
  {
   "cell_type": "markdown",
   "metadata": {},
   "source": [
    "### Примените технику Bootstrap с 1000 выборок, чтобы найти распределение прибыли."
   ]
  },
  {
   "cell_type": "markdown",
   "metadata": {},
   "source": [
    "Если я все правильно понял, мы должны взять 1000 выборок из каждого региона, в каждой выборке 500 скважин"
   ]
  },
  {
   "cell_type": "code",
   "execution_count": 44,
   "metadata": {},
   "outputs": [],
   "source": [
    "state = np.random.RandomState(12345)\n",
    "def function(predictions,target):\n",
    "    profit_list = [] # список значений прибыли для каждой выборки \n",
    "    for i in range(1000): # количество выборок\n",
    "        subsample = target.sample(n=500, replace=False, random_state=state) # создаем подвыбооку  по целевым признакам из 500 скважин\n",
    "        profit_list.append(profit(predictions, subsample)) # применяем нашу функцию и добавляем ее результат в список\n",
    "    profit_list = pd.Series(profit_list)\n",
    "    lower = profit_list.quantile(q=0.025)\n",
    "    upper = profit_list.quantile(q=0.975)\n",
    "    print('Доверительный интвервал: от {l} до {u} млн рублей'.format(l=round(lower / 1000000), u=round(upper / 1000000)))\n",
    "    print('Риск: {}%'.format(round(profit_list.loc[profit_list < 0].count() / len(profit_list) * 100, 2)))\n",
    "    print('Риск другой формулой: {}%'.format((profit_list < 0).mean() * 100))"
   ]
  },
  {
   "cell_type": "code",
   "execution_count": 45,
   "metadata": {},
   "outputs": [
    {
     "name": "stdout",
     "output_type": "stream",
     "text": [
      "Доверительный интвервал: от -127 до 880 млн рублей\n",
      "Риск: 7.2%\n",
      "Риск другой формулой: 7.199999999999999%\n"
     ]
    }
   ],
   "source": [
    "function(predictions_valid_0, target_valid_0) # для региона 0"
   ]
  },
  {
   "cell_type": "code",
   "execution_count": 46,
   "metadata": {},
   "outputs": [
    {
     "name": "stdout",
     "output_type": "stream",
     "text": [
      "Доверительный интвервал: от 47 до 840 млн рублей\n",
      "Риск: 1.3%\n",
      "Риск другой формулой: 1.3%\n"
     ]
    }
   ],
   "source": [
    "function(predictions_valid_1, target_valid_1) # для региона 1"
   ]
  },
  {
   "cell_type": "code",
   "execution_count": 47,
   "metadata": {},
   "outputs": [
    {
     "name": "stdout",
     "output_type": "stream",
     "text": [
      "Доверительный интвервал: от -116 до 907 млн рублей\n",
      "Риск: 7.3%\n",
      "Риск другой формулой: 7.3%\n"
     ]
    }
   ],
   "source": [
    "function(predictions_valid_2, target_valid_2) # для региона 2"
   ]
  },
  {
   "cell_type": "markdown",
   "metadata": {},
   "source": [
    "## Выводы"
   ]
  },
  {
   "cell_type": "markdown",
   "metadata": {},
   "source": [
    "Таким образом, были посчитаны риски и прибыль для трех регионов:\n",
    "\n",
    "    - самые маленькие риски у региона 1 - 1,3%. Так же у данного региона границы 95% доверительного интервала расположены ближе друг к другу, нежели в других регионах (от 47 до 840 млн. рублей)\n",
    "    - самые большой риск - у региона 2 - 7,3%, но и максимально возможная прибыль тоже довольна высока - 907 млн. рублей\n",
    "    - у региона 0 риск составляет 7,2%, а доверительный интервал - от -127 до 880 млн рублей\n",
    "    \n",
    "Для разработки скважин я бы выбрал регион 1, из-за минимальных рисков и более узкого доверительного интервала    "
   ]
  }
 ],
 "metadata": {
  "ExecuteTimeLog": [
   {
    "duration": 708,
    "start_time": "2021-10-16T08:47:46.737Z"
   },
   {
    "duration": 152,
    "start_time": "2021-10-16T08:47:55.974Z"
   },
   {
    "duration": 25,
    "start_time": "2021-10-16T08:47:58.914Z"
   },
   {
    "duration": 434,
    "start_time": "2021-10-16T08:48:28.450Z"
   },
   {
    "duration": 16,
    "start_time": "2021-10-16T08:48:32.846Z"
   },
   {
    "duration": 18,
    "start_time": "2021-10-16T08:48:35.170Z"
   },
   {
    "duration": 16,
    "start_time": "2021-10-16T08:48:37.583Z"
   },
   {
    "duration": 15,
    "start_time": "2021-10-16T08:56:39.605Z"
   },
   {
    "duration": 16,
    "start_time": "2021-10-16T08:56:45.383Z"
   },
   {
    "duration": 16,
    "start_time": "2021-10-16T08:56:49.993Z"
   },
   {
    "duration": 16,
    "start_time": "2021-10-16T08:56:52.341Z"
   },
   {
    "duration": 434,
    "start_time": "2021-10-16T09:06:37.242Z"
   },
   {
    "duration": 6,
    "start_time": "2021-10-16T09:06:40.810Z"
   },
   {
    "duration": 17,
    "start_time": "2021-10-16T09:06:48.136Z"
   },
   {
    "duration": 17,
    "start_time": "2021-10-16T09:11:19.330Z"
   },
   {
    "duration": 16,
    "start_time": "2021-10-16T09:11:24.362Z"
   },
   {
    "duration": 17,
    "start_time": "2021-10-16T09:11:28.554Z"
   },
   {
    "duration": 15,
    "start_time": "2021-10-16T09:12:22.940Z"
   },
   {
    "duration": 16,
    "start_time": "2021-10-16T09:12:33.331Z"
   },
   {
    "duration": 14,
    "start_time": "2021-10-16T09:12:37.253Z"
   },
   {
    "duration": 648,
    "start_time": "2021-10-16T12:27:52.187Z"
   },
   {
    "duration": 527,
    "start_time": "2021-10-16T12:27:55.070Z"
   },
   {
    "duration": 15,
    "start_time": "2021-10-16T12:29:27.182Z"
   },
   {
    "duration": 557,
    "start_time": "2021-10-16T12:32:27.164Z"
   },
   {
    "duration": 6,
    "start_time": "2021-10-16T12:32:31.508Z"
   },
   {
    "duration": 288,
    "start_time": "2021-10-16T12:32:33.780Z"
   },
   {
    "duration": 37,
    "start_time": "2021-10-16T12:32:54.370Z"
   },
   {
    "duration": 98,
    "start_time": "2021-10-16T12:33:02.439Z"
   },
   {
    "duration": 29,
    "start_time": "2021-10-16T12:33:06.789Z"
   },
   {
    "duration": 17,
    "start_time": "2021-10-16T12:33:10.170Z"
   },
   {
    "duration": 7,
    "start_time": "2021-10-16T12:33:18.296Z"
   },
   {
    "duration": 3,
    "start_time": "2021-10-16T12:36:17.694Z"
   },
   {
    "duration": 296,
    "start_time": "2021-10-16T12:36:53.014Z"
   },
   {
    "duration": 288,
    "start_time": "2021-10-16T12:37:02.582Z"
   },
   {
    "duration": 9,
    "start_time": "2021-10-16T12:52:59.291Z"
   },
   {
    "duration": 19,
    "start_time": "2021-10-16T12:53:04.083Z"
   },
   {
    "duration": 311,
    "start_time": "2021-10-16T12:53:21.231Z"
   },
   {
    "duration": 15,
    "start_time": "2021-10-16T12:53:28.628Z"
   },
   {
    "duration": 528,
    "start_time": "2021-10-16T12:53:34.145Z"
   },
   {
    "duration": 6,
    "start_time": "2021-10-16T12:53:37.889Z"
   },
   {
    "duration": 512,
    "start_time": "2021-10-16T12:53:37.898Z"
   },
   {
    "duration": 24,
    "start_time": "2021-10-16T12:53:38.414Z"
   },
   {
    "duration": 17,
    "start_time": "2021-10-16T12:53:38.441Z"
   },
   {
    "duration": 20,
    "start_time": "2021-10-16T12:53:38.483Z"
   },
   {
    "duration": 19,
    "start_time": "2021-10-16T12:53:38.506Z"
   },
   {
    "duration": 11,
    "start_time": "2021-10-16T12:53:38.528Z"
   },
   {
    "duration": 8,
    "start_time": "2021-10-16T12:53:38.542Z"
   },
   {
    "duration": 42,
    "start_time": "2021-10-16T12:53:38.553Z"
   },
   {
    "duration": 7,
    "start_time": "2021-10-16T12:53:38.598Z"
   },
   {
    "duration": 7,
    "start_time": "2021-10-16T12:53:38.609Z"
   },
   {
    "duration": 22,
    "start_time": "2021-10-16T12:53:38.618Z"
   },
   {
    "duration": 4,
    "start_time": "2021-10-16T12:53:38.642Z"
   },
   {
    "duration": 53,
    "start_time": "2021-10-16T12:53:38.648Z"
   },
   {
    "duration": 15,
    "start_time": "2021-10-16T12:54:17.592Z"
   },
   {
    "duration": 11,
    "start_time": "2021-10-16T12:54:38.028Z"
   },
   {
    "duration": 300,
    "start_time": "2021-10-16T12:55:16.088Z"
   },
   {
    "duration": 7,
    "start_time": "2021-10-16T12:55:24.630Z"
   },
   {
    "duration": 6,
    "start_time": "2021-10-16T13:17:09.375Z"
   },
   {
    "duration": 7,
    "start_time": "2021-10-16T13:17:28.678Z"
   },
   {
    "duration": 6,
    "start_time": "2021-10-16T13:18:01.303Z"
   },
   {
    "duration": 84,
    "start_time": "2021-10-16T13:18:23.771Z"
   },
   {
    "duration": 1284,
    "start_time": "2021-10-16T15:52:38.179Z"
   },
   {
    "duration": 456,
    "start_time": "2021-10-16T15:52:39.466Z"
   },
   {
    "duration": 37,
    "start_time": "2021-10-16T15:52:39.926Z"
   },
   {
    "duration": 17,
    "start_time": "2021-10-16T15:52:39.966Z"
   },
   {
    "duration": 18,
    "start_time": "2021-10-16T15:52:39.986Z"
   },
   {
    "duration": 55,
    "start_time": "2021-10-16T15:52:40.007Z"
   },
   {
    "duration": 19,
    "start_time": "2021-10-16T15:52:40.065Z"
   },
   {
    "duration": 11,
    "start_time": "2021-10-16T15:52:40.087Z"
   },
   {
    "duration": 9,
    "start_time": "2021-10-16T15:52:40.102Z"
   },
   {
    "duration": 6,
    "start_time": "2021-10-16T15:52:40.113Z"
   },
   {
    "duration": 41,
    "start_time": "2021-10-16T15:52:40.122Z"
   },
   {
    "duration": 28,
    "start_time": "2021-10-16T15:52:40.166Z"
   },
   {
    "duration": 3,
    "start_time": "2021-10-16T15:52:40.196Z"
   },
   {
    "duration": 19,
    "start_time": "2021-10-16T15:52:40.202Z"
   },
   {
    "duration": 43,
    "start_time": "2021-10-16T15:52:40.224Z"
   },
   {
    "duration": 191,
    "start_time": "2021-10-16T15:52:40.271Z"
   },
   {
    "duration": 6,
    "start_time": "2021-10-16T15:52:40.465Z"
   },
   {
    "duration": 6,
    "start_time": "2021-10-16T15:53:23.621Z"
   },
   {
    "duration": 447,
    "start_time": "2021-10-16T15:57:46.755Z"
   },
   {
    "duration": 324,
    "start_time": "2021-10-16T15:57:56.625Z"
   },
   {
    "duration": 8,
    "start_time": "2021-10-16T15:58:04.419Z"
   },
   {
    "duration": 4,
    "start_time": "2021-10-16T15:58:19.508Z"
   },
   {
    "duration": 7,
    "start_time": "2021-10-16T15:58:43.514Z"
   },
   {
    "duration": 6,
    "start_time": "2021-10-16T15:59:07.583Z"
   },
   {
    "duration": 5,
    "start_time": "2021-10-16T15:59:08.915Z"
   },
   {
    "duration": 7,
    "start_time": "2021-10-16T16:01:08.711Z"
   },
   {
    "duration": 6,
    "start_time": "2021-10-16T16:01:43.432Z"
   },
   {
    "duration": 5,
    "start_time": "2021-10-16T16:01:44.350Z"
   },
   {
    "duration": 97,
    "start_time": "2021-10-16T16:03:26.907Z"
   },
   {
    "duration": 21,
    "start_time": "2021-10-16T16:06:05.767Z"
   },
   {
    "duration": 22,
    "start_time": "2021-10-16T16:06:06.952Z"
   },
   {
    "duration": 8,
    "start_time": "2021-10-16T16:06:08.634Z"
   },
   {
    "duration": 7,
    "start_time": "2021-10-16T16:06:14.838Z"
   },
   {
    "duration": 6,
    "start_time": "2021-10-16T16:06:15.938Z"
   },
   {
    "duration": 9,
    "start_time": "2021-10-16T16:07:27.598Z"
   },
   {
    "duration": 5,
    "start_time": "2021-10-16T16:07:28.278Z"
   },
   {
    "duration": 7,
    "start_time": "2021-10-16T16:07:31.323Z"
   },
   {
    "duration": 325,
    "start_time": "2021-10-16T16:08:02.696Z"
   },
   {
    "duration": 6,
    "start_time": "2021-10-16T16:08:06.311Z"
   },
   {
    "duration": 5,
    "start_time": "2021-10-16T16:08:07.107Z"
   },
   {
    "duration": 5,
    "start_time": "2021-10-16T16:08:12.643Z"
   },
   {
    "duration": 5,
    "start_time": "2021-10-16T16:15:32.068Z"
   },
   {
    "duration": 7,
    "start_time": "2021-10-16T16:15:50.371Z"
   },
   {
    "duration": 6,
    "start_time": "2021-10-16T16:17:05.750Z"
   },
   {
    "duration": 5,
    "start_time": "2021-10-16T16:17:31.785Z"
   },
   {
    "duration": 492,
    "start_time": "2021-10-16T16:17:31.792Z"
   },
   {
    "duration": 19,
    "start_time": "2021-10-16T16:17:32.288Z"
   },
   {
    "duration": 17,
    "start_time": "2021-10-16T16:17:32.310Z"
   },
   {
    "duration": 44,
    "start_time": "2021-10-16T16:17:32.329Z"
   },
   {
    "duration": 13,
    "start_time": "2021-10-16T16:17:32.375Z"
   },
   {
    "duration": 12,
    "start_time": "2021-10-16T16:17:32.392Z"
   },
   {
    "duration": 10,
    "start_time": "2021-10-16T16:17:32.407Z"
   },
   {
    "duration": 11,
    "start_time": "2021-10-16T16:17:32.461Z"
   },
   {
    "duration": 7,
    "start_time": "2021-10-16T16:17:32.475Z"
   },
   {
    "duration": 28,
    "start_time": "2021-10-16T16:17:32.484Z"
   },
   {
    "duration": 4,
    "start_time": "2021-10-16T16:17:32.515Z"
   },
   {
    "duration": 46,
    "start_time": "2021-10-16T16:17:32.521Z"
   },
   {
    "duration": 6,
    "start_time": "2021-10-16T16:17:32.569Z"
   },
   {
    "duration": 92,
    "start_time": "2021-10-16T16:17:32.577Z"
   },
   {
    "duration": 88,
    "start_time": "2021-10-16T16:17:32.677Z"
   },
   {
    "duration": 19,
    "start_time": "2021-10-16T16:17:32.768Z"
   },
   {
    "duration": 6,
    "start_time": "2021-10-16T16:17:35.153Z"
   },
   {
    "duration": 15,
    "start_time": "2021-10-16T16:17:48.199Z"
   },
   {
    "duration": 22,
    "start_time": "2021-10-16T16:18:20.548Z"
   },
   {
    "duration": 63,
    "start_time": "2021-10-16T16:18:28.600Z"
   },
   {
    "duration": 7,
    "start_time": "2021-10-16T16:18:31.742Z"
   },
   {
    "duration": 6,
    "start_time": "2021-10-16T16:18:42.500Z"
   },
   {
    "duration": 21,
    "start_time": "2021-10-16T16:19:34.697Z"
   },
   {
    "duration": 14,
    "start_time": "2021-10-16T16:19:35.639Z"
   },
   {
    "duration": 7,
    "start_time": "2021-10-16T16:19:44.931Z"
   },
   {
    "duration": 6,
    "start_time": "2021-10-16T16:20:14.954Z"
   },
   {
    "duration": 5,
    "start_time": "2021-10-16T16:20:40.135Z"
   },
   {
    "duration": 6,
    "start_time": "2021-10-16T16:21:43.578Z"
   },
   {
    "duration": 6,
    "start_time": "2021-10-16T16:32:23.184Z"
   },
   {
    "duration": 588,
    "start_time": "2021-10-16T16:32:32.028Z"
   },
   {
    "duration": 5,
    "start_time": "2021-10-16T16:32:38.734Z"
   },
   {
    "duration": 6,
    "start_time": "2021-10-16T16:33:01.111Z"
   },
   {
    "duration": 334,
    "start_time": "2021-10-16T16:33:40.821Z"
   },
   {
    "duration": 5,
    "start_time": "2021-10-16T16:33:45.158Z"
   },
   {
    "duration": 5,
    "start_time": "2021-10-16T16:33:45.865Z"
   },
   {
    "duration": 6,
    "start_time": "2021-10-16T16:34:01.237Z"
   },
   {
    "duration": 6,
    "start_time": "2021-10-16T16:34:30.444Z"
   },
   {
    "duration": 6,
    "start_time": "2021-10-16T16:34:39.646Z"
   },
   {
    "duration": 7,
    "start_time": "2021-10-16T16:34:58.779Z"
   },
   {
    "duration": 109,
    "start_time": "2021-10-16T16:37:52.627Z"
   },
   {
    "duration": 4,
    "start_time": "2021-10-16T16:38:25.312Z"
   },
   {
    "duration": 4,
    "start_time": "2021-10-16T16:38:33.332Z"
   },
   {
    "duration": 7,
    "start_time": "2021-10-16T16:38:48.575Z"
   },
   {
    "duration": 4,
    "start_time": "2021-10-16T16:38:57.580Z"
   },
   {
    "duration": 5,
    "start_time": "2021-10-16T16:39:17.531Z"
   },
   {
    "duration": 6,
    "start_time": "2021-10-16T16:39:37.794Z"
   },
   {
    "duration": 5,
    "start_time": "2021-10-16T16:39:58.889Z"
   },
   {
    "duration": 6,
    "start_time": "2021-10-16T16:40:11.704Z"
   },
   {
    "duration": 5,
    "start_time": "2021-10-16T16:40:38.406Z"
   },
   {
    "duration": 4,
    "start_time": "2021-10-16T16:41:49.431Z"
   },
   {
    "duration": 5,
    "start_time": "2021-10-16T16:41:52.888Z"
   },
   {
    "duration": 5,
    "start_time": "2021-10-16T16:42:19.418Z"
   },
   {
    "duration": 12,
    "start_time": "2021-10-16T16:42:20.090Z"
   },
   {
    "duration": 1427,
    "start_time": "2021-10-16T16:45:33.444Z"
   },
   {
    "duration": 510,
    "start_time": "2021-10-16T16:45:34.874Z"
   },
   {
    "duration": 28,
    "start_time": "2021-10-16T16:45:35.388Z"
   },
   {
    "duration": 42,
    "start_time": "2021-10-16T16:45:35.420Z"
   },
   {
    "duration": 17,
    "start_time": "2021-10-16T16:45:35.465Z"
   },
   {
    "duration": 20,
    "start_time": "2021-10-16T16:45:35.484Z"
   },
   {
    "duration": 12,
    "start_time": "2021-10-16T16:45:35.507Z"
   },
   {
    "duration": 41,
    "start_time": "2021-10-16T16:45:35.522Z"
   },
   {
    "duration": 8,
    "start_time": "2021-10-16T16:45:35.567Z"
   },
   {
    "duration": 6,
    "start_time": "2021-10-16T16:45:35.579Z"
   },
   {
    "duration": 31,
    "start_time": "2021-10-16T16:45:35.587Z"
   },
   {
    "duration": 4,
    "start_time": "2021-10-16T16:45:35.620Z"
   },
   {
    "duration": 52,
    "start_time": "2021-10-16T16:45:35.627Z"
   },
   {
    "duration": 11,
    "start_time": "2021-10-16T16:45:35.681Z"
   },
   {
    "duration": 73,
    "start_time": "2021-10-16T16:45:35.696Z"
   },
   {
    "duration": 12,
    "start_time": "2021-10-16T16:45:35.863Z"
   },
   {
    "duration": 7,
    "start_time": "2021-10-16T16:45:35.877Z"
   },
   {
    "duration": 7,
    "start_time": "2021-10-16T16:45:35.887Z"
   },
   {
    "duration": 504,
    "start_time": "2021-10-16T16:45:35.897Z"
   },
   {
    "duration": 844,
    "start_time": "2021-10-16T16:45:35.563Z"
   },
   {
    "duration": 845,
    "start_time": "2021-10-16T16:45:35.564Z"
   },
   {
    "duration": 842,
    "start_time": "2021-10-16T16:45:35.569Z"
   },
   {
    "duration": 843,
    "start_time": "2021-10-16T16:45:35.570Z"
   },
   {
    "duration": 843,
    "start_time": "2021-10-16T16:45:35.572Z"
   },
   {
    "duration": 842,
    "start_time": "2021-10-16T16:45:35.575Z"
   },
   {
    "duration": 842,
    "start_time": "2021-10-16T16:45:35.577Z"
   },
   {
    "duration": 843,
    "start_time": "2021-10-16T16:45:35.578Z"
   },
   {
    "duration": 842,
    "start_time": "2021-10-16T16:45:35.580Z"
   },
   {
    "duration": 842,
    "start_time": "2021-10-16T16:45:35.582Z"
   },
   {
    "duration": 839,
    "start_time": "2021-10-16T16:45:35.586Z"
   },
   {
    "duration": 839,
    "start_time": "2021-10-16T16:45:35.587Z"
   },
   {
    "duration": 839,
    "start_time": "2021-10-16T16:45:35.589Z"
   },
   {
    "duration": 838,
    "start_time": "2021-10-16T16:45:35.591Z"
   },
   {
    "duration": 838,
    "start_time": "2021-10-16T16:45:35.592Z"
   },
   {
    "duration": 837,
    "start_time": "2021-10-16T16:45:35.594Z"
   },
   {
    "duration": 6,
    "start_time": "2021-10-16T16:45:54.481Z"
   },
   {
    "duration": 7,
    "start_time": "2021-10-16T16:45:57.653Z"
   },
   {
    "duration": 6,
    "start_time": "2021-10-16T16:45:57.664Z"
   },
   {
    "duration": 23,
    "start_time": "2021-10-16T16:45:57.674Z"
   },
   {
    "duration": 162,
    "start_time": "2021-10-16T16:45:57.700Z"
   },
   {
    "duration": 5,
    "start_time": "2021-10-16T16:45:57.865Z"
   },
   {
    "duration": 7,
    "start_time": "2021-10-16T16:45:57.872Z"
   },
   {
    "duration": 11,
    "start_time": "2021-10-16T16:45:57.881Z"
   },
   {
    "duration": 7,
    "start_time": "2021-10-16T16:45:57.895Z"
   },
   {
    "duration": 67,
    "start_time": "2021-10-16T16:45:57.906Z"
   },
   {
    "duration": 85,
    "start_time": "2021-10-16T16:45:57.977Z"
   },
   {
    "duration": 5,
    "start_time": "2021-10-16T16:45:58.064Z"
   },
   {
    "duration": 89,
    "start_time": "2021-10-16T16:45:58.073Z"
   },
   {
    "duration": 7,
    "start_time": "2021-10-16T16:45:58.165Z"
   },
   {
    "duration": 6,
    "start_time": "2021-10-16T16:45:58.174Z"
   },
   {
    "duration": 6,
    "start_time": "2021-10-16T16:45:58.182Z"
   },
   {
    "duration": 9,
    "start_time": "2021-10-16T16:45:58.191Z"
   },
   {
    "duration": 61,
    "start_time": "2021-10-16T16:45:58.202Z"
   },
   {
    "duration": 944,
    "start_time": "2021-10-17T14:58:53.154Z"
   },
   {
    "duration": 347,
    "start_time": "2021-10-17T14:58:54.100Z"
   },
   {
    "duration": 17,
    "start_time": "2021-10-17T14:58:54.451Z"
   },
   {
    "duration": 22,
    "start_time": "2021-10-17T14:58:54.469Z"
   },
   {
    "duration": 12,
    "start_time": "2021-10-17T14:58:54.493Z"
   },
   {
    "duration": 15,
    "start_time": "2021-10-17T14:58:54.507Z"
   },
   {
    "duration": 9,
    "start_time": "2021-10-17T14:58:54.524Z"
   },
   {
    "duration": 6,
    "start_time": "2021-10-17T14:58:54.535Z"
   },
   {
    "duration": 5,
    "start_time": "2021-10-17T14:58:54.543Z"
   },
   {
    "duration": 4,
    "start_time": "2021-10-17T14:58:54.550Z"
   },
   {
    "duration": 40,
    "start_time": "2021-10-17T14:58:54.555Z"
   },
   {
    "duration": 2,
    "start_time": "2021-10-17T14:58:54.597Z"
   },
   {
    "duration": 14,
    "start_time": "2021-10-17T14:58:54.601Z"
   },
   {
    "duration": 6,
    "start_time": "2021-10-17T14:58:54.617Z"
   },
   {
    "duration": 71,
    "start_time": "2021-10-17T14:58:54.625Z"
   },
   {
    "duration": 95,
    "start_time": "2021-10-17T14:58:54.698Z"
   },
   {
    "duration": 7,
    "start_time": "2021-10-17T14:58:54.795Z"
   },
   {
    "duration": 6,
    "start_time": "2021-10-17T14:58:54.803Z"
   },
   {
    "duration": 7,
    "start_time": "2021-10-17T14:58:54.811Z"
   },
   {
    "duration": 4,
    "start_time": "2021-10-17T14:58:54.820Z"
   },
   {
    "duration": 17,
    "start_time": "2021-10-17T14:58:54.826Z"
   },
   {
    "duration": 47,
    "start_time": "2021-10-17T14:58:54.845Z"
   },
   {
    "duration": 98,
    "start_time": "2021-10-17T14:58:54.894Z"
   },
   {
    "duration": 4,
    "start_time": "2021-10-17T14:58:54.993Z"
   },
   {
    "duration": 6,
    "start_time": "2021-10-17T14:58:54.999Z"
   },
   {
    "duration": 3,
    "start_time": "2021-10-17T14:58:55.007Z"
   },
   {
    "duration": 19,
    "start_time": "2021-10-17T14:58:55.012Z"
   },
   {
    "duration": 11,
    "start_time": "2021-10-17T14:58:55.032Z"
   },
   {
    "duration": 49,
    "start_time": "2021-10-17T14:58:55.045Z"
   },
   {
    "duration": 96,
    "start_time": "2021-10-17T14:58:55.095Z"
   },
   {
    "duration": 4,
    "start_time": "2021-10-17T14:58:55.193Z"
   },
   {
    "duration": 4,
    "start_time": "2021-10-17T14:58:55.199Z"
   },
   {
    "duration": 4,
    "start_time": "2021-10-17T14:58:55.204Z"
   },
   {
    "duration": 6,
    "start_time": "2021-10-17T14:58:55.210Z"
   },
   {
    "duration": 11,
    "start_time": "2021-10-17T14:58:55.217Z"
   },
   {
    "duration": 3,
    "start_time": "2021-10-17T15:09:36.046Z"
   },
   {
    "duration": 2,
    "start_time": "2021-10-17T15:10:34.830Z"
   },
   {
    "duration": 3,
    "start_time": "2021-10-17T15:10:42.124Z"
   },
   {
    "duration": 3,
    "start_time": "2021-10-17T15:11:10.950Z"
   },
   {
    "duration": 3,
    "start_time": "2021-10-17T15:11:12.027Z"
   },
   {
    "duration": 3,
    "start_time": "2021-10-17T15:11:26.467Z"
   },
   {
    "duration": 3,
    "start_time": "2021-10-17T15:13:41.718Z"
   },
   {
    "duration": 5,
    "start_time": "2021-10-17T15:14:15.962Z"
   },
   {
    "duration": 7,
    "start_time": "2021-10-17T15:14:28.914Z"
   },
   {
    "duration": 60,
    "start_time": "2021-10-17T15:15:44.064Z"
   },
   {
    "duration": 4,
    "start_time": "2021-10-17T15:20:08.468Z"
   },
   {
    "duration": 5,
    "start_time": "2021-10-17T15:20:33.037Z"
   },
   {
    "duration": 4,
    "start_time": "2021-10-17T15:20:38.385Z"
   },
   {
    "duration": 7,
    "start_time": "2021-10-17T15:20:54.485Z"
   },
   {
    "duration": 3,
    "start_time": "2021-10-17T15:21:39.922Z"
   },
   {
    "duration": 6,
    "start_time": "2021-10-17T15:21:42.840Z"
   },
   {
    "duration": 253,
    "start_time": "2021-10-17T15:22:59.530Z"
   },
   {
    "duration": 437,
    "start_time": "2021-10-17T15:23:03.279Z"
   },
   {
    "duration": 178,
    "start_time": "2021-10-17T15:25:06.227Z"
   },
   {
    "duration": 333,
    "start_time": "2021-10-17T15:25:33.979Z"
   },
   {
    "duration": 3,
    "start_time": "2021-10-17T15:25:44.963Z"
   },
   {
    "duration": 7,
    "start_time": "2021-10-17T15:25:48.339Z"
   },
   {
    "duration": 57,
    "start_time": "2021-10-17T15:26:27.638Z"
   },
   {
    "duration": 2,
    "start_time": "2021-10-17T15:28:27.437Z"
   },
   {
    "duration": 6,
    "start_time": "2021-10-17T15:28:28.961Z"
   },
   {
    "duration": 5,
    "start_time": "2021-10-17T15:28:33.205Z"
   },
   {
    "duration": 6,
    "start_time": "2021-10-17T15:32:36.590Z"
   },
   {
    "duration": 3,
    "start_time": "2021-10-17T15:33:57.486Z"
   },
   {
    "duration": 3,
    "start_time": "2021-10-17T15:34:17.099Z"
   },
   {
    "duration": 4,
    "start_time": "2021-10-17T15:53:57.718Z"
   },
   {
    "duration": 3,
    "start_time": "2021-10-17T15:57:31.585Z"
   },
   {
    "duration": 168,
    "start_time": "2021-10-17T16:01:26.290Z"
   },
   {
    "duration": 5,
    "start_time": "2021-10-17T16:01:32.938Z"
   },
   {
    "duration": 11,
    "start_time": "2021-10-17T16:01:36.106Z"
   },
   {
    "duration": 4,
    "start_time": "2021-10-17T16:02:06.803Z"
   },
   {
    "duration": 5,
    "start_time": "2021-10-17T16:02:08.161Z"
   },
   {
    "duration": 165,
    "start_time": "2021-10-17T16:03:16.156Z"
   },
   {
    "duration": 218,
    "start_time": "2021-10-17T16:03:20.188Z"
   },
   {
    "duration": 3,
    "start_time": "2021-10-17T16:03:28.779Z"
   },
   {
    "duration": 6,
    "start_time": "2021-10-17T16:03:31.736Z"
   },
   {
    "duration": 1479,
    "start_time": "2021-10-17T16:04:45.338Z"
   },
   {
    "duration": 4,
    "start_time": "2021-10-17T16:04:52.704Z"
   },
   {
    "duration": 6,
    "start_time": "2021-10-17T16:04:56.066Z"
   },
   {
    "duration": 5,
    "start_time": "2021-10-17T16:04:59.682Z"
   },
   {
    "duration": 4,
    "start_time": "2021-10-17T16:07:02.189Z"
   },
   {
    "duration": 5,
    "start_time": "2021-10-17T16:07:20.549Z"
   },
   {
    "duration": 3,
    "start_time": "2021-10-17T16:08:42.677Z"
   },
   {
    "duration": 7,
    "start_time": "2021-10-17T16:08:47.845Z"
   },
   {
    "duration": 1063,
    "start_time": "2021-10-17T16:09:02.245Z"
   },
   {
    "duration": 4,
    "start_time": "2021-10-17T16:10:09.601Z"
   },
   {
    "duration": 6,
    "start_time": "2021-10-17T16:10:12.968Z"
   },
   {
    "duration": 6,
    "start_time": "2021-10-17T16:10:27.059Z"
   },
   {
    "duration": 5,
    "start_time": "2021-10-17T16:10:43.756Z"
   },
   {
    "duration": 6,
    "start_time": "2021-10-17T16:10:44.900Z"
   },
   {
    "duration": 4,
    "start_time": "2021-10-17T16:10:46.052Z"
   },
   {
    "duration": 6,
    "start_time": "2021-10-17T16:10:46.726Z"
   },
   {
    "duration": 6,
    "start_time": "2021-10-17T16:10:52.166Z"
   },
   {
    "duration": 3,
    "start_time": "2021-10-17T16:11:55.063Z"
   },
   {
    "duration": 1704,
    "start_time": "2021-10-17T16:12:49.648Z"
   },
   {
    "duration": 11,
    "start_time": "2021-10-17T16:12:55.786Z"
   },
   {
    "duration": 4,
    "start_time": "2021-10-17T16:13:38.089Z"
   },
   {
    "duration": 184,
    "start_time": "2021-10-17T16:15:46.304Z"
   },
   {
    "duration": 3,
    "start_time": "2021-10-17T16:16:17.283Z"
   },
   {
    "duration": 6,
    "start_time": "2021-10-17T16:16:18.679Z"
   },
   {
    "duration": 3,
    "start_time": "2021-10-17T16:17:18.014Z"
   },
   {
    "duration": 3,
    "start_time": "2021-10-17T16:17:26.635Z"
   },
   {
    "duration": 4,
    "start_time": "2021-10-17T16:17:31.842Z"
   },
   {
    "duration": 4,
    "start_time": "2021-10-17T16:18:37.405Z"
   },
   {
    "duration": 3,
    "start_time": "2021-10-17T16:18:42.721Z"
   },
   {
    "duration": 4,
    "start_time": "2021-10-17T16:18:50.685Z"
   },
   {
    "duration": 6,
    "start_time": "2021-10-17T16:19:22.323Z"
   },
   {
    "duration": 3,
    "start_time": "2021-10-17T16:19:23.261Z"
   },
   {
    "duration": 60,
    "start_time": "2021-10-17T16:19:44.343Z"
   },
   {
    "duration": 4,
    "start_time": "2021-10-17T16:21:05.631Z"
   },
   {
    "duration": 7,
    "start_time": "2021-10-17T16:21:36.757Z"
   },
   {
    "duration": 5,
    "start_time": "2021-10-17T16:21:43.858Z"
   },
   {
    "duration": 6,
    "start_time": "2021-10-17T16:21:50.187Z"
   },
   {
    "duration": 1666,
    "start_time": "2021-10-17T16:23:14.310Z"
   },
   {
    "duration": 4,
    "start_time": "2021-10-17T16:23:17.269Z"
   },
   {
    "duration": 5,
    "start_time": "2021-10-17T16:23:18.244Z"
   },
   {
    "duration": 3,
    "start_time": "2021-10-17T16:23:19.470Z"
   },
   {
    "duration": 346,
    "start_time": "2021-10-17T16:45:44.661Z"
   },
   {
    "duration": 1031,
    "start_time": "2021-10-17T16:47:04.198Z"
   },
   {
    "duration": 363,
    "start_time": "2021-10-17T16:47:05.231Z"
   },
   {
    "duration": 18,
    "start_time": "2021-10-17T16:47:05.596Z"
   },
   {
    "duration": 12,
    "start_time": "2021-10-17T16:47:05.615Z"
   },
   {
    "duration": 11,
    "start_time": "2021-10-17T16:47:05.629Z"
   },
   {
    "duration": 15,
    "start_time": "2021-10-17T16:47:05.642Z"
   },
   {
    "duration": 8,
    "start_time": "2021-10-17T16:47:05.659Z"
   },
   {
    "duration": 25,
    "start_time": "2021-10-17T16:47:05.670Z"
   },
   {
    "duration": 6,
    "start_time": "2021-10-17T16:47:05.697Z"
   },
   {
    "duration": 4,
    "start_time": "2021-10-17T16:47:05.704Z"
   },
   {
    "duration": 16,
    "start_time": "2021-10-17T16:47:05.710Z"
   },
   {
    "duration": 2,
    "start_time": "2021-10-17T16:47:05.728Z"
   },
   {
    "duration": 17,
    "start_time": "2021-10-17T16:47:05.731Z"
   },
   {
    "duration": 4,
    "start_time": "2021-10-17T16:47:05.749Z"
   },
   {
    "duration": 12,
    "start_time": "2021-10-17T16:47:05.792Z"
   },
   {
    "duration": 88,
    "start_time": "2021-10-17T16:47:05.807Z"
   },
   {
    "duration": 8,
    "start_time": "2021-10-17T16:47:05.896Z"
   },
   {
    "duration": 6,
    "start_time": "2021-10-17T16:47:05.906Z"
   },
   {
    "duration": 6,
    "start_time": "2021-10-17T16:47:05.913Z"
   },
   {
    "duration": 7,
    "start_time": "2021-10-17T16:47:05.921Z"
   },
   {
    "duration": 21,
    "start_time": "2021-10-17T16:47:05.930Z"
   },
   {
    "duration": 45,
    "start_time": "2021-10-17T16:47:05.953Z"
   },
   {
    "duration": 88,
    "start_time": "2021-10-17T16:47:06.005Z"
   },
   {
    "duration": 5,
    "start_time": "2021-10-17T16:47:06.097Z"
   },
   {
    "duration": 91,
    "start_time": "2021-10-17T16:47:06.105Z"
   },
   {
    "duration": 4,
    "start_time": "2021-10-17T16:47:06.199Z"
   },
   {
    "duration": 20,
    "start_time": "2021-10-17T16:47:06.206Z"
   },
   {
    "duration": 63,
    "start_time": "2021-10-17T16:47:06.228Z"
   },
   {
    "duration": 7,
    "start_time": "2021-10-17T16:47:06.294Z"
   },
   {
    "duration": 90,
    "start_time": "2021-10-17T16:47:06.304Z"
   },
   {
    "duration": 9,
    "start_time": "2021-10-17T16:47:06.396Z"
   },
   {
    "duration": 6,
    "start_time": "2021-10-17T16:47:06.407Z"
   },
   {
    "duration": 6,
    "start_time": "2021-10-17T16:47:06.415Z"
   },
   {
    "duration": 11,
    "start_time": "2021-10-17T16:47:06.423Z"
   },
   {
    "duration": 12,
    "start_time": "2021-10-17T16:47:06.436Z"
   },
   {
    "duration": 5,
    "start_time": "2021-10-17T16:47:06.450Z"
   },
   {
    "duration": 5,
    "start_time": "2021-10-17T16:47:06.456Z"
   },
   {
    "duration": 36,
    "start_time": "2021-10-17T16:47:06.463Z"
   },
   {
    "duration": 4,
    "start_time": "2021-10-17T16:47:06.501Z"
   },
   {
    "duration": 503,
    "start_time": "2021-10-17T16:47:06.507Z"
   },
   {
    "duration": -48,
    "start_time": "2021-10-17T16:47:07.060Z"
   },
   {
    "duration": -50,
    "start_time": "2021-10-17T16:47:07.063Z"
   },
   {
    "duration": -51,
    "start_time": "2021-10-17T16:47:07.065Z"
   },
   {
    "duration": -51,
    "start_time": "2021-10-17T16:47:07.066Z"
   },
   {
    "duration": -51,
    "start_time": "2021-10-17T16:47:07.068Z"
   },
   {
    "duration": -51,
    "start_time": "2021-10-17T16:47:07.069Z"
   },
   {
    "duration": 3,
    "start_time": "2021-10-17T16:48:41.810Z"
   },
   {
    "duration": 5,
    "start_time": "2021-10-17T16:48:45.710Z"
   },
   {
    "duration": 166,
    "start_time": "2021-10-17T16:49:07.816Z"
   },
   {
    "duration": 3,
    "start_time": "2021-10-17T16:49:45.993Z"
   },
   {
    "duration": 6,
    "start_time": "2021-10-17T16:49:49.819Z"
   },
   {
    "duration": 5,
    "start_time": "2021-10-17T16:49:58.609Z"
   },
   {
    "duration": 5,
    "start_time": "2021-10-17T16:50:17.288Z"
   },
   {
    "duration": 195,
    "start_time": "2021-10-17T16:50:25.702Z"
   },
   {
    "duration": 6,
    "start_time": "2021-10-17T16:50:49.165Z"
   },
   {
    "duration": 4,
    "start_time": "2021-10-17T16:50:52.951Z"
   },
   {
    "duration": 5,
    "start_time": "2021-10-17T16:51:08.071Z"
   },
   {
    "duration": 172,
    "start_time": "2021-10-17T16:51:09.577Z"
   },
   {
    "duration": 183,
    "start_time": "2021-10-17T16:52:19.487Z"
   },
   {
    "duration": 3,
    "start_time": "2021-10-17T16:52:27.969Z"
   },
   {
    "duration": 174,
    "start_time": "2021-10-17T16:52:29.911Z"
   },
   {
    "duration": 4,
    "start_time": "2021-10-17T16:53:05.812Z"
   },
   {
    "duration": 348,
    "start_time": "2021-10-17T16:53:05.818Z"
   },
   {
    "duration": 11,
    "start_time": "2021-10-17T16:53:06.168Z"
   },
   {
    "duration": 19,
    "start_time": "2021-10-17T16:53:06.181Z"
   },
   {
    "duration": 12,
    "start_time": "2021-10-17T16:53:06.202Z"
   },
   {
    "duration": 10,
    "start_time": "2021-10-17T16:53:06.215Z"
   },
   {
    "duration": 10,
    "start_time": "2021-10-17T16:53:06.227Z"
   },
   {
    "duration": 6,
    "start_time": "2021-10-17T16:53:06.238Z"
   },
   {
    "duration": 6,
    "start_time": "2021-10-17T16:53:06.246Z"
   },
   {
    "duration": 42,
    "start_time": "2021-10-17T16:53:06.254Z"
   },
   {
    "duration": 20,
    "start_time": "2021-10-17T16:53:06.297Z"
   },
   {
    "duration": 2,
    "start_time": "2021-10-17T16:53:06.318Z"
   },
   {
    "duration": 12,
    "start_time": "2021-10-17T16:53:06.322Z"
   },
   {
    "duration": 57,
    "start_time": "2021-10-17T16:53:06.336Z"
   },
   {
    "duration": 96,
    "start_time": "2021-10-17T16:53:06.395Z"
   },
   {
    "duration": 4,
    "start_time": "2021-10-17T16:53:06.494Z"
   },
   {
    "duration": 7,
    "start_time": "2021-10-17T16:53:06.500Z"
   },
   {
    "duration": 6,
    "start_time": "2021-10-17T16:53:06.508Z"
   },
   {
    "duration": 4,
    "start_time": "2021-10-17T16:53:06.515Z"
   },
   {
    "duration": 6,
    "start_time": "2021-10-17T16:53:06.521Z"
   },
   {
    "duration": 74,
    "start_time": "2021-10-17T16:53:06.529Z"
   },
   {
    "duration": 10,
    "start_time": "2021-10-17T16:53:06.604Z"
   },
   {
    "duration": 79,
    "start_time": "2021-10-17T16:53:06.616Z"
   },
   {
    "duration": 94,
    "start_time": "2021-10-17T16:53:06.698Z"
   },
   {
    "duration": 4,
    "start_time": "2021-10-17T16:53:06.794Z"
   },
   {
    "duration": 4,
    "start_time": "2021-10-17T16:53:06.800Z"
   },
   {
    "duration": 16,
    "start_time": "2021-10-17T16:53:06.807Z"
   },
   {
    "duration": 10,
    "start_time": "2021-10-17T16:53:06.824Z"
   },
   {
    "duration": 6,
    "start_time": "2021-10-17T16:53:06.893Z"
   },
   {
    "duration": 5,
    "start_time": "2021-10-17T16:53:06.991Z"
   },
   {
    "duration": 7,
    "start_time": "2021-10-17T16:53:06.997Z"
   },
   {
    "duration": 5,
    "start_time": "2021-10-17T16:53:07.005Z"
   },
   {
    "duration": 4,
    "start_time": "2021-10-17T16:53:07.012Z"
   },
   {
    "duration": 6,
    "start_time": "2021-10-17T16:53:07.017Z"
   },
   {
    "duration": 11,
    "start_time": "2021-10-17T16:53:07.025Z"
   },
   {
    "duration": 8,
    "start_time": "2021-10-17T16:53:07.037Z"
   },
   {
    "duration": 7,
    "start_time": "2021-10-17T16:53:07.046Z"
   },
   {
    "duration": 39,
    "start_time": "2021-10-17T16:53:07.054Z"
   },
   {
    "duration": 4,
    "start_time": "2021-10-17T16:53:12.492Z"
   },
   {
    "duration": 182,
    "start_time": "2021-10-17T16:53:13.279Z"
   },
   {
    "duration": 4,
    "start_time": "2021-10-17T16:53:29.762Z"
   },
   {
    "duration": 163,
    "start_time": "2021-10-17T16:54:24.436Z"
   },
   {
    "duration": 6,
    "start_time": "2021-10-17T16:54:51.030Z"
   },
   {
    "duration": 5,
    "start_time": "2021-10-17T16:55:00.174Z"
   },
   {
    "duration": 649,
    "start_time": "2021-10-17T16:55:16.537Z"
   },
   {
    "duration": 182,
    "start_time": "2021-10-17T16:55:34.707Z"
   },
   {
    "duration": 171,
    "start_time": "2021-10-17T16:56:16.160Z"
   },
   {
    "duration": 164,
    "start_time": "2021-10-17T16:57:02.800Z"
   },
   {
    "duration": 6,
    "start_time": "2021-10-17T16:57:28.129Z"
   },
   {
    "duration": 11,
    "start_time": "2021-10-17T16:58:00.910Z"
   },
   {
    "duration": 5,
    "start_time": "2021-10-17T16:59:09.210Z"
   },
   {
    "duration": 10,
    "start_time": "2021-10-17T16:59:14.290Z"
   },
   {
    "duration": 3,
    "start_time": "2021-10-17T16:59:48.656Z"
   },
   {
    "duration": 381,
    "start_time": "2021-10-17T16:59:48.661Z"
   },
   {
    "duration": 11,
    "start_time": "2021-10-17T16:59:49.044Z"
   },
   {
    "duration": 11,
    "start_time": "2021-10-17T16:59:49.057Z"
   },
   {
    "duration": 25,
    "start_time": "2021-10-17T16:59:49.070Z"
   },
   {
    "duration": 14,
    "start_time": "2021-10-17T16:59:49.097Z"
   },
   {
    "duration": 9,
    "start_time": "2021-10-17T16:59:49.112Z"
   },
   {
    "duration": 5,
    "start_time": "2021-10-17T16:59:49.123Z"
   },
   {
    "duration": 6,
    "start_time": "2021-10-17T16:59:49.131Z"
   },
   {
    "duration": 8,
    "start_time": "2021-10-17T16:59:49.139Z"
   },
   {
    "duration": 14,
    "start_time": "2021-10-17T16:59:49.149Z"
   },
   {
    "duration": 2,
    "start_time": "2021-10-17T16:59:49.191Z"
   },
   {
    "duration": 14,
    "start_time": "2021-10-17T16:59:49.195Z"
   },
   {
    "duration": 84,
    "start_time": "2021-10-17T16:59:49.211Z"
   },
   {
    "duration": 95,
    "start_time": "2021-10-17T16:59:49.297Z"
   },
   {
    "duration": 5,
    "start_time": "2021-10-17T16:59:49.394Z"
   },
   {
    "duration": 6,
    "start_time": "2021-10-17T16:59:49.401Z"
   },
   {
    "duration": 5,
    "start_time": "2021-10-17T16:59:49.408Z"
   },
   {
    "duration": 3,
    "start_time": "2021-10-17T16:59:49.415Z"
   },
   {
    "duration": 4,
    "start_time": "2021-10-17T16:59:49.420Z"
   },
   {
    "duration": 15,
    "start_time": "2021-10-17T16:59:49.426Z"
   },
   {
    "duration": 49,
    "start_time": "2021-10-17T16:59:49.443Z"
   },
   {
    "duration": 96,
    "start_time": "2021-10-17T16:59:49.494Z"
   },
   {
    "duration": 3,
    "start_time": "2021-10-17T16:59:49.593Z"
   },
   {
    "duration": 6,
    "start_time": "2021-10-17T16:59:49.597Z"
   },
   {
    "duration": 3,
    "start_time": "2021-10-17T16:59:49.605Z"
   },
   {
    "duration": 15,
    "start_time": "2021-10-17T16:59:49.611Z"
   },
   {
    "duration": 9,
    "start_time": "2021-10-17T16:59:49.628Z"
   },
   {
    "duration": 98,
    "start_time": "2021-10-17T16:59:49.693Z"
   },
   {
    "duration": 3,
    "start_time": "2021-10-17T16:59:49.793Z"
   },
   {
    "duration": 7,
    "start_time": "2021-10-17T16:59:49.798Z"
   },
   {
    "duration": 5,
    "start_time": "2021-10-17T16:59:49.806Z"
   },
   {
    "duration": 3,
    "start_time": "2021-10-17T16:59:49.813Z"
   },
   {
    "duration": 5,
    "start_time": "2021-10-17T16:59:49.817Z"
   },
   {
    "duration": 13,
    "start_time": "2021-10-17T16:59:49.824Z"
   },
   {
    "duration": 4,
    "start_time": "2021-10-17T16:59:49.839Z"
   },
   {
    "duration": 4,
    "start_time": "2021-10-17T16:59:49.845Z"
   },
   {
    "duration": 43,
    "start_time": "2021-10-17T16:59:49.851Z"
   },
   {
    "duration": 5,
    "start_time": "2021-10-17T16:59:59.038Z"
   },
   {
    "duration": 178,
    "start_time": "2021-10-17T17:00:04.018Z"
   },
   {
    "duration": 172,
    "start_time": "2021-10-17T17:00:16.357Z"
   },
   {
    "duration": 179,
    "start_time": "2021-10-17T17:00:19.585Z"
   },
   {
    "duration": 6,
    "start_time": "2021-10-17T17:00:40.078Z"
   },
   {
    "duration": 3,
    "start_time": "2021-10-17T17:00:44.376Z"
   },
   {
    "duration": 4,
    "start_time": "2021-10-17T17:01:19.456Z"
   },
   {
    "duration": 4,
    "start_time": "2021-10-17T17:01:21.270Z"
   },
   {
    "duration": 5,
    "start_time": "2021-10-17T17:01:24.896Z"
   },
   {
    "duration": 5,
    "start_time": "2021-10-17T17:01:33.229Z"
   },
   {
    "duration": 3,
    "start_time": "2021-10-17T17:02:40.172Z"
   },
   {
    "duration": 3,
    "start_time": "2021-10-17T17:02:43.080Z"
   },
   {
    "duration": 3,
    "start_time": "2021-10-17T17:02:54.116Z"
   },
   {
    "duration": 3,
    "start_time": "2021-10-17T17:02:58.273Z"
   },
   {
    "duration": 1018,
    "start_time": "2021-10-17T17:03:12.595Z"
   },
   {
    "duration": 355,
    "start_time": "2021-10-17T17:03:13.615Z"
   },
   {
    "duration": 21,
    "start_time": "2021-10-17T17:03:13.972Z"
   },
   {
    "duration": 9,
    "start_time": "2021-10-17T17:03:13.995Z"
   },
   {
    "duration": 9,
    "start_time": "2021-10-17T17:03:14.006Z"
   },
   {
    "duration": 11,
    "start_time": "2021-10-17T17:03:14.017Z"
   },
   {
    "duration": 9,
    "start_time": "2021-10-17T17:03:14.030Z"
   },
   {
    "duration": 5,
    "start_time": "2021-10-17T17:03:14.041Z"
   },
   {
    "duration": 5,
    "start_time": "2021-10-17T17:03:14.049Z"
   },
   {
    "duration": 41,
    "start_time": "2021-10-17T17:03:14.056Z"
   },
   {
    "duration": 20,
    "start_time": "2021-10-17T17:03:14.098Z"
   },
   {
    "duration": 2,
    "start_time": "2021-10-17T17:03:14.120Z"
   },
   {
    "duration": 16,
    "start_time": "2021-10-17T17:03:14.123Z"
   },
   {
    "duration": 4,
    "start_time": "2021-10-17T17:03:14.140Z"
   },
   {
    "duration": 7,
    "start_time": "2021-10-17T17:03:14.196Z"
   },
   {
    "duration": 6,
    "start_time": "2021-10-17T17:03:14.292Z"
   },
   {
    "duration": 8,
    "start_time": "2021-10-17T17:03:14.299Z"
   },
   {
    "duration": 11,
    "start_time": "2021-10-17T17:03:14.309Z"
   },
   {
    "duration": 5,
    "start_time": "2021-10-17T17:03:14.321Z"
   },
   {
    "duration": 5,
    "start_time": "2021-10-17T17:03:14.328Z"
   },
   {
    "duration": 7,
    "start_time": "2021-10-17T17:03:14.334Z"
   },
   {
    "duration": 18,
    "start_time": "2021-10-17T17:03:14.344Z"
   },
   {
    "duration": 44,
    "start_time": "2021-10-17T17:03:14.363Z"
   },
   {
    "duration": 89,
    "start_time": "2021-10-17T17:03:14.410Z"
   },
   {
    "duration": 97,
    "start_time": "2021-10-17T17:03:14.501Z"
   },
   {
    "duration": 6,
    "start_time": "2021-10-17T17:03:14.600Z"
   },
   {
    "duration": 4,
    "start_time": "2021-10-17T17:03:14.609Z"
   },
   {
    "duration": 3,
    "start_time": "2021-10-17T17:03:14.615Z"
   },
   {
    "duration": 21,
    "start_time": "2021-10-17T17:03:14.619Z"
   },
   {
    "duration": 50,
    "start_time": "2021-10-17T17:03:14.642Z"
   },
   {
    "duration": 6,
    "start_time": "2021-10-17T17:03:14.694Z"
   },
   {
    "duration": 4,
    "start_time": "2021-10-17T17:03:14.792Z"
   },
   {
    "duration": 6,
    "start_time": "2021-10-17T17:03:14.798Z"
   },
   {
    "duration": 3,
    "start_time": "2021-10-17T17:03:14.806Z"
   },
   {
    "duration": 5,
    "start_time": "2021-10-17T17:03:14.811Z"
   },
   {
    "duration": 5,
    "start_time": "2021-10-17T17:03:14.817Z"
   },
   {
    "duration": 5,
    "start_time": "2021-10-17T17:03:14.824Z"
   },
   {
    "duration": 10,
    "start_time": "2021-10-17T17:03:14.831Z"
   },
   {
    "duration": 3,
    "start_time": "2021-10-17T17:03:14.843Z"
   },
   {
    "duration": 45,
    "start_time": "2021-10-17T17:03:14.848Z"
   },
   {
    "duration": 8,
    "start_time": "2021-10-17T17:03:14.895Z"
   },
   {
    "duration": 3,
    "start_time": "2021-10-17T17:03:14.905Z"
   },
   {
    "duration": 7,
    "start_time": "2021-10-17T17:03:14.909Z"
   },
   {
    "duration": 353,
    "start_time": "2021-10-17T17:03:14.917Z"
   },
   {
    "duration": -18,
    "start_time": "2021-10-17T17:03:15.290Z"
   },
   {
    "duration": -19,
    "start_time": "2021-10-17T17:03:15.292Z"
   },
   {
    "duration": -24,
    "start_time": "2021-10-17T17:03:15.299Z"
   },
   {
    "duration": -25,
    "start_time": "2021-10-17T17:03:15.301Z"
   },
   {
    "duration": -25,
    "start_time": "2021-10-17T17:03:15.303Z"
   },
   {
    "duration": -27,
    "start_time": "2021-10-17T17:03:15.306Z"
   },
   {
    "duration": -33,
    "start_time": "2021-10-17T17:03:15.313Z"
   },
   {
    "duration": -33,
    "start_time": "2021-10-17T17:03:15.315Z"
   },
   {
    "duration": -34,
    "start_time": "2021-10-17T17:03:15.317Z"
   },
   {
    "duration": 1683,
    "start_time": "2021-10-17T17:03:34.425Z"
   },
   {
    "duration": 3,
    "start_time": "2021-10-17T17:03:37.472Z"
   },
   {
    "duration": 7,
    "start_time": "2021-10-17T17:03:38.746Z"
   },
   {
    "duration": 3,
    "start_time": "2021-10-17T17:03:41.239Z"
   },
   {
    "duration": 6,
    "start_time": "2021-10-17T17:03:44.834Z"
   },
   {
    "duration": 1747,
    "start_time": "2021-10-17T17:03:46.945Z"
   },
   {
    "duration": 196,
    "start_time": "2021-10-17T17:03:49.860Z"
   },
   {
    "duration": 8,
    "start_time": "2021-10-17T17:03:54.518Z"
   },
   {
    "duration": 178,
    "start_time": "2021-10-17T17:04:38.864Z"
   },
   {
    "duration": 1642,
    "start_time": "2021-10-17T17:04:40.474Z"
   },
   {
    "duration": 8,
    "start_time": "2021-10-17T17:04:42.955Z"
   },
   {
    "duration": 1047,
    "start_time": "2021-10-17T17:16:46.708Z"
   },
   {
    "duration": 428,
    "start_time": "2021-10-17T17:16:47.756Z"
   },
   {
    "duration": 25,
    "start_time": "2021-10-17T17:16:48.190Z"
   },
   {
    "duration": 14,
    "start_time": "2021-10-17T17:16:48.218Z"
   },
   {
    "duration": 12,
    "start_time": "2021-10-17T17:16:48.234Z"
   },
   {
    "duration": 44,
    "start_time": "2021-10-17T17:16:48.248Z"
   },
   {
    "duration": 9,
    "start_time": "2021-10-17T17:16:48.294Z"
   },
   {
    "duration": 7,
    "start_time": "2021-10-17T17:16:48.305Z"
   },
   {
    "duration": 7,
    "start_time": "2021-10-17T17:16:48.315Z"
   },
   {
    "duration": 5,
    "start_time": "2021-10-17T17:16:48.324Z"
   },
   {
    "duration": 23,
    "start_time": "2021-10-17T17:16:48.330Z"
   },
   {
    "duration": 2,
    "start_time": "2021-10-17T17:16:48.355Z"
   },
   {
    "duration": 13,
    "start_time": "2021-10-17T17:16:48.391Z"
   },
   {
    "duration": 9,
    "start_time": "2021-10-17T17:16:48.406Z"
   },
   {
    "duration": 80,
    "start_time": "2021-10-17T17:16:48.416Z"
   },
   {
    "duration": 92,
    "start_time": "2021-10-17T17:16:48.499Z"
   },
   {
    "duration": 5,
    "start_time": "2021-10-17T17:16:48.593Z"
   },
   {
    "duration": 10,
    "start_time": "2021-10-17T17:16:48.599Z"
   },
   {
    "duration": 6,
    "start_time": "2021-10-17T17:16:48.611Z"
   },
   {
    "duration": 6,
    "start_time": "2021-10-17T17:16:48.619Z"
   },
   {
    "duration": 8,
    "start_time": "2021-10-17T17:16:48.626Z"
   },
   {
    "duration": 17,
    "start_time": "2021-10-17T17:16:48.637Z"
   },
   {
    "duration": 40,
    "start_time": "2021-10-17T17:16:48.656Z"
   },
   {
    "duration": 7,
    "start_time": "2021-10-17T17:16:48.698Z"
   },
   {
    "duration": 89,
    "start_time": "2021-10-17T17:16:48.708Z"
   },
   {
    "duration": 93,
    "start_time": "2021-10-17T17:16:48.801Z"
   },
   {
    "duration": 3,
    "start_time": "2021-10-17T17:16:48.898Z"
   },
   {
    "duration": 5,
    "start_time": "2021-10-17T17:16:48.903Z"
   },
   {
    "duration": 20,
    "start_time": "2021-10-17T17:16:48.910Z"
   },
   {
    "duration": 60,
    "start_time": "2021-10-17T17:16:48.932Z"
   },
   {
    "duration": 6,
    "start_time": "2021-10-17T17:16:48.994Z"
   },
   {
    "duration": 93,
    "start_time": "2021-10-17T17:16:49.003Z"
   },
   {
    "duration": 6,
    "start_time": "2021-10-17T17:16:49.098Z"
   },
   {
    "duration": 5,
    "start_time": "2021-10-17T17:16:49.106Z"
   },
   {
    "duration": 5,
    "start_time": "2021-10-17T17:16:49.113Z"
   },
   {
    "duration": 5,
    "start_time": "2021-10-17T17:16:49.119Z"
   },
   {
    "duration": 6,
    "start_time": "2021-10-17T17:16:49.126Z"
   },
   {
    "duration": 9,
    "start_time": "2021-10-17T17:16:49.134Z"
   },
   {
    "duration": 3,
    "start_time": "2021-10-17T17:16:49.145Z"
   },
   {
    "duration": 42,
    "start_time": "2021-10-17T17:16:49.150Z"
   },
   {
    "duration": 10,
    "start_time": "2021-10-17T17:16:49.194Z"
   },
   {
    "duration": 3,
    "start_time": "2021-10-17T17:16:49.206Z"
   },
   {
    "duration": 1755,
    "start_time": "2021-10-17T17:16:49.210Z"
   },
   {
    "duration": 2,
    "start_time": "2021-10-17T17:16:50.967Z"
   },
   {
    "duration": 8,
    "start_time": "2021-10-17T17:16:50.971Z"
   },
   {
    "duration": 13,
    "start_time": "2021-10-17T17:16:50.980Z"
   },
   {
    "duration": 7,
    "start_time": "2021-10-17T17:16:50.994Z"
   },
   {
    "duration": 1693,
    "start_time": "2021-10-17T17:16:51.002Z"
   },
   {
    "duration": 8,
    "start_time": "2021-10-17T17:16:52.696Z"
   },
   {
    "duration": 1660,
    "start_time": "2021-10-17T17:16:52.705Z"
   },
   {
    "duration": 7,
    "start_time": "2021-10-17T17:16:54.367Z"
   },
   {
    "duration": 1366,
    "start_time": "2021-10-18T13:42:29.070Z"
   },
   {
    "duration": 489,
    "start_time": "2021-10-18T13:42:30.439Z"
   },
   {
    "duration": 32,
    "start_time": "2021-10-18T13:42:30.931Z"
   },
   {
    "duration": 41,
    "start_time": "2021-10-18T13:42:30.966Z"
   },
   {
    "duration": 23,
    "start_time": "2021-10-18T13:42:31.010Z"
   },
   {
    "duration": 16,
    "start_time": "2021-10-18T13:42:31.037Z"
   },
   {
    "duration": 13,
    "start_time": "2021-10-18T13:42:31.056Z"
   },
   {
    "duration": 9,
    "start_time": "2021-10-18T13:42:31.103Z"
   },
   {
    "duration": 14,
    "start_time": "2021-10-18T13:42:31.115Z"
   },
   {
    "duration": 11,
    "start_time": "2021-10-18T13:42:31.132Z"
   },
   {
    "duration": 33,
    "start_time": "2021-10-18T13:42:31.145Z"
   },
   {
    "duration": 19,
    "start_time": "2021-10-18T13:42:31.181Z"
   },
   {
    "duration": 18,
    "start_time": "2021-10-18T13:42:31.203Z"
   },
   {
    "duration": 80,
    "start_time": "2021-10-18T13:42:31.223Z"
   },
   {
    "duration": 110,
    "start_time": "2021-10-18T13:42:31.307Z"
   },
   {
    "duration": 13,
    "start_time": "2021-10-18T13:42:31.420Z"
   },
   {
    "duration": 16,
    "start_time": "2021-10-18T13:42:31.436Z"
   },
   {
    "duration": 22,
    "start_time": "2021-10-18T13:42:31.455Z"
   },
   {
    "duration": 12,
    "start_time": "2021-10-18T13:42:31.480Z"
   },
   {
    "duration": 18,
    "start_time": "2021-10-18T13:42:31.495Z"
   },
   {
    "duration": 10,
    "start_time": "2021-10-18T13:42:31.515Z"
   },
   {
    "duration": 28,
    "start_time": "2021-10-18T13:42:31.528Z"
   },
   {
    "duration": 48,
    "start_time": "2021-10-18T13:42:31.561Z"
   },
   {
    "duration": 6,
    "start_time": "2021-10-18T13:42:31.705Z"
   },
   {
    "duration": 13,
    "start_time": "2021-10-18T13:42:31.714Z"
   },
   {
    "duration": 5,
    "start_time": "2021-10-18T13:42:31.801Z"
   },
   {
    "duration": 16,
    "start_time": "2021-10-18T13:42:31.808Z"
   },
   {
    "duration": 6,
    "start_time": "2021-10-18T13:42:31.826Z"
   },
   {
    "duration": 29,
    "start_time": "2021-10-18T13:42:31.834Z"
   },
   {
    "duration": 43,
    "start_time": "2021-10-18T13:42:31.866Z"
   },
   {
    "duration": 8,
    "start_time": "2021-10-18T13:42:32.002Z"
   },
   {
    "duration": 4,
    "start_time": "2021-10-18T13:42:32.101Z"
   },
   {
    "duration": 8,
    "start_time": "2021-10-18T13:42:32.108Z"
   },
   {
    "duration": 4,
    "start_time": "2021-10-18T13:42:32.119Z"
   },
   {
    "duration": 8,
    "start_time": "2021-10-18T13:42:32.125Z"
   },
   {
    "duration": 11,
    "start_time": "2021-10-18T13:42:32.135Z"
   },
   {
    "duration": 8,
    "start_time": "2021-10-18T13:42:32.149Z"
   },
   {
    "duration": 47,
    "start_time": "2021-10-18T13:42:32.159Z"
   },
   {
    "duration": 8,
    "start_time": "2021-10-18T13:42:32.209Z"
   },
   {
    "duration": 9,
    "start_time": "2021-10-18T13:42:32.220Z"
   },
   {
    "duration": 12,
    "start_time": "2021-10-18T13:42:32.232Z"
   },
   {
    "duration": 11,
    "start_time": "2021-10-18T13:42:32.247Z"
   },
   {
    "duration": 2918,
    "start_time": "2021-10-18T13:42:32.261Z"
   },
   {
    "duration": 4,
    "start_time": "2021-10-18T13:42:35.181Z"
   },
   {
    "duration": 21,
    "start_time": "2021-10-18T13:42:35.187Z"
   },
   {
    "duration": 5,
    "start_time": "2021-10-18T13:42:35.212Z"
   },
   {
    "duration": 10,
    "start_time": "2021-10-18T13:42:35.220Z"
   },
   {
    "duration": 2962,
    "start_time": "2021-10-18T13:42:35.233Z"
   },
   {
    "duration": 10,
    "start_time": "2021-10-18T13:42:38.197Z"
   },
   {
    "duration": 2930,
    "start_time": "2021-10-18T13:42:38.209Z"
   },
   {
    "duration": 11,
    "start_time": "2021-10-18T13:42:41.141Z"
   },
   {
    "duration": 447,
    "start_time": "2021-10-18T13:42:53.756Z"
   },
   {
    "duration": 109,
    "start_time": "2021-10-18T14:33:29.820Z"
   },
   {
    "duration": 1405,
    "start_time": "2021-10-18T14:33:46.541Z"
   },
   {
    "duration": 478,
    "start_time": "2021-10-18T14:33:47.949Z"
   },
   {
    "duration": 28,
    "start_time": "2021-10-18T14:33:48.430Z"
   },
   {
    "duration": 39,
    "start_time": "2021-10-18T14:33:48.461Z"
   },
   {
    "duration": 16,
    "start_time": "2021-10-18T14:33:48.503Z"
   },
   {
    "duration": 16,
    "start_time": "2021-10-18T14:33:48.521Z"
   },
   {
    "duration": 13,
    "start_time": "2021-10-18T14:33:48.539Z"
   },
   {
    "duration": 43,
    "start_time": "2021-10-18T14:33:48.558Z"
   },
   {
    "duration": 10,
    "start_time": "2021-10-18T14:33:48.604Z"
   },
   {
    "duration": 5,
    "start_time": "2021-10-18T14:33:48.617Z"
   },
   {
    "duration": 20,
    "start_time": "2021-10-18T14:33:48.625Z"
   },
   {
    "duration": 4,
    "start_time": "2021-10-18T14:33:48.647Z"
   },
   {
    "duration": 62,
    "start_time": "2021-10-18T14:33:48.654Z"
   },
   {
    "duration": 7,
    "start_time": "2021-10-18T14:33:48.718Z"
   },
   {
    "duration": 80,
    "start_time": "2021-10-18T14:33:48.728Z"
   },
   {
    "duration": 8,
    "start_time": "2021-10-18T14:33:48.901Z"
   },
   {
    "duration": 8,
    "start_time": "2021-10-18T14:33:48.912Z"
   },
   {
    "duration": 6,
    "start_time": "2021-10-18T14:33:48.923Z"
   },
   {
    "duration": 7,
    "start_time": "2021-10-18T14:33:48.931Z"
   },
   {
    "duration": 6,
    "start_time": "2021-10-18T14:33:48.940Z"
   },
   {
    "duration": 4,
    "start_time": "2021-10-18T14:33:49.001Z"
   },
   {
    "duration": 30,
    "start_time": "2021-10-18T14:33:49.010Z"
   },
   {
    "duration": 63,
    "start_time": "2021-10-18T14:33:49.045Z"
   },
   {
    "duration": 6,
    "start_time": "2021-10-18T14:33:49.202Z"
   },
   {
    "duration": 6,
    "start_time": "2021-10-18T14:33:49.211Z"
   },
   {
    "duration": 6,
    "start_time": "2021-10-18T14:33:49.220Z"
   },
   {
    "duration": 4,
    "start_time": "2021-10-18T14:33:49.228Z"
   },
   {
    "duration": 13,
    "start_time": "2021-10-18T14:33:49.234Z"
   },
   {
    "duration": 65,
    "start_time": "2021-10-18T14:33:49.249Z"
   },
   {
    "duration": 16,
    "start_time": "2021-10-18T14:33:49.317Z"
   },
   {
    "duration": 72,
    "start_time": "2021-10-18T14:33:49.336Z"
   },
   {
    "duration": 6,
    "start_time": "2021-10-18T14:33:49.500Z"
   },
   {
    "duration": 7,
    "start_time": "2021-10-18T14:33:49.509Z"
   },
   {
    "duration": 4,
    "start_time": "2021-10-18T14:33:49.519Z"
   },
   {
    "duration": 5,
    "start_time": "2021-10-18T14:33:49.526Z"
   },
   {
    "duration": 5,
    "start_time": "2021-10-18T14:33:49.534Z"
   },
   {
    "duration": 8,
    "start_time": "2021-10-18T14:33:49.542Z"
   },
   {
    "duration": 54,
    "start_time": "2021-10-18T14:33:49.552Z"
   },
   {
    "duration": 7,
    "start_time": "2021-10-18T14:33:49.608Z"
   },
   {
    "duration": 7,
    "start_time": "2021-10-18T14:33:49.617Z"
   },
   {
    "duration": 12,
    "start_time": "2021-10-18T14:33:49.626Z"
   },
   {
    "duration": 6,
    "start_time": "2021-10-18T14:33:49.641Z"
   },
   {
    "duration": 473,
    "start_time": "2021-10-18T14:33:49.649Z"
   },
   {
    "duration": 2120,
    "start_time": "2021-10-18T14:33:48.005Z"
   },
   {
    "duration": 2119,
    "start_time": "2021-10-18T14:33:48.007Z"
   },
   {
    "duration": 2117,
    "start_time": "2021-10-18T14:33:48.010Z"
   },
   {
    "duration": 2111,
    "start_time": "2021-10-18T14:33:48.018Z"
   },
   {
    "duration": 2110,
    "start_time": "2021-10-18T14:33:48.020Z"
   },
   {
    "duration": 2110,
    "start_time": "2021-10-18T14:33:48.022Z"
   },
   {
    "duration": 2109,
    "start_time": "2021-10-18T14:33:48.024Z"
   },
   {
    "duration": 2103,
    "start_time": "2021-10-18T14:33:48.031Z"
   },
   {
    "duration": 2102,
    "start_time": "2021-10-18T14:33:48.034Z"
   },
   {
    "duration": 8,
    "start_time": "2021-10-18T15:02:27.183Z"
   },
   {
    "duration": 9,
    "start_time": "2021-10-18T15:02:41.172Z"
   },
   {
    "duration": 6,
    "start_time": "2021-10-18T15:02:47.604Z"
   },
   {
    "duration": 5,
    "start_time": "2021-10-18T15:03:02.756Z"
   },
   {
    "duration": 310,
    "start_time": "2021-10-18T15:03:36.922Z"
   },
   {
    "duration": 6,
    "start_time": "2021-10-18T15:03:46.753Z"
   },
   {
    "duration": 8,
    "start_time": "2021-10-18T15:03:51.125Z"
   },
   {
    "duration": 8,
    "start_time": "2021-10-18T15:04:45.624Z"
   },
   {
    "duration": 7,
    "start_time": "2021-10-18T15:05:06.971Z"
   },
   {
    "duration": 5,
    "start_time": "2021-10-18T15:05:10.889Z"
   },
   {
    "duration": 8,
    "start_time": "2021-10-18T15:05:41.289Z"
   },
   {
    "duration": 5,
    "start_time": "2021-10-18T15:06:00.612Z"
   },
   {
    "duration": 7,
    "start_time": "2021-10-18T15:06:34.611Z"
   },
   {
    "duration": 6,
    "start_time": "2021-10-18T15:06:45.510Z"
   },
   {
    "duration": 8,
    "start_time": "2021-10-18T15:07:07.239Z"
   },
   {
    "duration": 9,
    "start_time": "2021-10-18T15:09:28.212Z"
   },
   {
    "duration": 9,
    "start_time": "2021-10-18T15:11:28.835Z"
   },
   {
    "duration": 9,
    "start_time": "2021-10-18T15:13:45.592Z"
   },
   {
    "duration": 10,
    "start_time": "2021-10-18T15:13:59.128Z"
   },
   {
    "duration": 9,
    "start_time": "2021-10-18T15:14:07.534Z"
   },
   {
    "duration": 9,
    "start_time": "2021-10-18T15:14:24.165Z"
   },
   {
    "duration": 8,
    "start_time": "2021-10-18T15:14:25.871Z"
   },
   {
    "duration": 6,
    "start_time": "2021-10-18T15:14:38.629Z"
   },
   {
    "duration": 8,
    "start_time": "2021-10-18T15:15:03.410Z"
   },
   {
    "duration": 6,
    "start_time": "2021-10-18T15:15:06.964Z"
   },
   {
    "duration": 324,
    "start_time": "2021-10-18T15:15:12.376Z"
   },
   {
    "duration": 7,
    "start_time": "2021-10-18T15:15:20.882Z"
   },
   {
    "duration": 2921,
    "start_time": "2021-10-18T15:18:21.398Z"
   },
   {
    "duration": 308,
    "start_time": "2021-10-18T15:19:34.344Z"
   },
   {
    "duration": 319,
    "start_time": "2021-10-18T15:19:49.875Z"
   },
   {
    "duration": 414,
    "start_time": "2021-10-18T15:20:03.504Z"
   },
   {
    "duration": 5,
    "start_time": "2021-10-18T15:33:37.784Z"
   },
   {
    "duration": 5,
    "start_time": "2021-10-18T15:33:45.413Z"
   },
   {
    "duration": 7,
    "start_time": "2021-10-18T15:33:59.462Z"
   },
   {
    "duration": 5,
    "start_time": "2021-10-18T15:34:06.828Z"
   },
   {
    "duration": 6,
    "start_time": "2021-10-18T15:34:23.153Z"
   },
   {
    "duration": 6,
    "start_time": "2021-10-18T15:34:38.109Z"
   },
   {
    "duration": 5,
    "start_time": "2021-10-18T15:34:38.875Z"
   },
   {
    "duration": 5,
    "start_time": "2021-10-18T15:34:39.493Z"
   },
   {
    "duration": 7,
    "start_time": "2021-10-18T15:34:40.041Z"
   },
   {
    "duration": 3227,
    "start_time": "2021-10-18T15:43:44.473Z"
   },
   {
    "duration": 4,
    "start_time": "2021-10-18T15:43:50.973Z"
   },
   {
    "duration": 9,
    "start_time": "2021-10-18T15:43:52.127Z"
   },
   {
    "duration": 4,
    "start_time": "2021-10-18T15:44:00.631Z"
   },
   {
    "duration": 7,
    "start_time": "2021-10-18T15:44:03.083Z"
   },
   {
    "duration": 6,
    "start_time": "2021-10-18T15:44:10.063Z"
   },
   {
    "duration": 6,
    "start_time": "2021-10-18T15:44:18.922Z"
   },
   {
    "duration": 6,
    "start_time": "2021-10-18T15:44:40.771Z"
   },
   {
    "duration": 6,
    "start_time": "2021-10-18T15:44:59.090Z"
   },
   {
    "duration": 6,
    "start_time": "2021-10-18T15:45:04.808Z"
   },
   {
    "duration": 6,
    "start_time": "2021-10-18T15:45:16.543Z"
   },
   {
    "duration": 6,
    "start_time": "2021-10-18T15:45:24.561Z"
   },
   {
    "duration": 5,
    "start_time": "2021-10-18T15:45:36.859Z"
   },
   {
    "duration": 112,
    "start_time": "2021-10-18T15:45:51.403Z"
   },
   {
    "duration": 7,
    "start_time": "2021-10-18T15:45:54.415Z"
   },
   {
    "duration": 6,
    "start_time": "2021-10-18T15:46:08.806Z"
   },
   {
    "duration": 3209,
    "start_time": "2021-10-18T15:46:30.556Z"
   },
   {
    "duration": 4,
    "start_time": "2021-10-18T15:47:44.122Z"
   },
   {
    "duration": 378,
    "start_time": "2021-10-18T15:48:53.669Z"
   },
   {
    "duration": 5,
    "start_time": "2021-10-18T15:49:05.722Z"
   },
   {
    "duration": 6,
    "start_time": "2021-10-18T15:49:28.998Z"
   },
   {
    "duration": 5,
    "start_time": "2021-10-18T15:49:35.292Z"
   },
   {
    "duration": 6,
    "start_time": "2021-10-18T15:49:45.571Z"
   },
   {
    "duration": 3296,
    "start_time": "2021-10-18T15:49:46.358Z"
   },
   {
    "duration": 3203,
    "start_time": "2021-10-18T15:50:32.781Z"
   },
   {
    "duration": 3205,
    "start_time": "2021-10-18T15:50:46.226Z"
   },
   {
    "duration": 1373,
    "start_time": "2021-10-18T15:51:31.155Z"
   },
   {
    "duration": 486,
    "start_time": "2021-10-18T15:51:32.531Z"
   },
   {
    "duration": 28,
    "start_time": "2021-10-18T15:51:33.024Z"
   },
   {
    "duration": 47,
    "start_time": "2021-10-18T15:51:33.054Z"
   },
   {
    "duration": 16,
    "start_time": "2021-10-18T15:51:33.104Z"
   },
   {
    "duration": 20,
    "start_time": "2021-10-18T15:51:33.123Z"
   },
   {
    "duration": 15,
    "start_time": "2021-10-18T15:51:33.148Z"
   },
   {
    "duration": 41,
    "start_time": "2021-10-18T15:51:33.167Z"
   },
   {
    "duration": 13,
    "start_time": "2021-10-18T15:51:33.211Z"
   },
   {
    "duration": 7,
    "start_time": "2021-10-18T15:51:33.227Z"
   },
   {
    "duration": 24,
    "start_time": "2021-10-18T15:51:33.237Z"
   },
   {
    "duration": 4,
    "start_time": "2021-10-18T15:51:33.264Z"
   },
   {
    "duration": 19,
    "start_time": "2021-10-18T15:51:33.302Z"
   },
   {
    "duration": 85,
    "start_time": "2021-10-18T15:51:33.324Z"
   },
   {
    "duration": 5,
    "start_time": "2021-10-18T15:51:33.502Z"
   },
   {
    "duration": 11,
    "start_time": "2021-10-18T15:51:33.510Z"
   },
   {
    "duration": 7,
    "start_time": "2021-10-18T15:51:33.523Z"
   },
   {
    "duration": 10,
    "start_time": "2021-10-18T15:51:33.532Z"
   },
   {
    "duration": 12,
    "start_time": "2021-10-18T15:51:33.544Z"
   },
   {
    "duration": 46,
    "start_time": "2021-10-18T15:51:33.558Z"
   },
   {
    "duration": 7,
    "start_time": "2021-10-18T15:51:33.606Z"
   },
   {
    "duration": 23,
    "start_time": "2021-10-18T15:51:33.619Z"
   },
   {
    "duration": 61,
    "start_time": "2021-10-18T15:51:33.645Z"
   },
   {
    "duration": 92,
    "start_time": "2021-10-18T15:51:33.709Z"
   },
   {
    "duration": 7,
    "start_time": "2021-10-18T15:51:33.803Z"
   },
   {
    "duration": 9,
    "start_time": "2021-10-18T15:51:33.812Z"
   },
   {
    "duration": 5,
    "start_time": "2021-10-18T15:51:33.823Z"
   },
   {
    "duration": 11,
    "start_time": "2021-10-18T15:51:33.830Z"
   },
   {
    "duration": 58,
    "start_time": "2021-10-18T15:51:33.843Z"
   },
   {
    "duration": 96,
    "start_time": "2021-10-18T15:51:33.904Z"
   },
   {
    "duration": 96,
    "start_time": "2021-10-18T15:51:34.004Z"
   },
   {
    "duration": 5,
    "start_time": "2021-10-18T15:51:34.103Z"
   },
   {
    "duration": 7,
    "start_time": "2021-10-18T15:51:34.110Z"
   },
   {
    "duration": 4,
    "start_time": "2021-10-18T15:51:34.119Z"
   },
   {
    "duration": 7,
    "start_time": "2021-10-18T15:51:34.125Z"
   },
   {
    "duration": 5,
    "start_time": "2021-10-18T15:51:34.134Z"
   },
   {
    "duration": 6,
    "start_time": "2021-10-18T15:51:34.142Z"
   },
   {
    "duration": 59,
    "start_time": "2021-10-18T15:51:34.151Z"
   },
   {
    "duration": 4,
    "start_time": "2021-10-18T15:51:34.213Z"
   },
   {
    "duration": 8,
    "start_time": "2021-10-18T15:51:34.219Z"
   },
   {
    "duration": 11,
    "start_time": "2021-10-18T15:51:34.229Z"
   },
   {
    "duration": 6,
    "start_time": "2021-10-18T15:51:34.242Z"
   },
   {
    "duration": 508,
    "start_time": "2021-10-18T15:51:34.250Z"
   },
   {
    "duration": -12,
    "start_time": "2021-10-18T15:51:34.773Z"
   },
   {
    "duration": -13,
    "start_time": "2021-10-18T15:51:34.775Z"
   },
   {
    "duration": -13,
    "start_time": "2021-10-18T15:51:34.777Z"
   },
   {
    "duration": -17,
    "start_time": "2021-10-18T15:51:34.782Z"
   },
   {
    "duration": -17,
    "start_time": "2021-10-18T15:51:34.784Z"
   },
   {
    "duration": -18,
    "start_time": "2021-10-18T15:51:34.787Z"
   },
   {
    "duration": -18,
    "start_time": "2021-10-18T15:51:34.790Z"
   },
   {
    "duration": -18,
    "start_time": "2021-10-18T15:51:34.792Z"
   },
   {
    "duration": -18,
    "start_time": "2021-10-18T15:51:34.794Z"
   },
   {
    "duration": -22,
    "start_time": "2021-10-18T15:51:34.799Z"
   },
   {
    "duration": -23,
    "start_time": "2021-10-18T15:51:34.802Z"
   },
   {
    "duration": -24,
    "start_time": "2021-10-18T15:51:34.804Z"
   },
   {
    "duration": -25,
    "start_time": "2021-10-18T15:51:34.806Z"
   },
   {
    "duration": -25,
    "start_time": "2021-10-18T15:51:34.808Z"
   },
   {
    "duration": -26,
    "start_time": "2021-10-18T15:51:34.810Z"
   },
   {
    "duration": -30,
    "start_time": "2021-10-18T15:51:34.815Z"
   },
   {
    "duration": -31,
    "start_time": "2021-10-18T15:51:34.818Z"
   },
   {
    "duration": -33,
    "start_time": "2021-10-18T15:51:34.821Z"
   },
   {
    "duration": 1261,
    "start_time": "2021-10-18T15:51:50.850Z"
   },
   {
    "duration": 469,
    "start_time": "2021-10-18T15:51:52.114Z"
   },
   {
    "duration": 27,
    "start_time": "2021-10-18T15:51:52.586Z"
   },
   {
    "duration": 21,
    "start_time": "2021-10-18T15:51:52.616Z"
   },
   {
    "duration": 18,
    "start_time": "2021-10-18T15:51:52.640Z"
   },
   {
    "duration": 44,
    "start_time": "2021-10-18T15:51:52.660Z"
   },
   {
    "duration": 13,
    "start_time": "2021-10-18T15:51:52.707Z"
   },
   {
    "duration": 9,
    "start_time": "2021-10-18T15:51:52.724Z"
   },
   {
    "duration": 11,
    "start_time": "2021-10-18T15:51:52.736Z"
   },
   {
    "duration": 6,
    "start_time": "2021-10-18T15:51:52.749Z"
   },
   {
    "duration": 60,
    "start_time": "2021-10-18T15:51:52.757Z"
   },
   {
    "duration": 3,
    "start_time": "2021-10-18T15:51:52.819Z"
   },
   {
    "duration": 29,
    "start_time": "2021-10-18T15:51:52.825Z"
   },
   {
    "duration": 49,
    "start_time": "2021-10-18T15:51:52.856Z"
   },
   {
    "duration": 104,
    "start_time": "2021-10-18T15:51:52.909Z"
   },
   {
    "duration": 13,
    "start_time": "2021-10-18T15:51:53.016Z"
   },
   {
    "duration": 15,
    "start_time": "2021-10-18T15:51:53.031Z"
   },
   {
    "duration": 12,
    "start_time": "2021-10-18T15:51:53.048Z"
   },
   {
    "duration": 15,
    "start_time": "2021-10-18T15:51:53.063Z"
   },
   {
    "duration": 20,
    "start_time": "2021-10-18T15:51:53.080Z"
   },
   {
    "duration": 6,
    "start_time": "2021-10-18T15:51:53.102Z"
   },
   {
    "duration": 30,
    "start_time": "2021-10-18T15:51:53.110Z"
   },
   {
    "duration": 57,
    "start_time": "2021-10-18T15:51:53.146Z"
   },
   {
    "duration": 96,
    "start_time": "2021-10-18T15:51:53.208Z"
   },
   {
    "duration": 13,
    "start_time": "2021-10-18T15:51:53.306Z"
   },
   {
    "duration": 11,
    "start_time": "2021-10-18T15:51:53.321Z"
   },
   {
    "duration": 9,
    "start_time": "2021-10-18T15:51:53.334Z"
   },
   {
    "duration": 7,
    "start_time": "2021-10-18T15:51:53.345Z"
   },
   {
    "duration": 59,
    "start_time": "2021-10-18T15:51:53.354Z"
   },
   {
    "duration": 89,
    "start_time": "2021-10-18T15:51:53.415Z"
   },
   {
    "duration": 95,
    "start_time": "2021-10-18T15:51:53.508Z"
   },
   {
    "duration": 9,
    "start_time": "2021-10-18T15:51:53.606Z"
   },
   {
    "duration": 6,
    "start_time": "2021-10-18T15:51:53.617Z"
   },
   {
    "duration": 9,
    "start_time": "2021-10-18T15:51:53.625Z"
   },
   {
    "duration": 15,
    "start_time": "2021-10-18T15:51:53.636Z"
   },
   {
    "duration": 14,
    "start_time": "2021-10-18T15:51:53.653Z"
   },
   {
    "duration": 33,
    "start_time": "2021-10-18T15:51:53.670Z"
   },
   {
    "duration": 31,
    "start_time": "2021-10-18T15:51:53.706Z"
   },
   {
    "duration": 10,
    "start_time": "2021-10-18T15:51:53.739Z"
   },
   {
    "duration": 24,
    "start_time": "2021-10-18T15:51:53.751Z"
   },
   {
    "duration": 15,
    "start_time": "2021-10-18T15:51:53.778Z"
   },
   {
    "duration": 15,
    "start_time": "2021-10-18T15:51:53.795Z"
   },
   {
    "duration": 19,
    "start_time": "2021-10-18T15:51:53.813Z"
   },
   {
    "duration": 11,
    "start_time": "2021-10-18T15:51:53.834Z"
   },
   {
    "duration": 18,
    "start_time": "2021-10-18T15:51:53.847Z"
   },
   {
    "duration": 17,
    "start_time": "2021-10-18T15:51:53.867Z"
   },
   {
    "duration": 9,
    "start_time": "2021-10-18T15:51:53.887Z"
   },
   {
    "duration": 3222,
    "start_time": "2021-10-18T15:51:53.899Z"
   },
   {
    "duration": 9,
    "start_time": "2021-10-18T15:51:57.124Z"
   },
   {
    "duration": 4264,
    "start_time": "2021-10-18T15:51:57.136Z"
   },
   {
    "duration": -14,
    "start_time": "2021-10-18T15:52:01.417Z"
   },
   {
    "duration": -17,
    "start_time": "2021-10-18T15:52:01.421Z"
   },
   {
    "duration": -18,
    "start_time": "2021-10-18T15:52:01.424Z"
   },
   {
    "duration": -20,
    "start_time": "2021-10-18T15:52:01.427Z"
   },
   {
    "duration": -21,
    "start_time": "2021-10-18T15:52:01.429Z"
   },
   {
    "duration": -22,
    "start_time": "2021-10-18T15:52:01.431Z"
   },
   {
    "duration": -23,
    "start_time": "2021-10-18T15:52:01.434Z"
   },
   {
    "duration": -30,
    "start_time": "2021-10-18T15:52:01.442Z"
   },
   {
    "duration": -32,
    "start_time": "2021-10-18T15:52:01.446Z"
   },
   {
    "duration": -33,
    "start_time": "2021-10-18T15:52:01.449Z"
   },
   {
    "duration": -33,
    "start_time": "2021-10-18T15:52:01.452Z"
   },
   {
    "duration": 7,
    "start_time": "2021-10-18T15:52:24.299Z"
   },
   {
    "duration": 3213,
    "start_time": "2021-10-18T15:52:26.466Z"
   },
   {
    "duration": 3303,
    "start_time": "2021-10-18T15:52:31.099Z"
   },
   {
    "duration": 3321,
    "start_time": "2021-10-18T15:52:35.550Z"
   },
   {
    "duration": 3547,
    "start_time": "2021-10-18T15:52:42.587Z"
   },
   {
    "duration": 3,
    "start_time": "2021-10-18T15:52:46.137Z"
   },
   {
    "duration": 11,
    "start_time": "2021-10-18T15:52:46.143Z"
   },
   {
    "duration": 5,
    "start_time": "2021-10-18T15:52:46.156Z"
   },
   {
    "duration": 9,
    "start_time": "2021-10-18T15:52:46.163Z"
   },
   {
    "duration": 6,
    "start_time": "2021-10-18T15:52:46.174Z"
   },
   {
    "duration": 3042,
    "start_time": "2021-10-18T15:52:46.201Z"
   },
   {
    "duration": 11,
    "start_time": "2021-10-18T15:52:49.246Z"
   },
   {
    "duration": 2953,
    "start_time": "2021-10-18T15:52:49.260Z"
   },
   {
    "duration": 11,
    "start_time": "2021-10-18T15:52:52.215Z"
   },
   {
    "duration": 3242,
    "start_time": "2021-10-18T15:55:25.870Z"
   },
   {
    "duration": 11,
    "start_time": "2021-10-18T15:55:29.115Z"
   },
   {
    "duration": 3273,
    "start_time": "2021-10-18T15:55:29.129Z"
   },
   {
    "duration": 10,
    "start_time": "2021-10-18T15:55:32.405Z"
   },
   {
    "duration": 1362,
    "start_time": "2021-10-18T15:57:39.580Z"
   },
   {
    "duration": 480,
    "start_time": "2021-10-18T15:57:40.945Z"
   },
   {
    "duration": 26,
    "start_time": "2021-10-18T15:57:41.428Z"
   },
   {
    "duration": 15,
    "start_time": "2021-10-18T15:57:41.457Z"
   },
   {
    "duration": 39,
    "start_time": "2021-10-18T15:57:41.474Z"
   },
   {
    "duration": 22,
    "start_time": "2021-10-18T15:57:41.516Z"
   },
   {
    "duration": 13,
    "start_time": "2021-10-18T15:57:41.541Z"
   },
   {
    "duration": 8,
    "start_time": "2021-10-18T15:57:41.558Z"
   },
   {
    "duration": 39,
    "start_time": "2021-10-18T15:57:41.569Z"
   },
   {
    "duration": 7,
    "start_time": "2021-10-18T15:57:41.610Z"
   },
   {
    "duration": 18,
    "start_time": "2021-10-18T15:57:41.620Z"
   },
   {
    "duration": 3,
    "start_time": "2021-10-18T15:57:41.641Z"
   },
   {
    "duration": 19,
    "start_time": "2021-10-18T15:57:41.646Z"
   },
   {
    "duration": 14,
    "start_time": "2021-10-18T15:57:41.701Z"
   },
   {
    "duration": 98,
    "start_time": "2021-10-18T15:57:41.803Z"
   },
   {
    "duration": 7,
    "start_time": "2021-10-18T15:57:41.903Z"
   },
   {
    "duration": 7,
    "start_time": "2021-10-18T15:57:41.912Z"
   },
   {
    "duration": 9,
    "start_time": "2021-10-18T15:57:41.922Z"
   },
   {
    "duration": 5,
    "start_time": "2021-10-18T15:57:41.934Z"
   },
   {
    "duration": 12,
    "start_time": "2021-10-18T15:57:41.941Z"
   },
   {
    "duration": 45,
    "start_time": "2021-10-18T15:57:41.955Z"
   },
   {
    "duration": 22,
    "start_time": "2021-10-18T15:57:42.005Z"
   },
   {
    "duration": 17,
    "start_time": "2021-10-18T15:57:42.032Z"
   },
   {
    "duration": 51,
    "start_time": "2021-10-18T15:57:42.054Z"
   },
   {
    "duration": 96,
    "start_time": "2021-10-18T15:57:42.109Z"
   },
   {
    "duration": 17,
    "start_time": "2021-10-18T15:57:42.209Z"
   },
   {
    "duration": 6,
    "start_time": "2021-10-18T15:57:42.229Z"
   },
   {
    "duration": 8,
    "start_time": "2021-10-18T15:57:42.238Z"
   },
   {
    "duration": 61,
    "start_time": "2021-10-18T15:57:42.249Z"
   },
   {
    "duration": 99,
    "start_time": "2021-10-18T15:57:42.313Z"
   },
   {
    "duration": 7,
    "start_time": "2021-10-18T15:57:42.500Z"
   },
   {
    "duration": 8,
    "start_time": "2021-10-18T15:57:42.510Z"
   },
   {
    "duration": 7,
    "start_time": "2021-10-18T15:57:42.521Z"
   },
   {
    "duration": 6,
    "start_time": "2021-10-18T15:57:42.530Z"
   },
   {
    "duration": 12,
    "start_time": "2021-10-18T15:57:42.538Z"
   },
   {
    "duration": 49,
    "start_time": "2021-10-18T15:57:42.552Z"
   },
   {
    "duration": 9,
    "start_time": "2021-10-18T15:57:42.603Z"
   },
   {
    "duration": 13,
    "start_time": "2021-10-18T15:57:42.614Z"
   },
   {
    "duration": 7,
    "start_time": "2021-10-18T15:57:42.630Z"
   },
   {
    "duration": 11,
    "start_time": "2021-10-18T15:57:42.640Z"
   },
   {
    "duration": 13,
    "start_time": "2021-10-18T15:57:42.653Z"
   },
   {
    "duration": 34,
    "start_time": "2021-10-18T15:57:42.668Z"
   },
   {
    "duration": 13,
    "start_time": "2021-10-18T15:57:42.705Z"
   },
   {
    "duration": 7,
    "start_time": "2021-10-18T15:57:42.720Z"
   },
   {
    "duration": 9,
    "start_time": "2021-10-18T15:57:42.730Z"
   },
   {
    "duration": 17,
    "start_time": "2021-10-18T15:57:42.741Z"
   },
   {
    "duration": 40,
    "start_time": "2021-10-18T15:57:42.760Z"
   },
   {
    "duration": 3230,
    "start_time": "2021-10-18T15:57:42.803Z"
   },
   {
    "duration": 7,
    "start_time": "2021-10-18T15:57:46.035Z"
   },
   {
    "duration": 3299,
    "start_time": "2021-10-18T15:57:46.045Z"
   },
   {
    "duration": 3226,
    "start_time": "2021-10-18T15:57:49.346Z"
   },
   {
    "duration": 3253,
    "start_time": "2021-10-18T15:57:52.574Z"
   },
   {
    "duration": 4,
    "start_time": "2021-10-18T15:57:55.830Z"
   },
   {
    "duration": 10,
    "start_time": "2021-10-18T15:57:55.837Z"
   },
   {
    "duration": 5,
    "start_time": "2021-10-18T15:57:55.850Z"
   },
   {
    "duration": 52,
    "start_time": "2021-10-18T15:57:55.857Z"
   },
   {
    "duration": 6,
    "start_time": "2021-10-18T15:57:55.912Z"
   },
   {
    "duration": 3210,
    "start_time": "2021-10-18T15:57:55.920Z"
   },
   {
    "duration": 11,
    "start_time": "2021-10-18T15:57:59.132Z"
   },
   {
    "duration": 3356,
    "start_time": "2021-10-18T15:57:59.145Z"
   },
   {
    "duration": 11,
    "start_time": "2021-10-18T15:58:02.503Z"
   },
   {
    "duration": 96,
    "start_time": "2021-10-19T16:31:10.509Z"
   },
   {
    "duration": 4,
    "start_time": "2021-10-19T16:31:37.226Z"
   },
   {
    "duration": 314,
    "start_time": "2021-10-19T16:32:34.509Z"
   },
   {
    "duration": 3,
    "start_time": "2021-10-19T16:32:36.606Z"
   },
   {
    "duration": 3,
    "start_time": "2021-10-19T16:32:37.320Z"
   },
   {
    "duration": 5,
    "start_time": "2021-10-19T16:33:54.653Z"
   },
   {
    "duration": 5,
    "start_time": "2021-10-19T16:34:08.558Z"
   },
   {
    "duration": 1360,
    "start_time": "2021-10-19T16:36:31.684Z"
   },
   {
    "duration": 456,
    "start_time": "2021-10-19T16:36:33.047Z"
   },
   {
    "duration": 33,
    "start_time": "2021-10-19T16:36:33.506Z"
   },
   {
    "duration": 16,
    "start_time": "2021-10-19T16:36:33.542Z"
   },
   {
    "duration": 18,
    "start_time": "2021-10-19T16:36:33.561Z"
   },
   {
    "duration": 53,
    "start_time": "2021-10-19T16:36:33.581Z"
   },
   {
    "duration": 20,
    "start_time": "2021-10-19T16:36:33.636Z"
   },
   {
    "duration": 9,
    "start_time": "2021-10-19T16:36:33.660Z"
   },
   {
    "duration": 9,
    "start_time": "2021-10-19T16:36:33.672Z"
   },
   {
    "duration": 6,
    "start_time": "2021-10-19T16:36:33.683Z"
   },
   {
    "duration": 18,
    "start_time": "2021-10-19T16:36:33.722Z"
   },
   {
    "duration": 4,
    "start_time": "2021-10-19T16:36:33.742Z"
   },
   {
    "duration": 23,
    "start_time": "2021-10-19T16:36:33.748Z"
   },
   {
    "duration": 62,
    "start_time": "2021-10-19T16:36:33.773Z"
   },
   {
    "duration": 9,
    "start_time": "2021-10-19T16:36:33.922Z"
   },
   {
    "duration": 7,
    "start_time": "2021-10-19T16:36:33.933Z"
   },
   {
    "duration": 11,
    "start_time": "2021-10-19T16:36:33.942Z"
   },
   {
    "duration": 8,
    "start_time": "2021-10-19T16:36:33.955Z"
   },
   {
    "duration": 7,
    "start_time": "2021-10-19T16:36:33.965Z"
   },
   {
    "duration": 48,
    "start_time": "2021-10-19T16:36:33.975Z"
   },
   {
    "duration": 5,
    "start_time": "2021-10-19T16:36:34.026Z"
   },
   {
    "duration": 24,
    "start_time": "2021-10-19T16:36:34.033Z"
   },
   {
    "duration": 15,
    "start_time": "2021-10-19T16:36:34.064Z"
   },
   {
    "duration": 97,
    "start_time": "2021-10-19T16:36:34.126Z"
   },
   {
    "duration": 6,
    "start_time": "2021-10-19T16:36:34.225Z"
   },
   {
    "duration": 13,
    "start_time": "2021-10-19T16:36:34.233Z"
   },
   {
    "duration": 4,
    "start_time": "2021-10-19T16:36:34.249Z"
   },
   {
    "duration": 7,
    "start_time": "2021-10-19T16:36:34.255Z"
   },
   {
    "duration": 60,
    "start_time": "2021-10-19T16:36:34.265Z"
   },
   {
    "duration": 19,
    "start_time": "2021-10-19T16:36:34.327Z"
   },
   {
    "duration": 8,
    "start_time": "2021-10-19T16:36:34.424Z"
   },
   {
    "duration": 6,
    "start_time": "2021-10-19T16:36:34.523Z"
   },
   {
    "duration": 7,
    "start_time": "2021-10-19T16:36:34.531Z"
   },
   {
    "duration": 8,
    "start_time": "2021-10-19T16:36:34.540Z"
   },
   {
    "duration": 11,
    "start_time": "2021-10-19T16:36:34.550Z"
   },
   {
    "duration": 10,
    "start_time": "2021-10-19T16:36:34.563Z"
   },
   {
    "duration": 12,
    "start_time": "2021-10-19T16:36:34.575Z"
   },
   {
    "duration": 41,
    "start_time": "2021-10-19T16:36:34.589Z"
   },
   {
    "duration": 5,
    "start_time": "2021-10-19T16:36:34.633Z"
   },
   {
    "duration": 7,
    "start_time": "2021-10-19T16:36:34.640Z"
   },
   {
    "duration": 12,
    "start_time": "2021-10-19T16:36:34.650Z"
   },
   {
    "duration": 6,
    "start_time": "2021-10-19T16:36:34.665Z"
   },
   {
    "duration": 9,
    "start_time": "2021-10-19T16:36:34.673Z"
   },
   {
    "duration": 6,
    "start_time": "2021-10-19T16:36:34.684Z"
   },
   {
    "duration": 38,
    "start_time": "2021-10-19T16:36:34.692Z"
   },
   {
    "duration": 6,
    "start_time": "2021-10-19T16:36:34.733Z"
   },
   {
    "duration": 11,
    "start_time": "2021-10-19T16:36:34.742Z"
   },
   {
    "duration": 7,
    "start_time": "2021-10-19T16:36:34.755Z"
   },
   {
    "duration": 59,
    "start_time": "2021-10-19T16:36:34.764Z"
   },
   {
    "duration": 7,
    "start_time": "2021-10-19T16:36:34.826Z"
   },
   {
    "duration": 6,
    "start_time": "2021-10-19T16:36:34.835Z"
   },
   {
    "duration": 3224,
    "start_time": "2021-10-19T16:36:34.843Z"
   },
   {
    "duration": 6,
    "start_time": "2021-10-19T16:36:38.069Z"
   },
   {
    "duration": 3152,
    "start_time": "2021-10-19T16:36:38.078Z"
   },
   {
    "duration": 3095,
    "start_time": "2021-10-19T16:36:41.233Z"
   },
   {
    "duration": 3099,
    "start_time": "2021-10-19T16:36:44.331Z"
   },
   {
    "duration": 4,
    "start_time": "2021-10-19T16:36:47.432Z"
   },
   {
    "duration": 12,
    "start_time": "2021-10-19T16:36:47.438Z"
   },
   {
    "duration": 8,
    "start_time": "2021-10-19T16:36:47.452Z"
   },
   {
    "duration": 7,
    "start_time": "2021-10-19T16:36:47.463Z"
   },
   {
    "duration": 7,
    "start_time": "2021-10-19T16:36:47.473Z"
   },
   {
    "duration": 3279,
    "start_time": "2021-10-19T16:36:47.483Z"
   },
   {
    "duration": 10,
    "start_time": "2021-10-19T16:36:50.765Z"
   },
   {
    "duration": 3180,
    "start_time": "2021-10-19T16:36:50.777Z"
   },
   {
    "duration": 10,
    "start_time": "2021-10-19T16:36:53.959Z"
   },
   {
    "duration": 6,
    "start_time": "2021-10-19T16:46:51.395Z"
   },
   {
    "duration": 5,
    "start_time": "2021-10-19T16:47:08.994Z"
   },
   {
    "duration": 458,
    "start_time": "2021-10-19T16:47:40.948Z"
   },
   {
    "duration": 5,
    "start_time": "2021-10-19T16:47:54.513Z"
   },
   {
    "duration": 3,
    "start_time": "2021-10-19T16:48:01.987Z"
   },
   {
    "duration": 5,
    "start_time": "2021-10-19T16:48:02.787Z"
   },
   {
    "duration": 6,
    "start_time": "2021-10-19T16:48:05.481Z"
   },
   {
    "duration": 7,
    "start_time": "2021-10-19T16:52:44.663Z"
   },
   {
    "duration": 5,
    "start_time": "2021-10-19T16:52:54.561Z"
   },
   {
    "duration": 6,
    "start_time": "2021-10-19T16:53:18.158Z"
   },
   {
    "duration": 6,
    "start_time": "2021-10-19T16:53:29.142Z"
   },
   {
    "duration": 7,
    "start_time": "2021-10-19T16:54:05.561Z"
   },
   {
    "duration": 3067,
    "start_time": "2021-10-19T16:54:06.479Z"
   },
   {
    "duration": 7,
    "start_time": "2021-10-19T16:54:15.387Z"
   },
   {
    "duration": 3095,
    "start_time": "2021-10-19T16:54:16.380Z"
   },
   {
    "duration": 7,
    "start_time": "2021-10-19T16:54:29.844Z"
   },
   {
    "duration": 3107,
    "start_time": "2021-10-19T16:54:30.851Z"
   },
   {
    "duration": 7,
    "start_time": "2021-10-19T16:54:39.790Z"
   },
   {
    "duration": 3062,
    "start_time": "2021-10-19T16:54:42.027Z"
   },
   {
    "duration": 7,
    "start_time": "2021-10-19T16:56:19.390Z"
   },
   {
    "duration": 3169,
    "start_time": "2021-10-19T16:56:20.357Z"
   },
   {
    "duration": 8,
    "start_time": "2021-10-19T16:56:30.972Z"
   },
   {
    "duration": 3204,
    "start_time": "2021-10-19T16:56:32.179Z"
   },
   {
    "duration": 3270,
    "start_time": "2021-10-19T16:56:37.273Z"
   },
   {
    "duration": 3198,
    "start_time": "2021-10-19T16:56:44.024Z"
   },
   {
    "duration": 95,
    "start_time": "2021-10-19T17:26:26.604Z"
   },
   {
    "duration": 1387,
    "start_time": "2021-10-19T17:28:56.643Z"
   },
   {
    "duration": 473,
    "start_time": "2021-10-19T17:28:58.033Z"
   },
   {
    "duration": 27,
    "start_time": "2021-10-19T17:28:58.509Z"
   },
   {
    "duration": 15,
    "start_time": "2021-10-19T17:28:58.539Z"
   },
   {
    "duration": 18,
    "start_time": "2021-10-19T17:28:58.556Z"
   },
   {
    "duration": 48,
    "start_time": "2021-10-19T17:28:58.576Z"
   },
   {
    "duration": 20,
    "start_time": "2021-10-19T17:28:58.626Z"
   },
   {
    "duration": 8,
    "start_time": "2021-10-19T17:28:58.650Z"
   },
   {
    "duration": 8,
    "start_time": "2021-10-19T17:28:58.661Z"
   },
   {
    "duration": 6,
    "start_time": "2021-10-19T17:28:58.671Z"
   },
   {
    "duration": 50,
    "start_time": "2021-10-19T17:28:58.679Z"
   },
   {
    "duration": 5,
    "start_time": "2021-10-19T17:28:58.732Z"
   },
   {
    "duration": 22,
    "start_time": "2021-10-19T17:28:58.740Z"
   },
   {
    "duration": 59,
    "start_time": "2021-10-19T17:28:58.765Z"
   },
   {
    "duration": 97,
    "start_time": "2021-10-19T17:28:58.828Z"
   },
   {
    "duration": 10,
    "start_time": "2021-10-19T17:28:58.927Z"
   },
   {
    "duration": 8,
    "start_time": "2021-10-19T17:28:58.939Z"
   },
   {
    "duration": 12,
    "start_time": "2021-10-19T17:28:58.949Z"
   },
   {
    "duration": 5,
    "start_time": "2021-10-19T17:28:58.964Z"
   },
   {
    "duration": 9,
    "start_time": "2021-10-19T17:28:58.971Z"
   },
   {
    "duration": 41,
    "start_time": "2021-10-19T17:28:58.983Z"
   },
   {
    "duration": 22,
    "start_time": "2021-10-19T17:28:59.027Z"
   },
   {
    "duration": 71,
    "start_time": "2021-10-19T17:28:59.055Z"
   },
   {
    "duration": 95,
    "start_time": "2021-10-19T17:28:59.131Z"
   },
   {
    "duration": 7,
    "start_time": "2021-10-19T17:28:59.229Z"
   },
   {
    "duration": 8,
    "start_time": "2021-10-19T17:28:59.239Z"
   },
   {
    "duration": 5,
    "start_time": "2021-10-19T17:28:59.249Z"
   },
   {
    "duration": 8,
    "start_time": "2021-10-19T17:28:59.256Z"
   },
   {
    "duration": 68,
    "start_time": "2021-10-19T17:28:59.266Z"
   },
   {
    "duration": 15,
    "start_time": "2021-10-19T17:28:59.337Z"
   },
   {
    "duration": 71,
    "start_time": "2021-10-19T17:28:59.356Z"
   },
   {
    "duration": 96,
    "start_time": "2021-10-19T17:28:59.431Z"
   },
   {
    "duration": 7,
    "start_time": "2021-10-19T17:28:59.530Z"
   },
   {
    "duration": 5,
    "start_time": "2021-10-19T17:28:59.539Z"
   },
   {
    "duration": 4,
    "start_time": "2021-10-19T17:28:59.547Z"
   },
   {
    "duration": 7,
    "start_time": "2021-10-19T17:28:59.553Z"
   },
   {
    "duration": 9,
    "start_time": "2021-10-19T17:28:59.562Z"
   },
   {
    "duration": 56,
    "start_time": "2021-10-19T17:28:59.574Z"
   },
   {
    "duration": 6,
    "start_time": "2021-10-19T17:28:59.633Z"
   },
   {
    "duration": 5,
    "start_time": "2021-10-19T17:28:59.642Z"
   },
   {
    "duration": 6,
    "start_time": "2021-10-19T17:28:59.650Z"
   },
   {
    "duration": 8,
    "start_time": "2021-10-19T17:28:59.658Z"
   },
   {
    "duration": 10,
    "start_time": "2021-10-19T17:28:59.668Z"
   },
   {
    "duration": 10,
    "start_time": "2021-10-19T17:28:59.680Z"
   },
   {
    "duration": 37,
    "start_time": "2021-10-19T17:28:59.692Z"
   },
   {
    "duration": 4,
    "start_time": "2021-10-19T17:28:59.732Z"
   },
   {
    "duration": 12,
    "start_time": "2021-10-19T17:28:59.738Z"
   },
   {
    "duration": 5,
    "start_time": "2021-10-19T17:28:59.752Z"
   },
   {
    "duration": 7,
    "start_time": "2021-10-19T17:28:59.759Z"
   },
   {
    "duration": 11,
    "start_time": "2021-10-19T17:28:59.768Z"
   },
   {
    "duration": 3,
    "start_time": "2021-10-19T17:28:59.823Z"
   },
   {
    "duration": 3482,
    "start_time": "2021-10-19T17:28:59.828Z"
   },
   {
    "duration": 10,
    "start_time": "2021-10-19T17:29:03.313Z"
   },
   {
    "duration": 3219,
    "start_time": "2021-10-19T17:29:03.325Z"
   },
   {
    "duration": 3077,
    "start_time": "2021-10-19T17:29:06.546Z"
   },
   {
    "duration": 3278,
    "start_time": "2021-10-19T17:29:09.625Z"
   },
   {
    "duration": 5,
    "start_time": "2021-10-19T17:29:12.906Z"
   },
   {
    "duration": 12,
    "start_time": "2021-10-19T17:29:12.914Z"
   },
   {
    "duration": 6,
    "start_time": "2021-10-19T17:29:12.929Z"
   },
   {
    "duration": 13,
    "start_time": "2021-10-19T17:29:12.938Z"
   },
   {
    "duration": 8,
    "start_time": "2021-10-19T17:29:12.954Z"
   },
   {
    "duration": 3390,
    "start_time": "2021-10-19T17:29:12.965Z"
   },
   {
    "duration": 9,
    "start_time": "2021-10-19T17:29:16.358Z"
   },
   {
    "duration": 3197,
    "start_time": "2021-10-19T17:29:16.370Z"
   },
   {
    "duration": 10,
    "start_time": "2021-10-19T17:29:19.569Z"
   }
  ],
  "kernelspec": {
   "display_name": "Python 3",
   "language": "python",
   "name": "python3"
  },
  "language_info": {
   "codemirror_mode": {
    "name": "ipython",
    "version": 3
   },
   "file_extension": ".py",
   "mimetype": "text/x-python",
   "name": "python",
   "nbconvert_exporter": "python",
   "pygments_lexer": "ipython3",
   "version": "3.8.5"
  },
  "toc": {
   "base_numbering": 1,
   "nav_menu": {},
   "number_sections": true,
   "sideBar": true,
   "skip_h1_title": true,
   "title_cell": "Table of Contents",
   "title_sidebar": "Contents",
   "toc_cell": false,
   "toc_position": {},
   "toc_section_display": true,
   "toc_window_display": false
  }
 },
 "nbformat": 4,
 "nbformat_minor": 2
}
