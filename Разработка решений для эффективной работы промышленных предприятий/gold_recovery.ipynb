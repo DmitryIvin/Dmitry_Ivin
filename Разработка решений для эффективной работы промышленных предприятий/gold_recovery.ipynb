{
 "cells": [
  {
   "cell_type": "markdown",
   "metadata": {
    "toc": true
   },
   "source": [
    "<h1>Содержание<span class=\"tocSkip\"></span></h1>\n",
    "<div class=\"toc\"><ul class=\"toc-item\"><li><span><a href=\"#Подготовка-данных\" data-toc-modified-id=\"Подготовка-данных-1\"><span class=\"toc-item-num\">1&nbsp;&nbsp;</span>Подготовка данных</a></span><ul class=\"toc-item\"><li><span><a href=\"#Загрузка-данных\" data-toc-modified-id=\"Загрузка-данных-1.1\"><span class=\"toc-item-num\">1.1&nbsp;&nbsp;</span>Загрузка данных</a></span></li><li><span><a href=\"#Вычисление-эффективности-обогащения\" data-toc-modified-id=\"Вычисление-эффективности-обогащения-1.2\"><span class=\"toc-item-num\">1.2&nbsp;&nbsp;</span>Вычисление эффективности обогащения</a></span><ul class=\"toc-item\"><li><span><a href=\"#Вывод:\" data-toc-modified-id=\"Вывод:-1.2.1\"><span class=\"toc-item-num\">1.2.1&nbsp;&nbsp;</span>Вывод:</a></span></li></ul></li><li><span><a href=\"#Анализ-признаков,-недоступных-в-тестовой-выборке\" data-toc-modified-id=\"Анализ-признаков,-недоступных-в-тестовой-выборке-1.3\"><span class=\"toc-item-num\">1.3&nbsp;&nbsp;</span>Анализ признаков, недоступных в тестовой выборке</a></span><ul class=\"toc-item\"><li><span><a href=\"#Вывод\" data-toc-modified-id=\"Вывод-1.3.1\"><span class=\"toc-item-num\">1.3.1&nbsp;&nbsp;</span>Вывод</a></span></li></ul></li><li><span><a href=\"#Предоработка-данных\" data-toc-modified-id=\"Предоработка-данных-1.4\"><span class=\"toc-item-num\">1.4&nbsp;&nbsp;</span>Предоработка данных</a></span></li></ul></li><li><span><a href=\"#Анализ-данных\" data-toc-modified-id=\"Анализ-данных-2\"><span class=\"toc-item-num\">2&nbsp;&nbsp;</span>Анализ данных</a></span><ul class=\"toc-item\"><li><span><a href=\"#Как-меняется-концентрация-металлов-(Au,-Ag,-Pb)-на-различных-этапах-очистки\" data-toc-modified-id=\"Как-меняется-концентрация-металлов-(Au,-Ag,-Pb)-на-различных-этапах-очистки-2.1\"><span class=\"toc-item-num\">2.1&nbsp;&nbsp;</span>Как меняется концентрация металлов (Au, Ag, Pb) на различных этапах очистки</a></span></li><li><span><a href=\"#Сравнение-распределения-размеров-гранул-сырья-на-обучающей-и-тестовой-выборках\" data-toc-modified-id=\"Сравнение-распределения-размеров-гранул-сырья-на-обучающей-и-тестовой-выборках-2.2\"><span class=\"toc-item-num\">2.2&nbsp;&nbsp;</span>Сравнение распределения размеров гранул сырья на обучающей и тестовой выборках</a></span><ul class=\"toc-item\"><li><span><a href=\"#Выводы\" data-toc-modified-id=\"Выводы-2.2.1\"><span class=\"toc-item-num\">2.2.1&nbsp;&nbsp;</span>Выводы</a></span></li></ul></li><li><span><a href=\"#Исследуйте-суммарную-концентрацию-всех-веществ-на-разных-стадиях\" data-toc-modified-id=\"Исследуйте-суммарную-концентрацию-всех-веществ-на-разных-стадиях-2.3\"><span class=\"toc-item-num\">2.3&nbsp;&nbsp;</span>Исследуйте суммарную концентрацию всех веществ на разных стадиях</a></span></li></ul></li><li><span><a href=\"#Модель\" data-toc-modified-id=\"Модель-3\"><span class=\"toc-item-num\">3&nbsp;&nbsp;</span>Модель</a></span><ul class=\"toc-item\"><li><span><a href=\"#Целевой-признак---rougher.output.recovery\" data-toc-modified-id=\"Целевой-признак---rougher.output.recovery-3.1\"><span class=\"toc-item-num\">3.1&nbsp;&nbsp;</span>Целевой признак - rougher.output.recovery</a></span><ul class=\"toc-item\"><li><span><a href=\"#Решающее-дерево\" data-toc-modified-id=\"Решающее-дерево-3.1.1\"><span class=\"toc-item-num\">3.1.1&nbsp;&nbsp;</span>Решающее дерево</a></span></li><li><span><a href=\"#Случайный-лес\" data-toc-modified-id=\"Случайный-лес-3.1.2\"><span class=\"toc-item-num\">3.1.2&nbsp;&nbsp;</span>Случайный лес</a></span></li><li><span><a href=\"#Линейная-регрессия\" data-toc-modified-id=\"Линейная-регрессия-3.1.3\"><span class=\"toc-item-num\">3.1.3&nbsp;&nbsp;</span>Линейная регрессия</a></span></li></ul></li><li><span><a href=\"#Целевой-признак----final.output.recovery\" data-toc-modified-id=\"Целевой-признак----final.output.recovery-3.2\"><span class=\"toc-item-num\">3.2&nbsp;&nbsp;</span>Целевой признак -  final.output.recovery</a></span><ul class=\"toc-item\"><li><span><a href=\"#Решающее-дерево\" data-toc-modified-id=\"Решающее-дерево-3.2.1\"><span class=\"toc-item-num\">3.2.1&nbsp;&nbsp;</span>Решающее дерево</a></span></li><li><span><a href=\"#Случайный-лес\" data-toc-modified-id=\"Случайный-лес-3.2.2\"><span class=\"toc-item-num\">3.2.2&nbsp;&nbsp;</span>Случайный лес</a></span></li><li><span><a href=\"#Линейная-регрессия\" data-toc-modified-id=\"Линейная-регрессия-3.2.3\"><span class=\"toc-item-num\">3.2.3&nbsp;&nbsp;</span>Линейная регрессия</a></span></li></ul></li><li><span><a href=\"#Тестовая-выборка\" data-toc-modified-id=\"Тестовая-выборка-3.3\"><span class=\"toc-item-num\">3.3&nbsp;&nbsp;</span>Тестовая выборка</a></span><ul class=\"toc-item\"><li><span><a href=\"#Общая-sMAPE\" data-toc-modified-id=\"Общая-sMAPE-3.3.1\"><span class=\"toc-item-num\">3.3.1&nbsp;&nbsp;</span>Общая sMAPE</a></span></li></ul></li></ul></li><li><span><a href=\"#Чек-лист-готовности-проекта\" data-toc-modified-id=\"Чек-лист-готовности-проекта-4\"><span class=\"toc-item-num\">4&nbsp;&nbsp;</span>Чек-лист готовности проекта</a></span></li></ul></div>"
   ]
  },
  {
   "cell_type": "markdown",
   "metadata": {},
   "source": [
    "# Восстановление золота из руды"
   ]
  },
  {
   "cell_type": "markdown",
   "metadata": {},
   "source": [
    "Подготовьте прототип модели машинного обучения для «Цифры». Компания разрабатывает решения для эффективной работы промышленных предприятий.\n",
    "\n",
    "Модель должна предсказать коэффициент восстановления золота из золотосодержащей руды. Используйте данные с параметрами добычи и очистки. \n",
    "\n",
    "Модель поможет оптимизировать производство, чтобы не запускать предприятие с убыточными характеристиками.\n",
    "\n",
    "Нам нужно:\n",
    "\n",
    "1. Подготовить данные;\n",
    "2. Провести исследовательский анализ данных;\n",
    "3. Построить и обучить модель.\n",
    "4. Оценить по sMAPE\n"
   ]
  },
  {
   "cell_type": "markdown",
   "metadata": {},
   "source": [
    "# Описание данных"
   ]
  },
  {
   "cell_type": "markdown",
   "metadata": {},
   "source": [
    "\n",
    "\n",
    "Технологический процесс:\n",
    "\n",
    "- Rougher feed — исходное сырье\n",
    "- Rougher additions (или reagent additions) — флотационные реагенты: Xanthate, Sulphate, Depressant\n",
    "- Xanthate **— ксантогенат (промотер, или активатор флотации);\n",
    "- Sulphate — сульфат (на данном производстве сульфид натрия);\n",
    "- Depressant — депрессант (силикат натрия).\n",
    "- Rougher process (англ. «грубый процесс») — флотация\n",
    "- Rougher tails — отвальные хвосты\n",
    "- Float banks — флотационная установка\n",
    "- Cleaner process — очистка\n",
    "- Rougher Au — черновой концентрат золота\n",
    "- Final Au — финальный концентрат золота\n",
    "\n",
    "Параметры этапов:\n",
    "\n",
    "- air amount — объём воздуха\n",
    "- fluid levels — уровень жидкости\n",
    "- feed size — размер гранул сырья\n",
    "- feed rate — скорость подачи"
   ]
  },
  {
   "cell_type": "markdown",
   "metadata": {},
   "source": [
    "Наименование признаков\n",
    "\n",
    "Наименование признаков должно быть такое:\n",
    "    \n",
    "[этап].[тип_параметра].[название_параметра]\n",
    "\n",
    "Возможные значения для блока [этап]:\n",
    "    \n",
    "- rougher — флотация\n",
    "- primary_cleaner — первичная очистка\n",
    "- secondary_cleaner — вторичная очистка\n",
    "- final — финальные характеристики\n",
    "\n",
    "Возможные значения для блока [тип_параметра]:\n",
    "    \n",
    "- input — параметры сырья\n",
    "- output — параметры продукта\n",
    "- state — параметры, характеризующие текущее состояние этапа\n",
    "- calculation — расчётные характеристики"
   ]
  },
  {
   "cell_type": "markdown",
   "metadata": {},
   "source": [
    "# Импорт библиотек"
   ]
  },
  {
   "cell_type": "code",
   "execution_count": 1,
   "metadata": {},
   "outputs": [],
   "source": [
    "import pandas as pd\n",
    "from sklearn.metrics import mean_squared_error\n",
    "import matplotlib.pyplot as plt\n",
    "from sklearn.model_selection import train_test_split\n",
    "from sklearn.tree import DecisionTreeRegressor\n",
    "from sklearn.model_selection import GridSearchCV\n",
    "from sklearn.ensemble import RandomForestRegressor\n",
    "from sklearn.linear_model import LinearRegression\n",
    "from sklearn.model_selection import cross_val_score\n",
    "from sklearn.metrics import make_scorer\n",
    "from sklearn.dummy import DummyRegressor"
   ]
  },
  {
   "cell_type": "markdown",
   "metadata": {},
   "source": [
    "## Подготовка данных"
   ]
  },
  {
   "cell_type": "markdown",
   "metadata": {},
   "source": [
    "### Загрузка данных"
   ]
  },
  {
   "cell_type": "code",
   "execution_count": 2,
   "metadata": {},
   "outputs": [],
   "source": [
    "data_train = pd.read_csv('gold_recovery_train_new.csv')\n",
    "data_test = pd.read_csv('gold_recovery_test_new.csv')\n",
    "data_full = pd.read_csv('gold_recovery_full_new.csv')"
   ]
  },
  {
   "cell_type": "markdown",
   "metadata": {},
   "source": [
    "Посмотрим на данные:"
   ]
  },
  {
   "cell_type": "code",
   "execution_count": 3,
   "metadata": {
    "scrolled": false
   },
   "outputs": [
    {
     "data": {
      "text/html": [
       "<div>\n",
       "<style scoped>\n",
       "    .dataframe tbody tr th:only-of-type {\n",
       "        vertical-align: middle;\n",
       "    }\n",
       "\n",
       "    .dataframe tbody tr th {\n",
       "        vertical-align: top;\n",
       "    }\n",
       "\n",
       "    .dataframe thead th {\n",
       "        text-align: right;\n",
       "    }\n",
       "</style>\n",
       "<table border=\"1\" class=\"dataframe\">\n",
       "  <thead>\n",
       "    <tr style=\"text-align: right;\">\n",
       "      <th></th>\n",
       "      <th>date</th>\n",
       "      <th>final.output.concentrate_ag</th>\n",
       "      <th>final.output.concentrate_pb</th>\n",
       "      <th>final.output.concentrate_sol</th>\n",
       "      <th>final.output.concentrate_au</th>\n",
       "      <th>final.output.recovery</th>\n",
       "      <th>final.output.tail_ag</th>\n",
       "      <th>final.output.tail_pb</th>\n",
       "      <th>final.output.tail_sol</th>\n",
       "      <th>final.output.tail_au</th>\n",
       "      <th>...</th>\n",
       "      <th>secondary_cleaner.state.floatbank4_a_air</th>\n",
       "      <th>secondary_cleaner.state.floatbank4_a_level</th>\n",
       "      <th>secondary_cleaner.state.floatbank4_b_air</th>\n",
       "      <th>secondary_cleaner.state.floatbank4_b_level</th>\n",
       "      <th>secondary_cleaner.state.floatbank5_a_air</th>\n",
       "      <th>secondary_cleaner.state.floatbank5_a_level</th>\n",
       "      <th>secondary_cleaner.state.floatbank5_b_air</th>\n",
       "      <th>secondary_cleaner.state.floatbank5_b_level</th>\n",
       "      <th>secondary_cleaner.state.floatbank6_a_air</th>\n",
       "      <th>secondary_cleaner.state.floatbank6_a_level</th>\n",
       "    </tr>\n",
       "  </thead>\n",
       "  <tbody>\n",
       "    <tr>\n",
       "      <th>0</th>\n",
       "      <td>2016-01-15 00:00:00</td>\n",
       "      <td>6.055403</td>\n",
       "      <td>9.889648</td>\n",
       "      <td>5.507324</td>\n",
       "      <td>42.192020</td>\n",
       "      <td>70.541216</td>\n",
       "      <td>10.411962</td>\n",
       "      <td>0.895447</td>\n",
       "      <td>16.904297</td>\n",
       "      <td>2.143149</td>\n",
       "      <td>...</td>\n",
       "      <td>14.016835</td>\n",
       "      <td>-502.488007</td>\n",
       "      <td>12.099931</td>\n",
       "      <td>-504.715942</td>\n",
       "      <td>9.925633</td>\n",
       "      <td>-498.310211</td>\n",
       "      <td>8.079666</td>\n",
       "      <td>-500.470978</td>\n",
       "      <td>14.151341</td>\n",
       "      <td>-605.841980</td>\n",
       "    </tr>\n",
       "    <tr>\n",
       "      <th>1</th>\n",
       "      <td>2016-01-15 01:00:00</td>\n",
       "      <td>6.029369</td>\n",
       "      <td>9.968944</td>\n",
       "      <td>5.257781</td>\n",
       "      <td>42.701629</td>\n",
       "      <td>69.266198</td>\n",
       "      <td>10.462676</td>\n",
       "      <td>0.927452</td>\n",
       "      <td>16.634514</td>\n",
       "      <td>2.224930</td>\n",
       "      <td>...</td>\n",
       "      <td>13.992281</td>\n",
       "      <td>-505.503262</td>\n",
       "      <td>11.950531</td>\n",
       "      <td>-501.331529</td>\n",
       "      <td>10.039245</td>\n",
       "      <td>-500.169983</td>\n",
       "      <td>7.984757</td>\n",
       "      <td>-500.582168</td>\n",
       "      <td>13.998353</td>\n",
       "      <td>-599.787184</td>\n",
       "    </tr>\n",
       "    <tr>\n",
       "      <th>2</th>\n",
       "      <td>2016-01-15 02:00:00</td>\n",
       "      <td>6.055926</td>\n",
       "      <td>10.213995</td>\n",
       "      <td>5.383759</td>\n",
       "      <td>42.657501</td>\n",
       "      <td>68.116445</td>\n",
       "      <td>10.507046</td>\n",
       "      <td>0.953716</td>\n",
       "      <td>16.208849</td>\n",
       "      <td>2.257889</td>\n",
       "      <td>...</td>\n",
       "      <td>14.015015</td>\n",
       "      <td>-502.520901</td>\n",
       "      <td>11.912783</td>\n",
       "      <td>-501.133383</td>\n",
       "      <td>10.070913</td>\n",
       "      <td>-500.129135</td>\n",
       "      <td>8.013877</td>\n",
       "      <td>-500.517572</td>\n",
       "      <td>14.028663</td>\n",
       "      <td>-601.427363</td>\n",
       "    </tr>\n",
       "    <tr>\n",
       "      <th>3</th>\n",
       "      <td>2016-01-15 03:00:00</td>\n",
       "      <td>6.047977</td>\n",
       "      <td>9.977019</td>\n",
       "      <td>4.858634</td>\n",
       "      <td>42.689819</td>\n",
       "      <td>68.347543</td>\n",
       "      <td>10.422762</td>\n",
       "      <td>0.883763</td>\n",
       "      <td>16.532835</td>\n",
       "      <td>2.146849</td>\n",
       "      <td>...</td>\n",
       "      <td>14.036510</td>\n",
       "      <td>-500.857308</td>\n",
       "      <td>11.999550</td>\n",
       "      <td>-501.193686</td>\n",
       "      <td>9.970366</td>\n",
       "      <td>-499.201640</td>\n",
       "      <td>7.977324</td>\n",
       "      <td>-500.255908</td>\n",
       "      <td>14.005551</td>\n",
       "      <td>-599.996129</td>\n",
       "    </tr>\n",
       "    <tr>\n",
       "      <th>4</th>\n",
       "      <td>2016-01-15 04:00:00</td>\n",
       "      <td>6.148599</td>\n",
       "      <td>10.142511</td>\n",
       "      <td>4.939416</td>\n",
       "      <td>42.774141</td>\n",
       "      <td>66.927016</td>\n",
       "      <td>10.360302</td>\n",
       "      <td>0.792826</td>\n",
       "      <td>16.525686</td>\n",
       "      <td>2.055292</td>\n",
       "      <td>...</td>\n",
       "      <td>14.027298</td>\n",
       "      <td>-499.838632</td>\n",
       "      <td>11.953070</td>\n",
       "      <td>-501.053894</td>\n",
       "      <td>9.925709</td>\n",
       "      <td>-501.686727</td>\n",
       "      <td>7.894242</td>\n",
       "      <td>-500.356035</td>\n",
       "      <td>13.996647</td>\n",
       "      <td>-601.496691</td>\n",
       "    </tr>\n",
       "  </tbody>\n",
       "</table>\n",
       "<p>5 rows × 87 columns</p>\n",
       "</div>"
      ],
      "text/plain": [
       "                  date  final.output.concentrate_ag  \\\n",
       "0  2016-01-15 00:00:00                     6.055403   \n",
       "1  2016-01-15 01:00:00                     6.029369   \n",
       "2  2016-01-15 02:00:00                     6.055926   \n",
       "3  2016-01-15 03:00:00                     6.047977   \n",
       "4  2016-01-15 04:00:00                     6.148599   \n",
       "\n",
       "   final.output.concentrate_pb  final.output.concentrate_sol  \\\n",
       "0                     9.889648                      5.507324   \n",
       "1                     9.968944                      5.257781   \n",
       "2                    10.213995                      5.383759   \n",
       "3                     9.977019                      4.858634   \n",
       "4                    10.142511                      4.939416   \n",
       "\n",
       "   final.output.concentrate_au  final.output.recovery  final.output.tail_ag  \\\n",
       "0                    42.192020              70.541216             10.411962   \n",
       "1                    42.701629              69.266198             10.462676   \n",
       "2                    42.657501              68.116445             10.507046   \n",
       "3                    42.689819              68.347543             10.422762   \n",
       "4                    42.774141              66.927016             10.360302   \n",
       "\n",
       "   final.output.tail_pb  final.output.tail_sol  final.output.tail_au  ...  \\\n",
       "0              0.895447              16.904297              2.143149  ...   \n",
       "1              0.927452              16.634514              2.224930  ...   \n",
       "2              0.953716              16.208849              2.257889  ...   \n",
       "3              0.883763              16.532835              2.146849  ...   \n",
       "4              0.792826              16.525686              2.055292  ...   \n",
       "\n",
       "   secondary_cleaner.state.floatbank4_a_air  \\\n",
       "0                                 14.016835   \n",
       "1                                 13.992281   \n",
       "2                                 14.015015   \n",
       "3                                 14.036510   \n",
       "4                                 14.027298   \n",
       "\n",
       "   secondary_cleaner.state.floatbank4_a_level  \\\n",
       "0                                 -502.488007   \n",
       "1                                 -505.503262   \n",
       "2                                 -502.520901   \n",
       "3                                 -500.857308   \n",
       "4                                 -499.838632   \n",
       "\n",
       "   secondary_cleaner.state.floatbank4_b_air  \\\n",
       "0                                 12.099931   \n",
       "1                                 11.950531   \n",
       "2                                 11.912783   \n",
       "3                                 11.999550   \n",
       "4                                 11.953070   \n",
       "\n",
       "   secondary_cleaner.state.floatbank4_b_level  \\\n",
       "0                                 -504.715942   \n",
       "1                                 -501.331529   \n",
       "2                                 -501.133383   \n",
       "3                                 -501.193686   \n",
       "4                                 -501.053894   \n",
       "\n",
       "   secondary_cleaner.state.floatbank5_a_air  \\\n",
       "0                                  9.925633   \n",
       "1                                 10.039245   \n",
       "2                                 10.070913   \n",
       "3                                  9.970366   \n",
       "4                                  9.925709   \n",
       "\n",
       "   secondary_cleaner.state.floatbank5_a_level  \\\n",
       "0                                 -498.310211   \n",
       "1                                 -500.169983   \n",
       "2                                 -500.129135   \n",
       "3                                 -499.201640   \n",
       "4                                 -501.686727   \n",
       "\n",
       "   secondary_cleaner.state.floatbank5_b_air  \\\n",
       "0                                  8.079666   \n",
       "1                                  7.984757   \n",
       "2                                  8.013877   \n",
       "3                                  7.977324   \n",
       "4                                  7.894242   \n",
       "\n",
       "   secondary_cleaner.state.floatbank5_b_level  \\\n",
       "0                                 -500.470978   \n",
       "1                                 -500.582168   \n",
       "2                                 -500.517572   \n",
       "3                                 -500.255908   \n",
       "4                                 -500.356035   \n",
       "\n",
       "   secondary_cleaner.state.floatbank6_a_air  \\\n",
       "0                                 14.151341   \n",
       "1                                 13.998353   \n",
       "2                                 14.028663   \n",
       "3                                 14.005551   \n",
       "4                                 13.996647   \n",
       "\n",
       "   secondary_cleaner.state.floatbank6_a_level  \n",
       "0                                 -605.841980  \n",
       "1                                 -599.787184  \n",
       "2                                 -601.427363  \n",
       "3                                 -599.996129  \n",
       "4                                 -601.496691  \n",
       "\n",
       "[5 rows x 87 columns]"
      ]
     },
     "execution_count": 3,
     "metadata": {},
     "output_type": "execute_result"
    }
   ],
   "source": [
    "data_train.head(5)"
   ]
  },
  {
   "cell_type": "markdown",
   "metadata": {},
   "source": [
    "и на информацю о данных (заодно узнаем наименования всех столбцов)"
   ]
  },
  {
   "cell_type": "code",
   "execution_count": 4,
   "metadata": {},
   "outputs": [
    {
     "name": "stdout",
     "output_type": "stream",
     "text": [
      "<class 'pandas.core.frame.DataFrame'>\n",
      "RangeIndex: 14149 entries, 0 to 14148\n",
      "Data columns (total 87 columns):\n",
      " #   Column                                              Non-Null Count  Dtype  \n",
      "---  ------                                              --------------  -----  \n",
      " 0   date                                                14149 non-null  object \n",
      " 1   final.output.concentrate_ag                         14148 non-null  float64\n",
      " 2   final.output.concentrate_pb                         14148 non-null  float64\n",
      " 3   final.output.concentrate_sol                        13938 non-null  float64\n",
      " 4   final.output.concentrate_au                         14149 non-null  float64\n",
      " 5   final.output.recovery                               14149 non-null  float64\n",
      " 6   final.output.tail_ag                                14149 non-null  float64\n",
      " 7   final.output.tail_pb                                14049 non-null  float64\n",
      " 8   final.output.tail_sol                               14144 non-null  float64\n",
      " 9   final.output.tail_au                                14149 non-null  float64\n",
      " 10  primary_cleaner.input.sulfate                       14129 non-null  float64\n",
      " 11  primary_cleaner.input.depressant                    14117 non-null  float64\n",
      " 12  primary_cleaner.input.feed_size                     14149 non-null  float64\n",
      " 13  primary_cleaner.input.xanthate                      14049 non-null  float64\n",
      " 14  primary_cleaner.output.concentrate_ag               14149 non-null  float64\n",
      " 15  primary_cleaner.output.concentrate_pb               14063 non-null  float64\n",
      " 16  primary_cleaner.output.concentrate_sol              13863 non-null  float64\n",
      " 17  primary_cleaner.output.concentrate_au               14149 non-null  float64\n",
      " 18  primary_cleaner.output.tail_ag                      14148 non-null  float64\n",
      " 19  primary_cleaner.output.tail_pb                      14134 non-null  float64\n",
      " 20  primary_cleaner.output.tail_sol                     14103 non-null  float64\n",
      " 21  primary_cleaner.output.tail_au                      14149 non-null  float64\n",
      " 22  primary_cleaner.state.floatbank8_a_air              14145 non-null  float64\n",
      " 23  primary_cleaner.state.floatbank8_a_level            14148 non-null  float64\n",
      " 24  primary_cleaner.state.floatbank8_b_air              14145 non-null  float64\n",
      " 25  primary_cleaner.state.floatbank8_b_level            14148 non-null  float64\n",
      " 26  primary_cleaner.state.floatbank8_c_air              14147 non-null  float64\n",
      " 27  primary_cleaner.state.floatbank8_c_level            14148 non-null  float64\n",
      " 28  primary_cleaner.state.floatbank8_d_air              14146 non-null  float64\n",
      " 29  primary_cleaner.state.floatbank8_d_level            14148 non-null  float64\n",
      " 30  rougher.calculation.sulfate_to_au_concentrate       14148 non-null  float64\n",
      " 31  rougher.calculation.floatbank10_sulfate_to_au_feed  14148 non-null  float64\n",
      " 32  rougher.calculation.floatbank11_sulfate_to_au_feed  14148 non-null  float64\n",
      " 33  rougher.calculation.au_pb_ratio                     14149 non-null  float64\n",
      " 34  rougher.input.feed_ag                               14149 non-null  float64\n",
      " 35  rougher.input.feed_pb                               14049 non-null  float64\n",
      " 36  rougher.input.feed_rate                             14141 non-null  float64\n",
      " 37  rougher.input.feed_size                             14005 non-null  float64\n",
      " 38  rougher.input.feed_sol                              14071 non-null  float64\n",
      " 39  rougher.input.feed_au                               14149 non-null  float64\n",
      " 40  rougher.input.floatbank10_sulfate                   14120 non-null  float64\n",
      " 41  rougher.input.floatbank10_xanthate                  14141 non-null  float64\n",
      " 42  rougher.input.floatbank11_sulfate                   14113 non-null  float64\n",
      " 43  rougher.input.floatbank11_xanthate                  13721 non-null  float64\n",
      " 44  rougher.output.concentrate_ag                       14149 non-null  float64\n",
      " 45  rougher.output.concentrate_pb                       14149 non-null  float64\n",
      " 46  rougher.output.concentrate_sol                      14127 non-null  float64\n",
      " 47  rougher.output.concentrate_au                       14149 non-null  float64\n",
      " 48  rougher.output.recovery                             14149 non-null  float64\n",
      " 49  rougher.output.tail_ag                              14148 non-null  float64\n",
      " 50  rougher.output.tail_pb                              14149 non-null  float64\n",
      " 51  rougher.output.tail_sol                             14149 non-null  float64\n",
      " 52  rougher.output.tail_au                              14149 non-null  float64\n",
      " 53  rougher.state.floatbank10_a_air                     14148 non-null  float64\n",
      " 54  rougher.state.floatbank10_a_level                   14148 non-null  float64\n",
      " 55  rougher.state.floatbank10_b_air                     14148 non-null  float64\n",
      " 56  rougher.state.floatbank10_b_level                   14148 non-null  float64\n",
      " 57  rougher.state.floatbank10_c_air                     14148 non-null  float64\n",
      " 58  rougher.state.floatbank10_c_level                   14148 non-null  float64\n",
      " 59  rougher.state.floatbank10_d_air                     14149 non-null  float64\n",
      " 60  rougher.state.floatbank10_d_level                   14149 non-null  float64\n",
      " 61  rougher.state.floatbank10_e_air                     13713 non-null  float64\n",
      " 62  rougher.state.floatbank10_e_level                   14149 non-null  float64\n",
      " 63  rougher.state.floatbank10_f_air                     14149 non-null  float64\n",
      " 64  rougher.state.floatbank10_f_level                   14149 non-null  float64\n",
      " 65  secondary_cleaner.output.tail_ag                    14147 non-null  float64\n",
      " 66  secondary_cleaner.output.tail_pb                    14139 non-null  float64\n",
      " 67  secondary_cleaner.output.tail_sol                   12544 non-null  float64\n",
      " 68  secondary_cleaner.output.tail_au                    14149 non-null  float64\n",
      " 69  secondary_cleaner.state.floatbank2_a_air            13932 non-null  float64\n",
      " 70  secondary_cleaner.state.floatbank2_a_level          14148 non-null  float64\n",
      " 71  secondary_cleaner.state.floatbank2_b_air            14128 non-null  float64\n",
      " 72  secondary_cleaner.state.floatbank2_b_level          14148 non-null  float64\n",
      " 73  secondary_cleaner.state.floatbank3_a_air            14145 non-null  float64\n",
      " 74  secondary_cleaner.state.floatbank3_a_level          14148 non-null  float64\n",
      " 75  secondary_cleaner.state.floatbank3_b_air            14148 non-null  float64\n",
      " 76  secondary_cleaner.state.floatbank3_b_level          14148 non-null  float64\n",
      " 77  secondary_cleaner.state.floatbank4_a_air            14143 non-null  float64\n",
      " 78  secondary_cleaner.state.floatbank4_a_level          14148 non-null  float64\n",
      " 79  secondary_cleaner.state.floatbank4_b_air            14148 non-null  float64\n",
      " 80  secondary_cleaner.state.floatbank4_b_level          14148 non-null  float64\n",
      " 81  secondary_cleaner.state.floatbank5_a_air            14148 non-null  float64\n",
      " 82  secondary_cleaner.state.floatbank5_a_level          14148 non-null  float64\n",
      " 83  secondary_cleaner.state.floatbank5_b_air            14148 non-null  float64\n",
      " 84  secondary_cleaner.state.floatbank5_b_level          14148 non-null  float64\n",
      " 85  secondary_cleaner.state.floatbank6_a_air            14147 non-null  float64\n",
      " 86  secondary_cleaner.state.floatbank6_a_level          14148 non-null  float64\n",
      "dtypes: float64(86), object(1)\n",
      "memory usage: 9.4+ MB\n"
     ]
    }
   ],
   "source": [
    "data_train.info()"
   ]
  },
  {
   "cell_type": "code",
   "execution_count": 5,
   "metadata": {
    "scrolled": false
   },
   "outputs": [
    {
     "data": {
      "text/html": [
       "<div>\n",
       "<style scoped>\n",
       "    .dataframe tbody tr th:only-of-type {\n",
       "        vertical-align: middle;\n",
       "    }\n",
       "\n",
       "    .dataframe tbody tr th {\n",
       "        vertical-align: top;\n",
       "    }\n",
       "\n",
       "    .dataframe thead th {\n",
       "        text-align: right;\n",
       "    }\n",
       "</style>\n",
       "<table border=\"1\" class=\"dataframe\">\n",
       "  <thead>\n",
       "    <tr style=\"text-align: right;\">\n",
       "      <th></th>\n",
       "      <th>date</th>\n",
       "      <th>primary_cleaner.input.sulfate</th>\n",
       "      <th>primary_cleaner.input.depressant</th>\n",
       "      <th>primary_cleaner.input.feed_size</th>\n",
       "      <th>primary_cleaner.input.xanthate</th>\n",
       "      <th>primary_cleaner.state.floatbank8_a_air</th>\n",
       "      <th>primary_cleaner.state.floatbank8_a_level</th>\n",
       "      <th>primary_cleaner.state.floatbank8_b_air</th>\n",
       "      <th>primary_cleaner.state.floatbank8_b_level</th>\n",
       "      <th>primary_cleaner.state.floatbank8_c_air</th>\n",
       "      <th>...</th>\n",
       "      <th>secondary_cleaner.state.floatbank4_a_air</th>\n",
       "      <th>secondary_cleaner.state.floatbank4_a_level</th>\n",
       "      <th>secondary_cleaner.state.floatbank4_b_air</th>\n",
       "      <th>secondary_cleaner.state.floatbank4_b_level</th>\n",
       "      <th>secondary_cleaner.state.floatbank5_a_air</th>\n",
       "      <th>secondary_cleaner.state.floatbank5_a_level</th>\n",
       "      <th>secondary_cleaner.state.floatbank5_b_air</th>\n",
       "      <th>secondary_cleaner.state.floatbank5_b_level</th>\n",
       "      <th>secondary_cleaner.state.floatbank6_a_air</th>\n",
       "      <th>secondary_cleaner.state.floatbank6_a_level</th>\n",
       "    </tr>\n",
       "  </thead>\n",
       "  <tbody>\n",
       "    <tr>\n",
       "      <th>0</th>\n",
       "      <td>2016-09-01 00:59:59</td>\n",
       "      <td>210.800909</td>\n",
       "      <td>14.993118</td>\n",
       "      <td>8.080000</td>\n",
       "      <td>1.005021</td>\n",
       "      <td>1398.981301</td>\n",
       "      <td>-500.225577</td>\n",
       "      <td>1399.144926</td>\n",
       "      <td>-499.919735</td>\n",
       "      <td>1400.102998</td>\n",
       "      <td>...</td>\n",
       "      <td>12.023554</td>\n",
       "      <td>-497.795834</td>\n",
       "      <td>8.016656</td>\n",
       "      <td>-501.289139</td>\n",
       "      <td>7.946562</td>\n",
       "      <td>-432.317850</td>\n",
       "      <td>4.872511</td>\n",
       "      <td>-500.037437</td>\n",
       "      <td>26.705889</td>\n",
       "      <td>-499.709414</td>\n",
       "    </tr>\n",
       "    <tr>\n",
       "      <th>1</th>\n",
       "      <td>2016-09-01 01:59:59</td>\n",
       "      <td>215.392455</td>\n",
       "      <td>14.987471</td>\n",
       "      <td>8.080000</td>\n",
       "      <td>0.990469</td>\n",
       "      <td>1398.777912</td>\n",
       "      <td>-500.057435</td>\n",
       "      <td>1398.055362</td>\n",
       "      <td>-499.778182</td>\n",
       "      <td>1396.151033</td>\n",
       "      <td>...</td>\n",
       "      <td>12.058140</td>\n",
       "      <td>-498.695773</td>\n",
       "      <td>8.130979</td>\n",
       "      <td>-499.634209</td>\n",
       "      <td>7.958270</td>\n",
       "      <td>-525.839648</td>\n",
       "      <td>4.878850</td>\n",
       "      <td>-500.162375</td>\n",
       "      <td>25.019940</td>\n",
       "      <td>-499.819438</td>\n",
       "    </tr>\n",
       "    <tr>\n",
       "      <th>2</th>\n",
       "      <td>2016-09-01 02:59:59</td>\n",
       "      <td>215.259946</td>\n",
       "      <td>12.884934</td>\n",
       "      <td>7.786667</td>\n",
       "      <td>0.996043</td>\n",
       "      <td>1398.493666</td>\n",
       "      <td>-500.868360</td>\n",
       "      <td>1398.860436</td>\n",
       "      <td>-499.764529</td>\n",
       "      <td>1398.075709</td>\n",
       "      <td>...</td>\n",
       "      <td>11.962366</td>\n",
       "      <td>-498.767484</td>\n",
       "      <td>8.096893</td>\n",
       "      <td>-500.827423</td>\n",
       "      <td>8.071056</td>\n",
       "      <td>-500.801673</td>\n",
       "      <td>4.905125</td>\n",
       "      <td>-499.828510</td>\n",
       "      <td>24.994862</td>\n",
       "      <td>-500.622559</td>\n",
       "    </tr>\n",
       "    <tr>\n",
       "      <th>3</th>\n",
       "      <td>2016-09-01 03:59:59</td>\n",
       "      <td>215.336236</td>\n",
       "      <td>12.006805</td>\n",
       "      <td>7.640000</td>\n",
       "      <td>0.863514</td>\n",
       "      <td>1399.618111</td>\n",
       "      <td>-498.863574</td>\n",
       "      <td>1397.440120</td>\n",
       "      <td>-499.211024</td>\n",
       "      <td>1400.129303</td>\n",
       "      <td>...</td>\n",
       "      <td>12.033091</td>\n",
       "      <td>-498.350935</td>\n",
       "      <td>8.074946</td>\n",
       "      <td>-499.474407</td>\n",
       "      <td>7.897085</td>\n",
       "      <td>-500.868509</td>\n",
       "      <td>4.931400</td>\n",
       "      <td>-499.963623</td>\n",
       "      <td>24.948919</td>\n",
       "      <td>-498.709987</td>\n",
       "    </tr>\n",
       "    <tr>\n",
       "      <th>4</th>\n",
       "      <td>2016-09-01 04:59:59</td>\n",
       "      <td>199.099327</td>\n",
       "      <td>10.682530</td>\n",
       "      <td>7.530000</td>\n",
       "      <td>0.805575</td>\n",
       "      <td>1401.268123</td>\n",
       "      <td>-500.808305</td>\n",
       "      <td>1398.128818</td>\n",
       "      <td>-499.504543</td>\n",
       "      <td>1402.172226</td>\n",
       "      <td>...</td>\n",
       "      <td>12.025367</td>\n",
       "      <td>-500.786497</td>\n",
       "      <td>8.054678</td>\n",
       "      <td>-500.397500</td>\n",
       "      <td>8.107890</td>\n",
       "      <td>-509.526725</td>\n",
       "      <td>4.957674</td>\n",
       "      <td>-500.360026</td>\n",
       "      <td>25.003331</td>\n",
       "      <td>-500.856333</td>\n",
       "    </tr>\n",
       "  </tbody>\n",
       "</table>\n",
       "<p>5 rows × 53 columns</p>\n",
       "</div>"
      ],
      "text/plain": [
       "                  date  primary_cleaner.input.sulfate  \\\n",
       "0  2016-09-01 00:59:59                     210.800909   \n",
       "1  2016-09-01 01:59:59                     215.392455   \n",
       "2  2016-09-01 02:59:59                     215.259946   \n",
       "3  2016-09-01 03:59:59                     215.336236   \n",
       "4  2016-09-01 04:59:59                     199.099327   \n",
       "\n",
       "   primary_cleaner.input.depressant  primary_cleaner.input.feed_size  \\\n",
       "0                         14.993118                         8.080000   \n",
       "1                         14.987471                         8.080000   \n",
       "2                         12.884934                         7.786667   \n",
       "3                         12.006805                         7.640000   \n",
       "4                         10.682530                         7.530000   \n",
       "\n",
       "   primary_cleaner.input.xanthate  primary_cleaner.state.floatbank8_a_air  \\\n",
       "0                        1.005021                             1398.981301   \n",
       "1                        0.990469                             1398.777912   \n",
       "2                        0.996043                             1398.493666   \n",
       "3                        0.863514                             1399.618111   \n",
       "4                        0.805575                             1401.268123   \n",
       "\n",
       "   primary_cleaner.state.floatbank8_a_level  \\\n",
       "0                               -500.225577   \n",
       "1                               -500.057435   \n",
       "2                               -500.868360   \n",
       "3                               -498.863574   \n",
       "4                               -500.808305   \n",
       "\n",
       "   primary_cleaner.state.floatbank8_b_air  \\\n",
       "0                             1399.144926   \n",
       "1                             1398.055362   \n",
       "2                             1398.860436   \n",
       "3                             1397.440120   \n",
       "4                             1398.128818   \n",
       "\n",
       "   primary_cleaner.state.floatbank8_b_level  \\\n",
       "0                               -499.919735   \n",
       "1                               -499.778182   \n",
       "2                               -499.764529   \n",
       "3                               -499.211024   \n",
       "4                               -499.504543   \n",
       "\n",
       "   primary_cleaner.state.floatbank8_c_air  ...  \\\n",
       "0                             1400.102998  ...   \n",
       "1                             1396.151033  ...   \n",
       "2                             1398.075709  ...   \n",
       "3                             1400.129303  ...   \n",
       "4                             1402.172226  ...   \n",
       "\n",
       "   secondary_cleaner.state.floatbank4_a_air  \\\n",
       "0                                 12.023554   \n",
       "1                                 12.058140   \n",
       "2                                 11.962366   \n",
       "3                                 12.033091   \n",
       "4                                 12.025367   \n",
       "\n",
       "   secondary_cleaner.state.floatbank4_a_level  \\\n",
       "0                                 -497.795834   \n",
       "1                                 -498.695773   \n",
       "2                                 -498.767484   \n",
       "3                                 -498.350935   \n",
       "4                                 -500.786497   \n",
       "\n",
       "   secondary_cleaner.state.floatbank4_b_air  \\\n",
       "0                                  8.016656   \n",
       "1                                  8.130979   \n",
       "2                                  8.096893   \n",
       "3                                  8.074946   \n",
       "4                                  8.054678   \n",
       "\n",
       "   secondary_cleaner.state.floatbank4_b_level  \\\n",
       "0                                 -501.289139   \n",
       "1                                 -499.634209   \n",
       "2                                 -500.827423   \n",
       "3                                 -499.474407   \n",
       "4                                 -500.397500   \n",
       "\n",
       "   secondary_cleaner.state.floatbank5_a_air  \\\n",
       "0                                  7.946562   \n",
       "1                                  7.958270   \n",
       "2                                  8.071056   \n",
       "3                                  7.897085   \n",
       "4                                  8.107890   \n",
       "\n",
       "   secondary_cleaner.state.floatbank5_a_level  \\\n",
       "0                                 -432.317850   \n",
       "1                                 -525.839648   \n",
       "2                                 -500.801673   \n",
       "3                                 -500.868509   \n",
       "4                                 -509.526725   \n",
       "\n",
       "   secondary_cleaner.state.floatbank5_b_air  \\\n",
       "0                                  4.872511   \n",
       "1                                  4.878850   \n",
       "2                                  4.905125   \n",
       "3                                  4.931400   \n",
       "4                                  4.957674   \n",
       "\n",
       "   secondary_cleaner.state.floatbank5_b_level  \\\n",
       "0                                 -500.037437   \n",
       "1                                 -500.162375   \n",
       "2                                 -499.828510   \n",
       "3                                 -499.963623   \n",
       "4                                 -500.360026   \n",
       "\n",
       "   secondary_cleaner.state.floatbank6_a_air  \\\n",
       "0                                 26.705889   \n",
       "1                                 25.019940   \n",
       "2                                 24.994862   \n",
       "3                                 24.948919   \n",
       "4                                 25.003331   \n",
       "\n",
       "   secondary_cleaner.state.floatbank6_a_level  \n",
       "0                                 -499.709414  \n",
       "1                                 -499.819438  \n",
       "2                                 -500.622559  \n",
       "3                                 -498.709987  \n",
       "4                                 -500.856333  \n",
       "\n",
       "[5 rows x 53 columns]"
      ]
     },
     "execution_count": 5,
     "metadata": {},
     "output_type": "execute_result"
    }
   ],
   "source": [
    "data_test.head(5)"
   ]
  },
  {
   "cell_type": "code",
   "execution_count": 6,
   "metadata": {},
   "outputs": [
    {
     "name": "stdout",
     "output_type": "stream",
     "text": [
      "<class 'pandas.core.frame.DataFrame'>\n",
      "RangeIndex: 5290 entries, 0 to 5289\n",
      "Data columns (total 53 columns):\n",
      " #   Column                                      Non-Null Count  Dtype  \n",
      "---  ------                                      --------------  -----  \n",
      " 0   date                                        5290 non-null   object \n",
      " 1   primary_cleaner.input.sulfate               5286 non-null   float64\n",
      " 2   primary_cleaner.input.depressant            5285 non-null   float64\n",
      " 3   primary_cleaner.input.feed_size             5290 non-null   float64\n",
      " 4   primary_cleaner.input.xanthate              5286 non-null   float64\n",
      " 5   primary_cleaner.state.floatbank8_a_air      5290 non-null   float64\n",
      " 6   primary_cleaner.state.floatbank8_a_level    5290 non-null   float64\n",
      " 7   primary_cleaner.state.floatbank8_b_air      5290 non-null   float64\n",
      " 8   primary_cleaner.state.floatbank8_b_level    5290 non-null   float64\n",
      " 9   primary_cleaner.state.floatbank8_c_air      5290 non-null   float64\n",
      " 10  primary_cleaner.state.floatbank8_c_level    5290 non-null   float64\n",
      " 11  primary_cleaner.state.floatbank8_d_air      5290 non-null   float64\n",
      " 12  primary_cleaner.state.floatbank8_d_level    5290 non-null   float64\n",
      " 13  rougher.input.feed_ag                       5290 non-null   float64\n",
      " 14  rougher.input.feed_pb                       5290 non-null   float64\n",
      " 15  rougher.input.feed_rate                     5287 non-null   float64\n",
      " 16  rougher.input.feed_size                     5289 non-null   float64\n",
      " 17  rougher.input.feed_sol                      5269 non-null   float64\n",
      " 18  rougher.input.feed_au                       5290 non-null   float64\n",
      " 19  rougher.input.floatbank10_sulfate           5285 non-null   float64\n",
      " 20  rougher.input.floatbank10_xanthate          5290 non-null   float64\n",
      " 21  rougher.input.floatbank11_sulfate           5282 non-null   float64\n",
      " 22  rougher.input.floatbank11_xanthate          5265 non-null   float64\n",
      " 23  rougher.state.floatbank10_a_air             5290 non-null   float64\n",
      " 24  rougher.state.floatbank10_a_level           5290 non-null   float64\n",
      " 25  rougher.state.floatbank10_b_air             5290 non-null   float64\n",
      " 26  rougher.state.floatbank10_b_level           5290 non-null   float64\n",
      " 27  rougher.state.floatbank10_c_air             5290 non-null   float64\n",
      " 28  rougher.state.floatbank10_c_level           5290 non-null   float64\n",
      " 29  rougher.state.floatbank10_d_air             5290 non-null   float64\n",
      " 30  rougher.state.floatbank10_d_level           5290 non-null   float64\n",
      " 31  rougher.state.floatbank10_e_air             5290 non-null   float64\n",
      " 32  rougher.state.floatbank10_e_level           5290 non-null   float64\n",
      " 33  rougher.state.floatbank10_f_air             5290 non-null   float64\n",
      " 34  rougher.state.floatbank10_f_level           5290 non-null   float64\n",
      " 35  secondary_cleaner.state.floatbank2_a_air    5287 non-null   float64\n",
      " 36  secondary_cleaner.state.floatbank2_a_level  5290 non-null   float64\n",
      " 37  secondary_cleaner.state.floatbank2_b_air    5288 non-null   float64\n",
      " 38  secondary_cleaner.state.floatbank2_b_level  5290 non-null   float64\n",
      " 39  secondary_cleaner.state.floatbank3_a_air    5281 non-null   float64\n",
      " 40  secondary_cleaner.state.floatbank3_a_level  5290 non-null   float64\n",
      " 41  secondary_cleaner.state.floatbank3_b_air    5290 non-null   float64\n",
      " 42  secondary_cleaner.state.floatbank3_b_level  5290 non-null   float64\n",
      " 43  secondary_cleaner.state.floatbank4_a_air    5290 non-null   float64\n",
      " 44  secondary_cleaner.state.floatbank4_a_level  5290 non-null   float64\n",
      " 45  secondary_cleaner.state.floatbank4_b_air    5290 non-null   float64\n",
      " 46  secondary_cleaner.state.floatbank4_b_level  5290 non-null   float64\n",
      " 47  secondary_cleaner.state.floatbank5_a_air    5290 non-null   float64\n",
      " 48  secondary_cleaner.state.floatbank5_a_level  5290 non-null   float64\n",
      " 49  secondary_cleaner.state.floatbank5_b_air    5290 non-null   float64\n",
      " 50  secondary_cleaner.state.floatbank5_b_level  5290 non-null   float64\n",
      " 51  secondary_cleaner.state.floatbank6_a_air    5290 non-null   float64\n",
      " 52  secondary_cleaner.state.floatbank6_a_level  5290 non-null   float64\n",
      "dtypes: float64(52), object(1)\n",
      "memory usage: 2.1+ MB\n"
     ]
    }
   ],
   "source": [
    "data_test.info()"
   ]
  },
  {
   "cell_type": "code",
   "execution_count": 7,
   "metadata": {},
   "outputs": [
    {
     "data": {
      "text/html": [
       "<div>\n",
       "<style scoped>\n",
       "    .dataframe tbody tr th:only-of-type {\n",
       "        vertical-align: middle;\n",
       "    }\n",
       "\n",
       "    .dataframe tbody tr th {\n",
       "        vertical-align: top;\n",
       "    }\n",
       "\n",
       "    .dataframe thead th {\n",
       "        text-align: right;\n",
       "    }\n",
       "</style>\n",
       "<table border=\"1\" class=\"dataframe\">\n",
       "  <thead>\n",
       "    <tr style=\"text-align: right;\">\n",
       "      <th></th>\n",
       "      <th>date</th>\n",
       "      <th>final.output.concentrate_ag</th>\n",
       "      <th>final.output.concentrate_pb</th>\n",
       "      <th>final.output.concentrate_sol</th>\n",
       "      <th>final.output.concentrate_au</th>\n",
       "      <th>final.output.recovery</th>\n",
       "      <th>final.output.tail_ag</th>\n",
       "      <th>final.output.tail_pb</th>\n",
       "      <th>final.output.tail_sol</th>\n",
       "      <th>final.output.tail_au</th>\n",
       "      <th>...</th>\n",
       "      <th>secondary_cleaner.state.floatbank4_a_air</th>\n",
       "      <th>secondary_cleaner.state.floatbank4_a_level</th>\n",
       "      <th>secondary_cleaner.state.floatbank4_b_air</th>\n",
       "      <th>secondary_cleaner.state.floatbank4_b_level</th>\n",
       "      <th>secondary_cleaner.state.floatbank5_a_air</th>\n",
       "      <th>secondary_cleaner.state.floatbank5_a_level</th>\n",
       "      <th>secondary_cleaner.state.floatbank5_b_air</th>\n",
       "      <th>secondary_cleaner.state.floatbank5_b_level</th>\n",
       "      <th>secondary_cleaner.state.floatbank6_a_air</th>\n",
       "      <th>secondary_cleaner.state.floatbank6_a_level</th>\n",
       "    </tr>\n",
       "  </thead>\n",
       "  <tbody>\n",
       "    <tr>\n",
       "      <th>0</th>\n",
       "      <td>2016-01-15 00:00:00</td>\n",
       "      <td>6.055403</td>\n",
       "      <td>9.889648</td>\n",
       "      <td>5.507324</td>\n",
       "      <td>42.192020</td>\n",
       "      <td>70.541216</td>\n",
       "      <td>10.411962</td>\n",
       "      <td>0.895447</td>\n",
       "      <td>16.904297</td>\n",
       "      <td>2.143149</td>\n",
       "      <td>...</td>\n",
       "      <td>14.016835</td>\n",
       "      <td>-502.488007</td>\n",
       "      <td>12.099931</td>\n",
       "      <td>-504.715942</td>\n",
       "      <td>9.925633</td>\n",
       "      <td>-498.310211</td>\n",
       "      <td>8.079666</td>\n",
       "      <td>-500.470978</td>\n",
       "      <td>14.151341</td>\n",
       "      <td>-605.841980</td>\n",
       "    </tr>\n",
       "    <tr>\n",
       "      <th>1</th>\n",
       "      <td>2016-01-15 01:00:00</td>\n",
       "      <td>6.029369</td>\n",
       "      <td>9.968944</td>\n",
       "      <td>5.257781</td>\n",
       "      <td>42.701629</td>\n",
       "      <td>69.266198</td>\n",
       "      <td>10.462676</td>\n",
       "      <td>0.927452</td>\n",
       "      <td>16.634514</td>\n",
       "      <td>2.224930</td>\n",
       "      <td>...</td>\n",
       "      <td>13.992281</td>\n",
       "      <td>-505.503262</td>\n",
       "      <td>11.950531</td>\n",
       "      <td>-501.331529</td>\n",
       "      <td>10.039245</td>\n",
       "      <td>-500.169983</td>\n",
       "      <td>7.984757</td>\n",
       "      <td>-500.582168</td>\n",
       "      <td>13.998353</td>\n",
       "      <td>-599.787184</td>\n",
       "    </tr>\n",
       "    <tr>\n",
       "      <th>2</th>\n",
       "      <td>2016-01-15 02:00:00</td>\n",
       "      <td>6.055926</td>\n",
       "      <td>10.213995</td>\n",
       "      <td>5.383759</td>\n",
       "      <td>42.657501</td>\n",
       "      <td>68.116445</td>\n",
       "      <td>10.507046</td>\n",
       "      <td>0.953716</td>\n",
       "      <td>16.208849</td>\n",
       "      <td>2.257889</td>\n",
       "      <td>...</td>\n",
       "      <td>14.015015</td>\n",
       "      <td>-502.520901</td>\n",
       "      <td>11.912783</td>\n",
       "      <td>-501.133383</td>\n",
       "      <td>10.070913</td>\n",
       "      <td>-500.129135</td>\n",
       "      <td>8.013877</td>\n",
       "      <td>-500.517572</td>\n",
       "      <td>14.028663</td>\n",
       "      <td>-601.427363</td>\n",
       "    </tr>\n",
       "    <tr>\n",
       "      <th>3</th>\n",
       "      <td>2016-01-15 03:00:00</td>\n",
       "      <td>6.047977</td>\n",
       "      <td>9.977019</td>\n",
       "      <td>4.858634</td>\n",
       "      <td>42.689819</td>\n",
       "      <td>68.347543</td>\n",
       "      <td>10.422762</td>\n",
       "      <td>0.883763</td>\n",
       "      <td>16.532835</td>\n",
       "      <td>2.146849</td>\n",
       "      <td>...</td>\n",
       "      <td>14.036510</td>\n",
       "      <td>-500.857308</td>\n",
       "      <td>11.999550</td>\n",
       "      <td>-501.193686</td>\n",
       "      <td>9.970366</td>\n",
       "      <td>-499.201640</td>\n",
       "      <td>7.977324</td>\n",
       "      <td>-500.255908</td>\n",
       "      <td>14.005551</td>\n",
       "      <td>-599.996129</td>\n",
       "    </tr>\n",
       "    <tr>\n",
       "      <th>4</th>\n",
       "      <td>2016-01-15 04:00:00</td>\n",
       "      <td>6.148599</td>\n",
       "      <td>10.142511</td>\n",
       "      <td>4.939416</td>\n",
       "      <td>42.774141</td>\n",
       "      <td>66.927016</td>\n",
       "      <td>10.360302</td>\n",
       "      <td>0.792826</td>\n",
       "      <td>16.525686</td>\n",
       "      <td>2.055292</td>\n",
       "      <td>...</td>\n",
       "      <td>14.027298</td>\n",
       "      <td>-499.838632</td>\n",
       "      <td>11.953070</td>\n",
       "      <td>-501.053894</td>\n",
       "      <td>9.925709</td>\n",
       "      <td>-501.686727</td>\n",
       "      <td>7.894242</td>\n",
       "      <td>-500.356035</td>\n",
       "      <td>13.996647</td>\n",
       "      <td>-601.496691</td>\n",
       "    </tr>\n",
       "  </tbody>\n",
       "</table>\n",
       "<p>5 rows × 87 columns</p>\n",
       "</div>"
      ],
      "text/plain": [
       "                  date  final.output.concentrate_ag  \\\n",
       "0  2016-01-15 00:00:00                     6.055403   \n",
       "1  2016-01-15 01:00:00                     6.029369   \n",
       "2  2016-01-15 02:00:00                     6.055926   \n",
       "3  2016-01-15 03:00:00                     6.047977   \n",
       "4  2016-01-15 04:00:00                     6.148599   \n",
       "\n",
       "   final.output.concentrate_pb  final.output.concentrate_sol  \\\n",
       "0                     9.889648                      5.507324   \n",
       "1                     9.968944                      5.257781   \n",
       "2                    10.213995                      5.383759   \n",
       "3                     9.977019                      4.858634   \n",
       "4                    10.142511                      4.939416   \n",
       "\n",
       "   final.output.concentrate_au  final.output.recovery  final.output.tail_ag  \\\n",
       "0                    42.192020              70.541216             10.411962   \n",
       "1                    42.701629              69.266198             10.462676   \n",
       "2                    42.657501              68.116445             10.507046   \n",
       "3                    42.689819              68.347543             10.422762   \n",
       "4                    42.774141              66.927016             10.360302   \n",
       "\n",
       "   final.output.tail_pb  final.output.tail_sol  final.output.tail_au  ...  \\\n",
       "0              0.895447              16.904297              2.143149  ...   \n",
       "1              0.927452              16.634514              2.224930  ...   \n",
       "2              0.953716              16.208849              2.257889  ...   \n",
       "3              0.883763              16.532835              2.146849  ...   \n",
       "4              0.792826              16.525686              2.055292  ...   \n",
       "\n",
       "   secondary_cleaner.state.floatbank4_a_air  \\\n",
       "0                                 14.016835   \n",
       "1                                 13.992281   \n",
       "2                                 14.015015   \n",
       "3                                 14.036510   \n",
       "4                                 14.027298   \n",
       "\n",
       "   secondary_cleaner.state.floatbank4_a_level  \\\n",
       "0                                 -502.488007   \n",
       "1                                 -505.503262   \n",
       "2                                 -502.520901   \n",
       "3                                 -500.857308   \n",
       "4                                 -499.838632   \n",
       "\n",
       "   secondary_cleaner.state.floatbank4_b_air  \\\n",
       "0                                 12.099931   \n",
       "1                                 11.950531   \n",
       "2                                 11.912783   \n",
       "3                                 11.999550   \n",
       "4                                 11.953070   \n",
       "\n",
       "   secondary_cleaner.state.floatbank4_b_level  \\\n",
       "0                                 -504.715942   \n",
       "1                                 -501.331529   \n",
       "2                                 -501.133383   \n",
       "3                                 -501.193686   \n",
       "4                                 -501.053894   \n",
       "\n",
       "   secondary_cleaner.state.floatbank5_a_air  \\\n",
       "0                                  9.925633   \n",
       "1                                 10.039245   \n",
       "2                                 10.070913   \n",
       "3                                  9.970366   \n",
       "4                                  9.925709   \n",
       "\n",
       "   secondary_cleaner.state.floatbank5_a_level  \\\n",
       "0                                 -498.310211   \n",
       "1                                 -500.169983   \n",
       "2                                 -500.129135   \n",
       "3                                 -499.201640   \n",
       "4                                 -501.686727   \n",
       "\n",
       "   secondary_cleaner.state.floatbank5_b_air  \\\n",
       "0                                  8.079666   \n",
       "1                                  7.984757   \n",
       "2                                  8.013877   \n",
       "3                                  7.977324   \n",
       "4                                  7.894242   \n",
       "\n",
       "   secondary_cleaner.state.floatbank5_b_level  \\\n",
       "0                                 -500.470978   \n",
       "1                                 -500.582168   \n",
       "2                                 -500.517572   \n",
       "3                                 -500.255908   \n",
       "4                                 -500.356035   \n",
       "\n",
       "   secondary_cleaner.state.floatbank6_a_air  \\\n",
       "0                                 14.151341   \n",
       "1                                 13.998353   \n",
       "2                                 14.028663   \n",
       "3                                 14.005551   \n",
       "4                                 13.996647   \n",
       "\n",
       "   secondary_cleaner.state.floatbank6_a_level  \n",
       "0                                 -605.841980  \n",
       "1                                 -599.787184  \n",
       "2                                 -601.427363  \n",
       "3                                 -599.996129  \n",
       "4                                 -601.496691  \n",
       "\n",
       "[5 rows x 87 columns]"
      ]
     },
     "execution_count": 7,
     "metadata": {},
     "output_type": "execute_result"
    }
   ],
   "source": [
    "data_full.head(5)"
   ]
  },
  {
   "cell_type": "code",
   "execution_count": 8,
   "metadata": {},
   "outputs": [
    {
     "name": "stdout",
     "output_type": "stream",
     "text": [
      "<class 'pandas.core.frame.DataFrame'>\n",
      "RangeIndex: 19439 entries, 0 to 19438\n",
      "Data columns (total 87 columns):\n",
      " #   Column                                              Non-Null Count  Dtype  \n",
      "---  ------                                              --------------  -----  \n",
      " 0   date                                                19439 non-null  object \n",
      " 1   final.output.concentrate_ag                         19438 non-null  float64\n",
      " 2   final.output.concentrate_pb                         19438 non-null  float64\n",
      " 3   final.output.concentrate_sol                        19228 non-null  float64\n",
      " 4   final.output.concentrate_au                         19439 non-null  float64\n",
      " 5   final.output.recovery                               19439 non-null  float64\n",
      " 6   final.output.tail_ag                                19438 non-null  float64\n",
      " 7   final.output.tail_pb                                19338 non-null  float64\n",
      " 8   final.output.tail_sol                               19433 non-null  float64\n",
      " 9   final.output.tail_au                                19439 non-null  float64\n",
      " 10  primary_cleaner.input.sulfate                       19415 non-null  float64\n",
      " 11  primary_cleaner.input.depressant                    19402 non-null  float64\n",
      " 12  primary_cleaner.input.feed_size                     19439 non-null  float64\n",
      " 13  primary_cleaner.input.xanthate                      19335 non-null  float64\n",
      " 14  primary_cleaner.output.concentrate_ag               19439 non-null  float64\n",
      " 15  primary_cleaner.output.concentrate_pb               19323 non-null  float64\n",
      " 16  primary_cleaner.output.concentrate_sol              19069 non-null  float64\n",
      " 17  primary_cleaner.output.concentrate_au               19439 non-null  float64\n",
      " 18  primary_cleaner.output.tail_ag                      19435 non-null  float64\n",
      " 19  primary_cleaner.output.tail_pb                      19418 non-null  float64\n",
      " 20  primary_cleaner.output.tail_sol                     19377 non-null  float64\n",
      " 21  primary_cleaner.output.tail_au                      19439 non-null  float64\n",
      " 22  primary_cleaner.state.floatbank8_a_air              19435 non-null  float64\n",
      " 23  primary_cleaner.state.floatbank8_a_level            19438 non-null  float64\n",
      " 24  primary_cleaner.state.floatbank8_b_air              19435 non-null  float64\n",
      " 25  primary_cleaner.state.floatbank8_b_level            19438 non-null  float64\n",
      " 26  primary_cleaner.state.floatbank8_c_air              19437 non-null  float64\n",
      " 27  primary_cleaner.state.floatbank8_c_level            19438 non-null  float64\n",
      " 28  primary_cleaner.state.floatbank8_d_air              19436 non-null  float64\n",
      " 29  primary_cleaner.state.floatbank8_d_level            19438 non-null  float64\n",
      " 30  rougher.calculation.sulfate_to_au_concentrate       19437 non-null  float64\n",
      " 31  rougher.calculation.floatbank10_sulfate_to_au_feed  19437 non-null  float64\n",
      " 32  rougher.calculation.floatbank11_sulfate_to_au_feed  19437 non-null  float64\n",
      " 33  rougher.calculation.au_pb_ratio                     19439 non-null  float64\n",
      " 34  rougher.input.feed_ag                               19439 non-null  float64\n",
      " 35  rougher.input.feed_pb                               19339 non-null  float64\n",
      " 36  rougher.input.feed_rate                             19428 non-null  float64\n",
      " 37  rougher.input.feed_size                             19294 non-null  float64\n",
      " 38  rougher.input.feed_sol                              19340 non-null  float64\n",
      " 39  rougher.input.feed_au                               19439 non-null  float64\n",
      " 40  rougher.input.floatbank10_sulfate                   19405 non-null  float64\n",
      " 41  rougher.input.floatbank10_xanthate                  19431 non-null  float64\n",
      " 42  rougher.input.floatbank11_sulfate                   19395 non-null  float64\n",
      " 43  rougher.input.floatbank11_xanthate                  18986 non-null  float64\n",
      " 44  rougher.output.concentrate_ag                       19439 non-null  float64\n",
      " 45  rougher.output.concentrate_pb                       19439 non-null  float64\n",
      " 46  rougher.output.concentrate_sol                      19416 non-null  float64\n",
      " 47  rougher.output.concentrate_au                       19439 non-null  float64\n",
      " 48  rougher.output.recovery                             19439 non-null  float64\n",
      " 49  rougher.output.tail_ag                              19438 non-null  float64\n",
      " 50  rougher.output.tail_pb                              19439 non-null  float64\n",
      " 51  rougher.output.tail_sol                             19439 non-null  float64\n",
      " 52  rougher.output.tail_au                              19439 non-null  float64\n",
      " 53  rougher.state.floatbank10_a_air                     19438 non-null  float64\n",
      " 54  rougher.state.floatbank10_a_level                   19438 non-null  float64\n",
      " 55  rougher.state.floatbank10_b_air                     19438 non-null  float64\n",
      " 56  rougher.state.floatbank10_b_level                   19438 non-null  float64\n",
      " 57  rougher.state.floatbank10_c_air                     19438 non-null  float64\n",
      " 58  rougher.state.floatbank10_c_level                   19438 non-null  float64\n",
      " 59  rougher.state.floatbank10_d_air                     19439 non-null  float64\n",
      " 60  rougher.state.floatbank10_d_level                   19439 non-null  float64\n",
      " 61  rougher.state.floatbank10_e_air                     19003 non-null  float64\n",
      " 62  rougher.state.floatbank10_e_level                   19439 non-null  float64\n",
      " 63  rougher.state.floatbank10_f_air                     19439 non-null  float64\n",
      " 64  rougher.state.floatbank10_f_level                   19439 non-null  float64\n",
      " 65  secondary_cleaner.output.tail_ag                    19437 non-null  float64\n",
      " 66  secondary_cleaner.output.tail_pb                    19427 non-null  float64\n",
      " 67  secondary_cleaner.output.tail_sol                   17691 non-null  float64\n",
      " 68  secondary_cleaner.output.tail_au                    19439 non-null  float64\n",
      " 69  secondary_cleaner.state.floatbank2_a_air            19219 non-null  float64\n",
      " 70  secondary_cleaner.state.floatbank2_a_level          19438 non-null  float64\n",
      " 71  secondary_cleaner.state.floatbank2_b_air            19416 non-null  float64\n",
      " 72  secondary_cleaner.state.floatbank2_b_level          19438 non-null  float64\n",
      " 73  secondary_cleaner.state.floatbank3_a_air            19426 non-null  float64\n",
      " 74  secondary_cleaner.state.floatbank3_a_level          19438 non-null  float64\n",
      " 75  secondary_cleaner.state.floatbank3_b_air            19438 non-null  float64\n",
      " 76  secondary_cleaner.state.floatbank3_b_level          19438 non-null  float64\n",
      " 77  secondary_cleaner.state.floatbank4_a_air            19433 non-null  float64\n",
      " 78  secondary_cleaner.state.floatbank4_a_level          19438 non-null  float64\n",
      " 79  secondary_cleaner.state.floatbank4_b_air            19438 non-null  float64\n",
      " 80  secondary_cleaner.state.floatbank4_b_level          19438 non-null  float64\n",
      " 81  secondary_cleaner.state.floatbank5_a_air            19438 non-null  float64\n",
      " 82  secondary_cleaner.state.floatbank5_a_level          19438 non-null  float64\n",
      " 83  secondary_cleaner.state.floatbank5_b_air            19438 non-null  float64\n",
      " 84  secondary_cleaner.state.floatbank5_b_level          19438 non-null  float64\n",
      " 85  secondary_cleaner.state.floatbank6_a_air            19437 non-null  float64\n",
      " 86  secondary_cleaner.state.floatbank6_a_level          19438 non-null  float64\n",
      "dtypes: float64(86), object(1)\n",
      "memory usage: 12.9+ MB\n"
     ]
    }
   ],
   "source": [
    "data_full.info()"
   ]
  },
  {
   "cell_type": "markdown",
   "metadata": {},
   "source": [
    "Итак, были загружены и изучены датасеты. Присутствуют пропуски. Столбец 'date' необходимо перевести в формат даты"
   ]
  },
  {
   "cell_type": "markdown",
   "metadata": {},
   "source": [
    "Сделаем это:"
   ]
  },
  {
   "cell_type": "code",
   "execution_count": 9,
   "metadata": {},
   "outputs": [],
   "source": [
    "data_train['date'] = pd.to_datetime(data_train['date'], format='%Y-%m-%d %H:%M:%S')\n",
    "data_test['date'] = pd.to_datetime(data_test['date'], format='%Y-%m-%d %H:%M:%S')\n",
    "data_full['date'] = pd.to_datetime(data_full['date'], format='%Y-%m-%d %H:%M:%S')"
   ]
  },
  {
   "cell_type": "markdown",
   "metadata": {},
   "source": [
    "### Вычисление эффективности обогащения"
   ]
  },
  {
   "cell_type": "markdown",
   "metadata": {},
   "source": [
    "Для этого нам нужна обучающая выборка"
   ]
  },
  {
   "cell_type": "code",
   "execution_count": 10,
   "metadata": {},
   "outputs": [
    {
     "data": {
      "text/plain": [
       "0        87.107763\n",
       "1        86.843261\n",
       "2        86.842308\n",
       "3        87.226430\n",
       "4        86.688794\n",
       "           ...    \n",
       "14144    89.574376\n",
       "14145    87.724007\n",
       "14146    88.890579\n",
       "14147    89.858126\n",
       "14148    89.514960\n",
       "Name: rougher.output.recovery, Length: 14149, dtype: float64"
      ]
     },
     "execution_count": 10,
     "metadata": {},
     "output_type": "execute_result"
    }
   ],
   "source": [
    "data_train['rougher.output.recovery']"
   ]
  },
  {
   "cell_type": "markdown",
   "metadata": {},
   "source": [
    "Чтобы вычислить ее самостоятельно, нам потребуется формула:"
   ]
  },
  {
   "cell_type": "markdown",
   "metadata": {},
   "source": [
    "recovery = (C * (F - T) / (F * (C - T))) * 100%\n",
    "\n",
    "где:\n",
    "- C — доля золота в концентрате после флотации/очистки;\n",
    "- F — доля золота в сырье/концентрате до флотации/очистки;\n",
    "- T — доля золота в отвальных хвостах после флотации/очистки."
   ]
  },
  {
   "cell_type": "markdown",
   "metadata": {},
   "source": [
    "Так как у нас обогащение, то нам нужны столбцы:\n",
    "\n",
    "- rougher.input.feed_au - доля золота до флотации\n",
    "- rougher.output.tail_au - доля золота в хвостах после флотации\n",
    "- rougher.output.concentrate_au - доля золота после флотации"
   ]
  },
  {
   "cell_type": "code",
   "execution_count": 11,
   "metadata": {},
   "outputs": [
    {
     "data": {
      "text/html": [
       "<div>\n",
       "<style scoped>\n",
       "    .dataframe tbody tr th:only-of-type {\n",
       "        vertical-align: middle;\n",
       "    }\n",
       "\n",
       "    .dataframe tbody tr th {\n",
       "        vertical-align: top;\n",
       "    }\n",
       "\n",
       "    .dataframe thead th {\n",
       "        text-align: right;\n",
       "    }\n",
       "</style>\n",
       "<table border=\"1\" class=\"dataframe\">\n",
       "  <thead>\n",
       "    <tr style=\"text-align: right;\">\n",
       "      <th></th>\n",
       "      <th>rougher.input.feed_au</th>\n",
       "      <th>rougher.output.tail_au</th>\n",
       "      <th>rougher.output.concentrate_au</th>\n",
       "    </tr>\n",
       "  </thead>\n",
       "  <tbody>\n",
       "    <tr>\n",
       "      <th>0</th>\n",
       "      <td>6.486150</td>\n",
       "      <td>1.170244</td>\n",
       "      <td>19.793808</td>\n",
       "    </tr>\n",
       "    <tr>\n",
       "      <th>1</th>\n",
       "      <td>6.478583</td>\n",
       "      <td>1.184827</td>\n",
       "      <td>20.050975</td>\n",
       "    </tr>\n",
       "    <tr>\n",
       "      <th>2</th>\n",
       "      <td>6.362222</td>\n",
       "      <td>1.162562</td>\n",
       "      <td>19.737170</td>\n",
       "    </tr>\n",
       "    <tr>\n",
       "      <th>3</th>\n",
       "      <td>6.118189</td>\n",
       "      <td>1.079755</td>\n",
       "      <td>19.320810</td>\n",
       "    </tr>\n",
       "    <tr>\n",
       "      <th>4</th>\n",
       "      <td>5.663707</td>\n",
       "      <td>1.012642</td>\n",
       "      <td>19.216101</td>\n",
       "    </tr>\n",
       "    <tr>\n",
       "      <th>...</th>\n",
       "      <td>...</td>\n",
       "      <td>...</td>\n",
       "      <td>...</td>\n",
       "    </tr>\n",
       "    <tr>\n",
       "      <th>14144</th>\n",
       "      <td>5.335862</td>\n",
       "      <td>0.748633</td>\n",
       "      <td>18.603550</td>\n",
       "    </tr>\n",
       "    <tr>\n",
       "      <th>14145</th>\n",
       "      <td>4.838619</td>\n",
       "      <td>0.771582</td>\n",
       "      <td>18.441436</td>\n",
       "    </tr>\n",
       "    <tr>\n",
       "      <th>14146</th>\n",
       "      <td>4.525061</td>\n",
       "      <td>0.685059</td>\n",
       "      <td>15.111231</td>\n",
       "    </tr>\n",
       "    <tr>\n",
       "      <th>14147</th>\n",
       "      <td>4.362781</td>\n",
       "      <td>0.567130</td>\n",
       "      <td>17.834772</td>\n",
       "    </tr>\n",
       "    <tr>\n",
       "      <th>14148</th>\n",
       "      <td>4.365491</td>\n",
       "      <td>0.586439</td>\n",
       "      <td>17.804134</td>\n",
       "    </tr>\n",
       "  </tbody>\n",
       "</table>\n",
       "<p>14149 rows × 3 columns</p>\n",
       "</div>"
      ],
      "text/plain": [
       "       rougher.input.feed_au  rougher.output.tail_au  \\\n",
       "0                   6.486150                1.170244   \n",
       "1                   6.478583                1.184827   \n",
       "2                   6.362222                1.162562   \n",
       "3                   6.118189                1.079755   \n",
       "4                   5.663707                1.012642   \n",
       "...                      ...                     ...   \n",
       "14144               5.335862                0.748633   \n",
       "14145               4.838619                0.771582   \n",
       "14146               4.525061                0.685059   \n",
       "14147               4.362781                0.567130   \n",
       "14148               4.365491                0.586439   \n",
       "\n",
       "       rougher.output.concentrate_au  \n",
       "0                          19.793808  \n",
       "1                          20.050975  \n",
       "2                          19.737170  \n",
       "3                          19.320810  \n",
       "4                          19.216101  \n",
       "...                              ...  \n",
       "14144                      18.603550  \n",
       "14145                      18.441436  \n",
       "14146                      15.111231  \n",
       "14147                      17.834772  \n",
       "14148                      17.804134  \n",
       "\n",
       "[14149 rows x 3 columns]"
      ]
     },
     "execution_count": 11,
     "metadata": {},
     "output_type": "execute_result"
    }
   ],
   "source": [
    "data_train[['rougher.input.feed_au', 'rougher.output.tail_au', 'rougher.output.concentrate_au']]"
   ]
  },
  {
   "cell_type": "code",
   "execution_count": 12,
   "metadata": {},
   "outputs": [],
   "source": [
    "rougher_recovery = \\\n",
    "    (data_train['rougher.output.concentrate_au'] * (data_train['rougher.input.feed_au'] - data_train['rougher.output.tail_au']) / \\\n",
    "                (data_train['rougher.input.feed_au'] * \\\n",
    "                (data_train['rougher.output.concentrate_au'] - data_train['rougher.output.tail_au']))) * 100\n"
   ]
  },
  {
   "cell_type": "code",
   "execution_count": 13,
   "metadata": {},
   "outputs": [
    {
     "data": {
      "text/plain": [
       "0        87.107763\n",
       "1        86.843261\n",
       "2        86.842308\n",
       "3        87.226430\n",
       "4        86.688794\n",
       "           ...    \n",
       "14144    89.574376\n",
       "14145    87.724007\n",
       "14146    88.890579\n",
       "14147    89.858126\n",
       "14148    89.514960\n",
       "Length: 14149, dtype: float64"
      ]
     },
     "execution_count": 13,
     "metadata": {},
     "output_type": "execute_result"
    }
   ],
   "source": [
    "rougher_recovery"
   ]
  },
  {
   "cell_type": "code",
   "execution_count": 14,
   "metadata": {
    "scrolled": true
   },
   "outputs": [
    {
     "data": {
      "text/plain": [
       "0        87.107763\n",
       "1        86.843261\n",
       "2        86.842308\n",
       "3        87.226430\n",
       "4        86.688794\n",
       "           ...    \n",
       "14144    89.574376\n",
       "14145    87.724007\n",
       "14146    88.890579\n",
       "14147    89.858126\n",
       "14148    89.514960\n",
       "Name: rougher.output.recovery, Length: 14149, dtype: float64"
      ]
     },
     "execution_count": 14,
     "metadata": {},
     "output_type": "execute_result"
    }
   ],
   "source": [
    "data_train['rougher.output.recovery']"
   ]
  },
  {
   "cell_type": "markdown",
   "metadata": {},
   "source": [
    "Теперь посчитаем MAE"
   ]
  },
  {
   "cell_type": "code",
   "execution_count": 15,
   "metadata": {},
   "outputs": [],
   "source": [
    "mae = mean_squared_error(rougher_recovery, data_train['rougher.output.recovery'])"
   ]
  },
  {
   "cell_type": "code",
   "execution_count": 16,
   "metadata": {},
   "outputs": [
    {
     "data": {
      "text/plain": [
       "2.1207417887083724e-28"
      ]
     },
     "execution_count": 16,
     "metadata": {},
     "output_type": "execute_result"
    }
   ],
   "source": [
    "mae"
   ]
  },
  {
   "cell_type": "markdown",
   "metadata": {},
   "source": [
    "#### Вывод:"
   ]
  },
  {
   "cell_type": "markdown",
   "metadata": {},
   "source": [
    "MAE стремится к нулю. Значит, что обогащение рассчитано верно!"
   ]
  },
  {
   "cell_type": "markdown",
   "metadata": {},
   "source": [
    "### Анализ признаков, недоступных в тестовой выборке"
   ]
  },
  {
   "cell_type": "code",
   "execution_count": 17,
   "metadata": {},
   "outputs": [],
   "source": [
    "columns_train = data_train.columns"
   ]
  },
  {
   "cell_type": "code",
   "execution_count": 18,
   "metadata": {},
   "outputs": [],
   "source": [
    "columns_test = data_test.columns"
   ]
  },
  {
   "cell_type": "markdown",
   "metadata": {},
   "source": [
    "Мысль такая: циклом пробежаться по списку обучающей выборки и если какого-то элемента списка нет в тестовой выборке, то добавляем его в список"
   ]
  },
  {
   "cell_type": "code",
   "execution_count": 19,
   "metadata": {},
   "outputs": [],
   "source": [
    "my_list = []\n",
    "for element in columns_train:\n",
    "    if element not in columns_test:\n",
    "        my_list.append(element)"
   ]
  },
  {
   "cell_type": "code",
   "execution_count": 20,
   "metadata": {},
   "outputs": [
    {
     "data": {
      "text/plain": [
       "['final.output.concentrate_ag',\n",
       " 'final.output.concentrate_pb',\n",
       " 'final.output.concentrate_sol',\n",
       " 'final.output.concentrate_au',\n",
       " 'final.output.recovery',\n",
       " 'final.output.tail_ag',\n",
       " 'final.output.tail_pb',\n",
       " 'final.output.tail_sol',\n",
       " 'final.output.tail_au',\n",
       " 'primary_cleaner.output.concentrate_ag',\n",
       " 'primary_cleaner.output.concentrate_pb',\n",
       " 'primary_cleaner.output.concentrate_sol',\n",
       " 'primary_cleaner.output.concentrate_au',\n",
       " 'primary_cleaner.output.tail_ag',\n",
       " 'primary_cleaner.output.tail_pb',\n",
       " 'primary_cleaner.output.tail_sol',\n",
       " 'primary_cleaner.output.tail_au',\n",
       " 'rougher.calculation.sulfate_to_au_concentrate',\n",
       " 'rougher.calculation.floatbank10_sulfate_to_au_feed',\n",
       " 'rougher.calculation.floatbank11_sulfate_to_au_feed',\n",
       " 'rougher.calculation.au_pb_ratio',\n",
       " 'rougher.output.concentrate_ag',\n",
       " 'rougher.output.concentrate_pb',\n",
       " 'rougher.output.concentrate_sol',\n",
       " 'rougher.output.concentrate_au',\n",
       " 'rougher.output.recovery',\n",
       " 'rougher.output.tail_ag',\n",
       " 'rougher.output.tail_pb',\n",
       " 'rougher.output.tail_sol',\n",
       " 'rougher.output.tail_au',\n",
       " 'secondary_cleaner.output.tail_ag',\n",
       " 'secondary_cleaner.output.tail_pb',\n",
       " 'secondary_cleaner.output.tail_sol',\n",
       " 'secondary_cleaner.output.tail_au']"
      ]
     },
     "execution_count": 20,
     "metadata": {},
     "output_type": "execute_result"
    }
   ],
   "source": [
    "my_list"
   ]
  },
  {
   "cell_type": "markdown",
   "metadata": {},
   "source": [
    "#### Вывод"
   ]
  },
  {
   "cell_type": "markdown",
   "metadata": {},
   "source": [
    "Таким образом можно сказать следующее: в тестовой выборке у нас отсутствуют итоговые параметры продукта после каждого этапа обработки. Это касается и хвостов, и концертрации веществ в продукте. Так же отсутствуют расчетные характеристики на этапе флотации и параметры эффективности обогащения на этапе флотации и на финальном этапе. Собственно, это то, что необходимо предсказать"
   ]
  },
  {
   "cell_type": "markdown",
   "metadata": {},
   "source": [
    "### Предоработка данных"
   ]
  },
  {
   "cell_type": "markdown",
   "metadata": {},
   "source": [
    "Давайте еще раз посмотрим на наши данные:"
   ]
  },
  {
   "cell_type": "code",
   "execution_count": 21,
   "metadata": {},
   "outputs": [
    {
     "name": "stdout",
     "output_type": "stream",
     "text": [
      "<class 'pandas.core.frame.DataFrame'>\n",
      "RangeIndex: 14149 entries, 0 to 14148\n",
      "Data columns (total 87 columns):\n",
      " #   Column                                              Non-Null Count  Dtype         \n",
      "---  ------                                              --------------  -----         \n",
      " 0   date                                                14149 non-null  datetime64[ns]\n",
      " 1   final.output.concentrate_ag                         14148 non-null  float64       \n",
      " 2   final.output.concentrate_pb                         14148 non-null  float64       \n",
      " 3   final.output.concentrate_sol                        13938 non-null  float64       \n",
      " 4   final.output.concentrate_au                         14149 non-null  float64       \n",
      " 5   final.output.recovery                               14149 non-null  float64       \n",
      " 6   final.output.tail_ag                                14149 non-null  float64       \n",
      " 7   final.output.tail_pb                                14049 non-null  float64       \n",
      " 8   final.output.tail_sol                               14144 non-null  float64       \n",
      " 9   final.output.tail_au                                14149 non-null  float64       \n",
      " 10  primary_cleaner.input.sulfate                       14129 non-null  float64       \n",
      " 11  primary_cleaner.input.depressant                    14117 non-null  float64       \n",
      " 12  primary_cleaner.input.feed_size                     14149 non-null  float64       \n",
      " 13  primary_cleaner.input.xanthate                      14049 non-null  float64       \n",
      " 14  primary_cleaner.output.concentrate_ag               14149 non-null  float64       \n",
      " 15  primary_cleaner.output.concentrate_pb               14063 non-null  float64       \n",
      " 16  primary_cleaner.output.concentrate_sol              13863 non-null  float64       \n",
      " 17  primary_cleaner.output.concentrate_au               14149 non-null  float64       \n",
      " 18  primary_cleaner.output.tail_ag                      14148 non-null  float64       \n",
      " 19  primary_cleaner.output.tail_pb                      14134 non-null  float64       \n",
      " 20  primary_cleaner.output.tail_sol                     14103 non-null  float64       \n",
      " 21  primary_cleaner.output.tail_au                      14149 non-null  float64       \n",
      " 22  primary_cleaner.state.floatbank8_a_air              14145 non-null  float64       \n",
      " 23  primary_cleaner.state.floatbank8_a_level            14148 non-null  float64       \n",
      " 24  primary_cleaner.state.floatbank8_b_air              14145 non-null  float64       \n",
      " 25  primary_cleaner.state.floatbank8_b_level            14148 non-null  float64       \n",
      " 26  primary_cleaner.state.floatbank8_c_air              14147 non-null  float64       \n",
      " 27  primary_cleaner.state.floatbank8_c_level            14148 non-null  float64       \n",
      " 28  primary_cleaner.state.floatbank8_d_air              14146 non-null  float64       \n",
      " 29  primary_cleaner.state.floatbank8_d_level            14148 non-null  float64       \n",
      " 30  rougher.calculation.sulfate_to_au_concentrate       14148 non-null  float64       \n",
      " 31  rougher.calculation.floatbank10_sulfate_to_au_feed  14148 non-null  float64       \n",
      " 32  rougher.calculation.floatbank11_sulfate_to_au_feed  14148 non-null  float64       \n",
      " 33  rougher.calculation.au_pb_ratio                     14149 non-null  float64       \n",
      " 34  rougher.input.feed_ag                               14149 non-null  float64       \n",
      " 35  rougher.input.feed_pb                               14049 non-null  float64       \n",
      " 36  rougher.input.feed_rate                             14141 non-null  float64       \n",
      " 37  rougher.input.feed_size                             14005 non-null  float64       \n",
      " 38  rougher.input.feed_sol                              14071 non-null  float64       \n",
      " 39  rougher.input.feed_au                               14149 non-null  float64       \n",
      " 40  rougher.input.floatbank10_sulfate                   14120 non-null  float64       \n",
      " 41  rougher.input.floatbank10_xanthate                  14141 non-null  float64       \n",
      " 42  rougher.input.floatbank11_sulfate                   14113 non-null  float64       \n",
      " 43  rougher.input.floatbank11_xanthate                  13721 non-null  float64       \n",
      " 44  rougher.output.concentrate_ag                       14149 non-null  float64       \n",
      " 45  rougher.output.concentrate_pb                       14149 non-null  float64       \n",
      " 46  rougher.output.concentrate_sol                      14127 non-null  float64       \n",
      " 47  rougher.output.concentrate_au                       14149 non-null  float64       \n",
      " 48  rougher.output.recovery                             14149 non-null  float64       \n",
      " 49  rougher.output.tail_ag                              14148 non-null  float64       \n",
      " 50  rougher.output.tail_pb                              14149 non-null  float64       \n",
      " 51  rougher.output.tail_sol                             14149 non-null  float64       \n",
      " 52  rougher.output.tail_au                              14149 non-null  float64       \n",
      " 53  rougher.state.floatbank10_a_air                     14148 non-null  float64       \n",
      " 54  rougher.state.floatbank10_a_level                   14148 non-null  float64       \n",
      " 55  rougher.state.floatbank10_b_air                     14148 non-null  float64       \n",
      " 56  rougher.state.floatbank10_b_level                   14148 non-null  float64       \n",
      " 57  rougher.state.floatbank10_c_air                     14148 non-null  float64       \n",
      " 58  rougher.state.floatbank10_c_level                   14148 non-null  float64       \n",
      " 59  rougher.state.floatbank10_d_air                     14149 non-null  float64       \n",
      " 60  rougher.state.floatbank10_d_level                   14149 non-null  float64       \n",
      " 61  rougher.state.floatbank10_e_air                     13713 non-null  float64       \n",
      " 62  rougher.state.floatbank10_e_level                   14149 non-null  float64       \n",
      " 63  rougher.state.floatbank10_f_air                     14149 non-null  float64       \n",
      " 64  rougher.state.floatbank10_f_level                   14149 non-null  float64       \n",
      " 65  secondary_cleaner.output.tail_ag                    14147 non-null  float64       \n",
      " 66  secondary_cleaner.output.tail_pb                    14139 non-null  float64       \n",
      " 67  secondary_cleaner.output.tail_sol                   12544 non-null  float64       \n",
      " 68  secondary_cleaner.output.tail_au                    14149 non-null  float64       \n",
      " 69  secondary_cleaner.state.floatbank2_a_air            13932 non-null  float64       \n",
      " 70  secondary_cleaner.state.floatbank2_a_level          14148 non-null  float64       \n",
      " 71  secondary_cleaner.state.floatbank2_b_air            14128 non-null  float64       \n",
      " 72  secondary_cleaner.state.floatbank2_b_level          14148 non-null  float64       \n",
      " 73  secondary_cleaner.state.floatbank3_a_air            14145 non-null  float64       \n",
      " 74  secondary_cleaner.state.floatbank3_a_level          14148 non-null  float64       \n",
      " 75  secondary_cleaner.state.floatbank3_b_air            14148 non-null  float64       \n",
      " 76  secondary_cleaner.state.floatbank3_b_level          14148 non-null  float64       \n",
      " 77  secondary_cleaner.state.floatbank4_a_air            14143 non-null  float64       \n",
      " 78  secondary_cleaner.state.floatbank4_a_level          14148 non-null  float64       \n",
      " 79  secondary_cleaner.state.floatbank4_b_air            14148 non-null  float64       \n",
      " 80  secondary_cleaner.state.floatbank4_b_level          14148 non-null  float64       \n",
      " 81  secondary_cleaner.state.floatbank5_a_air            14148 non-null  float64       \n",
      " 82  secondary_cleaner.state.floatbank5_a_level          14148 non-null  float64       \n",
      " 83  secondary_cleaner.state.floatbank5_b_air            14148 non-null  float64       \n",
      " 84  secondary_cleaner.state.floatbank5_b_level          14148 non-null  float64       \n",
      " 85  secondary_cleaner.state.floatbank6_a_air            14147 non-null  float64       \n",
      " 86  secondary_cleaner.state.floatbank6_a_level          14148 non-null  float64       \n",
      "dtypes: datetime64[ns](1), float64(86)\n",
      "memory usage: 9.4 MB\n"
     ]
    }
   ],
   "source": [
    "data_train.info()"
   ]
  },
  {
   "cell_type": "markdown",
   "metadata": {},
   "source": [
    "Можно попробовать удалить строки с пропусками, только мы потеряем очень много данных. Я попробовал и удалилось аж 3000 строк. А это 20%"
   ]
  },
  {
   "cell_type": "markdown",
   "metadata": {},
   "source": [
    "Так же в описании проекта написано, что \"Соседние по времени параметры часто похожи\". Можно попробовать сделать следующее: если неизвестен какой-либо параметр, то его можно заменить на соседний по дате - то есть взять ту же дату, но само время взять на час меньше."
   ]
  },
  {
   "cell_type": "code",
   "execution_count": 22,
   "metadata": {},
   "outputs": [],
   "source": [
    "data_train = data_train.fillna(method='ffill')"
   ]
  },
  {
   "cell_type": "code",
   "execution_count": 23,
   "metadata": {},
   "outputs": [
    {
     "name": "stdout",
     "output_type": "stream",
     "text": [
      "<class 'pandas.core.frame.DataFrame'>\n",
      "RangeIndex: 14149 entries, 0 to 14148\n",
      "Data columns (total 87 columns):\n",
      " #   Column                                              Non-Null Count  Dtype         \n",
      "---  ------                                              --------------  -----         \n",
      " 0   date                                                14149 non-null  datetime64[ns]\n",
      " 1   final.output.concentrate_ag                         14149 non-null  float64       \n",
      " 2   final.output.concentrate_pb                         14149 non-null  float64       \n",
      " 3   final.output.concentrate_sol                        14149 non-null  float64       \n",
      " 4   final.output.concentrate_au                         14149 non-null  float64       \n",
      " 5   final.output.recovery                               14149 non-null  float64       \n",
      " 6   final.output.tail_ag                                14149 non-null  float64       \n",
      " 7   final.output.tail_pb                                14149 non-null  float64       \n",
      " 8   final.output.tail_sol                               14149 non-null  float64       \n",
      " 9   final.output.tail_au                                14149 non-null  float64       \n",
      " 10  primary_cleaner.input.sulfate                       14149 non-null  float64       \n",
      " 11  primary_cleaner.input.depressant                    14149 non-null  float64       \n",
      " 12  primary_cleaner.input.feed_size                     14149 non-null  float64       \n",
      " 13  primary_cleaner.input.xanthate                      14149 non-null  float64       \n",
      " 14  primary_cleaner.output.concentrate_ag               14149 non-null  float64       \n",
      " 15  primary_cleaner.output.concentrate_pb               14149 non-null  float64       \n",
      " 16  primary_cleaner.output.concentrate_sol              14149 non-null  float64       \n",
      " 17  primary_cleaner.output.concentrate_au               14149 non-null  float64       \n",
      " 18  primary_cleaner.output.tail_ag                      14149 non-null  float64       \n",
      " 19  primary_cleaner.output.tail_pb                      14149 non-null  float64       \n",
      " 20  primary_cleaner.output.tail_sol                     14149 non-null  float64       \n",
      " 21  primary_cleaner.output.tail_au                      14149 non-null  float64       \n",
      " 22  primary_cleaner.state.floatbank8_a_air              14149 non-null  float64       \n",
      " 23  primary_cleaner.state.floatbank8_a_level            14149 non-null  float64       \n",
      " 24  primary_cleaner.state.floatbank8_b_air              14149 non-null  float64       \n",
      " 25  primary_cleaner.state.floatbank8_b_level            14149 non-null  float64       \n",
      " 26  primary_cleaner.state.floatbank8_c_air              14149 non-null  float64       \n",
      " 27  primary_cleaner.state.floatbank8_c_level            14149 non-null  float64       \n",
      " 28  primary_cleaner.state.floatbank8_d_air              14149 non-null  float64       \n",
      " 29  primary_cleaner.state.floatbank8_d_level            14149 non-null  float64       \n",
      " 30  rougher.calculation.sulfate_to_au_concentrate       14149 non-null  float64       \n",
      " 31  rougher.calculation.floatbank10_sulfate_to_au_feed  14149 non-null  float64       \n",
      " 32  rougher.calculation.floatbank11_sulfate_to_au_feed  14149 non-null  float64       \n",
      " 33  rougher.calculation.au_pb_ratio                     14149 non-null  float64       \n",
      " 34  rougher.input.feed_ag                               14149 non-null  float64       \n",
      " 35  rougher.input.feed_pb                               14149 non-null  float64       \n",
      " 36  rougher.input.feed_rate                             14149 non-null  float64       \n",
      " 37  rougher.input.feed_size                             14149 non-null  float64       \n",
      " 38  rougher.input.feed_sol                              14149 non-null  float64       \n",
      " 39  rougher.input.feed_au                               14149 non-null  float64       \n",
      " 40  rougher.input.floatbank10_sulfate                   14149 non-null  float64       \n",
      " 41  rougher.input.floatbank10_xanthate                  14149 non-null  float64       \n",
      " 42  rougher.input.floatbank11_sulfate                   14149 non-null  float64       \n",
      " 43  rougher.input.floatbank11_xanthate                  14149 non-null  float64       \n",
      " 44  rougher.output.concentrate_ag                       14149 non-null  float64       \n",
      " 45  rougher.output.concentrate_pb                       14149 non-null  float64       \n",
      " 46  rougher.output.concentrate_sol                      14149 non-null  float64       \n",
      " 47  rougher.output.concentrate_au                       14149 non-null  float64       \n",
      " 48  rougher.output.recovery                             14149 non-null  float64       \n",
      " 49  rougher.output.tail_ag                              14149 non-null  float64       \n",
      " 50  rougher.output.tail_pb                              14149 non-null  float64       \n",
      " 51  rougher.output.tail_sol                             14149 non-null  float64       \n",
      " 52  rougher.output.tail_au                              14149 non-null  float64       \n",
      " 53  rougher.state.floatbank10_a_air                     14149 non-null  float64       \n",
      " 54  rougher.state.floatbank10_a_level                   14149 non-null  float64       \n",
      " 55  rougher.state.floatbank10_b_air                     14149 non-null  float64       \n",
      " 56  rougher.state.floatbank10_b_level                   14149 non-null  float64       \n",
      " 57  rougher.state.floatbank10_c_air                     14149 non-null  float64       \n",
      " 58  rougher.state.floatbank10_c_level                   14149 non-null  float64       \n",
      " 59  rougher.state.floatbank10_d_air                     14149 non-null  float64       \n",
      " 60  rougher.state.floatbank10_d_level                   14149 non-null  float64       \n",
      " 61  rougher.state.floatbank10_e_air                     14149 non-null  float64       \n",
      " 62  rougher.state.floatbank10_e_level                   14149 non-null  float64       \n",
      " 63  rougher.state.floatbank10_f_air                     14149 non-null  float64       \n",
      " 64  rougher.state.floatbank10_f_level                   14149 non-null  float64       \n",
      " 65  secondary_cleaner.output.tail_ag                    14149 non-null  float64       \n",
      " 66  secondary_cleaner.output.tail_pb                    14149 non-null  float64       \n",
      " 67  secondary_cleaner.output.tail_sol                   14149 non-null  float64       \n",
      " 68  secondary_cleaner.output.tail_au                    14149 non-null  float64       \n",
      " 69  secondary_cleaner.state.floatbank2_a_air            14149 non-null  float64       \n",
      " 70  secondary_cleaner.state.floatbank2_a_level          14149 non-null  float64       \n",
      " 71  secondary_cleaner.state.floatbank2_b_air            14149 non-null  float64       \n",
      " 72  secondary_cleaner.state.floatbank2_b_level          14149 non-null  float64       \n",
      " 73  secondary_cleaner.state.floatbank3_a_air            14149 non-null  float64       \n",
      " 74  secondary_cleaner.state.floatbank3_a_level          14149 non-null  float64       \n",
      " 75  secondary_cleaner.state.floatbank3_b_air            14149 non-null  float64       \n",
      " 76  secondary_cleaner.state.floatbank3_b_level          14149 non-null  float64       \n",
      " 77  secondary_cleaner.state.floatbank4_a_air            14149 non-null  float64       \n",
      " 78  secondary_cleaner.state.floatbank4_a_level          14149 non-null  float64       \n",
      " 79  secondary_cleaner.state.floatbank4_b_air            14149 non-null  float64       \n",
      " 80  secondary_cleaner.state.floatbank4_b_level          14149 non-null  float64       \n",
      " 81  secondary_cleaner.state.floatbank5_a_air            14149 non-null  float64       \n",
      " 82  secondary_cleaner.state.floatbank5_a_level          14149 non-null  float64       \n",
      " 83  secondary_cleaner.state.floatbank5_b_air            14149 non-null  float64       \n",
      " 84  secondary_cleaner.state.floatbank5_b_level          14149 non-null  float64       \n",
      " 85  secondary_cleaner.state.floatbank6_a_air            14149 non-null  float64       \n",
      " 86  secondary_cleaner.state.floatbank6_a_level          14149 non-null  float64       \n",
      "dtypes: datetime64[ns](1), float64(86)\n",
      "memory usage: 9.4 MB\n"
     ]
    }
   ],
   "source": [
    "data_train.info()"
   ]
  },
  {
   "cell_type": "markdown",
   "metadata": {},
   "source": [
    "От пропусков избавились"
   ]
  },
  {
   "cell_type": "markdown",
   "metadata": {},
   "source": [
    "## Анализ данных"
   ]
  },
  {
   "cell_type": "markdown",
   "metadata": {},
   "source": [
    "### Как меняется концентрация металлов (Au, Ag, Pb) на различных этапах очистки"
   ]
  },
  {
   "cell_type": "markdown",
   "metadata": {},
   "source": [
    "Чтобы построить графики, нам необходимы три величины: \n",
    "\n",
    "- final.output.concentrate - после финала\n",
    "- primary_cleaner.output.concentrate - после первичной очистки\n",
    "- rougher.output.concentrate - после флотации"
   ]
  },
  {
   "cell_type": "markdown",
   "metadata": {},
   "source": [
    "Нам предстоит три одинаковых действия, поэтому напишем функцию:"
   ]
  },
  {
   "cell_type": "code",
   "execution_count": 24,
   "metadata": {},
   "outputs": [],
   "source": [
    "def analysis(metal):\n",
    "    my_dict_au = {\n",
    "    'final.output.concentrate_au': 'Финал',\n",
    "    'primary_cleaner.output.concentrate_au' : 'Первичная очистка',\n",
    "    'rougher.output.concentrate_au': 'Флотация',\n",
    "    }\n",
    "    my_dict_ag = {\n",
    "    'final.output.concentrate_ag': 'Финал',\n",
    "    'primary_cleaner.output.concentrate_ag' : 'Первичная очистка',\n",
    "    'rougher.output.concentrate_ag': 'Флотация',\n",
    "    }\n",
    "    my_dict_pb = {\n",
    "    'final.output.concentrate_pb': 'Финал',\n",
    "    'primary_cleaner.output.concentrate_pb' : 'Первичная очистка',\n",
    "    'rougher.output.concentrate_pb': 'Флотация',\n",
    "    }\n",
    "    if metal == 'Au':\n",
    "        data_train[['final.output.concentrate_au', 'primary_cleaner.output.concentrate_au', 'rougher.output.concentrate_au']].median() \\\n",
    "            .rename(my_dict_au) \\\n",
    "            .sort_values(ascending=True).plot(kind='line', grid=True)\n",
    "        plt.title('Как меняется концентрация золота в зависимости от этапа ')\n",
    "        plt.xlabel('Этап')\n",
    "        plt.ylabel('Концентрация')\n",
    "        plt.show()\n",
    "    if metal == 'Ag':\n",
    "        data_train[['final.output.concentrate_ag', 'primary_cleaner.output.concentrate_ag', 'rougher.output.concentrate_ag']].median() \\\n",
    "            .rename(my_dict_ag) \\\n",
    "            .sort_values(ascending=False).plot(kind='line', grid=True)\n",
    "        plt.title('Как меняется концентрация серебра в зависимости от этапа ')\n",
    "        plt.xlabel('Этап')\n",
    "        plt.ylabel('Концентрация')\n",
    "        plt.show() \n",
    "    if metal == 'Pb':\n",
    "        data_train[['final.output.concentrate_pb', 'primary_cleaner.output.concentrate_pb', 'rougher.output.concentrate_pb']].median() \\\n",
    "            .rename(my_dict_pb) \\\n",
    "            .sort_values(ascending=True).plot(kind='line', grid=True)\n",
    "        plt.title('Как меняется концентрация свинца в зависимости от этапа ')\n",
    "        plt.xlabel('Этап')\n",
    "        plt.ylabel('Концентрация')\n",
    "        plt.show() \n",
    "    return    "
   ]
  },
  {
   "cell_type": "code",
   "execution_count": 25,
   "metadata": {},
   "outputs": [
    {
     "data": {
      "image/png": "[encoded data removed]",
      "text/plain": [
       "<Figure size 432x288 with 1 Axes>"
      ]
     },
     "metadata": {
      "needs_background": "light"
     },
     "output_type": "display_data"
    }
   ],
   "source": [
    "analysis('Au')"
   ]
  },
  {
   "cell_type": "markdown",
   "metadata": {},
   "source": [
    "Как видно из графика, концентрация золота растет"
   ]
  },
  {
   "cell_type": "code",
   "execution_count": 26,
   "metadata": {
    "scrolled": true
   },
   "outputs": [
    {
     "data": {
      "image/png": "[encoded data removed]",
      "text/plain": [
       "<Figure size 432x288 with 1 Axes>"
      ]
     },
     "metadata": {
      "needs_background": "light"
     },
     "output_type": "display_data"
    }
   ],
   "source": [
    "analysis('Ag')"
   ]
  },
  {
   "cell_type": "markdown",
   "metadata": {},
   "source": [
    "Как видно из графика, концентрация серебра падает"
   ]
  },
  {
   "cell_type": "code",
   "execution_count": 27,
   "metadata": {},
   "outputs": [
    {
     "data": {
      "image/png": "[encoded data removed]",
      "text/plain": [
       "<Figure size 432x288 with 1 Axes>"
      ]
     },
     "metadata": {
      "needs_background": "light"
     },
     "output_type": "display_data"
    }
   ],
   "source": [
    "analysis('Pb')"
   ]
  },
  {
   "cell_type": "markdown",
   "metadata": {},
   "source": [
    "Как видно из графика, концентрация свинца растет"
   ]
  },
  {
   "cell_type": "markdown",
   "metadata": {},
   "source": [
    "### Сравнение распределения размеров гранул сырья на обучающей и тестовой выборках"
   ]
  },
  {
   "cell_type": "markdown",
   "metadata": {},
   "source": [
    "За размер отвечает параметр 'feed_size'"
   ]
  },
  {
   "cell_type": "code",
   "execution_count": 28,
   "metadata": {
    "scrolled": false
   },
   "outputs": [
    {
     "data": {
      "image/png": "[encoded data removed]",
      "text/plain": [
       "<Figure size 720x720 with 1 Axes>"
      ]
     },
     "metadata": {
      "needs_background": "light"
     },
     "output_type": "display_data"
    }
   ],
   "source": [
    "data_train['rougher.input.feed_size'].hist(bins=50, figsize=(10,10))\n",
    "plt.title('Распределение размеров гранул сырья на обучающей выборке')\n",
    "plt.xlabel('Размер')\n",
    "plt.ylabel('Количество')\n",
    "plt.show()"
   ]
  },
  {
   "cell_type": "code",
   "execution_count": 29,
   "metadata": {},
   "outputs": [
    {
     "data": {
      "image/png": "[encoded data removed]",
      "text/plain": [
       "<Figure size 720x720 with 1 Axes>"
      ]
     },
     "metadata": {
      "needs_background": "light"
     },
     "output_type": "display_data"
    }
   ],
   "source": [
    "data_test['rougher.input.feed_size'].hist(bins=50, figsize=(10,10))\n",
    "plt.title('Распределение размеров гранул сырья на тестовой выборке')\n",
    "plt.xlabel('Размер')\n",
    "plt.ylabel('Количество')\n",
    "plt.show()"
   ]
  },
  {
   "cell_type": "markdown",
   "metadata": {},
   "source": [
    "Как можно заметить, и там и там у нас есть выбросы. Но в целом, распределения одинаковые"
   ]
  },
  {
   "cell_type": "markdown",
   "metadata": {},
   "source": [
    "Отбросим большие выбросы:"
   ]
  },
  {
   "cell_type": "code",
   "execution_count": 30,
   "metadata": {},
   "outputs": [
    {
     "name": "stdout",
     "output_type": "stream",
     "text": [
      "97.49382725093668\n",
      "40.07817371154804\n"
     ]
    }
   ],
   "source": [
    "print(data_train['rougher.input.feed_size'].quantile(q=0.975))\n",
    "print(data_train['rougher.input.feed_size'].quantile(q=0.025))"
   ]
  },
  {
   "cell_type": "code",
   "execution_count": 31,
   "metadata": {},
   "outputs": [
    {
     "data": {
      "image/png": "[encoded data removed]",
      "text/plain": [
       "<Figure size 720x720 with 1 Axes>"
      ]
     },
     "metadata": {
      "needs_background": "light"
     },
     "output_type": "display_data"
    }
   ],
   "source": [
    "data_train.loc[data_train['rougher.input.feed_size'] < 98]['rougher.input.feed_size'].hist(bins=50, figsize=(10,10))\n",
    "plt.title('Распределение размеров гранул сырья на обучающей выборке')\n",
    "plt.xlabel('Размер')\n",
    "plt.ylabel('Количество')\n",
    "plt.show()"
   ]
  },
  {
   "cell_type": "code",
   "execution_count": 32,
   "metadata": {},
   "outputs": [
    {
     "name": "stdout",
     "output_type": "stream",
     "text": [
      "94.18732493600208\n"
     ]
    }
   ],
   "source": [
    "print(data_test['rougher.input.feed_size'].quantile(q=0.975))"
   ]
  },
  {
   "cell_type": "code",
   "execution_count": 33,
   "metadata": {},
   "outputs": [
    {
     "name": "stdout",
     "output_type": "stream",
     "text": [
      "39.71979866422082\n"
     ]
    }
   ],
   "source": [
    "print(data_test['rougher.input.feed_size'].quantile(q=0.025))"
   ]
  },
  {
   "cell_type": "code",
   "execution_count": 34,
   "metadata": {},
   "outputs": [
    {
     "data": {
      "image/png": "[encoded data removed]",
      "text/plain": [
       "<Figure size 720x720 with 1 Axes>"
      ]
     },
     "metadata": {
      "needs_background": "light"
     },
     "output_type": "display_data"
    }
   ],
   "source": [
    "data_test.loc[data_test['rougher.input.feed_size'] < 100]['rougher.input.feed_size'].hist(bins=50, figsize=(10,10))\n",
    "plt.title('Распределение размеров гранул сырья на тестовой выборке')\n",
    "plt.xlabel('Размер')\n",
    "plt.ylabel('Количество')\n",
    "plt.show()"
   ]
  },
  {
   "cell_type": "markdown",
   "metadata": {},
   "source": [
    "#### Выводы"
   ]
  },
  {
   "cell_type": "markdown",
   "metadata": {},
   "source": [
    "Можно сказать, что они похожи. Один пик в плюс-минус одинаковом значении, правый хвост тоже похож"
   ]
  },
  {
   "cell_type": "markdown",
   "metadata": {},
   "source": [
    "### Исследование суммарной концентрации всех веществ на разных стадиях"
   ]
  },
  {
   "cell_type": "markdown",
   "metadata": {},
   "source": [
    "Добавим столбцы: \n",
    "    \n",
    "    - final_output_total_concentrate\n",
    "    - primary_cleaner_output_total_concentrate\n",
    "    - rougher_output_total_concentrate  "
   ]
  },
  {
   "cell_type": "code",
   "execution_count": 35,
   "metadata": {
    "scrolled": true
   },
   "outputs": [],
   "source": [
    "data_train['final_output_total_concentrate'] = data_train['final.output.concentrate_ag'] + data_train['final.output.concentrate_pb'] + \\\n",
    "                                                  data_train['final.output.concentrate_sol'] + data_train['final.output.concentrate_au']"
   ]
  },
  {
   "cell_type": "code",
   "execution_count": 36,
   "metadata": {},
   "outputs": [],
   "source": [
    "data_train['primary_cleaner_output_total_concentrate'] = data_train['primary_cleaner.output.concentrate_ag'] + data_train['primary_cleaner.output.concentrate_sol'] + \\\n",
    "                                                  data_train['primary_cleaner.output.concentrate_pb'] + data_train['primary_cleaner.output.concentrate_au']"
   ]
  },
  {
   "cell_type": "code",
   "execution_count": 37,
   "metadata": {},
   "outputs": [],
   "source": [
    "data_train['rougher_output_total_concentrate'] = data_train['rougher.output.concentrate_ag'] + data_train['rougher.output.concentrate_au'] + \\\n",
    "                                    data_train['rougher.output.concentrate_pb'] + data_train['rougher.output.concentrate_sol']"
   ]
  },
  {
   "cell_type": "markdown",
   "metadata": {},
   "source": [
    "Посмотрим на такие аномалии:"
   ]
  },
  {
   "cell_type": "code",
   "execution_count": 39,
   "metadata": {
    "scrolled": false
   },
   "outputs": [
    {
     "data": {
      "text/html": [
       "<div>\n",
       "<style scoped>\n",
       "    .dataframe tbody tr th:only-of-type {\n",
       "        vertical-align: middle;\n",
       "    }\n",
       "\n",
       "    .dataframe tbody tr th {\n",
       "        vertical-align: top;\n",
       "    }\n",
       "\n",
       "    .dataframe thead th {\n",
       "        text-align: right;\n",
       "    }\n",
       "</style>\n",
       "<table border=\"1\" class=\"dataframe\">\n",
       "  <thead>\n",
       "    <tr style=\"text-align: right;\">\n",
       "      <th></th>\n",
       "      <th>date</th>\n",
       "      <th>final.output.concentrate_ag</th>\n",
       "      <th>final.output.concentrate_pb</th>\n",
       "      <th>final.output.concentrate_sol</th>\n",
       "      <th>final.output.concentrate_au</th>\n",
       "      <th>final.output.recovery</th>\n",
       "      <th>final.output.tail_ag</th>\n",
       "      <th>final.output.tail_pb</th>\n",
       "      <th>final.output.tail_sol</th>\n",
       "      <th>final.output.tail_au</th>\n",
       "      <th>...</th>\n",
       "      <th>secondary_cleaner.state.floatbank4_b_level</th>\n",
       "      <th>secondary_cleaner.state.floatbank5_a_air</th>\n",
       "      <th>secondary_cleaner.state.floatbank5_a_level</th>\n",
       "      <th>secondary_cleaner.state.floatbank5_b_air</th>\n",
       "      <th>secondary_cleaner.state.floatbank5_b_level</th>\n",
       "      <th>secondary_cleaner.state.floatbank6_a_air</th>\n",
       "      <th>secondary_cleaner.state.floatbank6_a_level</th>\n",
       "      <th>final_output_total_concentrate</th>\n",
       "      <th>primary_cleaner_output_total_concentrate</th>\n",
       "      <th>rougher_output_total_concentrate</th>\n",
       "    </tr>\n",
       "  </thead>\n",
       "  <tbody>\n",
       "    <tr>\n",
       "      <th>19</th>\n",
       "      <td>2016-01-15 19:00:00</td>\n",
       "      <td>5.658943</td>\n",
       "      <td>10.436002</td>\n",
       "      <td>5.942418</td>\n",
       "      <td>42.509402</td>\n",
       "      <td>70.348300</td>\n",
       "      <td>10.232392</td>\n",
       "      <td>1.174845</td>\n",
       "      <td>19.498566</td>\n",
       "      <td>2.272460</td>\n",
       "      <td>...</td>\n",
       "      <td>-510.782166</td>\n",
       "      <td>10.032043</td>\n",
       "      <td>-499.128183</td>\n",
       "      <td>8.016140</td>\n",
       "      <td>-499.806844</td>\n",
       "      <td>13.949790</td>\n",
       "      <td>-600.140776</td>\n",
       "      <td>64.546766</td>\n",
       "      <td>0.000000</td>\n",
       "      <td>62.930764</td>\n",
       "    </tr>\n",
       "    <tr>\n",
       "      <th>22</th>\n",
       "      <td>2016-01-15 22:00:00</td>\n",
       "      <td>6.118749</td>\n",
       "      <td>10.483007</td>\n",
       "      <td>6.546983</td>\n",
       "      <td>41.406172</td>\n",
       "      <td>69.823900</td>\n",
       "      <td>10.322077</td>\n",
       "      <td>1.270956</td>\n",
       "      <td>19.384247</td>\n",
       "      <td>2.245145</td>\n",
       "      <td>...</td>\n",
       "      <td>-550.493894</td>\n",
       "      <td>9.985232</td>\n",
       "      <td>-499.796583</td>\n",
       "      <td>7.985524</td>\n",
       "      <td>-499.872153</td>\n",
       "      <td>13.973257</td>\n",
       "      <td>-600.054998</td>\n",
       "      <td>64.554911</td>\n",
       "      <td>0.000000</td>\n",
       "      <td>62.225893</td>\n",
       "    </tr>\n",
       "    <tr>\n",
       "      <th>30</th>\n",
       "      <td>2016-01-16 06:00:00</td>\n",
       "      <td>5.322681</td>\n",
       "      <td>9.577672</td>\n",
       "      <td>4.805490</td>\n",
       "      <td>44.059908</td>\n",
       "      <td>69.193840</td>\n",
       "      <td>10.334312</td>\n",
       "      <td>1.406355</td>\n",
       "      <td>19.923319</td>\n",
       "      <td>2.239310</td>\n",
       "      <td>...</td>\n",
       "      <td>-549.974630</td>\n",
       "      <td>9.969535</td>\n",
       "      <td>-499.350934</td>\n",
       "      <td>8.017975</td>\n",
       "      <td>-500.620850</td>\n",
       "      <td>11.999969</td>\n",
       "      <td>-600.315548</td>\n",
       "      <td>63.765751</td>\n",
       "      <td>0.000000</td>\n",
       "      <td>62.283147</td>\n",
       "    </tr>\n",
       "    <tr>\n",
       "      <th>45</th>\n",
       "      <td>2016-01-16 21:00:00</td>\n",
       "      <td>4.566664</td>\n",
       "      <td>10.406178</td>\n",
       "      <td>4.588698</td>\n",
       "      <td>46.614456</td>\n",
       "      <td>68.403877</td>\n",
       "      <td>10.705777</td>\n",
       "      <td>1.509070</td>\n",
       "      <td>17.875134</td>\n",
       "      <td>2.509776</td>\n",
       "      <td>...</td>\n",
       "      <td>-550.570104</td>\n",
       "      <td>10.052072</td>\n",
       "      <td>-500.797905</td>\n",
       "      <td>7.984500</td>\n",
       "      <td>-499.581046</td>\n",
       "      <td>11.982025</td>\n",
       "      <td>-599.161228</td>\n",
       "      <td>66.175996</td>\n",
       "      <td>74.992510</td>\n",
       "      <td>0.000000</td>\n",
       "    </tr>\n",
       "    <tr>\n",
       "      <th>46</th>\n",
       "      <td>2016-01-16 22:00:00</td>\n",
       "      <td>4.577832</td>\n",
       "      <td>10.691605</td>\n",
       "      <td>5.274175</td>\n",
       "      <td>46.250638</td>\n",
       "      <td>70.675633</td>\n",
       "      <td>10.728531</td>\n",
       "      <td>1.641216</td>\n",
       "      <td>18.349339</td>\n",
       "      <td>2.540843</td>\n",
       "      <td>...</td>\n",
       "      <td>-550.496522</td>\n",
       "      <td>9.953139</td>\n",
       "      <td>-500.330920</td>\n",
       "      <td>8.012074</td>\n",
       "      <td>-500.133530</td>\n",
       "      <td>11.975316</td>\n",
       "      <td>-598.839683</td>\n",
       "      <td>66.794250</td>\n",
       "      <td>75.187102</td>\n",
       "      <td>0.000000</td>\n",
       "    </tr>\n",
       "    <tr>\n",
       "      <th>...</th>\n",
       "      <td>...</td>\n",
       "      <td>...</td>\n",
       "      <td>...</td>\n",
       "      <td>...</td>\n",
       "      <td>...</td>\n",
       "      <td>...</td>\n",
       "      <td>...</td>\n",
       "      <td>...</td>\n",
       "      <td>...</td>\n",
       "      <td>...</td>\n",
       "      <td>...</td>\n",
       "      <td>...</td>\n",
       "      <td>...</td>\n",
       "      <td>...</td>\n",
       "      <td>...</td>\n",
       "      <td>...</td>\n",
       "      <td>...</td>\n",
       "      <td>...</td>\n",
       "      <td>...</td>\n",
       "      <td>...</td>\n",
       "      <td>...</td>\n",
       "    </tr>\n",
       "    <tr>\n",
       "      <th>10330</th>\n",
       "      <td>2018-02-11 23:59:59</td>\n",
       "      <td>4.909904</td>\n",
       "      <td>9.941006</td>\n",
       "      <td>8.191698</td>\n",
       "      <td>47.660737</td>\n",
       "      <td>83.597741</td>\n",
       "      <td>8.853800</td>\n",
       "      <td>0.717677</td>\n",
       "      <td>13.399798</td>\n",
       "      <td>1.515512</td>\n",
       "      <td>...</td>\n",
       "      <td>-500.386063</td>\n",
       "      <td>10.998883</td>\n",
       "      <td>-499.846204</td>\n",
       "      <td>8.972741</td>\n",
       "      <td>-500.118532</td>\n",
       "      <td>10.966205</td>\n",
       "      <td>-500.707126</td>\n",
       "      <td>70.703344</td>\n",
       "      <td>68.284696</td>\n",
       "      <td>0.000000</td>\n",
       "    </tr>\n",
       "    <tr>\n",
       "      <th>10331</th>\n",
       "      <td>2018-02-12 00:59:59</td>\n",
       "      <td>4.797572</td>\n",
       "      <td>9.889303</td>\n",
       "      <td>8.326773</td>\n",
       "      <td>47.801056</td>\n",
       "      <td>84.738648</td>\n",
       "      <td>8.503813</td>\n",
       "      <td>0.757507</td>\n",
       "      <td>13.591903</td>\n",
       "      <td>1.573222</td>\n",
       "      <td>...</td>\n",
       "      <td>-499.891798</td>\n",
       "      <td>11.010768</td>\n",
       "      <td>-494.562898</td>\n",
       "      <td>9.028307</td>\n",
       "      <td>-499.007596</td>\n",
       "      <td>10.978016</td>\n",
       "      <td>-497.924873</td>\n",
       "      <td>70.814703</td>\n",
       "      <td>68.539751</td>\n",
       "      <td>0.000000</td>\n",
       "    </tr>\n",
       "    <tr>\n",
       "      <th>10332</th>\n",
       "      <td>2018-02-12 01:59:59</td>\n",
       "      <td>4.329492</td>\n",
       "      <td>9.413122</td>\n",
       "      <td>8.173988</td>\n",
       "      <td>49.412576</td>\n",
       "      <td>73.519948</td>\n",
       "      <td>8.846540</td>\n",
       "      <td>1.479231</td>\n",
       "      <td>13.094763</td>\n",
       "      <td>2.760905</td>\n",
       "      <td>...</td>\n",
       "      <td>-499.873967</td>\n",
       "      <td>11.034954</td>\n",
       "      <td>-493.250025</td>\n",
       "      <td>9.029441</td>\n",
       "      <td>-480.953533</td>\n",
       "      <td>11.021042</td>\n",
       "      <td>-499.685577</td>\n",
       "      <td>71.329178</td>\n",
       "      <td>69.365785</td>\n",
       "      <td>0.000000</td>\n",
       "    </tr>\n",
       "    <tr>\n",
       "      <th>10333</th>\n",
       "      <td>2018-02-12 02:59:59</td>\n",
       "      <td>4.317169</td>\n",
       "      <td>9.642271</td>\n",
       "      <td>8.396492</td>\n",
       "      <td>48.839994</td>\n",
       "      <td>78.415342</td>\n",
       "      <td>8.485093</td>\n",
       "      <td>1.155559</td>\n",
       "      <td>13.380461</td>\n",
       "      <td>2.198065</td>\n",
       "      <td>...</td>\n",
       "      <td>-500.084773</td>\n",
       "      <td>10.972473</td>\n",
       "      <td>-511.806312</td>\n",
       "      <td>8.991251</td>\n",
       "      <td>-500.706169</td>\n",
       "      <td>10.990072</td>\n",
       "      <td>-499.775802</td>\n",
       "      <td>71.195925</td>\n",
       "      <td>69.325494</td>\n",
       "      <td>0.000000</td>\n",
       "    </tr>\n",
       "    <tr>\n",
       "      <th>10334</th>\n",
       "      <td>2018-02-12 03:59:59</td>\n",
       "      <td>4.772368</td>\n",
       "      <td>10.273324</td>\n",
       "      <td>8.756321</td>\n",
       "      <td>47.346243</td>\n",
       "      <td>81.353620</td>\n",
       "      <td>8.900304</td>\n",
       "      <td>0.954961</td>\n",
       "      <td>13.374091</td>\n",
       "      <td>1.847744</td>\n",
       "      <td>...</td>\n",
       "      <td>-499.902077</td>\n",
       "      <td>10.982694</td>\n",
       "      <td>-499.780753</td>\n",
       "      <td>8.932517</td>\n",
       "      <td>-500.147271</td>\n",
       "      <td>11.001657</td>\n",
       "      <td>-499.736922</td>\n",
       "      <td>71.148257</td>\n",
       "      <td>69.281619</td>\n",
       "      <td>0.000000</td>\n",
       "    </tr>\n",
       "  </tbody>\n",
       "</table>\n",
       "<p>424 rows × 90 columns</p>\n",
       "</div>"
      ],
      "text/plain": [
       "                     date  final.output.concentrate_ag  \\\n",
       "19    2016-01-15 19:00:00                     5.658943   \n",
       "22    2016-01-15 22:00:00                     6.118749   \n",
       "30    2016-01-16 06:00:00                     5.322681   \n",
       "45    2016-01-16 21:00:00                     4.566664   \n",
       "46    2016-01-16 22:00:00                     4.577832   \n",
       "...                   ...                          ...   \n",
       "10330 2018-02-11 23:59:59                     4.909904   \n",
       "10331 2018-02-12 00:59:59                     4.797572   \n",
       "10332 2018-02-12 01:59:59                     4.329492   \n",
       "10333 2018-02-12 02:59:59                     4.317169   \n",
       "10334 2018-02-12 03:59:59                     4.772368   \n",
       "\n",
       "       final.output.concentrate_pb  final.output.concentrate_sol  \\\n",
       "19                       10.436002                      5.942418   \n",
       "22                       10.483007                      6.546983   \n",
       "30                        9.577672                      4.805490   \n",
       "45                       10.406178                      4.588698   \n",
       "46                       10.691605                      5.274175   \n",
       "...                            ...                           ...   \n",
       "10330                     9.941006                      8.191698   \n",
       "10331                     9.889303                      8.326773   \n",
       "10332                     9.413122                      8.173988   \n",
       "10333                     9.642271                      8.396492   \n",
       "10334                    10.273324                      8.756321   \n",
       "\n",
       "       final.output.concentrate_au  final.output.recovery  \\\n",
       "19                       42.509402              70.348300   \n",
       "22                       41.406172              69.823900   \n",
       "30                       44.059908              69.193840   \n",
       "45                       46.614456              68.403877   \n",
       "46                       46.250638              70.675633   \n",
       "...                            ...                    ...   \n",
       "10330                    47.660737              83.597741   \n",
       "10331                    47.801056              84.738648   \n",
       "10332                    49.412576              73.519948   \n",
       "10333                    48.839994              78.415342   \n",
       "10334                    47.346243              81.353620   \n",
       "\n",
       "       final.output.tail_ag  final.output.tail_pb  final.output.tail_sol  \\\n",
       "19                10.232392              1.174845              19.498566   \n",
       "22                10.322077              1.270956              19.384247   \n",
       "30                10.334312              1.406355              19.923319   \n",
       "45                10.705777              1.509070              17.875134   \n",
       "46                10.728531              1.641216              18.349339   \n",
       "...                     ...                   ...                    ...   \n",
       "10330              8.853800              0.717677              13.399798   \n",
       "10331              8.503813              0.757507              13.591903   \n",
       "10332              8.846540              1.479231              13.094763   \n",
       "10333              8.485093              1.155559              13.380461   \n",
       "10334              8.900304              0.954961              13.374091   \n",
       "\n",
       "       final.output.tail_au  ...  secondary_cleaner.state.floatbank4_b_level  \\\n",
       "19                 2.272460  ...                                 -510.782166   \n",
       "22                 2.245145  ...                                 -550.493894   \n",
       "30                 2.239310  ...                                 -549.974630   \n",
       "45                 2.509776  ...                                 -550.570104   \n",
       "46                 2.540843  ...                                 -550.496522   \n",
       "...                     ...  ...                                         ...   \n",
       "10330              1.515512  ...                                 -500.386063   \n",
       "10331              1.573222  ...                                 -499.891798   \n",
       "10332              2.760905  ...                                 -499.873967   \n",
       "10333              2.198065  ...                                 -500.084773   \n",
       "10334              1.847744  ...                                 -499.902077   \n",
       "\n",
       "       secondary_cleaner.state.floatbank5_a_air  \\\n",
       "19                                    10.032043   \n",
       "22                                     9.985232   \n",
       "30                                     9.969535   \n",
       "45                                    10.052072   \n",
       "46                                     9.953139   \n",
       "...                                         ...   \n",
       "10330                                 10.998883   \n",
       "10331                                 11.010768   \n",
       "10332                                 11.034954   \n",
       "10333                                 10.972473   \n",
       "10334                                 10.982694   \n",
       "\n",
       "       secondary_cleaner.state.floatbank5_a_level  \\\n",
       "19                                    -499.128183   \n",
       "22                                    -499.796583   \n",
       "30                                    -499.350934   \n",
       "45                                    -500.797905   \n",
       "46                                    -500.330920   \n",
       "...                                           ...   \n",
       "10330                                 -499.846204   \n",
       "10331                                 -494.562898   \n",
       "10332                                 -493.250025   \n",
       "10333                                 -511.806312   \n",
       "10334                                 -499.780753   \n",
       "\n",
       "       secondary_cleaner.state.floatbank5_b_air  \\\n",
       "19                                     8.016140   \n",
       "22                                     7.985524   \n",
       "30                                     8.017975   \n",
       "45                                     7.984500   \n",
       "46                                     8.012074   \n",
       "...                                         ...   \n",
       "10330                                  8.972741   \n",
       "10331                                  9.028307   \n",
       "10332                                  9.029441   \n",
       "10333                                  8.991251   \n",
       "10334                                  8.932517   \n",
       "\n",
       "       secondary_cleaner.state.floatbank5_b_level  \\\n",
       "19                                    -499.806844   \n",
       "22                                    -499.872153   \n",
       "30                                    -500.620850   \n",
       "45                                    -499.581046   \n",
       "46                                    -500.133530   \n",
       "...                                           ...   \n",
       "10330                                 -500.118532   \n",
       "10331                                 -499.007596   \n",
       "10332                                 -480.953533   \n",
       "10333                                 -500.706169   \n",
       "10334                                 -500.147271   \n",
       "\n",
       "       secondary_cleaner.state.floatbank6_a_air  \\\n",
       "19                                    13.949790   \n",
       "22                                    13.973257   \n",
       "30                                    11.999969   \n",
       "45                                    11.982025   \n",
       "46                                    11.975316   \n",
       "...                                         ...   \n",
       "10330                                 10.966205   \n",
       "10331                                 10.978016   \n",
       "10332                                 11.021042   \n",
       "10333                                 10.990072   \n",
       "10334                                 11.001657   \n",
       "\n",
       "       secondary_cleaner.state.floatbank6_a_level  \\\n",
       "19                                    -600.140776   \n",
       "22                                    -600.054998   \n",
       "30                                    -600.315548   \n",
       "45                                    -599.161228   \n",
       "46                                    -598.839683   \n",
       "...                                           ...   \n",
       "10330                                 -500.707126   \n",
       "10331                                 -497.924873   \n",
       "10332                                 -499.685577   \n",
       "10333                                 -499.775802   \n",
       "10334                                 -499.736922   \n",
       "\n",
       "       final_output_total_concentrate  \\\n",
       "19                          64.546766   \n",
       "22                          64.554911   \n",
       "30                          63.765751   \n",
       "45                          66.175996   \n",
       "46                          66.794250   \n",
       "...                               ...   \n",
       "10330                       70.703344   \n",
       "10331                       70.814703   \n",
       "10332                       71.329178   \n",
       "10333                       71.195925   \n",
       "10334                       71.148257   \n",
       "\n",
       "       primary_cleaner_output_total_concentrate  \\\n",
       "19                                     0.000000   \n",
       "22                                     0.000000   \n",
       "30                                     0.000000   \n",
       "45                                    74.992510   \n",
       "46                                    75.187102   \n",
       "...                                         ...   \n",
       "10330                                 68.284696   \n",
       "10331                                 68.539751   \n",
       "10332                                 69.365785   \n",
       "10333                                 69.325494   \n",
       "10334                                 69.281619   \n",
       "\n",
       "       rougher_output_total_concentrate  \n",
       "19                            62.930764  \n",
       "22                            62.225893  \n",
       "30                            62.283147  \n",
       "45                             0.000000  \n",
       "46                             0.000000  \n",
       "...                                 ...  \n",
       "10330                          0.000000  \n",
       "10331                          0.000000  \n",
       "10332                          0.000000  \n",
       "10333                          0.000000  \n",
       "10334                          0.000000  \n",
       "\n",
       "[424 rows x 90 columns]"
      ]
     },
     "execution_count": 39,
     "metadata": {},
     "output_type": "execute_result"
    }
   ],
   "source": [
    "data_train.loc[(data_train['final_output_total_concentrate'] == 0) |  \\\n",
    "              (data_train['primary_cleaner_output_total_concentrate'] == 0) | \\\n",
    "              (data_train['rougher_output_total_concentrate'] == 0)]"
   ]
  },
  {
   "cell_type": "markdown",
   "metadata": {},
   "source": [
    "И посмотрим на график:"
   ]
  },
  {
   "cell_type": "code",
   "execution_count": 40,
   "metadata": {},
   "outputs": [
    {
     "data": {
      "image/png": "[encoded data removed]",
      "text/plain": [
       "<Figure size 432x288 with 1 Axes>"
      ]
     },
     "metadata": {
      "needs_background": "light"
     },
     "output_type": "display_data"
    }
   ],
   "source": [
    "data_train.loc[(data_train['final_output_total_concentrate'] != 0) &  \\\n",
    "              (data_train['primary_cleaner_output_total_concentrate'] != 0) & \\\n",
    "              (data_train['rougher_output_total_concentrate'] != 0)] \\\n",
    "            [['rougher_output_total_concentrate', 'primary_cleaner_output_total_concentrate', 'final_output_total_concentrate']].median() \\\n",
    "     .rename(my_dict) \\\n",
    "    .plot(kind='line', grid=True)\n",
    "plt.title('Как меняется концентрация веществ в зависимости от этапа ')\n",
    "plt.xlabel('Этап')\n",
    "plt.ylabel('Концентрация')\n",
    "plt.show()"
   ]
  },
  {
   "cell_type": "markdown",
   "metadata": {},
   "source": [
    "## Модель"
   ]
  },
  {
   "cell_type": "markdown",
   "metadata": {},
   "source": [
    "Напишем функцию для вычисления sMAPE: формула дана в технологическом процессе)"
   ]
  },
  {
   "cell_type": "code",
   "execution_count": 41,
   "metadata": {},
   "outputs": [],
   "source": [
    "def smape(target, predictions):\n",
    "    err = abs(target - predictions)\n",
    "    scale = (abs(target) + abs(predictions)) / 2\n",
    "    return (err / scale).mean() * 100"
   ]
  },
  {
   "cell_type": "markdown",
   "metadata": {},
   "source": [
    "Насколько я понимаю, нам необходимо предсказать 2 величины: rougher.output.recovery и final.output.recovery"
   ]
  },
  {
   "cell_type": "markdown",
   "metadata": {},
   "source": [
    "Раз метрика показывает процентное отклонение, то чем меньше процентное отклонение - тем лучше"
   ]
  },
  {
   "cell_type": "markdown",
   "metadata": {},
   "source": [
    "### Целевой признак - rougher.output.recovery"
   ]
  },
  {
   "cell_type": "markdown",
   "metadata": {},
   "source": [
    "Начнем с rougher.output.recovery"
   ]
  },
  {
   "cell_type": "markdown",
   "metadata": {},
   "source": [
    "Чтобы его предсказать, нам понадобятся столбцы со словом 'rougher' в начале. Потому что на эффективность флотации вряд-ли будут влиять конечные или промежуточные итоги всей технологии"
   ]
  },
  {
   "cell_type": "code",
   "execution_count": 42,
   "metadata": {},
   "outputs": [],
   "source": [
    "features_rougher = data_train.filter(regex='rougher.input|rougher.state', axis=1)\n",
    "target_rougher = data_train['rougher.output.recovery']"
   ]
  },
  {
   "cell_type": "code",
   "execution_count": 43,
   "metadata": {},
   "outputs": [],
   "source": [
    "features_rougher_train, features_rougher_valid, target_rougher_train, target_rougher_valid = train_test_split(features_rougher, target_rougher, test_size=0.25, random_state=12345)"
   ]
  },
  {
   "cell_type": "markdown",
   "metadata": {},
   "source": [
    "Создадим словари для наглядности:"
   ]
  },
  {
   "cell_type": "code",
   "execution_count": 44,
   "metadata": {},
   "outputs": [],
   "source": [
    "my_dict = {\n",
    "    'smape': []\n",
    "}\n",
    "my_index = ['tree', 'rand_forrest', 'lin_reg']"
   ]
  },
  {
   "cell_type": "markdown",
   "metadata": {},
   "source": [
    "Попробуем обучить модели:"
   ]
  },
  {
   "cell_type": "markdown",
   "metadata": {},
   "source": [
    "#### Решающее дерево"
   ]
  },
  {
   "cell_type": "raw",
   "metadata": {
    "scrolled": true
   },
   "source": [
    "for depth in range(1, 30):\n",
    "    model = DecisionTreeRegressor(random_state=12345, max_depth=depth)\n",
    "    model.fit(features_rougher_train, target_rougher_train)\n",
    "    predictions_rougher_valid = model.predict(features_rougher_valid)\n",
    "    print('sMAPE = ', smape(predictions_rougher_valid, target_rougher_valid), 'для depth =', depth)"
   ]
  },
  {
   "cell_type": "markdown",
   "metadata": {},
   "source": [
    "Можно попробовать использовать GridSearchCV с нашей метрикой:"
   ]
  },
  {
   "cell_type": "code",
   "execution_count": 45,
   "metadata": {},
   "outputs": [],
   "source": [
    "smape_score = make_scorer(smape, greater_is_better=False)"
   ]
  },
  {
   "cell_type": "code",
   "execution_count": 46,
   "metadata": {},
   "outputs": [
    {
     "data": {
      "text/plain": [
       "GridSearchCV(cv=5, estimator=DecisionTreeRegressor(),\n",
       "             param_grid={'max_depth': range(1, 31)},\n",
       "             scoring=make_scorer(smape, greater_is_better=False))"
      ]
     },
     "execution_count": 46,
     "metadata": {},
     "output_type": "execute_result"
    }
   ],
   "source": [
    "model = DecisionTreeRegressor()\n",
    "parametrs = { 'max_depth': range (1,31)}\n",
    "grid_tree = GridSearchCV(model, parametrs, cv=5, scoring=smape_score)\n",
    "grid_tree.fit(features_rougher_train, target_rougher_train)"
   ]
  },
  {
   "cell_type": "code",
   "execution_count": 47,
   "metadata": {},
   "outputs": [
    {
     "data": {
      "text/plain": [
       "{'max_depth': 11}"
      ]
     },
     "execution_count": 47,
     "metadata": {},
     "output_type": "execute_result"
    }
   ],
   "source": [
    "grid_tree.best_params_"
   ]
  },
  {
   "cell_type": "code",
   "execution_count": 48,
   "metadata": {},
   "outputs": [],
   "source": [
    "a = grid_tree.best_params_['max_depth']"
   ]
  },
  {
   "cell_type": "code",
   "execution_count": 49,
   "metadata": {},
   "outputs": [
    {
     "data": {
      "text/plain": [
       "11"
      ]
     },
     "execution_count": 49,
     "metadata": {},
     "output_type": "execute_result"
    }
   ],
   "source": [
    "a"
   ]
  },
  {
   "cell_type": "markdown",
   "metadata": {},
   "source": [
    "Теперь сама модель:"
   ]
  },
  {
   "cell_type": "code",
   "execution_count": 50,
   "metadata": {},
   "outputs": [],
   "source": [
    "model_tree = DecisionTreeRegressor(random_state=12345, max_depth=grid_tree.best_params_['max_depth'])\n",
    "model_tree.fit(features_rougher_train, target_rougher_train)\n",
    "predictions_rougher_valid = model_tree.predict(features_rougher_valid)\n",
    "smape_metric = smape(target_rougher_valid, predictions_rougher_valid)\n",
    "my_dict['smape'].append(smape_metric)"
   ]
  },
  {
   "cell_type": "code",
   "execution_count": 51,
   "metadata": {},
   "outputs": [
    {
     "data": {
      "text/plain": [
       "{'smape': [9.561786446551963]}"
      ]
     },
     "execution_count": 51,
     "metadata": {},
     "output_type": "execute_result"
    }
   ],
   "source": [
    "my_dict"
   ]
  },
  {
   "cell_type": "markdown",
   "metadata": {},
   "source": [
    "И давай применим кросс валидацию:"
   ]
  },
  {
   "cell_type": "code",
   "execution_count": 52,
   "metadata": {},
   "outputs": [],
   "source": [
    "scores = cross_val_score(model_tree, features_rougher, target_rougher, scoring=smape_score, cv=5)"
   ]
  },
  {
   "cell_type": "code",
   "execution_count": 53,
   "metadata": {},
   "outputs": [
    {
     "name": "stdout",
     "output_type": "stream",
     "text": [
      "Средняя оценка качества модели: -25.506054730248703\n"
     ]
    }
   ],
   "source": [
    "final_score = scores.mean()\n",
    "print('Средняя оценка качества модели:', final_score)"
   ]
  },
  {
   "cell_type": "markdown",
   "metadata": {},
   "source": [
    "Отрицательное число получилось из-за того, что это особенности параметра greater_is_better=False. Он задаёт условие \" чем меньше, тем лучше\". Поэтому сразу выводится минус. НО можно на него не обращать внимание, игнорировать или умножить на -1."
   ]
  },
  {
   "cell_type": "markdown",
   "metadata": {},
   "source": [
    "#### Случайный лес"
   ]
  },
  {
   "cell_type": "code",
   "execution_count": 54,
   "metadata": {},
   "outputs": [
    {
     "data": {
      "text/plain": [
       "GridSearchCV(cv=5, estimator=RandomForestRegressor(),\n",
       "             param_grid={'max_depth': range(1, 6),\n",
       "                         'n_estimators': range(10, 131, 20)},\n",
       "             scoring=make_scorer(smape, greater_is_better=False))"
      ]
     },
     "execution_count": 54,
     "metadata": {},
     "output_type": "execute_result"
    }
   ],
   "source": [
    "model = RandomForestRegressor()\n",
    "parametrs = {'n_estimators': range (10, 131, 20),\n",
    "              'max_depth': range (1,6), }\n",
    "grid_forrest = GridSearchCV(model, parametrs, cv=5, scoring=smape_score)\n",
    "grid_forrest.fit(features_rougher_train, target_rougher_train)"
   ]
  },
  {
   "cell_type": "code",
   "execution_count": 55,
   "metadata": {},
   "outputs": [
    {
     "data": {
      "text/plain": [
       "{'max_depth': 5, 'n_estimators': 110}"
      ]
     },
     "execution_count": 55,
     "metadata": {},
     "output_type": "execute_result"
    }
   ],
   "source": [
    "grid_forrest.best_params_"
   ]
  },
  {
   "cell_type": "markdown",
   "metadata": {},
   "source": [
    "Теперь обучим модель на этих параметрах и посмтрим на нашу метрику"
   ]
  },
  {
   "cell_type": "code",
   "execution_count": 56,
   "metadata": {},
   "outputs": [
    {
     "name": "stdout",
     "output_type": "stream",
     "text": [
      "sMAPE =  10.493214522128541\n"
     ]
    }
   ],
   "source": [
    "model_for_rougher = RandomForestRegressor(random_state=12345, max_depth=grid_forrest.best_params_['max_depth'], n_estimators = grid_forrest.best_params_['n_estimators'])\n",
    "model_for_rougher.fit(features_rougher_train, target_rougher_train)\n",
    "predictions_rougher_valid = model_for_rougher.predict(features_rougher_valid)\n",
    "smape_metric = smape(target_rougher_valid, predictions_rougher_valid)\n",
    "my_dict['smape'].append(smape_metric)\n",
    "print('sMAPE = ', smape_metric)"
   ]
  },
  {
   "cell_type": "code",
   "execution_count": 57,
   "metadata": {},
   "outputs": [
    {
     "data": {
      "text/plain": [
       "{'smape': [9.561786446551963, 10.493214522128541]}"
      ]
     },
     "execution_count": 57,
     "metadata": {},
     "output_type": "execute_result"
    }
   ],
   "source": [
    "my_dict"
   ]
  },
  {
   "cell_type": "markdown",
   "metadata": {},
   "source": [
    "КРосс-валидация:"
   ]
  },
  {
   "cell_type": "code",
   "execution_count": 58,
   "metadata": {},
   "outputs": [],
   "source": [
    "scores = cross_val_score(model_for_rougher, features_rougher, target_rougher, scoring=smape_score, cv=5)"
   ]
  },
  {
   "cell_type": "code",
   "execution_count": 59,
   "metadata": {},
   "outputs": [
    {
     "name": "stdout",
     "output_type": "stream",
     "text": [
      "Средняя оценка качества модели: -12.188094336038121\n"
     ]
    }
   ],
   "source": [
    "final_score = scores.mean()\n",
    "print('Средняя оценка качества модели:', final_score)"
   ]
  },
  {
   "cell_type": "markdown",
   "metadata": {},
   "source": [
    "#### Линейная регрессия"
   ]
  },
  {
   "cell_type": "code",
   "execution_count": 60,
   "metadata": {},
   "outputs": [
    {
     "name": "stdout",
     "output_type": "stream",
     "text": [
      "sMAPE =  10.929762505972322\n"
     ]
    }
   ],
   "source": [
    "model_reg = LinearRegression()\n",
    "model_reg.fit(features_rougher_train, target_rougher_train)\n",
    "predictions_rougher_valid = model_reg.predict(features_rougher_valid)\n",
    "smape_metric = smape(predictions_rougher_valid, target_rougher_valid)\n",
    "my_dict['smape'].append(smape_metric)\n",
    "print('sMAPE = ', smape_metric)"
   ]
  },
  {
   "cell_type": "code",
   "execution_count": 61,
   "metadata": {},
   "outputs": [],
   "source": [
    "scores = cross_val_score(model_reg, features_rougher, target_rougher, cv=5, scoring=smape_score)"
   ]
  },
  {
   "cell_type": "code",
   "execution_count": 62,
   "metadata": {},
   "outputs": [
    {
     "name": "stdout",
     "output_type": "stream",
     "text": [
      "Средняя оценка качества модели: -12.472324262880523\n"
     ]
    }
   ],
   "source": [
    "final_score = sum(scores) / len(scores)\n",
    "print('Средняя оценка качества модели:', final_score)"
   ]
  },
  {
   "cell_type": "markdown",
   "metadata": {},
   "source": [
    "Итак, у нас получается:"
   ]
  },
  {
   "cell_type": "code",
   "execution_count": 63,
   "metadata": {},
   "outputs": [],
   "source": [
    "data_metric = pd.DataFrame(data=my_dict, index=my_index)"
   ]
  },
  {
   "cell_type": "code",
   "execution_count": 64,
   "metadata": {},
   "outputs": [
    {
     "data": {
      "text/html": [
       "<div>\n",
       "<style scoped>\n",
       "    .dataframe tbody tr th:only-of-type {\n",
       "        vertical-align: middle;\n",
       "    }\n",
       "\n",
       "    .dataframe tbody tr th {\n",
       "        vertical-align: top;\n",
       "    }\n",
       "\n",
       "    .dataframe thead th {\n",
       "        text-align: right;\n",
       "    }\n",
       "</style>\n",
       "<table border=\"1\" class=\"dataframe\">\n",
       "  <thead>\n",
       "    <tr style=\"text-align: right;\">\n",
       "      <th></th>\n",
       "      <th>smape</th>\n",
       "    </tr>\n",
       "  </thead>\n",
       "  <tbody>\n",
       "    <tr>\n",
       "      <th>tree</th>\n",
       "      <td>9.561786</td>\n",
       "    </tr>\n",
       "    <tr>\n",
       "      <th>rand_forrest</th>\n",
       "      <td>10.493215</td>\n",
       "    </tr>\n",
       "    <tr>\n",
       "      <th>lin_reg</th>\n",
       "      <td>10.929763</td>\n",
       "    </tr>\n",
       "  </tbody>\n",
       "</table>\n",
       "</div>"
      ],
      "text/plain": [
       "                  smape\n",
       "tree           9.561786\n",
       "rand_forrest  10.493215\n",
       "lin_reg       10.929763"
      ]
     },
     "execution_count": 64,
     "metadata": {},
     "output_type": "execute_result"
    }
   ],
   "source": [
    "data_metric"
   ]
  },
  {
   "cell_type": "markdown",
   "metadata": {},
   "source": [
    "Таким образом, лучшее качетсво у дерева"
   ]
  },
  {
   "cell_type": "markdown",
   "metadata": {},
   "source": [
    "Теперь посмотрим на медианную модель, чтобы понять, насколько хорошо предсказывает наша модель"
   ]
  },
  {
   "cell_type": "code",
   "execution_count": 65,
   "metadata": {},
   "outputs": [
    {
     "name": "stdout",
     "output_type": "stream",
     "text": [
      "12.201505222739371\n"
     ]
    }
   ],
   "source": [
    "dummy_regressor_rougher = DummyRegressor(strategy=\"median\")\n",
    "dummy_regressor_rougher.fit(features_rougher_train, target_rougher_train)\n",
    "dummy_rougher_pred = dummy_regressor_rougher.predict(features_rougher_valid)\n",
    "smape_dummy_rougher = smape(target_rougher_valid, dummy_rougher_pred)\n",
    "print(smape_dummy_rougher) "
   ]
  },
  {
   "cell_type": "markdown",
   "metadata": {},
   "source": [
    "То есть все наши модели предсказывают лучше. чем медианная модель"
   ]
  },
  {
   "cell_type": "markdown",
   "metadata": {},
   "source": [
    "### Целевой признак -  final.output.recovery"
   ]
  },
  {
   "cell_type": "markdown",
   "metadata": {},
   "source": [
    "Я думаю, что столбцы из прошлого пункта про флотацию нам не понадобятся, за исключением столбца 'rougher.output.recovery', отвечающего за эффективность. Остальные можно попробовать использовать"
   ]
  },
  {
   "cell_type": "code",
   "execution_count": 66,
   "metadata": {},
   "outputs": [],
   "source": [
    "target_final = data_train['final.output.recovery']"
   ]
  },
  {
   "cell_type": "code",
   "execution_count": 67,
   "metadata": {
    "scrolled": false
   },
   "outputs": [
    {
     "data": {
      "text/plain": [
       "Index(['date', 'primary_cleaner.input.sulfate',\n",
       "       'primary_cleaner.input.depressant', 'primary_cleaner.input.feed_size',\n",
       "       'primary_cleaner.input.xanthate',\n",
       "       'primary_cleaner.state.floatbank8_a_air',\n",
       "       'primary_cleaner.state.floatbank8_a_level',\n",
       "       'primary_cleaner.state.floatbank8_b_air',\n",
       "       'primary_cleaner.state.floatbank8_b_level',\n",
       "       'primary_cleaner.state.floatbank8_c_air',\n",
       "       'primary_cleaner.state.floatbank8_c_level',\n",
       "       'primary_cleaner.state.floatbank8_d_air',\n",
       "       'primary_cleaner.state.floatbank8_d_level', 'rougher.input.feed_ag',\n",
       "       'rougher.input.feed_pb', 'rougher.input.feed_rate',\n",
       "       'rougher.input.feed_size', 'rougher.input.feed_sol',\n",
       "       'rougher.input.feed_au', 'rougher.input.floatbank10_sulfate',\n",
       "       'rougher.input.floatbank10_xanthate',\n",
       "       'rougher.input.floatbank11_sulfate',\n",
       "       'rougher.input.floatbank11_xanthate', 'rougher.state.floatbank10_a_air',\n",
       "       'rougher.state.floatbank10_a_level', 'rougher.state.floatbank10_b_air',\n",
       "       'rougher.state.floatbank10_b_level', 'rougher.state.floatbank10_c_air',\n",
       "       'rougher.state.floatbank10_c_level', 'rougher.state.floatbank10_d_air',\n",
       "       'rougher.state.floatbank10_d_level', 'rougher.state.floatbank10_e_air',\n",
       "       'rougher.state.floatbank10_e_level', 'rougher.state.floatbank10_f_air',\n",
       "       'rougher.state.floatbank10_f_level',\n",
       "       'secondary_cleaner.state.floatbank2_a_air',\n",
       "       'secondary_cleaner.state.floatbank2_a_level',\n",
       "       'secondary_cleaner.state.floatbank2_b_air',\n",
       "       'secondary_cleaner.state.floatbank2_b_level',\n",
       "       'secondary_cleaner.state.floatbank3_a_air',\n",
       "       'secondary_cleaner.state.floatbank3_a_level',\n",
       "       'secondary_cleaner.state.floatbank3_b_air',\n",
       "       'secondary_cleaner.state.floatbank3_b_level',\n",
       "       'secondary_cleaner.state.floatbank4_a_air',\n",
       "       'secondary_cleaner.state.floatbank4_a_level',\n",
       "       'secondary_cleaner.state.floatbank4_b_air',\n",
       "       'secondary_cleaner.state.floatbank4_b_level',\n",
       "       'secondary_cleaner.state.floatbank5_a_air',\n",
       "       'secondary_cleaner.state.floatbank5_a_level',\n",
       "       'secondary_cleaner.state.floatbank5_b_air',\n",
       "       'secondary_cleaner.state.floatbank5_b_level',\n",
       "       'secondary_cleaner.state.floatbank6_a_air',\n",
       "       'secondary_cleaner.state.floatbank6_a_level'],\n",
       "      dtype='object')"
      ]
     },
     "execution_count": 67,
     "metadata": {},
     "output_type": "execute_result"
    }
   ],
   "source": [
    "data_test.columns"
   ]
  },
  {
   "cell_type": "code",
   "execution_count": 68,
   "metadata": {},
   "outputs": [],
   "source": [
    "features_final = data_train.filter(regex='primary_cleaner.input|primary_cleaner.state|secondary_cleaner.input|secondary_cleaner.state', axis=1)"
   ]
  },
  {
   "cell_type": "markdown",
   "metadata": {},
   "source": [
    "Разделим на обучающую и валидационную выборки:"
   ]
  },
  {
   "cell_type": "code",
   "execution_count": 69,
   "metadata": {},
   "outputs": [],
   "source": [
    "features_final_train, features_final_valid, target_final_train, target_final_valid = \\\n",
    "                train_test_split(features_final, target_final, test_size=0.25, random_state=12345)"
   ]
  },
  {
   "cell_type": "code",
   "execution_count": 70,
   "metadata": {},
   "outputs": [],
   "source": [
    "my_dict_2 = {\n",
    "    'smape': []\n",
    "}\n",
    "my_index_2 = ['tree', 'rand_forrest', 'lin_reg']"
   ]
  },
  {
   "cell_type": "markdown",
   "metadata": {},
   "source": [
    "#### Решающее дерево"
   ]
  },
  {
   "cell_type": "code",
   "execution_count": 71,
   "metadata": {},
   "outputs": [
    {
     "data": {
      "text/plain": [
       "GridSearchCV(cv=5, estimator=DecisionTreeRegressor(),\n",
       "             param_grid={'max_depth': range(1, 31)},\n",
       "             scoring=make_scorer(smape, greater_is_better=False))"
      ]
     },
     "execution_count": 71,
     "metadata": {},
     "output_type": "execute_result"
    }
   ],
   "source": [
    "model = DecisionTreeRegressor()\n",
    "parametrs = { 'max_depth': range (1,31)}\n",
    "grid_tree_f = GridSearchCV(model, parametrs, cv=5, scoring=smape_score)\n",
    "grid_tree_f.fit(features_final_train, target_final_train)"
   ]
  },
  {
   "cell_type": "code",
   "execution_count": 72,
   "metadata": {},
   "outputs": [
    {
     "data": {
      "text/plain": [
       "{'max_depth': 9}"
      ]
     },
     "execution_count": 72,
     "metadata": {},
     "output_type": "execute_result"
    }
   ],
   "source": [
    "grid_tree_f.best_params_"
   ]
  },
  {
   "cell_type": "raw",
   "metadata": {},
   "source": [
    "for depth in range(10, 20):\n",
    "    model_tree_final = DecisionTreeRegressor(random_state=12345, max_depth=depth)\n",
    "    model_tree_final.fit(features_train, target_train)\n",
    "    predictions_valid = model_tree_final.predict(features_valid)\n",
    "    print('sMAPE = ', smape(predictions_valid, target_valid), 'для depth =', depth)"
   ]
  },
  {
   "cell_type": "code",
   "execution_count": 73,
   "metadata": {},
   "outputs": [],
   "source": [
    "model_tree_final = DecisionTreeRegressor(random_state=12345, max_depth=grid_tree_f.best_params_['max_depth'])\n",
    "model_tree_final.fit(features_final_train, target_final_train)\n",
    "predictions_final_valid = model_tree_final.predict(features_final_valid)\n",
    "smape_metric = smape(predictions_final_valid, target_final_valid)\n",
    "my_dict_2['smape'].append(smape_metric)"
   ]
  },
  {
   "cell_type": "code",
   "execution_count": 74,
   "metadata": {},
   "outputs": [
    {
     "data": {
      "text/plain": [
       "{'smape': [8.478221031863692]}"
      ]
     },
     "execution_count": 74,
     "metadata": {},
     "output_type": "execute_result"
    }
   ],
   "source": [
    "my_dict_2"
   ]
  },
  {
   "cell_type": "markdown",
   "metadata": {},
   "source": [
    "#### Случайный лес"
   ]
  },
  {
   "cell_type": "code",
   "execution_count": 75,
   "metadata": {},
   "outputs": [
    {
     "data": {
      "text/plain": [
       "GridSearchCV(cv=4, estimator=RandomForestRegressor(),\n",
       "             param_grid={'max_depth': range(1, 6),\n",
       "                         'n_estimators': range(10, 121, 20)})"
      ]
     },
     "execution_count": 75,
     "metadata": {},
     "output_type": "execute_result"
    }
   ],
   "source": [
    "model = RandomForestRegressor()\n",
    "parametrs = {'n_estimators': range (10, 121, 20),\n",
    "              'max_depth': range (1,6), }\n",
    "grid_forrest = GridSearchCV(model, parametrs, cv=4)\n",
    "grid_forrest.fit(features_final_train, target_final_train)"
   ]
  },
  {
   "cell_type": "code",
   "execution_count": 76,
   "metadata": {},
   "outputs": [
    {
     "data": {
      "text/plain": [
       "{'max_depth': 5, 'n_estimators': 70}"
      ]
     },
     "execution_count": 76,
     "metadata": {},
     "output_type": "execute_result"
    }
   ],
   "source": [
    "grid_forrest.best_params_"
   ]
  },
  {
   "cell_type": "code",
   "execution_count": 77,
   "metadata": {},
   "outputs": [
    {
     "name": "stdout",
     "output_type": "stream",
     "text": [
      "sMAPE =  8.363389344136035\n"
     ]
    }
   ],
   "source": [
    "model_for_final = RandomForestRegressor(random_state=12345, max_depth=grid_forrest.best_params_['max_depth'], n_estimators = grid_forrest.best_params_['n_estimators'])\n",
    "model_for_final.fit(features_final_train, target_final_train)\n",
    "predictions_final_valid = model_for_final.predict(features_final_valid)\n",
    "smape_metric = smape(predictions_final_valid, target_final_valid)\n",
    "my_dict_2['smape'].append(smape_metric)\n",
    "print('sMAPE = ', smape_metric)"
   ]
  },
  {
   "cell_type": "markdown",
   "metadata": {},
   "source": [
    "#### Линейная регрессия"
   ]
  },
  {
   "cell_type": "code",
   "execution_count": 78,
   "metadata": {},
   "outputs": [
    {
     "name": "stdout",
     "output_type": "stream",
     "text": [
      "sMAPE =  9.031021722617062\n"
     ]
    }
   ],
   "source": [
    "model_reg = LinearRegression()\n",
    "model_reg.fit(features_final_train, target_final_train)\n",
    "predictions_final_valid = model_reg.predict(features_final_valid)\n",
    "smape_metric = smape(target_final_valid, predictions_final_valid)\n",
    "my_dict_2['smape'].append(smape_metric)\n",
    "print('sMAPE = ', smape_metric)"
   ]
  },
  {
   "cell_type": "code",
   "execution_count": 79,
   "metadata": {},
   "outputs": [],
   "source": [
    "data_metric = pd.DataFrame(data=my_dict_2, index=my_index)"
   ]
  },
  {
   "cell_type": "code",
   "execution_count": 80,
   "metadata": {},
   "outputs": [
    {
     "data": {
      "text/html": [
       "<div>\n",
       "<style scoped>\n",
       "    .dataframe tbody tr th:only-of-type {\n",
       "        vertical-align: middle;\n",
       "    }\n",
       "\n",
       "    .dataframe tbody tr th {\n",
       "        vertical-align: top;\n",
       "    }\n",
       "\n",
       "    .dataframe thead th {\n",
       "        text-align: right;\n",
       "    }\n",
       "</style>\n",
       "<table border=\"1\" class=\"dataframe\">\n",
       "  <thead>\n",
       "    <tr style=\"text-align: right;\">\n",
       "      <th></th>\n",
       "      <th>smape</th>\n",
       "    </tr>\n",
       "  </thead>\n",
       "  <tbody>\n",
       "    <tr>\n",
       "      <th>tree</th>\n",
       "      <td>8.478221</td>\n",
       "    </tr>\n",
       "    <tr>\n",
       "      <th>rand_forrest</th>\n",
       "      <td>8.363389</td>\n",
       "    </tr>\n",
       "    <tr>\n",
       "      <th>lin_reg</th>\n",
       "      <td>9.031022</td>\n",
       "    </tr>\n",
       "  </tbody>\n",
       "</table>\n",
       "</div>"
      ],
      "text/plain": [
       "                 smape\n",
       "tree          8.478221\n",
       "rand_forrest  8.363389\n",
       "lin_reg       9.031022"
      ]
     },
     "execution_count": 80,
     "metadata": {},
     "output_type": "execute_result"
    }
   ],
   "source": [
    "data_metric"
   ]
  },
  {
   "cell_type": "markdown",
   "metadata": {},
   "source": [
    "Лучшая модель - случайный лес"
   ]
  },
  {
   "cell_type": "code",
   "execution_count": 81,
   "metadata": {},
   "outputs": [
    {
     "name": "stdout",
     "output_type": "stream",
     "text": [
      "10.544660206247066\n"
     ]
    }
   ],
   "source": [
    "dummy_regressor_rougher = DummyRegressor(strategy=\"median\")\n",
    "dummy_regressor_rougher.fit(features_final_train, target_final_train)\n",
    "dummy_rougher_pred = dummy_regressor_rougher.predict(features_final_valid)\n",
    "smape_dummy_rougher = smape(target_final_valid, dummy_rougher_pred)\n",
    "print(smape_dummy_rougher) "
   ]
  },
  {
   "cell_type": "markdown",
   "metadata": {},
   "source": [
    "Таким образом, наши модели предсказывают лучше, чем медианная модель"
   ]
  },
  {
   "cell_type": "markdown",
   "metadata": {},
   "source": [
    "### Тестовая выборка"
   ]
  },
  {
   "cell_type": "code",
   "execution_count": 82,
   "metadata": {},
   "outputs": [
    {
     "data": {
      "text/html": [
       "<div>\n",
       "<style scoped>\n",
       "    .dataframe tbody tr th:only-of-type {\n",
       "        vertical-align: middle;\n",
       "    }\n",
       "\n",
       "    .dataframe tbody tr th {\n",
       "        vertical-align: top;\n",
       "    }\n",
       "\n",
       "    .dataframe thead th {\n",
       "        text-align: right;\n",
       "    }\n",
       "</style>\n",
       "<table border=\"1\" class=\"dataframe\">\n",
       "  <thead>\n",
       "    <tr style=\"text-align: right;\">\n",
       "      <th></th>\n",
       "      <th>date</th>\n",
       "      <th>primary_cleaner.input.sulfate</th>\n",
       "      <th>primary_cleaner.input.depressant</th>\n",
       "      <th>primary_cleaner.input.feed_size</th>\n",
       "      <th>primary_cleaner.input.xanthate</th>\n",
       "      <th>primary_cleaner.state.floatbank8_a_air</th>\n",
       "      <th>primary_cleaner.state.floatbank8_a_level</th>\n",
       "      <th>primary_cleaner.state.floatbank8_b_air</th>\n",
       "      <th>primary_cleaner.state.floatbank8_b_level</th>\n",
       "      <th>primary_cleaner.state.floatbank8_c_air</th>\n",
       "      <th>...</th>\n",
       "      <th>secondary_cleaner.state.floatbank4_a_air</th>\n",
       "      <th>secondary_cleaner.state.floatbank4_a_level</th>\n",
       "      <th>secondary_cleaner.state.floatbank4_b_air</th>\n",
       "      <th>secondary_cleaner.state.floatbank4_b_level</th>\n",
       "      <th>secondary_cleaner.state.floatbank5_a_air</th>\n",
       "      <th>secondary_cleaner.state.floatbank5_a_level</th>\n",
       "      <th>secondary_cleaner.state.floatbank5_b_air</th>\n",
       "      <th>secondary_cleaner.state.floatbank5_b_level</th>\n",
       "      <th>secondary_cleaner.state.floatbank6_a_air</th>\n",
       "      <th>secondary_cleaner.state.floatbank6_a_level</th>\n",
       "    </tr>\n",
       "  </thead>\n",
       "  <tbody>\n",
       "    <tr>\n",
       "      <th>0</th>\n",
       "      <td>2016-09-01 00:59:59</td>\n",
       "      <td>210.800909</td>\n",
       "      <td>14.993118</td>\n",
       "      <td>8.080000</td>\n",
       "      <td>1.005021</td>\n",
       "      <td>1398.981301</td>\n",
       "      <td>-500.225577</td>\n",
       "      <td>1399.144926</td>\n",
       "      <td>-499.919735</td>\n",
       "      <td>1400.102998</td>\n",
       "      <td>...</td>\n",
       "      <td>12.023554</td>\n",
       "      <td>-497.795834</td>\n",
       "      <td>8.016656</td>\n",
       "      <td>-501.289139</td>\n",
       "      <td>7.946562</td>\n",
       "      <td>-432.317850</td>\n",
       "      <td>4.872511</td>\n",
       "      <td>-500.037437</td>\n",
       "      <td>26.705889</td>\n",
       "      <td>-499.709414</td>\n",
       "    </tr>\n",
       "    <tr>\n",
       "      <th>1</th>\n",
       "      <td>2016-09-01 01:59:59</td>\n",
       "      <td>215.392455</td>\n",
       "      <td>14.987471</td>\n",
       "      <td>8.080000</td>\n",
       "      <td>0.990469</td>\n",
       "      <td>1398.777912</td>\n",
       "      <td>-500.057435</td>\n",
       "      <td>1398.055362</td>\n",
       "      <td>-499.778182</td>\n",
       "      <td>1396.151033</td>\n",
       "      <td>...</td>\n",
       "      <td>12.058140</td>\n",
       "      <td>-498.695773</td>\n",
       "      <td>8.130979</td>\n",
       "      <td>-499.634209</td>\n",
       "      <td>7.958270</td>\n",
       "      <td>-525.839648</td>\n",
       "      <td>4.878850</td>\n",
       "      <td>-500.162375</td>\n",
       "      <td>25.019940</td>\n",
       "      <td>-499.819438</td>\n",
       "    </tr>\n",
       "    <tr>\n",
       "      <th>2</th>\n",
       "      <td>2016-09-01 02:59:59</td>\n",
       "      <td>215.259946</td>\n",
       "      <td>12.884934</td>\n",
       "      <td>7.786667</td>\n",
       "      <td>0.996043</td>\n",
       "      <td>1398.493666</td>\n",
       "      <td>-500.868360</td>\n",
       "      <td>1398.860436</td>\n",
       "      <td>-499.764529</td>\n",
       "      <td>1398.075709</td>\n",
       "      <td>...</td>\n",
       "      <td>11.962366</td>\n",
       "      <td>-498.767484</td>\n",
       "      <td>8.096893</td>\n",
       "      <td>-500.827423</td>\n",
       "      <td>8.071056</td>\n",
       "      <td>-500.801673</td>\n",
       "      <td>4.905125</td>\n",
       "      <td>-499.828510</td>\n",
       "      <td>24.994862</td>\n",
       "      <td>-500.622559</td>\n",
       "    </tr>\n",
       "    <tr>\n",
       "      <th>3</th>\n",
       "      <td>2016-09-01 03:59:59</td>\n",
       "      <td>215.336236</td>\n",
       "      <td>12.006805</td>\n",
       "      <td>7.640000</td>\n",
       "      <td>0.863514</td>\n",
       "      <td>1399.618111</td>\n",
       "      <td>-498.863574</td>\n",
       "      <td>1397.440120</td>\n",
       "      <td>-499.211024</td>\n",
       "      <td>1400.129303</td>\n",
       "      <td>...</td>\n",
       "      <td>12.033091</td>\n",
       "      <td>-498.350935</td>\n",
       "      <td>8.074946</td>\n",
       "      <td>-499.474407</td>\n",
       "      <td>7.897085</td>\n",
       "      <td>-500.868509</td>\n",
       "      <td>4.931400</td>\n",
       "      <td>-499.963623</td>\n",
       "      <td>24.948919</td>\n",
       "      <td>-498.709987</td>\n",
       "    </tr>\n",
       "    <tr>\n",
       "      <th>4</th>\n",
       "      <td>2016-09-01 04:59:59</td>\n",
       "      <td>199.099327</td>\n",
       "      <td>10.682530</td>\n",
       "      <td>7.530000</td>\n",
       "      <td>0.805575</td>\n",
       "      <td>1401.268123</td>\n",
       "      <td>-500.808305</td>\n",
       "      <td>1398.128818</td>\n",
       "      <td>-499.504543</td>\n",
       "      <td>1402.172226</td>\n",
       "      <td>...</td>\n",
       "      <td>12.025367</td>\n",
       "      <td>-500.786497</td>\n",
       "      <td>8.054678</td>\n",
       "      <td>-500.397500</td>\n",
       "      <td>8.107890</td>\n",
       "      <td>-509.526725</td>\n",
       "      <td>4.957674</td>\n",
       "      <td>-500.360026</td>\n",
       "      <td>25.003331</td>\n",
       "      <td>-500.856333</td>\n",
       "    </tr>\n",
       "    <tr>\n",
       "      <th>...</th>\n",
       "      <td>...</td>\n",
       "      <td>...</td>\n",
       "      <td>...</td>\n",
       "      <td>...</td>\n",
       "      <td>...</td>\n",
       "      <td>...</td>\n",
       "      <td>...</td>\n",
       "      <td>...</td>\n",
       "      <td>...</td>\n",
       "      <td>...</td>\n",
       "      <td>...</td>\n",
       "      <td>...</td>\n",
       "      <td>...</td>\n",
       "      <td>...</td>\n",
       "      <td>...</td>\n",
       "      <td>...</td>\n",
       "      <td>...</td>\n",
       "      <td>...</td>\n",
       "      <td>...</td>\n",
       "      <td>...</td>\n",
       "      <td>...</td>\n",
       "    </tr>\n",
       "    <tr>\n",
       "      <th>5285</th>\n",
       "      <td>2017-12-31 19:59:59</td>\n",
       "      <td>173.957757</td>\n",
       "      <td>15.963399</td>\n",
       "      <td>8.070000</td>\n",
       "      <td>0.896701</td>\n",
       "      <td>1401.930554</td>\n",
       "      <td>-499.728848</td>\n",
       "      <td>1401.441445</td>\n",
       "      <td>-499.193423</td>\n",
       "      <td>1399.810313</td>\n",
       "      <td>...</td>\n",
       "      <td>13.995957</td>\n",
       "      <td>-500.157454</td>\n",
       "      <td>12.069155</td>\n",
       "      <td>-499.673279</td>\n",
       "      <td>7.977259</td>\n",
       "      <td>-499.516126</td>\n",
       "      <td>5.933319</td>\n",
       "      <td>-499.965973</td>\n",
       "      <td>8.987171</td>\n",
       "      <td>-499.755909</td>\n",
       "    </tr>\n",
       "    <tr>\n",
       "      <th>5286</th>\n",
       "      <td>2017-12-31 20:59:59</td>\n",
       "      <td>172.910270</td>\n",
       "      <td>16.002605</td>\n",
       "      <td>8.070000</td>\n",
       "      <td>0.896519</td>\n",
       "      <td>1447.075722</td>\n",
       "      <td>-494.716823</td>\n",
       "      <td>1448.851892</td>\n",
       "      <td>-465.963026</td>\n",
       "      <td>1443.890424</td>\n",
       "      <td>...</td>\n",
       "      <td>16.749781</td>\n",
       "      <td>-496.031539</td>\n",
       "      <td>13.365371</td>\n",
       "      <td>-499.122723</td>\n",
       "      <td>9.288553</td>\n",
       "      <td>-496.892967</td>\n",
       "      <td>7.372897</td>\n",
       "      <td>-499.942956</td>\n",
       "      <td>8.986832</td>\n",
       "      <td>-499.903761</td>\n",
       "    </tr>\n",
       "    <tr>\n",
       "      <th>5287</th>\n",
       "      <td>2017-12-31 21:59:59</td>\n",
       "      <td>171.135718</td>\n",
       "      <td>15.993669</td>\n",
       "      <td>8.070000</td>\n",
       "      <td>1.165996</td>\n",
       "      <td>1498.836182</td>\n",
       "      <td>-501.770403</td>\n",
       "      <td>1499.572353</td>\n",
       "      <td>-495.516347</td>\n",
       "      <td>1502.749213</td>\n",
       "      <td>...</td>\n",
       "      <td>19.994130</td>\n",
       "      <td>-499.791312</td>\n",
       "      <td>15.101425</td>\n",
       "      <td>-499.936252</td>\n",
       "      <td>10.989181</td>\n",
       "      <td>-498.347898</td>\n",
       "      <td>9.020944</td>\n",
       "      <td>-500.040448</td>\n",
       "      <td>8.982038</td>\n",
       "      <td>-497.789882</td>\n",
       "    </tr>\n",
       "    <tr>\n",
       "      <th>5288</th>\n",
       "      <td>2017-12-31 22:59:59</td>\n",
       "      <td>179.697158</td>\n",
       "      <td>15.438979</td>\n",
       "      <td>8.070000</td>\n",
       "      <td>1.501068</td>\n",
       "      <td>1498.466243</td>\n",
       "      <td>-500.483984</td>\n",
       "      <td>1497.986986</td>\n",
       "      <td>-519.200340</td>\n",
       "      <td>1496.569047</td>\n",
       "      <td>...</td>\n",
       "      <td>19.958760</td>\n",
       "      <td>-499.958750</td>\n",
       "      <td>15.026853</td>\n",
       "      <td>-499.723143</td>\n",
       "      <td>11.011607</td>\n",
       "      <td>-499.985046</td>\n",
       "      <td>9.009783</td>\n",
       "      <td>-499.937902</td>\n",
       "      <td>9.012660</td>\n",
       "      <td>-500.154284</td>\n",
       "    </tr>\n",
       "    <tr>\n",
       "      <th>5289</th>\n",
       "      <td>2017-12-31 23:59:59</td>\n",
       "      <td>181.556856</td>\n",
       "      <td>14.995850</td>\n",
       "      <td>8.070000</td>\n",
       "      <td>1.623454</td>\n",
       "      <td>1498.096303</td>\n",
       "      <td>-499.796922</td>\n",
       "      <td>1501.743791</td>\n",
       "      <td>-505.146931</td>\n",
       "      <td>1499.535978</td>\n",
       "      <td>...</td>\n",
       "      <td>20.034715</td>\n",
       "      <td>-500.728588</td>\n",
       "      <td>14.914199</td>\n",
       "      <td>-499.948518</td>\n",
       "      <td>10.986607</td>\n",
       "      <td>-500.658027</td>\n",
       "      <td>8.989497</td>\n",
       "      <td>-500.337588</td>\n",
       "      <td>8.988632</td>\n",
       "      <td>-500.764937</td>\n",
       "    </tr>\n",
       "  </tbody>\n",
       "</table>\n",
       "<p>5290 rows × 53 columns</p>\n",
       "</div>"
      ],
      "text/plain": [
       "                    date  primary_cleaner.input.sulfate  \\\n",
       "0    2016-09-01 00:59:59                     210.800909   \n",
       "1    2016-09-01 01:59:59                     215.392455   \n",
       "2    2016-09-01 02:59:59                     215.259946   \n",
       "3    2016-09-01 03:59:59                     215.336236   \n",
       "4    2016-09-01 04:59:59                     199.099327   \n",
       "...                  ...                            ...   \n",
       "5285 2017-12-31 19:59:59                     173.957757   \n",
       "5286 2017-12-31 20:59:59                     172.910270   \n",
       "5287 2017-12-31 21:59:59                     171.135718   \n",
       "5288 2017-12-31 22:59:59                     179.697158   \n",
       "5289 2017-12-31 23:59:59                     181.556856   \n",
       "\n",
       "      primary_cleaner.input.depressant  primary_cleaner.input.feed_size  \\\n",
       "0                            14.993118                         8.080000   \n",
       "1                            14.987471                         8.080000   \n",
       "2                            12.884934                         7.786667   \n",
       "3                            12.006805                         7.640000   \n",
       "4                            10.682530                         7.530000   \n",
       "...                                ...                              ...   \n",
       "5285                         15.963399                         8.070000   \n",
       "5286                         16.002605                         8.070000   \n",
       "5287                         15.993669                         8.070000   \n",
       "5288                         15.438979                         8.070000   \n",
       "5289                         14.995850                         8.070000   \n",
       "\n",
       "      primary_cleaner.input.xanthate  primary_cleaner.state.floatbank8_a_air  \\\n",
       "0                           1.005021                             1398.981301   \n",
       "1                           0.990469                             1398.777912   \n",
       "2                           0.996043                             1398.493666   \n",
       "3                           0.863514                             1399.618111   \n",
       "4                           0.805575                             1401.268123   \n",
       "...                              ...                                     ...   \n",
       "5285                        0.896701                             1401.930554   \n",
       "5286                        0.896519                             1447.075722   \n",
       "5287                        1.165996                             1498.836182   \n",
       "5288                        1.501068                             1498.466243   \n",
       "5289                        1.623454                             1498.096303   \n",
       "\n",
       "      primary_cleaner.state.floatbank8_a_level  \\\n",
       "0                                  -500.225577   \n",
       "1                                  -500.057435   \n",
       "2                                  -500.868360   \n",
       "3                                  -498.863574   \n",
       "4                                  -500.808305   \n",
       "...                                        ...   \n",
       "5285                               -499.728848   \n",
       "5286                               -494.716823   \n",
       "5287                               -501.770403   \n",
       "5288                               -500.483984   \n",
       "5289                               -499.796922   \n",
       "\n",
       "      primary_cleaner.state.floatbank8_b_air  \\\n",
       "0                                1399.144926   \n",
       "1                                1398.055362   \n",
       "2                                1398.860436   \n",
       "3                                1397.440120   \n",
       "4                                1398.128818   \n",
       "...                                      ...   \n",
       "5285                             1401.441445   \n",
       "5286                             1448.851892   \n",
       "5287                             1499.572353   \n",
       "5288                             1497.986986   \n",
       "5289                             1501.743791   \n",
       "\n",
       "      primary_cleaner.state.floatbank8_b_level  \\\n",
       "0                                  -499.919735   \n",
       "1                                  -499.778182   \n",
       "2                                  -499.764529   \n",
       "3                                  -499.211024   \n",
       "4                                  -499.504543   \n",
       "...                                        ...   \n",
       "5285                               -499.193423   \n",
       "5286                               -465.963026   \n",
       "5287                               -495.516347   \n",
       "5288                               -519.200340   \n",
       "5289                               -505.146931   \n",
       "\n",
       "      primary_cleaner.state.floatbank8_c_air  ...  \\\n",
       "0                                1400.102998  ...   \n",
       "1                                1396.151033  ...   \n",
       "2                                1398.075709  ...   \n",
       "3                                1400.129303  ...   \n",
       "4                                1402.172226  ...   \n",
       "...                                      ...  ...   \n",
       "5285                             1399.810313  ...   \n",
       "5286                             1443.890424  ...   \n",
       "5287                             1502.749213  ...   \n",
       "5288                             1496.569047  ...   \n",
       "5289                             1499.535978  ...   \n",
       "\n",
       "      secondary_cleaner.state.floatbank4_a_air  \\\n",
       "0                                    12.023554   \n",
       "1                                    12.058140   \n",
       "2                                    11.962366   \n",
       "3                                    12.033091   \n",
       "4                                    12.025367   \n",
       "...                                        ...   \n",
       "5285                                 13.995957   \n",
       "5286                                 16.749781   \n",
       "5287                                 19.994130   \n",
       "5288                                 19.958760   \n",
       "5289                                 20.034715   \n",
       "\n",
       "      secondary_cleaner.state.floatbank4_a_level  \\\n",
       "0                                    -497.795834   \n",
       "1                                    -498.695773   \n",
       "2                                    -498.767484   \n",
       "3                                    -498.350935   \n",
       "4                                    -500.786497   \n",
       "...                                          ...   \n",
       "5285                                 -500.157454   \n",
       "5286                                 -496.031539   \n",
       "5287                                 -499.791312   \n",
       "5288                                 -499.958750   \n",
       "5289                                 -500.728588   \n",
       "\n",
       "      secondary_cleaner.state.floatbank4_b_air  \\\n",
       "0                                     8.016656   \n",
       "1                                     8.130979   \n",
       "2                                     8.096893   \n",
       "3                                     8.074946   \n",
       "4                                     8.054678   \n",
       "...                                        ...   \n",
       "5285                                 12.069155   \n",
       "5286                                 13.365371   \n",
       "5287                                 15.101425   \n",
       "5288                                 15.026853   \n",
       "5289                                 14.914199   \n",
       "\n",
       "      secondary_cleaner.state.floatbank4_b_level  \\\n",
       "0                                    -501.289139   \n",
       "1                                    -499.634209   \n",
       "2                                    -500.827423   \n",
       "3                                    -499.474407   \n",
       "4                                    -500.397500   \n",
       "...                                          ...   \n",
       "5285                                 -499.673279   \n",
       "5286                                 -499.122723   \n",
       "5287                                 -499.936252   \n",
       "5288                                 -499.723143   \n",
       "5289                                 -499.948518   \n",
       "\n",
       "      secondary_cleaner.state.floatbank5_a_air  \\\n",
       "0                                     7.946562   \n",
       "1                                     7.958270   \n",
       "2                                     8.071056   \n",
       "3                                     7.897085   \n",
       "4                                     8.107890   \n",
       "...                                        ...   \n",
       "5285                                  7.977259   \n",
       "5286                                  9.288553   \n",
       "5287                                 10.989181   \n",
       "5288                                 11.011607   \n",
       "5289                                 10.986607   \n",
       "\n",
       "      secondary_cleaner.state.floatbank5_a_level  \\\n",
       "0                                    -432.317850   \n",
       "1                                    -525.839648   \n",
       "2                                    -500.801673   \n",
       "3                                    -500.868509   \n",
       "4                                    -509.526725   \n",
       "...                                          ...   \n",
       "5285                                 -499.516126   \n",
       "5286                                 -496.892967   \n",
       "5287                                 -498.347898   \n",
       "5288                                 -499.985046   \n",
       "5289                                 -500.658027   \n",
       "\n",
       "      secondary_cleaner.state.floatbank5_b_air  \\\n",
       "0                                     4.872511   \n",
       "1                                     4.878850   \n",
       "2                                     4.905125   \n",
       "3                                     4.931400   \n",
       "4                                     4.957674   \n",
       "...                                        ...   \n",
       "5285                                  5.933319   \n",
       "5286                                  7.372897   \n",
       "5287                                  9.020944   \n",
       "5288                                  9.009783   \n",
       "5289                                  8.989497   \n",
       "\n",
       "      secondary_cleaner.state.floatbank5_b_level  \\\n",
       "0                                    -500.037437   \n",
       "1                                    -500.162375   \n",
       "2                                    -499.828510   \n",
       "3                                    -499.963623   \n",
       "4                                    -500.360026   \n",
       "...                                          ...   \n",
       "5285                                 -499.965973   \n",
       "5286                                 -499.942956   \n",
       "5287                                 -500.040448   \n",
       "5288                                 -499.937902   \n",
       "5289                                 -500.337588   \n",
       "\n",
       "      secondary_cleaner.state.floatbank6_a_air  \\\n",
       "0                                    26.705889   \n",
       "1                                    25.019940   \n",
       "2                                    24.994862   \n",
       "3                                    24.948919   \n",
       "4                                    25.003331   \n",
       "...                                        ...   \n",
       "5285                                  8.987171   \n",
       "5286                                  8.986832   \n",
       "5287                                  8.982038   \n",
       "5288                                  9.012660   \n",
       "5289                                  8.988632   \n",
       "\n",
       "      secondary_cleaner.state.floatbank6_a_level  \n",
       "0                                    -499.709414  \n",
       "1                                    -499.819438  \n",
       "2                                    -500.622559  \n",
       "3                                    -498.709987  \n",
       "4                                    -500.856333  \n",
       "...                                          ...  \n",
       "5285                                 -499.755909  \n",
       "5286                                 -499.903761  \n",
       "5287                                 -497.789882  \n",
       "5288                                 -500.154284  \n",
       "5289                                 -500.764937  \n",
       "\n",
       "[5290 rows x 53 columns]"
      ]
     },
     "execution_count": 82,
     "metadata": {},
     "output_type": "execute_result"
    }
   ],
   "source": [
    "data_test"
   ]
  },
  {
   "cell_type": "code",
   "execution_count": 83,
   "metadata": {},
   "outputs": [
    {
     "name": "stdout",
     "output_type": "stream",
     "text": [
      "<class 'pandas.core.frame.DataFrame'>\n",
      "RangeIndex: 5290 entries, 0 to 5289\n",
      "Data columns (total 53 columns):\n",
      " #   Column                                      Non-Null Count  Dtype         \n",
      "---  ------                                      --------------  -----         \n",
      " 0   date                                        5290 non-null   datetime64[ns]\n",
      " 1   primary_cleaner.input.sulfate               5286 non-null   float64       \n",
      " 2   primary_cleaner.input.depressant            5285 non-null   float64       \n",
      " 3   primary_cleaner.input.feed_size             5290 non-null   float64       \n",
      " 4   primary_cleaner.input.xanthate              5286 non-null   float64       \n",
      " 5   primary_cleaner.state.floatbank8_a_air      5290 non-null   float64       \n",
      " 6   primary_cleaner.state.floatbank8_a_level    5290 non-null   float64       \n",
      " 7   primary_cleaner.state.floatbank8_b_air      5290 non-null   float64       \n",
      " 8   primary_cleaner.state.floatbank8_b_level    5290 non-null   float64       \n",
      " 9   primary_cleaner.state.floatbank8_c_air      5290 non-null   float64       \n",
      " 10  primary_cleaner.state.floatbank8_c_level    5290 non-null   float64       \n",
      " 11  primary_cleaner.state.floatbank8_d_air      5290 non-null   float64       \n",
      " 12  primary_cleaner.state.floatbank8_d_level    5290 non-null   float64       \n",
      " 13  rougher.input.feed_ag                       5290 non-null   float64       \n",
      " 14  rougher.input.feed_pb                       5290 non-null   float64       \n",
      " 15  rougher.input.feed_rate                     5287 non-null   float64       \n",
      " 16  rougher.input.feed_size                     5289 non-null   float64       \n",
      " 17  rougher.input.feed_sol                      5269 non-null   float64       \n",
      " 18  rougher.input.feed_au                       5290 non-null   float64       \n",
      " 19  rougher.input.floatbank10_sulfate           5285 non-null   float64       \n",
      " 20  rougher.input.floatbank10_xanthate          5290 non-null   float64       \n",
      " 21  rougher.input.floatbank11_sulfate           5282 non-null   float64       \n",
      " 22  rougher.input.floatbank11_xanthate          5265 non-null   float64       \n",
      " 23  rougher.state.floatbank10_a_air             5290 non-null   float64       \n",
      " 24  rougher.state.floatbank10_a_level           5290 non-null   float64       \n",
      " 25  rougher.state.floatbank10_b_air             5290 non-null   float64       \n",
      " 26  rougher.state.floatbank10_b_level           5290 non-null   float64       \n",
      " 27  rougher.state.floatbank10_c_air             5290 non-null   float64       \n",
      " 28  rougher.state.floatbank10_c_level           5290 non-null   float64       \n",
      " 29  rougher.state.floatbank10_d_air             5290 non-null   float64       \n",
      " 30  rougher.state.floatbank10_d_level           5290 non-null   float64       \n",
      " 31  rougher.state.floatbank10_e_air             5290 non-null   float64       \n",
      " 32  rougher.state.floatbank10_e_level           5290 non-null   float64       \n",
      " 33  rougher.state.floatbank10_f_air             5290 non-null   float64       \n",
      " 34  rougher.state.floatbank10_f_level           5290 non-null   float64       \n",
      " 35  secondary_cleaner.state.floatbank2_a_air    5287 non-null   float64       \n",
      " 36  secondary_cleaner.state.floatbank2_a_level  5290 non-null   float64       \n",
      " 37  secondary_cleaner.state.floatbank2_b_air    5288 non-null   float64       \n",
      " 38  secondary_cleaner.state.floatbank2_b_level  5290 non-null   float64       \n",
      " 39  secondary_cleaner.state.floatbank3_a_air    5281 non-null   float64       \n",
      " 40  secondary_cleaner.state.floatbank3_a_level  5290 non-null   float64       \n",
      " 41  secondary_cleaner.state.floatbank3_b_air    5290 non-null   float64       \n",
      " 42  secondary_cleaner.state.floatbank3_b_level  5290 non-null   float64       \n",
      " 43  secondary_cleaner.state.floatbank4_a_air    5290 non-null   float64       \n",
      " 44  secondary_cleaner.state.floatbank4_a_level  5290 non-null   float64       \n",
      " 45  secondary_cleaner.state.floatbank4_b_air    5290 non-null   float64       \n",
      " 46  secondary_cleaner.state.floatbank4_b_level  5290 non-null   float64       \n",
      " 47  secondary_cleaner.state.floatbank5_a_air    5290 non-null   float64       \n",
      " 48  secondary_cleaner.state.floatbank5_a_level  5290 non-null   float64       \n",
      " 49  secondary_cleaner.state.floatbank5_b_air    5290 non-null   float64       \n",
      " 50  secondary_cleaner.state.floatbank5_b_level  5290 non-null   float64       \n",
      " 51  secondary_cleaner.state.floatbank6_a_air    5290 non-null   float64       \n",
      " 52  secondary_cleaner.state.floatbank6_a_level  5290 non-null   float64       \n",
      "dtypes: datetime64[ns](1), float64(52)\n",
      "memory usage: 2.1 MB\n"
     ]
    }
   ],
   "source": [
    "data_test.info()"
   ]
  },
  {
   "cell_type": "markdown",
   "metadata": {},
   "source": [
    "У нас явно не хватает столбцов, их можно взять из data_full"
   ]
  },
  {
   "cell_type": "code",
   "execution_count": 84,
   "metadata": {},
   "outputs": [],
   "source": [
    "target_to_join = data_full[['date', 'final.output.recovery', 'rougher.output.recovery']].copy()"
   ]
  },
  {
   "cell_type": "code",
   "execution_count": 85,
   "metadata": {},
   "outputs": [],
   "source": [
    "data_test_final = data_test.join(target_to_join.set_index('date'), on='date')"
   ]
  },
  {
   "cell_type": "code",
   "execution_count": 86,
   "metadata": {},
   "outputs": [
    {
     "data": {
      "text/html": [
       "<div>\n",
       "<style scoped>\n",
       "    .dataframe tbody tr th:only-of-type {\n",
       "        vertical-align: middle;\n",
       "    }\n",
       "\n",
       "    .dataframe tbody tr th {\n",
       "        vertical-align: top;\n",
       "    }\n",
       "\n",
       "    .dataframe thead th {\n",
       "        text-align: right;\n",
       "    }\n",
       "</style>\n",
       "<table border=\"1\" class=\"dataframe\">\n",
       "  <thead>\n",
       "    <tr style=\"text-align: right;\">\n",
       "      <th></th>\n",
       "      <th>date</th>\n",
       "      <th>primary_cleaner.input.sulfate</th>\n",
       "      <th>primary_cleaner.input.depressant</th>\n",
       "      <th>primary_cleaner.input.feed_size</th>\n",
       "      <th>primary_cleaner.input.xanthate</th>\n",
       "      <th>primary_cleaner.state.floatbank8_a_air</th>\n",
       "      <th>primary_cleaner.state.floatbank8_a_level</th>\n",
       "      <th>primary_cleaner.state.floatbank8_b_air</th>\n",
       "      <th>primary_cleaner.state.floatbank8_b_level</th>\n",
       "      <th>primary_cleaner.state.floatbank8_c_air</th>\n",
       "      <th>...</th>\n",
       "      <th>secondary_cleaner.state.floatbank4_b_air</th>\n",
       "      <th>secondary_cleaner.state.floatbank4_b_level</th>\n",
       "      <th>secondary_cleaner.state.floatbank5_a_air</th>\n",
       "      <th>secondary_cleaner.state.floatbank5_a_level</th>\n",
       "      <th>secondary_cleaner.state.floatbank5_b_air</th>\n",
       "      <th>secondary_cleaner.state.floatbank5_b_level</th>\n",
       "      <th>secondary_cleaner.state.floatbank6_a_air</th>\n",
       "      <th>secondary_cleaner.state.floatbank6_a_level</th>\n",
       "      <th>final.output.recovery</th>\n",
       "      <th>rougher.output.recovery</th>\n",
       "    </tr>\n",
       "  </thead>\n",
       "  <tbody>\n",
       "    <tr>\n",
       "      <th>0</th>\n",
       "      <td>2016-09-01 00:59:59</td>\n",
       "      <td>210.800909</td>\n",
       "      <td>14.993118</td>\n",
       "      <td>8.080000</td>\n",
       "      <td>1.005021</td>\n",
       "      <td>1398.981301</td>\n",
       "      <td>-500.225577</td>\n",
       "      <td>1399.144926</td>\n",
       "      <td>-499.919735</td>\n",
       "      <td>1400.102998</td>\n",
       "      <td>...</td>\n",
       "      <td>8.016656</td>\n",
       "      <td>-501.289139</td>\n",
       "      <td>7.946562</td>\n",
       "      <td>-432.317850</td>\n",
       "      <td>4.872511</td>\n",
       "      <td>-500.037437</td>\n",
       "      <td>26.705889</td>\n",
       "      <td>-499.709414</td>\n",
       "      <td>70.273583</td>\n",
       "      <td>89.993421</td>\n",
       "    </tr>\n",
       "    <tr>\n",
       "      <th>1</th>\n",
       "      <td>2016-09-01 01:59:59</td>\n",
       "      <td>215.392455</td>\n",
       "      <td>14.987471</td>\n",
       "      <td>8.080000</td>\n",
       "      <td>0.990469</td>\n",
       "      <td>1398.777912</td>\n",
       "      <td>-500.057435</td>\n",
       "      <td>1398.055362</td>\n",
       "      <td>-499.778182</td>\n",
       "      <td>1396.151033</td>\n",
       "      <td>...</td>\n",
       "      <td>8.130979</td>\n",
       "      <td>-499.634209</td>\n",
       "      <td>7.958270</td>\n",
       "      <td>-525.839648</td>\n",
       "      <td>4.878850</td>\n",
       "      <td>-500.162375</td>\n",
       "      <td>25.019940</td>\n",
       "      <td>-499.819438</td>\n",
       "      <td>68.910432</td>\n",
       "      <td>88.089657</td>\n",
       "    </tr>\n",
       "    <tr>\n",
       "      <th>2</th>\n",
       "      <td>2016-09-01 02:59:59</td>\n",
       "      <td>215.259946</td>\n",
       "      <td>12.884934</td>\n",
       "      <td>7.786667</td>\n",
       "      <td>0.996043</td>\n",
       "      <td>1398.493666</td>\n",
       "      <td>-500.868360</td>\n",
       "      <td>1398.860436</td>\n",
       "      <td>-499.764529</td>\n",
       "      <td>1398.075709</td>\n",
       "      <td>...</td>\n",
       "      <td>8.096893</td>\n",
       "      <td>-500.827423</td>\n",
       "      <td>8.071056</td>\n",
       "      <td>-500.801673</td>\n",
       "      <td>4.905125</td>\n",
       "      <td>-499.828510</td>\n",
       "      <td>24.994862</td>\n",
       "      <td>-500.622559</td>\n",
       "      <td>68.143213</td>\n",
       "      <td>88.412756</td>\n",
       "    </tr>\n",
       "    <tr>\n",
       "      <th>3</th>\n",
       "      <td>2016-09-01 03:59:59</td>\n",
       "      <td>215.336236</td>\n",
       "      <td>12.006805</td>\n",
       "      <td>7.640000</td>\n",
       "      <td>0.863514</td>\n",
       "      <td>1399.618111</td>\n",
       "      <td>-498.863574</td>\n",
       "      <td>1397.440120</td>\n",
       "      <td>-499.211024</td>\n",
       "      <td>1400.129303</td>\n",
       "      <td>...</td>\n",
       "      <td>8.074946</td>\n",
       "      <td>-499.474407</td>\n",
       "      <td>7.897085</td>\n",
       "      <td>-500.868509</td>\n",
       "      <td>4.931400</td>\n",
       "      <td>-499.963623</td>\n",
       "      <td>24.948919</td>\n",
       "      <td>-498.709987</td>\n",
       "      <td>67.776393</td>\n",
       "      <td>87.360133</td>\n",
       "    </tr>\n",
       "    <tr>\n",
       "      <th>4</th>\n",
       "      <td>2016-09-01 04:59:59</td>\n",
       "      <td>199.099327</td>\n",
       "      <td>10.682530</td>\n",
       "      <td>7.530000</td>\n",
       "      <td>0.805575</td>\n",
       "      <td>1401.268123</td>\n",
       "      <td>-500.808305</td>\n",
       "      <td>1398.128818</td>\n",
       "      <td>-499.504543</td>\n",
       "      <td>1402.172226</td>\n",
       "      <td>...</td>\n",
       "      <td>8.054678</td>\n",
       "      <td>-500.397500</td>\n",
       "      <td>8.107890</td>\n",
       "      <td>-509.526725</td>\n",
       "      <td>4.957674</td>\n",
       "      <td>-500.360026</td>\n",
       "      <td>25.003331</td>\n",
       "      <td>-500.856333</td>\n",
       "      <td>61.467078</td>\n",
       "      <td>83.236367</td>\n",
       "    </tr>\n",
       "    <tr>\n",
       "      <th>...</th>\n",
       "      <td>...</td>\n",
       "      <td>...</td>\n",
       "      <td>...</td>\n",
       "      <td>...</td>\n",
       "      <td>...</td>\n",
       "      <td>...</td>\n",
       "      <td>...</td>\n",
       "      <td>...</td>\n",
       "      <td>...</td>\n",
       "      <td>...</td>\n",
       "      <td>...</td>\n",
       "      <td>...</td>\n",
       "      <td>...</td>\n",
       "      <td>...</td>\n",
       "      <td>...</td>\n",
       "      <td>...</td>\n",
       "      <td>...</td>\n",
       "      <td>...</td>\n",
       "      <td>...</td>\n",
       "      <td>...</td>\n",
       "      <td>...</td>\n",
       "    </tr>\n",
       "    <tr>\n",
       "      <th>5285</th>\n",
       "      <td>2017-12-31 19:59:59</td>\n",
       "      <td>173.957757</td>\n",
       "      <td>15.963399</td>\n",
       "      <td>8.070000</td>\n",
       "      <td>0.896701</td>\n",
       "      <td>1401.930554</td>\n",
       "      <td>-499.728848</td>\n",
       "      <td>1401.441445</td>\n",
       "      <td>-499.193423</td>\n",
       "      <td>1399.810313</td>\n",
       "      <td>...</td>\n",
       "      <td>12.069155</td>\n",
       "      <td>-499.673279</td>\n",
       "      <td>7.977259</td>\n",
       "      <td>-499.516126</td>\n",
       "      <td>5.933319</td>\n",
       "      <td>-499.965973</td>\n",
       "      <td>8.987171</td>\n",
       "      <td>-499.755909</td>\n",
       "      <td>68.919891</td>\n",
       "      <td>95.172585</td>\n",
       "    </tr>\n",
       "    <tr>\n",
       "      <th>5286</th>\n",
       "      <td>2017-12-31 20:59:59</td>\n",
       "      <td>172.910270</td>\n",
       "      <td>16.002605</td>\n",
       "      <td>8.070000</td>\n",
       "      <td>0.896519</td>\n",
       "      <td>1447.075722</td>\n",
       "      <td>-494.716823</td>\n",
       "      <td>1448.851892</td>\n",
       "      <td>-465.963026</td>\n",
       "      <td>1443.890424</td>\n",
       "      <td>...</td>\n",
       "      <td>13.365371</td>\n",
       "      <td>-499.122723</td>\n",
       "      <td>9.288553</td>\n",
       "      <td>-496.892967</td>\n",
       "      <td>7.372897</td>\n",
       "      <td>-499.942956</td>\n",
       "      <td>8.986832</td>\n",
       "      <td>-499.903761</td>\n",
       "      <td>68.440582</td>\n",
       "      <td>94.575036</td>\n",
       "    </tr>\n",
       "    <tr>\n",
       "      <th>5287</th>\n",
       "      <td>2017-12-31 21:59:59</td>\n",
       "      <td>171.135718</td>\n",
       "      <td>15.993669</td>\n",
       "      <td>8.070000</td>\n",
       "      <td>1.165996</td>\n",
       "      <td>1498.836182</td>\n",
       "      <td>-501.770403</td>\n",
       "      <td>1499.572353</td>\n",
       "      <td>-495.516347</td>\n",
       "      <td>1502.749213</td>\n",
       "      <td>...</td>\n",
       "      <td>15.101425</td>\n",
       "      <td>-499.936252</td>\n",
       "      <td>10.989181</td>\n",
       "      <td>-498.347898</td>\n",
       "      <td>9.020944</td>\n",
       "      <td>-500.040448</td>\n",
       "      <td>8.982038</td>\n",
       "      <td>-497.789882</td>\n",
       "      <td>67.092759</td>\n",
       "      <td>93.018138</td>\n",
       "    </tr>\n",
       "    <tr>\n",
       "      <th>5288</th>\n",
       "      <td>2017-12-31 22:59:59</td>\n",
       "      <td>179.697158</td>\n",
       "      <td>15.438979</td>\n",
       "      <td>8.070000</td>\n",
       "      <td>1.501068</td>\n",
       "      <td>1498.466243</td>\n",
       "      <td>-500.483984</td>\n",
       "      <td>1497.986986</td>\n",
       "      <td>-519.200340</td>\n",
       "      <td>1496.569047</td>\n",
       "      <td>...</td>\n",
       "      <td>15.026853</td>\n",
       "      <td>-499.723143</td>\n",
       "      <td>11.011607</td>\n",
       "      <td>-499.985046</td>\n",
       "      <td>9.009783</td>\n",
       "      <td>-499.937902</td>\n",
       "      <td>9.012660</td>\n",
       "      <td>-500.154284</td>\n",
       "      <td>68.061186</td>\n",
       "      <td>92.599042</td>\n",
       "    </tr>\n",
       "    <tr>\n",
       "      <th>5289</th>\n",
       "      <td>2017-12-31 23:59:59</td>\n",
       "      <td>181.556856</td>\n",
       "      <td>14.995850</td>\n",
       "      <td>8.070000</td>\n",
       "      <td>1.623454</td>\n",
       "      <td>1498.096303</td>\n",
       "      <td>-499.796922</td>\n",
       "      <td>1501.743791</td>\n",
       "      <td>-505.146931</td>\n",
       "      <td>1499.535978</td>\n",
       "      <td>...</td>\n",
       "      <td>14.914199</td>\n",
       "      <td>-499.948518</td>\n",
       "      <td>10.986607</td>\n",
       "      <td>-500.658027</td>\n",
       "      <td>8.989497</td>\n",
       "      <td>-500.337588</td>\n",
       "      <td>8.988632</td>\n",
       "      <td>-500.764937</td>\n",
       "      <td>71.699976</td>\n",
       "      <td>91.177695</td>\n",
       "    </tr>\n",
       "  </tbody>\n",
       "</table>\n",
       "<p>5290 rows × 55 columns</p>\n",
       "</div>"
      ],
      "text/plain": [
       "                    date  primary_cleaner.input.sulfate  \\\n",
       "0    2016-09-01 00:59:59                     210.800909   \n",
       "1    2016-09-01 01:59:59                     215.392455   \n",
       "2    2016-09-01 02:59:59                     215.259946   \n",
       "3    2016-09-01 03:59:59                     215.336236   \n",
       "4    2016-09-01 04:59:59                     199.099327   \n",
       "...                  ...                            ...   \n",
       "5285 2017-12-31 19:59:59                     173.957757   \n",
       "5286 2017-12-31 20:59:59                     172.910270   \n",
       "5287 2017-12-31 21:59:59                     171.135718   \n",
       "5288 2017-12-31 22:59:59                     179.697158   \n",
       "5289 2017-12-31 23:59:59                     181.556856   \n",
       "\n",
       "      primary_cleaner.input.depressant  primary_cleaner.input.feed_size  \\\n",
       "0                            14.993118                         8.080000   \n",
       "1                            14.987471                         8.080000   \n",
       "2                            12.884934                         7.786667   \n",
       "3                            12.006805                         7.640000   \n",
       "4                            10.682530                         7.530000   \n",
       "...                                ...                              ...   \n",
       "5285                         15.963399                         8.070000   \n",
       "5286                         16.002605                         8.070000   \n",
       "5287                         15.993669                         8.070000   \n",
       "5288                         15.438979                         8.070000   \n",
       "5289                         14.995850                         8.070000   \n",
       "\n",
       "      primary_cleaner.input.xanthate  primary_cleaner.state.floatbank8_a_air  \\\n",
       "0                           1.005021                             1398.981301   \n",
       "1                           0.990469                             1398.777912   \n",
       "2                           0.996043                             1398.493666   \n",
       "3                           0.863514                             1399.618111   \n",
       "4                           0.805575                             1401.268123   \n",
       "...                              ...                                     ...   \n",
       "5285                        0.896701                             1401.930554   \n",
       "5286                        0.896519                             1447.075722   \n",
       "5287                        1.165996                             1498.836182   \n",
       "5288                        1.501068                             1498.466243   \n",
       "5289                        1.623454                             1498.096303   \n",
       "\n",
       "      primary_cleaner.state.floatbank8_a_level  \\\n",
       "0                                  -500.225577   \n",
       "1                                  -500.057435   \n",
       "2                                  -500.868360   \n",
       "3                                  -498.863574   \n",
       "4                                  -500.808305   \n",
       "...                                        ...   \n",
       "5285                               -499.728848   \n",
       "5286                               -494.716823   \n",
       "5287                               -501.770403   \n",
       "5288                               -500.483984   \n",
       "5289                               -499.796922   \n",
       "\n",
       "      primary_cleaner.state.floatbank8_b_air  \\\n",
       "0                                1399.144926   \n",
       "1                                1398.055362   \n",
       "2                                1398.860436   \n",
       "3                                1397.440120   \n",
       "4                                1398.128818   \n",
       "...                                      ...   \n",
       "5285                             1401.441445   \n",
       "5286                             1448.851892   \n",
       "5287                             1499.572353   \n",
       "5288                             1497.986986   \n",
       "5289                             1501.743791   \n",
       "\n",
       "      primary_cleaner.state.floatbank8_b_level  \\\n",
       "0                                  -499.919735   \n",
       "1                                  -499.778182   \n",
       "2                                  -499.764529   \n",
       "3                                  -499.211024   \n",
       "4                                  -499.504543   \n",
       "...                                        ...   \n",
       "5285                               -499.193423   \n",
       "5286                               -465.963026   \n",
       "5287                               -495.516347   \n",
       "5288                               -519.200340   \n",
       "5289                               -505.146931   \n",
       "\n",
       "      primary_cleaner.state.floatbank8_c_air  ...  \\\n",
       "0                                1400.102998  ...   \n",
       "1                                1396.151033  ...   \n",
       "2                                1398.075709  ...   \n",
       "3                                1400.129303  ...   \n",
       "4                                1402.172226  ...   \n",
       "...                                      ...  ...   \n",
       "5285                             1399.810313  ...   \n",
       "5286                             1443.890424  ...   \n",
       "5287                             1502.749213  ...   \n",
       "5288                             1496.569047  ...   \n",
       "5289                             1499.535978  ...   \n",
       "\n",
       "      secondary_cleaner.state.floatbank4_b_air  \\\n",
       "0                                     8.016656   \n",
       "1                                     8.130979   \n",
       "2                                     8.096893   \n",
       "3                                     8.074946   \n",
       "4                                     8.054678   \n",
       "...                                        ...   \n",
       "5285                                 12.069155   \n",
       "5286                                 13.365371   \n",
       "5287                                 15.101425   \n",
       "5288                                 15.026853   \n",
       "5289                                 14.914199   \n",
       "\n",
       "      secondary_cleaner.state.floatbank4_b_level  \\\n",
       "0                                    -501.289139   \n",
       "1                                    -499.634209   \n",
       "2                                    -500.827423   \n",
       "3                                    -499.474407   \n",
       "4                                    -500.397500   \n",
       "...                                          ...   \n",
       "5285                                 -499.673279   \n",
       "5286                                 -499.122723   \n",
       "5287                                 -499.936252   \n",
       "5288                                 -499.723143   \n",
       "5289                                 -499.948518   \n",
       "\n",
       "      secondary_cleaner.state.floatbank5_a_air  \\\n",
       "0                                     7.946562   \n",
       "1                                     7.958270   \n",
       "2                                     8.071056   \n",
       "3                                     7.897085   \n",
       "4                                     8.107890   \n",
       "...                                        ...   \n",
       "5285                                  7.977259   \n",
       "5286                                  9.288553   \n",
       "5287                                 10.989181   \n",
       "5288                                 11.011607   \n",
       "5289                                 10.986607   \n",
       "\n",
       "      secondary_cleaner.state.floatbank5_a_level  \\\n",
       "0                                    -432.317850   \n",
       "1                                    -525.839648   \n",
       "2                                    -500.801673   \n",
       "3                                    -500.868509   \n",
       "4                                    -509.526725   \n",
       "...                                          ...   \n",
       "5285                                 -499.516126   \n",
       "5286                                 -496.892967   \n",
       "5287                                 -498.347898   \n",
       "5288                                 -499.985046   \n",
       "5289                                 -500.658027   \n",
       "\n",
       "      secondary_cleaner.state.floatbank5_b_air  \\\n",
       "0                                     4.872511   \n",
       "1                                     4.878850   \n",
       "2                                     4.905125   \n",
       "3                                     4.931400   \n",
       "4                                     4.957674   \n",
       "...                                        ...   \n",
       "5285                                  5.933319   \n",
       "5286                                  7.372897   \n",
       "5287                                  9.020944   \n",
       "5288                                  9.009783   \n",
       "5289                                  8.989497   \n",
       "\n",
       "      secondary_cleaner.state.floatbank5_b_level  \\\n",
       "0                                    -500.037437   \n",
       "1                                    -500.162375   \n",
       "2                                    -499.828510   \n",
       "3                                    -499.963623   \n",
       "4                                    -500.360026   \n",
       "...                                          ...   \n",
       "5285                                 -499.965973   \n",
       "5286                                 -499.942956   \n",
       "5287                                 -500.040448   \n",
       "5288                                 -499.937902   \n",
       "5289                                 -500.337588   \n",
       "\n",
       "      secondary_cleaner.state.floatbank6_a_air  \\\n",
       "0                                    26.705889   \n",
       "1                                    25.019940   \n",
       "2                                    24.994862   \n",
       "3                                    24.948919   \n",
       "4                                    25.003331   \n",
       "...                                        ...   \n",
       "5285                                  8.987171   \n",
       "5286                                  8.986832   \n",
       "5287                                  8.982038   \n",
       "5288                                  9.012660   \n",
       "5289                                  8.988632   \n",
       "\n",
       "      secondary_cleaner.state.floatbank6_a_level  final.output.recovery  \\\n",
       "0                                    -499.709414              70.273583   \n",
       "1                                    -499.819438              68.910432   \n",
       "2                                    -500.622559              68.143213   \n",
       "3                                    -498.709987              67.776393   \n",
       "4                                    -500.856333              61.467078   \n",
       "...                                          ...                    ...   \n",
       "5285                                 -499.755909              68.919891   \n",
       "5286                                 -499.903761              68.440582   \n",
       "5287                                 -497.789882              67.092759   \n",
       "5288                                 -500.154284              68.061186   \n",
       "5289                                 -500.764937              71.699976   \n",
       "\n",
       "      rougher.output.recovery  \n",
       "0                   89.993421  \n",
       "1                   88.089657  \n",
       "2                   88.412756  \n",
       "3                   87.360133  \n",
       "4                   83.236367  \n",
       "...                       ...  \n",
       "5285                95.172585  \n",
       "5286                94.575036  \n",
       "5287                93.018138  \n",
       "5288                92.599042  \n",
       "5289                91.177695  \n",
       "\n",
       "[5290 rows x 55 columns]"
      ]
     },
     "execution_count": 86,
     "metadata": {},
     "output_type": "execute_result"
    }
   ],
   "source": [
    "data_test_final"
   ]
  },
  {
   "cell_type": "code",
   "execution_count": 87,
   "metadata": {},
   "outputs": [],
   "source": [
    "data_test_final = data_test_final.fillna(method='ffill')"
   ]
  },
  {
   "cell_type": "markdown",
   "metadata": {},
   "source": [
    "Разделим на признаки и целевой признак"
   ]
  },
  {
   "cell_type": "code",
   "execution_count": 88,
   "metadata": {},
   "outputs": [],
   "source": [
    "target_test_rougher = data_test_final['rougher.output.recovery']\n",
    "features_test_rougher = data_test_final.filter(regex='rougher.input|rougher.state', axis=1)"
   ]
  },
  {
   "cell_type": "markdown",
   "metadata": {},
   "source": [
    "Возьмем модель model_tree:"
   ]
  },
  {
   "cell_type": "code",
   "execution_count": 89,
   "metadata": {},
   "outputs": [],
   "source": [
    "predictions_test_rougher = model_for_rougher.predict(features_test_rougher)"
   ]
  },
  {
   "cell_type": "markdown",
   "metadata": {},
   "source": [
    "Посчитаем sMAPE:"
   ]
  },
  {
   "cell_type": "code",
   "execution_count": 90,
   "metadata": {},
   "outputs": [],
   "source": [
    "smape_metric_rougher = smape(target_test_rougher, predictions_test_rougher)"
   ]
  },
  {
   "cell_type": "code",
   "execution_count": 91,
   "metadata": {},
   "outputs": [
    {
     "data": {
      "text/plain": [
       "9.06444833592102"
      ]
     },
     "execution_count": 91,
     "metadata": {},
     "output_type": "execute_result"
    }
   ],
   "source": [
    "smape_metric_rougher"
   ]
  },
  {
   "cell_type": "markdown",
   "metadata": {},
   "source": [
    "Теперь перейдем к финальной эффективности"
   ]
  },
  {
   "cell_type": "code",
   "execution_count": 92,
   "metadata": {},
   "outputs": [],
   "source": [
    "target_test_final = data_test_final['final.output.recovery']\n",
    "features_test_final = data_test_final.filter(regex='primary_cleaner.input|primary_cleaner.state|secondary_cleaner.input|secondary_cleaner.state', axis=1)"
   ]
  },
  {
   "cell_type": "markdown",
   "metadata": {},
   "source": [
    "Модель - model_for"
   ]
  },
  {
   "cell_type": "code",
   "execution_count": 93,
   "metadata": {},
   "outputs": [],
   "source": [
    "predictions_test_final = model_for_final.predict(features_test_final)"
   ]
  },
  {
   "cell_type": "code",
   "execution_count": 94,
   "metadata": {},
   "outputs": [],
   "source": [
    "predictions_test_final = model_for_final.predict(features_test_final)"
   ]
  },
  {
   "cell_type": "code",
   "execution_count": 95,
   "metadata": {},
   "outputs": [],
   "source": [
    "smape_metric_final = smape(predictions_test_final, target_test_final)"
   ]
  },
  {
   "cell_type": "code",
   "execution_count": 96,
   "metadata": {},
   "outputs": [
    {
     "data": {
      "text/plain": [
       "10.546298830674727"
      ]
     },
     "execution_count": 96,
     "metadata": {},
     "output_type": "execute_result"
    }
   ],
   "source": [
    "smape_metric_final"
   ]
  },
  {
   "cell_type": "markdown",
   "metadata": {},
   "source": [
    "#### Общая sMAPE"
   ]
  },
  {
   "cell_type": "code",
   "execution_count": 97,
   "metadata": {},
   "outputs": [],
   "source": [
    "smape_final = 0.25 * smape_metric_rougher + 0.75 * smape_metric_final"
   ]
  },
  {
   "cell_type": "code",
   "execution_count": 98,
   "metadata": {},
   "outputs": [
    {
     "name": "stdout",
     "output_type": "stream",
     "text": [
      "10.1758362069863\n"
     ]
    }
   ],
   "source": [
    "print(smape_final)"
   ]
  },
  {
   "cell_type": "markdown",
   "metadata": {},
   "source": [
    "Таким образом, мы получили sMAPE, примерно равный 10%"
   ]
  }
 ],
 "metadata": {
  "ExecuteTimeLog": [
   {
    "duration": 739,
    "start_time": "2021-10-25T16:08:33.671Z"
   },
   {
    "duration": 1910,
    "start_time": "2021-10-25T16:09:18.058Z"
   },
   {
    "duration": 1981,
    "start_time": "2021-10-25T16:09:43.276Z"
   },
   {
    "duration": 1943,
    "start_time": "2021-10-25T16:09:59.475Z"
   },
   {
    "duration": 2237,
    "start_time": "2021-10-25T16:11:18.576Z"
   },
   {
    "duration": 942,
    "start_time": "2021-10-25T16:11:28.506Z"
   },
   {
    "duration": 54,
    "start_time": "2021-10-25T16:11:35.770Z"
   },
   {
    "duration": 40,
    "start_time": "2021-10-25T16:11:45.336Z"
   },
   {
    "duration": 43,
    "start_time": "2021-10-25T16:11:49.744Z"
   },
   {
    "duration": 226,
    "start_time": "2021-10-25T16:43:30.503Z"
   },
   {
    "duration": 7,
    "start_time": "2021-10-25T16:43:33.949Z"
   },
   {
    "duration": 4,
    "start_time": "2021-10-25T16:48:30.907Z"
   },
   {
    "duration": 7,
    "start_time": "2021-10-25T16:48:33.924Z"
   },
   {
    "duration": 6,
    "start_time": "2021-10-25T16:48:39.468Z"
   },
   {
    "duration": 85,
    "start_time": "2021-10-25T16:48:52.663Z"
   },
   {
    "duration": 6,
    "start_time": "2021-10-25T16:48:55.733Z"
   },
   {
    "duration": 5,
    "start_time": "2021-10-25T16:49:07.633Z"
   },
   {
    "duration": 7,
    "start_time": "2021-10-25T16:50:21.850Z"
   },
   {
    "duration": 25,
    "start_time": "2021-10-25T16:50:43.571Z"
   },
   {
    "duration": 7,
    "start_time": "2021-10-25T16:52:28.074Z"
   },
   {
    "duration": 251,
    "start_time": "2021-10-25T17:29:59.196Z"
   },
   {
    "duration": 31,
    "start_time": "2021-10-25T17:30:01.200Z"
   },
   {
    "duration": 33,
    "start_time": "2021-10-25T17:30:09.718Z"
   },
   {
    "duration": 34,
    "start_time": "2021-10-25T17:30:15.466Z"
   },
   {
    "duration": 24,
    "start_time": "2021-10-25T17:31:12.168Z"
   },
   {
    "duration": 22,
    "start_time": "2021-10-25T17:32:52.118Z"
   },
   {
    "duration": 13,
    "start_time": "2021-10-25T17:32:54.076Z"
   },
   {
    "duration": 19,
    "start_time": "2021-10-25T17:33:10.774Z"
   },
   {
    "duration": 82,
    "start_time": "2021-10-25T17:45:14.706Z"
   },
   {
    "duration": 81,
    "start_time": "2021-10-25T17:47:40.267Z"
   },
   {
    "duration": 91,
    "start_time": "2021-10-25T17:47:57.255Z"
   },
   {
    "duration": 71,
    "start_time": "2021-10-25T17:49:59.884Z"
   },
   {
    "duration": 70,
    "start_time": "2021-10-25T17:50:16.322Z"
   },
   {
    "duration": 2219,
    "start_time": "2021-10-25T17:51:29.608Z"
   },
   {
    "duration": 10,
    "start_time": "2021-10-25T17:51:46.114Z"
   },
   {
    "duration": 42,
    "start_time": "2021-10-25T17:51:50.828Z"
   },
   {
    "duration": 34,
    "start_time": "2021-10-25T17:51:55.258Z"
   },
   {
    "duration": 17,
    "start_time": "2021-10-25T17:52:40.939Z"
   },
   {
    "duration": 8,
    "start_time": "2021-10-25T17:59:05.527Z"
   },
   {
    "duration": 7530,
    "start_time": "2021-10-25T18:09:58.845Z"
   },
   {
    "duration": 17,
    "start_time": "2021-10-25T18:10:15.703Z"
   },
   {
    "duration": 6,
    "start_time": "2021-10-25T18:14:10.494Z"
   },
   {
    "duration": 14,
    "start_time": "2021-10-25T18:14:12.837Z"
   },
   {
    "duration": 285,
    "start_time": "2021-10-25T18:18:49.260Z"
   },
   {
    "duration": 255,
    "start_time": "2021-10-25T18:20:35.861Z"
   },
   {
    "duration": 89,
    "start_time": "2021-10-25T18:20:47.291Z"
   },
   {
    "duration": 100,
    "start_time": "2021-10-25T18:20:51.107Z"
   },
   {
    "duration": 95,
    "start_time": "2021-10-25T18:20:58.196Z"
   },
   {
    "duration": 6,
    "start_time": "2021-10-25T18:21:12.435Z"
   },
   {
    "duration": 5,
    "start_time": "2021-10-25T18:21:44.097Z"
   },
   {
    "duration": 4,
    "start_time": "2021-10-25T18:23:25.827Z"
   },
   {
    "duration": 5,
    "start_time": "2021-10-25T18:23:26.584Z"
   },
   {
    "duration": 8,
    "start_time": "2021-10-25T18:23:30.391Z"
   },
   {
    "duration": 7,
    "start_time": "2021-10-25T18:24:51.627Z"
   },
   {
    "duration": 8,
    "start_time": "2021-10-25T18:25:00.175Z"
   },
   {
    "duration": 8,
    "start_time": "2021-10-25T18:25:11.749Z"
   },
   {
    "duration": 81,
    "start_time": "2021-10-25T18:25:36.456Z"
   },
   {
    "duration": 565,
    "start_time": "2021-10-25T18:26:12.288Z"
   },
   {
    "duration": 6,
    "start_time": "2021-10-25T18:26:45.242Z"
   },
   {
    "duration": 5,
    "start_time": "2021-10-25T18:26:49.248Z"
   },
   {
    "duration": 89,
    "start_time": "2021-10-25T18:27:59.196Z"
   },
   {
    "duration": 4,
    "start_time": "2021-10-25T18:37:49.067Z"
   },
   {
    "duration": 3,
    "start_time": "2021-10-25T18:38:00.574Z"
   },
   {
    "duration": 4,
    "start_time": "2021-10-25T18:40:13.628Z"
   },
   {
    "duration": 6,
    "start_time": "2021-10-25T18:40:17.150Z"
   },
   {
    "duration": 1295,
    "start_time": "2021-10-25T18:46:18.975Z"
   },
   {
    "duration": 887,
    "start_time": "2021-10-25T18:46:20.273Z"
   },
   {
    "duration": 43,
    "start_time": "2021-10-25T18:46:21.163Z"
   },
   {
    "duration": 26,
    "start_time": "2021-10-25T18:46:21.209Z"
   },
   {
    "duration": 59,
    "start_time": "2021-10-25T18:46:21.238Z"
   },
   {
    "duration": 19,
    "start_time": "2021-10-25T18:46:21.300Z"
   },
   {
    "duration": 66,
    "start_time": "2021-10-25T18:46:21.322Z"
   },
   {
    "duration": 27,
    "start_time": "2021-10-25T18:46:21.391Z"
   },
   {
    "duration": 49,
    "start_time": "2021-10-25T18:46:21.420Z"
   },
   {
    "duration": 9,
    "start_time": "2021-10-25T18:46:21.471Z"
   },
   {
    "duration": 18,
    "start_time": "2021-10-25T18:46:21.483Z"
   },
   {
    "duration": 12,
    "start_time": "2021-10-25T18:46:21.505Z"
   },
   {
    "duration": 51,
    "start_time": "2021-10-25T18:46:21.520Z"
   },
   {
    "duration": 15,
    "start_time": "2021-10-25T18:46:21.574Z"
   },
   {
    "duration": 6,
    "start_time": "2021-10-25T18:46:21.591Z"
   },
   {
    "duration": 8,
    "start_time": "2021-10-25T18:46:21.599Z"
   },
   {
    "duration": 5,
    "start_time": "2021-10-25T18:46:21.609Z"
   },
   {
    "duration": 5,
    "start_time": "2021-10-25T18:46:21.617Z"
   },
   {
    "duration": 45,
    "start_time": "2021-10-25T18:46:21.625Z"
   },
   {
    "duration": 12,
    "start_time": "2021-10-25T18:46:21.672Z"
   },
   {
    "duration": 1244,
    "start_time": "2021-10-26T17:19:53.072Z"
   },
   {
    "duration": 858,
    "start_time": "2021-10-26T17:19:54.320Z"
   },
   {
    "duration": 61,
    "start_time": "2021-10-26T17:19:55.186Z"
   },
   {
    "duration": 26,
    "start_time": "2021-10-26T17:19:55.250Z"
   },
   {
    "duration": 63,
    "start_time": "2021-10-26T17:19:55.279Z"
   },
   {
    "duration": 20,
    "start_time": "2021-10-26T17:19:55.344Z"
   },
   {
    "duration": 31,
    "start_time": "2021-10-26T17:19:55.367Z"
   },
   {
    "duration": 51,
    "start_time": "2021-10-26T17:19:55.401Z"
   },
   {
    "duration": 20,
    "start_time": "2021-10-26T17:19:55.454Z"
   },
   {
    "duration": 6,
    "start_time": "2021-10-26T17:19:55.476Z"
   },
   {
    "duration": 49,
    "start_time": "2021-10-26T17:19:55.485Z"
   },
   {
    "duration": 11,
    "start_time": "2021-10-26T17:19:55.537Z"
   },
   {
    "duration": 8,
    "start_time": "2021-10-26T17:19:55.551Z"
   },
   {
    "duration": 10,
    "start_time": "2021-10-26T17:19:55.562Z"
   },
   {
    "duration": 6,
    "start_time": "2021-10-26T17:19:55.575Z"
   },
   {
    "duration": 48,
    "start_time": "2021-10-26T17:19:55.583Z"
   },
   {
    "duration": 5,
    "start_time": "2021-10-26T17:19:55.634Z"
   },
   {
    "duration": 5,
    "start_time": "2021-10-26T17:19:55.641Z"
   },
   {
    "duration": 5,
    "start_time": "2021-10-26T17:19:55.650Z"
   },
   {
    "duration": 10,
    "start_time": "2021-10-26T17:19:55.658Z"
   },
   {
    "duration": 34,
    "start_time": "2021-10-26T17:27:27.868Z"
   },
   {
    "duration": 29,
    "start_time": "2021-10-26T17:29:37.447Z"
   },
   {
    "duration": 39,
    "start_time": "2021-10-26T17:30:04.434Z"
   },
   {
    "duration": 2131,
    "start_time": "2021-10-26T17:30:38.827Z"
   },
   {
    "duration": 42,
    "start_time": "2021-10-26T17:30:47.342Z"
   },
   {
    "duration": 1321,
    "start_time": "2021-10-26T17:33:36.295Z"
   },
   {
    "duration": 874,
    "start_time": "2021-10-26T17:33:37.619Z"
   },
   {
    "duration": 69,
    "start_time": "2021-10-26T17:33:38.497Z"
   },
   {
    "duration": 34,
    "start_time": "2021-10-26T17:33:38.570Z"
   },
   {
    "duration": 53,
    "start_time": "2021-10-26T17:33:38.607Z"
   },
   {
    "duration": 15,
    "start_time": "2021-10-26T17:33:38.663Z"
   },
   {
    "duration": 56,
    "start_time": "2021-10-26T17:33:38.680Z"
   },
   {
    "duration": 25,
    "start_time": "2021-10-26T17:33:38.738Z"
   },
   {
    "duration": 21,
    "start_time": "2021-10-26T17:33:38.767Z"
   },
   {
    "duration": 6,
    "start_time": "2021-10-26T17:33:38.791Z"
   },
   {
    "duration": 14,
    "start_time": "2021-10-26T17:33:38.830Z"
   },
   {
    "duration": 9,
    "start_time": "2021-10-26T17:33:38.846Z"
   },
   {
    "duration": 5599,
    "start_time": "2021-10-26T17:33:38.857Z"
   },
   {
    "duration": 2125,
    "start_time": "2021-10-26T17:33:42.334Z"
   },
   {
    "duration": 2126,
    "start_time": "2021-10-26T17:33:42.335Z"
   },
   {
    "duration": 2125,
    "start_time": "2021-10-26T17:33:42.337Z"
   },
   {
    "duration": 2125,
    "start_time": "2021-10-26T17:33:42.339Z"
   },
   {
    "duration": 2125,
    "start_time": "2021-10-26T17:33:42.340Z"
   },
   {
    "duration": 2125,
    "start_time": "2021-10-26T17:33:42.342Z"
   },
   {
    "duration": 2126,
    "start_time": "2021-10-26T17:33:42.343Z"
   },
   {
    "duration": 2127,
    "start_time": "2021-10-26T17:33:42.344Z"
   },
   {
    "duration": 2126,
    "start_time": "2021-10-26T17:33:42.346Z"
   },
   {
    "duration": 8,
    "start_time": "2021-10-26T17:33:58.362Z"
   },
   {
    "duration": 8,
    "start_time": "2021-10-26T17:34:13.292Z"
   },
   {
    "duration": 5,
    "start_time": "2021-10-26T17:34:19.637Z"
   },
   {
    "duration": 6,
    "start_time": "2021-10-26T17:34:20.263Z"
   },
   {
    "duration": 3,
    "start_time": "2021-10-26T17:34:22.515Z"
   },
   {
    "duration": 5,
    "start_time": "2021-10-26T17:34:23.099Z"
   },
   {
    "duration": 4,
    "start_time": "2021-10-26T17:34:24.113Z"
   },
   {
    "duration": 6,
    "start_time": "2021-10-26T17:34:24.675Z"
   },
   {
    "duration": 25,
    "start_time": "2021-10-26T17:34:27.561Z"
   },
   {
    "duration": 42,
    "start_time": "2021-10-26T17:34:30.597Z"
   },
   {
    "duration": 77,
    "start_time": "2021-10-26T17:35:31.080Z"
   },
   {
    "duration": 15,
    "start_time": "2021-10-26T17:36:56.670Z"
   },
   {
    "duration": 22,
    "start_time": "2021-10-26T17:37:00.021Z"
   },
   {
    "duration": 29,
    "start_time": "2021-10-26T17:38:36.498Z"
   },
   {
    "duration": 18,
    "start_time": "2021-10-26T17:38:57.735Z"
   },
   {
    "duration": 5,
    "start_time": "2021-10-26T17:53:10.321Z"
   },
   {
    "duration": 8,
    "start_time": "2021-10-26T17:53:13.238Z"
   },
   {
    "duration": 61,
    "start_time": "2021-10-26T18:00:45.578Z"
   },
   {
    "duration": 44,
    "start_time": "2021-10-26T18:01:37.452Z"
   },
   {
    "duration": 4,
    "start_time": "2021-10-26T18:15:01.325Z"
   },
   {
    "duration": 6,
    "start_time": "2021-10-26T18:15:04.575Z"
   },
   {
    "duration": 255,
    "start_time": "2021-10-26T18:15:38.934Z"
   },
   {
    "duration": 10,
    "start_time": "2021-10-26T18:15:49.000Z"
   },
   {
    "duration": 6,
    "start_time": "2021-10-26T18:15:50.411Z"
   },
   {
    "duration": 5,
    "start_time": "2021-10-26T18:15:57.352Z"
   },
   {
    "duration": 10,
    "start_time": "2021-10-26T18:18:18.741Z"
   },
   {
    "duration": 8,
    "start_time": "2021-10-26T18:18:22.659Z"
   },
   {
    "duration": 41,
    "start_time": "2021-10-26T18:19:41.860Z"
   },
   {
    "duration": 35,
    "start_time": "2021-10-26T18:19:51.399Z"
   },
   {
    "duration": 57,
    "start_time": "2021-10-26T18:20:10.206Z"
   },
   {
    "duration": 222,
    "start_time": "2021-10-26T18:24:03.027Z"
   },
   {
    "duration": 44,
    "start_time": "2021-10-26T18:24:12.377Z"
   },
   {
    "duration": 101,
    "start_time": "2021-10-26T18:24:52.476Z"
   },
   {
    "duration": 92,
    "start_time": "2021-10-26T18:25:09.756Z"
   },
   {
    "duration": 78,
    "start_time": "2021-10-26T18:25:28.211Z"
   },
   {
    "duration": 81,
    "start_time": "2021-10-26T18:25:39.661Z"
   },
   {
    "duration": 32,
    "start_time": "2021-10-26T18:26:01.683Z"
   },
   {
    "duration": 77,
    "start_time": "2021-10-26T18:26:13.076Z"
   },
   {
    "duration": 15,
    "start_time": "2021-10-26T18:26:45.288Z"
   },
   {
    "duration": 13,
    "start_time": "2021-10-26T18:26:49.293Z"
   },
   {
    "duration": 32,
    "start_time": "2021-10-26T18:27:06.331Z"
   },
   {
    "duration": 31,
    "start_time": "2021-10-26T18:27:14.283Z"
   },
   {
    "duration": 31,
    "start_time": "2021-10-26T18:27:24.187Z"
   },
   {
    "duration": 12,
    "start_time": "2021-10-26T18:28:16.482Z"
   },
   {
    "duration": 12,
    "start_time": "2021-10-26T18:28:21.836Z"
   },
   {
    "duration": 31,
    "start_time": "2021-10-26T18:28:28.338Z"
   },
   {
    "duration": 41,
    "start_time": "2021-10-26T18:28:40.554Z"
   },
   {
    "duration": 44,
    "start_time": "2021-10-26T18:28:48.986Z"
   },
   {
    "duration": 30,
    "start_time": "2021-10-26T18:29:12.188Z"
   },
   {
    "duration": 78,
    "start_time": "2021-10-26T18:30:12.854Z"
   },
   {
    "duration": 42,
    "start_time": "2021-10-26T18:30:16.497Z"
   },
   {
    "duration": 273,
    "start_time": "2021-10-26T18:31:06.586Z"
   },
   {
    "duration": 577,
    "start_time": "2021-10-26T18:31:11.130Z"
   },
   {
    "duration": 22,
    "start_time": "2021-10-26T18:32:44.928Z"
   },
   {
    "duration": 19,
    "start_time": "2021-10-26T18:33:10.773Z"
   },
   {
    "duration": 7,
    "start_time": "2021-10-26T18:33:13.478Z"
   },
   {
    "duration": 18,
    "start_time": "2021-10-26T18:33:39.979Z"
   },
   {
    "duration": 6,
    "start_time": "2021-10-26T18:33:41.781Z"
   },
   {
    "duration": 20,
    "start_time": "2021-10-26T18:33:53.537Z"
   },
   {
    "duration": 7,
    "start_time": "2021-10-26T18:33:54.763Z"
   },
   {
    "duration": 342,
    "start_time": "2021-10-26T18:33:58.050Z"
   },
   {
    "duration": 227,
    "start_time": "2021-10-26T18:34:02.806Z"
   },
   {
    "duration": 221,
    "start_time": "2021-10-26T18:34:05.348Z"
   },
   {
    "duration": 18,
    "start_time": "2021-10-26T18:34:15.617Z"
   },
   {
    "duration": 5,
    "start_time": "2021-10-26T18:34:19.558Z"
   },
   {
    "duration": 19,
    "start_time": "2021-10-26T18:34:25.158Z"
   },
   {
    "duration": 5,
    "start_time": "2021-10-26T18:34:26.210Z"
   },
   {
    "duration": 5,
    "start_time": "2021-10-26T18:36:21.265Z"
   },
   {
    "duration": 689,
    "start_time": "2021-10-26T18:37:39.295Z"
   },
   {
    "duration": 6,
    "start_time": "2021-10-26T18:38:09.471Z"
   },
   {
    "duration": 719,
    "start_time": "2021-10-26T18:38:10.509Z"
   },
   {
    "duration": 7,
    "start_time": "2021-10-26T18:38:28.645Z"
   },
   {
    "duration": 19,
    "start_time": "2021-10-26T18:39:05.668Z"
   },
   {
    "duration": 11,
    "start_time": "2021-10-26T18:39:48.855Z"
   },
   {
    "duration": 8,
    "start_time": "2021-10-26T18:44:13.745Z"
   },
   {
    "duration": 6,
    "start_time": "2021-10-26T18:46:00.663Z"
   },
   {
    "duration": 861,
    "start_time": "2021-10-26T18:46:01.697Z"
   },
   {
    "duration": 4,
    "start_time": "2021-10-26T18:46:59.316Z"
   },
   {
    "duration": 3,
    "start_time": "2021-10-26T18:47:11.623Z"
   },
   {
    "duration": 6,
    "start_time": "2021-10-26T18:47:13.004Z"
   },
   {
    "duration": 8,
    "start_time": "2021-10-26T18:47:26.098Z"
   },
   {
    "duration": 6,
    "start_time": "2021-10-26T18:47:33.497Z"
   },
   {
    "duration": 6,
    "start_time": "2021-10-26T18:49:07.957Z"
   },
   {
    "duration": 1445,
    "start_time": "2021-10-26T18:49:08.849Z"
   },
   {
    "duration": 6,
    "start_time": "2021-10-26T18:49:35.050Z"
   },
   {
    "duration": 76551,
    "start_time": "2021-10-26T18:49:36.616Z"
   },
   {
    "duration": 23,
    "start_time": "2021-10-26T18:51:20.040Z"
   },
   {
    "duration": 6,
    "start_time": "2021-10-26T18:52:30.956Z"
   },
   {
    "duration": 808,
    "start_time": "2021-10-26T18:52:32.811Z"
   },
   {
    "duration": 6,
    "start_time": "2021-10-26T18:53:56.162Z"
   },
   {
    "duration": 693,
    "start_time": "2021-10-26T18:53:57.267Z"
   },
   {
    "duration": 7,
    "start_time": "2021-10-26T18:54:07.296Z"
   },
   {
    "duration": 702,
    "start_time": "2021-10-26T18:54:08.088Z"
   },
   {
    "duration": 7,
    "start_time": "2021-10-26T18:55:19.563Z"
   },
   {
    "duration": 7,
    "start_time": "2021-10-26T18:55:25.901Z"
   },
   {
    "duration": 7,
    "start_time": "2021-10-26T18:55:29.698Z"
   },
   {
    "duration": 7,
    "start_time": "2021-10-26T18:55:30.371Z"
   },
   {
    "duration": 239,
    "start_time": "2021-10-26T18:56:30.626Z"
   },
   {
    "duration": 5,
    "start_time": "2021-10-26T18:56:32.901Z"
   },
   {
    "duration": 6,
    "start_time": "2021-10-26T18:58:29.846Z"
   },
   {
    "duration": 76321,
    "start_time": "2021-10-26T18:58:32.689Z"
   },
   {
    "duration": 53,
    "start_time": "2021-10-26T18:59:51.885Z"
   },
   {
    "duration": 43,
    "start_time": "2021-10-26T19:00:09.473Z"
   },
   {
    "duration": 66,
    "start_time": "2021-10-26T19:29:01.535Z"
   },
   {
    "duration": 5,
    "start_time": "2021-10-26T19:29:10.986Z"
   },
   {
    "duration": 14,
    "start_time": "2021-10-26T19:29:14.551Z"
   },
   {
    "duration": 1280,
    "start_time": "2021-10-27T16:58:09.596Z"
   },
   {
    "duration": 864,
    "start_time": "2021-10-27T16:58:10.881Z"
   },
   {
    "duration": 51,
    "start_time": "2021-10-27T16:58:11.753Z"
   },
   {
    "duration": 25,
    "start_time": "2021-10-27T16:58:11.807Z"
   },
   {
    "duration": 59,
    "start_time": "2021-10-27T16:58:11.835Z"
   },
   {
    "duration": 15,
    "start_time": "2021-10-27T16:58:11.896Z"
   },
   {
    "duration": 29,
    "start_time": "2021-10-27T16:58:11.913Z"
   },
   {
    "duration": 25,
    "start_time": "2021-10-27T16:58:11.981Z"
   },
   {
    "duration": 20,
    "start_time": "2021-10-27T16:58:12.009Z"
   },
   {
    "duration": 7,
    "start_time": "2021-10-27T16:58:12.031Z"
   },
   {
    "duration": 47,
    "start_time": "2021-10-27T16:58:12.040Z"
   },
   {
    "duration": 12,
    "start_time": "2021-10-27T16:58:12.089Z"
   },
   {
    "duration": 7,
    "start_time": "2021-10-27T16:58:12.103Z"
   },
   {
    "duration": 8,
    "start_time": "2021-10-27T16:58:12.112Z"
   },
   {
    "duration": 4,
    "start_time": "2021-10-27T16:58:12.123Z"
   },
   {
    "duration": 6,
    "start_time": "2021-10-27T16:58:12.129Z"
   },
   {
    "duration": 4,
    "start_time": "2021-10-27T16:58:12.183Z"
   },
   {
    "duration": 4,
    "start_time": "2021-10-27T16:58:12.190Z"
   },
   {
    "duration": 6,
    "start_time": "2021-10-27T16:58:12.197Z"
   },
   {
    "duration": 8,
    "start_time": "2021-10-27T16:58:12.206Z"
   },
   {
    "duration": 66,
    "start_time": "2021-10-27T16:58:12.216Z"
   },
   {
    "duration": 11,
    "start_time": "2021-10-27T16:58:12.285Z"
   },
   {
    "duration": 8,
    "start_time": "2021-10-27T16:58:12.300Z"
   },
   {
    "duration": 76782,
    "start_time": "2021-10-27T16:58:12.311Z"
   },
   {
    "duration": 54,
    "start_time": "2021-10-27T16:59:29.095Z"
   },
   {
    "duration": 5,
    "start_time": "2021-10-27T16:59:29.154Z"
   },
   {
    "duration": 15,
    "start_time": "2021-10-27T16:59:29.182Z"
   },
   {
    "duration": 113,
    "start_time": "2021-10-27T16:59:29.200Z"
   },
   {
    "duration": 453,
    "start_time": "2021-10-27T17:18:29.443Z"
   },
   {
    "duration": 6,
    "start_time": "2021-10-27T17:19:07.851Z"
   },
   {
    "duration": 94,
    "start_time": "2021-10-27T17:19:18.669Z"
   },
   {
    "duration": 47,
    "start_time": "2021-10-27T17:19:33.111Z"
   },
   {
    "duration": 7,
    "start_time": "2021-10-27T17:20:27.705Z"
   },
   {
    "duration": 6,
    "start_time": "2021-10-27T17:20:30.153Z"
   },
   {
    "duration": 293,
    "start_time": "2021-10-27T17:20:43.155Z"
   },
   {
    "duration": 143,
    "start_time": "2021-10-27T17:21:00.415Z"
   },
   {
    "duration": 235,
    "start_time": "2021-10-27T17:21:38.522Z"
   },
   {
    "duration": 253,
    "start_time": "2021-10-27T17:23:42.175Z"
   },
   {
    "duration": 299,
    "start_time": "2021-10-27T17:33:04.471Z"
   },
   {
    "duration": 340,
    "start_time": "2021-10-27T17:36:51.801Z"
   },
   {
    "duration": 4,
    "start_time": "2021-10-27T17:36:54.747Z"
   },
   {
    "duration": 299,
    "start_time": "2021-10-27T17:36:55.575Z"
   },
   {
    "duration": 4,
    "start_time": "2021-10-27T17:37:03.590Z"
   },
   {
    "duration": 5,
    "start_time": "2021-10-27T17:37:04.463Z"
   },
   {
    "duration": 7,
    "start_time": "2021-10-27T17:37:08.110Z"
   },
   {
    "duration": 109,
    "start_time": "2021-10-27T17:37:12.478Z"
   },
   {
    "duration": 262,
    "start_time": "2021-10-27T17:37:20.022Z"
   },
   {
    "duration": 268,
    "start_time": "2021-10-27T17:37:30.584Z"
   },
   {
    "duration": 245,
    "start_time": "2021-10-27T17:45:11.418Z"
   },
   {
    "duration": 11,
    "start_time": "2021-10-27T17:48:26.065Z"
   },
   {
    "duration": 251,
    "start_time": "2021-10-27T17:48:33.808Z"
   },
   {
    "duration": 281,
    "start_time": "2021-10-27T17:48:39.417Z"
   },
   {
    "duration": 10,
    "start_time": "2021-10-27T17:49:01.326Z"
   },
   {
    "duration": 249,
    "start_time": "2021-10-27T17:49:04.385Z"
   },
   {
    "duration": 263,
    "start_time": "2021-10-27T17:49:06.057Z"
   },
   {
    "duration": 9,
    "start_time": "2021-10-27T17:49:19.773Z"
   },
   {
    "duration": 273,
    "start_time": "2021-10-27T17:49:21.587Z"
   },
   {
    "duration": 250,
    "start_time": "2021-10-27T17:49:32.287Z"
   },
   {
    "duration": 241,
    "start_time": "2021-10-27T17:51:40.646Z"
   },
   {
    "duration": 234,
    "start_time": "2021-10-27T17:52:47.638Z"
   },
   {
    "duration": 238,
    "start_time": "2021-10-27T17:52:50.050Z"
   },
   {
    "duration": 11,
    "start_time": "2021-10-27T17:54:09.741Z"
   },
   {
    "duration": 255,
    "start_time": "2021-10-27T17:55:21.477Z"
   },
   {
    "duration": 96,
    "start_time": "2021-10-27T17:55:46.414Z"
   },
   {
    "duration": 100,
    "start_time": "2021-10-27T17:55:59.858Z"
   },
   {
    "duration": 109,
    "start_time": "2021-10-27T17:56:10.942Z"
   },
   {
    "duration": 91,
    "start_time": "2021-10-27T17:56:20.670Z"
   },
   {
    "duration": 7136,
    "start_time": "2021-10-27T18:10:42.662Z"
   },
   {
    "duration": 858,
    "start_time": "2021-10-27T18:11:29.389Z"
   },
   {
    "duration": 875,
    "start_time": "2021-10-27T18:13:05.646Z"
   },
   {
    "duration": 3932,
    "start_time": "2021-10-27T18:14:52.826Z"
   },
   {
    "duration": 3805,
    "start_time": "2021-10-27T18:15:13.919Z"
   },
   {
    "duration": 98,
    "start_time": "2021-10-27T18:16:30.653Z"
   },
   {
    "duration": 108,
    "start_time": "2021-10-27T18:16:54.533Z"
   },
   {
    "duration": 95,
    "start_time": "2021-10-27T18:17:01.799Z"
   },
   {
    "duration": 828,
    "start_time": "2021-10-27T18:17:25.847Z"
   },
   {
    "duration": 416,
    "start_time": "2021-10-27T18:18:00.054Z"
   },
   {
    "duration": 1102,
    "start_time": "2021-10-27T18:18:57.806Z"
   },
   {
    "duration": 7,
    "start_time": "2021-10-27T18:19:19.904Z"
   },
   {
    "duration": 8950,
    "start_time": "2021-10-27T18:20:55.349Z"
   },
   {
    "duration": 3,
    "start_time": "2021-10-27T18:22:18.700Z"
   },
   {
    "duration": 900,
    "start_time": "2021-10-27T18:22:18.706Z"
   },
   {
    "duration": 30,
    "start_time": "2021-10-27T18:22:19.609Z"
   },
   {
    "duration": 45,
    "start_time": "2021-10-27T18:22:19.642Z"
   },
   {
    "duration": 30,
    "start_time": "2021-10-27T18:22:19.690Z"
   },
   {
    "duration": 16,
    "start_time": "2021-10-27T18:22:19.722Z"
   },
   {
    "duration": 59,
    "start_time": "2021-10-27T18:22:19.741Z"
   },
   {
    "duration": 25,
    "start_time": "2021-10-27T18:22:19.802Z"
   },
   {
    "duration": 20,
    "start_time": "2021-10-27T18:22:19.831Z"
   },
   {
    "duration": 7,
    "start_time": "2021-10-27T18:22:19.883Z"
   },
   {
    "duration": 16,
    "start_time": "2021-10-27T18:22:19.893Z"
   },
   {
    "duration": 6,
    "start_time": "2021-10-27T18:22:19.911Z"
   },
   {
    "duration": 7,
    "start_time": "2021-10-27T18:22:19.920Z"
   },
   {
    "duration": 12,
    "start_time": "2021-10-27T18:22:19.929Z"
   },
   {
    "duration": 4,
    "start_time": "2021-10-27T18:22:19.982Z"
   },
   {
    "duration": 9,
    "start_time": "2021-10-27T18:22:19.988Z"
   },
   {
    "duration": 12,
    "start_time": "2021-10-27T18:22:19.999Z"
   },
   {
    "duration": 16,
    "start_time": "2021-10-27T18:22:20.013Z"
   },
   {
    "duration": 18,
    "start_time": "2021-10-27T18:22:20.031Z"
   },
   {
    "duration": 21,
    "start_time": "2021-10-27T18:22:20.052Z"
   },
   {
    "duration": 23,
    "start_time": "2021-10-27T18:22:25.312Z"
   },
   {
    "duration": 41,
    "start_time": "2021-10-27T18:22:48.328Z"
   },
   {
    "duration": 6,
    "start_time": "2021-10-27T18:23:02.526Z"
   },
   {
    "duration": 40,
    "start_time": "2021-10-27T18:23:05.556Z"
   },
   {
    "duration": 4632,
    "start_time": "2021-10-27T18:23:19.690Z"
   },
   {
    "duration": 6,
    "start_time": "2021-10-27T18:23:33.131Z"
   },
   {
    "duration": 6,
    "start_time": "2021-10-27T18:23:39.825Z"
   },
   {
    "duration": 9,
    "start_time": "2021-10-27T18:23:47.679Z"
   },
   {
    "duration": 6,
    "start_time": "2021-10-27T18:23:48.460Z"
   },
   {
    "duration": 75984,
    "start_time": "2021-10-27T18:23:51.577Z"
   },
   {
    "duration": 6,
    "start_time": "2021-10-27T18:25:17.733Z"
   },
   {
    "duration": 5,
    "start_time": "2021-10-27T18:25:27.193Z"
   },
   {
    "duration": 7,
    "start_time": "2021-10-27T18:25:30.169Z"
   },
   {
    "duration": 6,
    "start_time": "2021-10-27T18:25:43.252Z"
   },
   {
    "duration": 6,
    "start_time": "2021-10-27T18:25:46.752Z"
   },
   {
    "duration": 5,
    "start_time": "2021-10-27T18:25:49.570Z"
   },
   {
    "duration": 294,
    "start_time": "2021-10-27T18:28:58.792Z"
   },
   {
    "duration": 27,
    "start_time": "2021-10-27T18:29:02.932Z"
   },
   {
    "duration": 21,
    "start_time": "2021-10-27T18:29:15.052Z"
   },
   {
    "duration": 21,
    "start_time": "2021-10-27T18:29:21.348Z"
   },
   {
    "duration": 48,
    "start_time": "2021-10-27T18:29:45.771Z"
   },
   {
    "duration": 24,
    "start_time": "2021-10-27T18:29:55.453Z"
   },
   {
    "duration": 4907,
    "start_time": "2021-10-27T18:30:31.946Z"
   },
   {
    "duration": 6875,
    "start_time": "2021-10-27T18:30:39.992Z"
   },
   {
    "duration": 21,
    "start_time": "2021-10-27T18:30:47.622Z"
   },
   {
    "duration": 22,
    "start_time": "2021-10-27T18:33:11.381Z"
   },
   {
    "duration": 23,
    "start_time": "2021-10-27T18:33:19.594Z"
   },
   {
    "duration": 22,
    "start_time": "2021-10-27T18:33:24.569Z"
   },
   {
    "duration": 20,
    "start_time": "2021-10-27T18:33:37.180Z"
   },
   {
    "duration": 7,
    "start_time": "2021-10-27T18:33:40.126Z"
   },
   {
    "duration": 19,
    "start_time": "2021-10-27T18:33:49.306Z"
   },
   {
    "duration": 6,
    "start_time": "2021-10-27T18:33:50.998Z"
   },
   {
    "duration": 7,
    "start_time": "2021-10-27T18:34:04.643Z"
   },
   {
    "duration": 4,
    "start_time": "2021-10-27T18:34:12.197Z"
   },
   {
    "duration": 939,
    "start_time": "2021-10-27T18:34:12.205Z"
   },
   {
    "duration": 36,
    "start_time": "2021-10-27T18:34:13.147Z"
   },
   {
    "duration": 24,
    "start_time": "2021-10-27T18:34:13.186Z"
   },
   {
    "duration": 33,
    "start_time": "2021-10-27T18:34:13.212Z"
   },
   {
    "duration": 48,
    "start_time": "2021-10-27T18:34:13.248Z"
   },
   {
    "duration": 38,
    "start_time": "2021-10-27T18:34:13.299Z"
   },
   {
    "duration": 57,
    "start_time": "2021-10-27T18:34:13.339Z"
   },
   {
    "duration": 30,
    "start_time": "2021-10-27T18:34:13.400Z"
   },
   {
    "duration": 8,
    "start_time": "2021-10-27T18:34:13.433Z"
   },
   {
    "duration": 45,
    "start_time": "2021-10-27T18:34:13.444Z"
   },
   {
    "duration": 9,
    "start_time": "2021-10-27T18:34:13.491Z"
   },
   {
    "duration": 16,
    "start_time": "2021-10-27T18:34:13.502Z"
   },
   {
    "duration": 7,
    "start_time": "2021-10-27T18:34:13.521Z"
   },
   {
    "duration": 6,
    "start_time": "2021-10-27T18:34:13.531Z"
   },
   {
    "duration": 8,
    "start_time": "2021-10-27T18:34:13.539Z"
   },
   {
    "duration": 4,
    "start_time": "2021-10-27T18:34:13.582Z"
   },
   {
    "duration": 6,
    "start_time": "2021-10-27T18:34:13.589Z"
   },
   {
    "duration": 9,
    "start_time": "2021-10-27T18:34:13.598Z"
   },
   {
    "duration": 9,
    "start_time": "2021-10-27T18:34:13.610Z"
   },
   {
    "duration": 25,
    "start_time": "2021-10-27T18:34:13.621Z"
   },
   {
    "duration": 34,
    "start_time": "2021-10-27T18:34:13.648Z"
   },
   {
    "duration": 21,
    "start_time": "2021-10-27T18:34:13.685Z"
   },
   {
    "duration": 6,
    "start_time": "2021-10-27T18:34:13.708Z"
   },
   {
    "duration": 77,
    "start_time": "2021-10-27T18:34:13.717Z"
   },
   {
    "duration": 20,
    "start_time": "2021-10-27T18:34:27.099Z"
   },
   {
    "duration": 5,
    "start_time": "2021-10-27T18:34:28.057Z"
   },
   {
    "duration": 7,
    "start_time": "2021-10-27T18:34:34.602Z"
   },
   {
    "duration": 997,
    "start_time": "2021-10-27T18:34:36.243Z"
   },
   {
    "duration": 8120,
    "start_time": "2021-10-27T18:35:09.750Z"
   },
   {
    "duration": 39,
    "start_time": "2021-10-27T18:35:23.834Z"
   },
   {
    "duration": 6347,
    "start_time": "2021-10-27T18:35:27.789Z"
   },
   {
    "duration": 37,
    "start_time": "2021-10-27T18:35:39.470Z"
   },
   {
    "duration": 70,
    "start_time": "2021-10-27T18:35:44.947Z"
   },
   {
    "duration": 99,
    "start_time": "2021-10-27T18:36:14.839Z"
   },
   {
    "duration": 55,
    "start_time": "2021-10-27T18:36:16.539Z"
   },
   {
    "duration": 11964,
    "start_time": "2021-10-27T18:37:05.244Z"
   },
   {
    "duration": 30,
    "start_time": "2021-10-27T18:37:26.725Z"
   },
   {
    "duration": 43,
    "start_time": "2021-10-27T18:37:38.985Z"
   },
   {
    "duration": 40,
    "start_time": "2021-10-27T18:43:12.615Z"
   },
   {
    "duration": 48,
    "start_time": "2021-10-27T18:52:48.274Z"
   },
   {
    "duration": 7177,
    "start_time": "2021-10-27T18:53:23.977Z"
   },
   {
    "duration": 8,
    "start_time": "2021-10-27T18:53:38.115Z"
   },
   {
    "duration": 16,
    "start_time": "2021-10-27T18:54:25.038Z"
   },
   {
    "duration": 22,
    "start_time": "2021-10-27T18:54:37.655Z"
   },
   {
    "duration": 13,
    "start_time": "2021-10-27T18:54:49.355Z"
   },
   {
    "duration": 252,
    "start_time": "2021-10-27T18:54:51.413Z"
   },
   {
    "duration": 282,
    "start_time": "2021-10-27T18:54:54.483Z"
   },
   {
    "duration": 376,
    "start_time": "2021-10-27T18:54:57.035Z"
   },
   {
    "duration": 673,
    "start_time": "2021-10-27T18:55:06.633Z"
   },
   {
    "duration": 534,
    "start_time": "2021-10-27T18:56:23.522Z"
   },
   {
    "duration": 577,
    "start_time": "2021-10-27T18:56:39.244Z"
   },
   {
    "duration": 8,
    "start_time": "2021-10-27T18:57:57.089Z"
   },
   {
    "duration": 545,
    "start_time": "2021-10-27T18:58:26.687Z"
   },
   {
    "duration": 534,
    "start_time": "2021-10-27T18:58:45.026Z"
   },
   {
    "duration": 583,
    "start_time": "2021-10-27T18:58:47.503Z"
   },
   {
    "duration": 489,
    "start_time": "2021-10-27T19:02:57.620Z"
   },
   {
    "duration": 9,
    "start_time": "2021-10-27T19:03:56.026Z"
   },
   {
    "duration": 96,
    "start_time": "2021-10-27T19:04:16.893Z"
   },
   {
    "duration": 7,
    "start_time": "2021-10-27T19:04:20.423Z"
   },
   {
    "duration": 7,
    "start_time": "2021-10-27T19:04:28.347Z"
   },
   {
    "duration": 7,
    "start_time": "2021-10-27T19:04:44.593Z"
   },
   {
    "duration": 7,
    "start_time": "2021-10-27T19:04:45.381Z"
   },
   {
    "duration": 7,
    "start_time": "2021-10-27T19:04:50.207Z"
   },
   {
    "duration": 324,
    "start_time": "2021-10-27T19:05:18.586Z"
   },
   {
    "duration": 335,
    "start_time": "2021-10-27T19:05:34.986Z"
   },
   {
    "duration": 333,
    "start_time": "2021-10-27T19:06:03.744Z"
   },
   {
    "duration": 303,
    "start_time": "2021-10-27T19:06:18.936Z"
   },
   {
    "duration": 304,
    "start_time": "2021-10-27T19:06:39.672Z"
   },
   {
    "duration": 368,
    "start_time": "2021-10-27T19:06:51.333Z"
   },
   {
    "duration": 125,
    "start_time": "2021-10-27T19:10:25.896Z"
   },
   {
    "duration": 346,
    "start_time": "2021-10-27T19:10:35.306Z"
   },
   {
    "duration": 290,
    "start_time": "2021-10-27T19:10:49.728Z"
   },
   {
    "duration": 287,
    "start_time": "2021-10-27T19:11:40.219Z"
   },
   {
    "duration": 302,
    "start_time": "2021-10-27T19:13:54.761Z"
   },
   {
    "duration": 7,
    "start_time": "2021-10-27T19:14:09.376Z"
   },
   {
    "duration": 5,
    "start_time": "2021-10-27T19:14:23.955Z"
   },
   {
    "duration": 5224,
    "start_time": "2021-10-27T19:14:50.993Z"
   },
   {
    "duration": 402,
    "start_time": "2021-10-27T19:15:10.563Z"
   },
   {
    "duration": 368,
    "start_time": "2021-10-27T19:17:02.214Z"
   },
   {
    "duration": 314,
    "start_time": "2021-10-27T19:17:12.896Z"
   },
   {
    "duration": 17,
    "start_time": "2021-10-27T19:24:43.944Z"
   },
   {
    "duration": 139,
    "start_time": "2021-10-27T19:27:23.390Z"
   },
   {
    "duration": 7,
    "start_time": "2021-10-27T19:29:23.434Z"
   },
   {
    "duration": 8,
    "start_time": "2021-10-27T19:29:34.221Z"
   },
   {
    "duration": 6,
    "start_time": "2021-10-27T19:30:00.365Z"
   },
   {
    "duration": 6,
    "start_time": "2021-10-27T19:30:03.923Z"
   },
   {
    "duration": 8,
    "start_time": "2021-10-27T19:30:54.959Z"
   },
   {
    "duration": 7,
    "start_time": "2021-10-27T19:31:54.108Z"
   },
   {
    "duration": 29,
    "start_time": "2021-10-27T19:31:56.634Z"
   },
   {
    "duration": 7,
    "start_time": "2021-10-27T19:32:15.344Z"
   },
   {
    "duration": 7,
    "start_time": "2021-10-27T19:32:19.082Z"
   },
   {
    "duration": 7,
    "start_time": "2021-10-27T19:32:30.810Z"
   },
   {
    "duration": 7,
    "start_time": "2021-10-27T19:32:33.856Z"
   },
   {
    "duration": 319,
    "start_time": "2021-10-27T19:33:40.373Z"
   },
   {
    "duration": 723,
    "start_time": "2021-10-27T19:33:48.331Z"
   },
   {
    "duration": 340,
    "start_time": "2021-10-27T19:33:54.493Z"
   },
   {
    "duration": 287,
    "start_time": "2021-10-27T19:34:41.458Z"
   },
   {
    "duration": 125,
    "start_time": "2021-10-27T19:34:59.955Z"
   },
   {
    "duration": 96,
    "start_time": "2021-10-27T19:35:04.789Z"
   },
   {
    "duration": 278,
    "start_time": "2021-10-27T19:35:09.569Z"
   },
   {
    "duration": 299,
    "start_time": "2021-10-27T19:35:16.699Z"
   },
   {
    "duration": 261,
    "start_time": "2021-10-27T19:35:29.103Z"
   },
   {
    "duration": 269,
    "start_time": "2021-10-27T19:35:50.529Z"
   },
   {
    "duration": 1369,
    "start_time": "2021-10-27T19:37:36.613Z"
   },
   {
    "duration": 883,
    "start_time": "2021-10-27T19:37:37.984Z"
   },
   {
    "duration": 42,
    "start_time": "2021-10-27T19:37:38.870Z"
   },
   {
    "duration": 23,
    "start_time": "2021-10-27T19:37:38.915Z"
   },
   {
    "duration": 55,
    "start_time": "2021-10-27T19:37:38.941Z"
   },
   {
    "duration": 25,
    "start_time": "2021-10-27T19:37:38.998Z"
   },
   {
    "duration": 32,
    "start_time": "2021-10-27T19:37:39.025Z"
   },
   {
    "duration": 26,
    "start_time": "2021-10-27T19:37:39.083Z"
   },
   {
    "duration": 23,
    "start_time": "2021-10-27T19:37:39.115Z"
   },
   {
    "duration": 7,
    "start_time": "2021-10-27T19:37:39.142Z"
   },
   {
    "duration": 19,
    "start_time": "2021-10-27T19:37:39.183Z"
   },
   {
    "duration": 14,
    "start_time": "2021-10-27T19:37:39.205Z"
   },
   {
    "duration": 8,
    "start_time": "2021-10-27T19:37:39.221Z"
   },
   {
    "duration": 6,
    "start_time": "2021-10-27T19:37:39.232Z"
   },
   {
    "duration": 5,
    "start_time": "2021-10-27T19:37:39.283Z"
   },
   {
    "duration": 6,
    "start_time": "2021-10-27T19:37:39.290Z"
   },
   {
    "duration": 5,
    "start_time": "2021-10-27T19:37:39.298Z"
   },
   {
    "duration": 7,
    "start_time": "2021-10-27T19:37:39.305Z"
   },
   {
    "duration": 5,
    "start_time": "2021-10-27T19:37:39.314Z"
   },
   {
    "duration": 8,
    "start_time": "2021-10-27T19:37:39.321Z"
   },
   {
    "duration": 67,
    "start_time": "2021-10-27T19:37:39.331Z"
   },
   {
    "duration": 16,
    "start_time": "2021-10-27T19:37:39.401Z"
   },
   {
    "duration": 9,
    "start_time": "2021-10-27T19:37:39.420Z"
   },
   {
    "duration": 6,
    "start_time": "2021-10-27T19:37:39.431Z"
   },
   {
    "duration": 8,
    "start_time": "2021-10-27T19:37:39.439Z"
   },
   {
    "duration": 53,
    "start_time": "2021-10-27T19:37:39.449Z"
   },
   {
    "duration": 9,
    "start_time": "2021-10-27T19:37:39.507Z"
   },
   {
    "duration": 274,
    "start_time": "2021-10-27T19:37:39.518Z"
   },
   {
    "duration": 264,
    "start_time": "2021-10-27T19:37:39.794Z"
   },
   {
    "duration": 352,
    "start_time": "2021-10-27T19:37:40.060Z"
   },
   {
    "duration": 549,
    "start_time": "2021-10-27T19:37:40.414Z"
   },
   {
    "duration": 585,
    "start_time": "2021-10-27T19:37:40.965Z"
   },
   {
    "duration": 6,
    "start_time": "2021-10-27T19:37:41.552Z"
   },
   {
    "duration": 23,
    "start_time": "2021-10-27T19:37:41.560Z"
   },
   {
    "duration": 5,
    "start_time": "2021-10-27T19:37:41.586Z"
   },
   {
    "duration": 354,
    "start_time": "2021-10-27T19:37:41.593Z"
   },
   {
    "duration": 1144,
    "start_time": "2021-10-28T17:16:12.669Z"
   },
   {
    "duration": 733,
    "start_time": "2021-10-28T17:16:13.815Z"
   },
   {
    "duration": 24,
    "start_time": "2021-10-28T17:16:14.550Z"
   },
   {
    "duration": 27,
    "start_time": "2021-10-28T17:16:14.576Z"
   },
   {
    "duration": 21,
    "start_time": "2021-10-28T17:16:14.605Z"
   },
   {
    "duration": 13,
    "start_time": "2021-10-28T17:16:14.627Z"
   },
   {
    "duration": 49,
    "start_time": "2021-10-28T17:16:14.642Z"
   },
   {
    "duration": 18,
    "start_time": "2021-10-28T17:16:14.694Z"
   },
   {
    "duration": 15,
    "start_time": "2021-10-28T17:16:14.714Z"
   },
   {
    "duration": 7,
    "start_time": "2021-10-28T17:16:14.731Z"
   },
   {
    "duration": 12,
    "start_time": "2021-10-28T17:16:14.740Z"
   },
   {
    "duration": 37,
    "start_time": "2021-10-28T17:16:14.754Z"
   },
   {
    "duration": 5,
    "start_time": "2021-10-28T17:16:14.794Z"
   },
   {
    "duration": 7,
    "start_time": "2021-10-28T17:16:14.801Z"
   },
   {
    "duration": 4,
    "start_time": "2021-10-28T17:16:14.810Z"
   },
   {
    "duration": 8,
    "start_time": "2021-10-28T17:16:14.816Z"
   },
   {
    "duration": 13,
    "start_time": "2021-10-28T17:16:14.825Z"
   },
   {
    "duration": 5,
    "start_time": "2021-10-28T17:16:14.840Z"
   },
   {
    "duration": 6,
    "start_time": "2021-10-28T17:16:14.847Z"
   },
   {
    "duration": 11,
    "start_time": "2021-10-28T17:16:14.854Z"
   },
   {
    "duration": 29,
    "start_time": "2021-10-28T17:16:14.867Z"
   },
   {
    "duration": 12,
    "start_time": "2021-10-28T17:16:55.862Z"
   },
   {
    "duration": 15,
    "start_time": "2021-10-28T17:16:58.435Z"
   },
   {
    "duration": 4,
    "start_time": "2021-10-28T17:17:14.192Z"
   },
   {
    "duration": 778,
    "start_time": "2021-10-28T17:17:14.198Z"
   },
   {
    "duration": 26,
    "start_time": "2021-10-28T17:17:14.978Z"
   },
   {
    "duration": 30,
    "start_time": "2021-10-28T17:17:15.006Z"
   },
   {
    "duration": 25,
    "start_time": "2021-10-28T17:17:15.039Z"
   },
   {
    "duration": 26,
    "start_time": "2021-10-28T17:17:15.066Z"
   },
   {
    "duration": 21,
    "start_time": "2021-10-28T17:17:15.094Z"
   },
   {
    "duration": 17,
    "start_time": "2021-10-28T17:17:15.117Z"
   },
   {
    "duration": 15,
    "start_time": "2021-10-28T17:17:15.136Z"
   },
   {
    "duration": 42,
    "start_time": "2021-10-28T17:17:15.153Z"
   },
   {
    "duration": 11,
    "start_time": "2021-10-28T17:17:15.197Z"
   },
   {
    "duration": 6,
    "start_time": "2021-10-28T17:17:15.211Z"
   },
   {
    "duration": 8,
    "start_time": "2021-10-28T17:17:15.219Z"
   },
   {
    "duration": 7,
    "start_time": "2021-10-28T17:17:15.229Z"
   },
   {
    "duration": 8,
    "start_time": "2021-10-28T17:17:15.238Z"
   },
   {
    "duration": 9,
    "start_time": "2021-10-28T17:17:15.248Z"
   },
   {
    "duration": 3,
    "start_time": "2021-10-28T17:17:15.292Z"
   },
   {
    "duration": 15,
    "start_time": "2021-10-28T17:17:15.297Z"
   },
   {
    "duration": 16,
    "start_time": "2021-10-28T17:17:15.314Z"
   },
   {
    "duration": 8,
    "start_time": "2021-10-28T17:17:15.333Z"
   },
   {
    "duration": 20,
    "start_time": "2021-10-28T17:17:15.343Z"
   },
   {
    "duration": 2,
    "start_time": "2021-10-28T17:17:15.365Z"
   },
   {
    "duration": 12,
    "start_time": "2021-10-28T17:17:58.977Z"
   },
   {
    "duration": 4,
    "start_time": "2021-10-28T17:19:27.517Z"
   },
   {
    "duration": 590,
    "start_time": "2021-10-28T17:19:42.779Z"
   },
   {
    "duration": 6,
    "start_time": "2021-10-28T17:20:07.696Z"
   },
   {
    "duration": 496,
    "start_time": "2021-10-28T17:20:09.648Z"
   },
   {
    "duration": 13,
    "start_time": "2021-10-28T17:21:05.715Z"
   },
   {
    "duration": 37,
    "start_time": "2021-10-28T17:21:39.849Z"
   },
   {
    "duration": 4,
    "start_time": "2021-10-28T17:21:56.868Z"
   },
   {
    "duration": 488,
    "start_time": "2021-10-28T17:21:58.848Z"
   },
   {
    "duration": 8,
    "start_time": "2021-10-28T17:25:31.127Z"
   },
   {
    "duration": 15,
    "start_time": "2021-10-28T17:25:34.761Z"
   },
   {
    "duration": 14,
    "start_time": "2021-10-28T17:25:48.079Z"
   },
   {
    "duration": 6,
    "start_time": "2021-10-28T17:25:48.095Z"
   },
   {
    "duration": 193,
    "start_time": "2021-10-28T17:25:48.103Z"
   },
   {
    "duration": 268,
    "start_time": "2021-10-28T17:25:48.298Z"
   },
   {
    "duration": 174,
    "start_time": "2021-10-28T17:25:48.568Z"
   },
   {
    "duration": 353,
    "start_time": "2021-10-28T17:25:48.743Z"
   },
   {
    "duration": 382,
    "start_time": "2021-10-28T17:25:49.098Z"
   },
   {
    "duration": 5,
    "start_time": "2021-10-28T17:25:49.482Z"
   },
   {
    "duration": 7,
    "start_time": "2021-10-28T17:25:49.488Z"
   },
   {
    "duration": 7,
    "start_time": "2021-10-28T17:25:49.497Z"
   },
   {
    "duration": 292,
    "start_time": "2021-10-28T17:25:49.506Z"
   },
   {
    "duration": 458,
    "start_time": "2021-10-28T17:26:51.530Z"
   },
   {
    "duration": 5,
    "start_time": "2021-10-28T17:26:56.357Z"
   },
   {
    "duration": 6,
    "start_time": "2021-10-28T17:27:05.697Z"
   },
   {
    "duration": 198,
    "start_time": "2021-10-28T17:27:26.999Z"
   },
   {
    "duration": 9,
    "start_time": "2021-10-28T17:27:53.737Z"
   },
   {
    "duration": 761,
    "start_time": "2021-10-28T17:28:18.824Z"
   },
   {
    "duration": 212,
    "start_time": "2021-10-28T17:28:28.216Z"
   },
   {
    "duration": 446,
    "start_time": "2021-10-28T17:29:14.894Z"
   },
   {
    "duration": 404,
    "start_time": "2021-10-28T17:29:21.629Z"
   },
   {
    "duration": 180,
    "start_time": "2021-10-28T17:30:46.118Z"
   },
   {
    "duration": 77,
    "start_time": "2021-10-28T17:30:56.634Z"
   },
   {
    "duration": 3290,
    "start_time": "2021-10-28T17:31:00.616Z"
   },
   {
    "duration": 11341,
    "start_time": "2021-10-28T17:31:32.518Z"
   },
   {
    "duration": 361,
    "start_time": "2021-10-28T17:32:00.369Z"
   },
   {
    "duration": 692,
    "start_time": "2021-10-28T17:32:16.256Z"
   },
   {
    "duration": 64,
    "start_time": "2021-10-28T17:32:48.728Z"
   },
   {
    "duration": 701,
    "start_time": "2021-10-28T17:32:51.810Z"
   },
   {
    "duration": 190,
    "start_time": "2021-10-28T17:33:14.021Z"
   },
   {
    "duration": 394,
    "start_time": "2021-10-28T17:33:28.417Z"
   },
   {
    "duration": 346,
    "start_time": "2021-10-28T17:33:46.253Z"
   },
   {
    "duration": 361,
    "start_time": "2021-10-28T17:33:51.823Z"
   },
   {
    "duration": 8,
    "start_time": "2021-10-28T17:34:55.960Z"
   },
   {
    "duration": 180,
    "start_time": "2021-10-28T17:35:10.325Z"
   },
   {
    "duration": 19629,
    "start_time": "2021-10-28T17:35:19.129Z"
   },
   {
    "duration": 1099,
    "start_time": "2021-10-28T17:35:47.052Z"
   },
   {
    "duration": 4,
    "start_time": "2021-10-28T17:36:23.827Z"
   },
   {
    "duration": 731,
    "start_time": "2021-10-28T17:36:23.834Z"
   },
   {
    "duration": 31,
    "start_time": "2021-10-28T17:36:24.567Z"
   },
   {
    "duration": 18,
    "start_time": "2021-10-28T17:36:24.600Z"
   },
   {
    "duration": 21,
    "start_time": "2021-10-28T17:36:24.620Z"
   },
   {
    "duration": 13,
    "start_time": "2021-10-28T17:36:24.643Z"
   },
   {
    "duration": 49,
    "start_time": "2021-10-28T17:36:24.658Z"
   },
   {
    "duration": 17,
    "start_time": "2021-10-28T17:36:24.709Z"
   },
   {
    "duration": 16,
    "start_time": "2021-10-28T17:36:24.729Z"
   },
   {
    "duration": 6,
    "start_time": "2021-10-28T17:36:24.747Z"
   },
   {
    "duration": 40,
    "start_time": "2021-10-28T17:36:24.755Z"
   },
   {
    "duration": 7,
    "start_time": "2021-10-28T17:36:24.797Z"
   },
   {
    "duration": 7,
    "start_time": "2021-10-28T17:36:24.805Z"
   },
   {
    "duration": 8,
    "start_time": "2021-10-28T17:36:24.814Z"
   },
   {
    "duration": 5,
    "start_time": "2021-10-28T17:36:24.823Z"
   },
   {
    "duration": 5,
    "start_time": "2021-10-28T17:36:24.830Z"
   },
   {
    "duration": 5,
    "start_time": "2021-10-28T17:36:24.837Z"
   },
   {
    "duration": 6,
    "start_time": "2021-10-28T17:36:24.844Z"
   },
   {
    "duration": 10,
    "start_time": "2021-10-28T17:36:24.852Z"
   },
   {
    "duration": 29,
    "start_time": "2021-10-28T17:36:24.864Z"
   },
   {
    "duration": 16,
    "start_time": "2021-10-28T17:36:24.894Z"
   },
   {
    "duration": 8,
    "start_time": "2021-10-28T17:36:24.912Z"
   },
   {
    "duration": 15,
    "start_time": "2021-10-28T17:36:24.922Z"
   },
   {
    "duration": 7,
    "start_time": "2021-10-28T17:36:24.939Z"
   },
   {
    "duration": 213,
    "start_time": "2021-10-28T17:36:24.947Z"
   },
   {
    "duration": 192,
    "start_time": "2021-10-28T17:36:25.162Z"
   },
   {
    "duration": 185,
    "start_time": "2021-10-28T17:36:25.359Z"
   },
   {
    "duration": 374,
    "start_time": "2021-10-28T17:36:25.546Z"
   },
   {
    "duration": 395,
    "start_time": "2021-10-28T17:36:25.922Z"
   },
   {
    "duration": 6,
    "start_time": "2021-10-28T17:36:26.319Z"
   },
   {
    "duration": 378,
    "start_time": "2021-10-28T17:36:26.327Z"
   },
   {
    "duration": 5,
    "start_time": "2021-10-28T17:36:26.707Z"
   },
   {
    "duration": 7,
    "start_time": "2021-10-28T17:36:26.714Z"
   },
   {
    "duration": 385,
    "start_time": "2021-10-28T17:36:26.722Z"
   },
   {
    "duration": 14,
    "start_time": "2021-10-28T18:08:07.099Z"
   },
   {
    "duration": 6,
    "start_time": "2021-10-28T18:17:53.844Z"
   },
   {
    "duration": 5,
    "start_time": "2021-10-28T18:17:56.388Z"
   },
   {
    "duration": 4,
    "start_time": "2021-10-28T18:19:23.298Z"
   },
   {
    "duration": 62,
    "start_time": "2021-10-28T18:30:10.797Z"
   },
   {
    "duration": 2585,
    "start_time": "2021-10-28T18:35:05.319Z"
   },
   {
    "duration": 5,
    "start_time": "2021-10-28T18:35:20.070Z"
   },
   {
    "duration": 25,
    "start_time": "2021-10-28T18:35:23.173Z"
   },
   {
    "duration": 9,
    "start_time": "2021-10-28T18:35:29.384Z"
   },
   {
    "duration": 7,
    "start_time": "2021-10-28T18:36:07.400Z"
   },
   {
    "duration": 8,
    "start_time": "2021-10-28T18:36:13.947Z"
   },
   {
    "duration": 8,
    "start_time": "2021-10-28T18:37:03.699Z"
   },
   {
    "duration": 8,
    "start_time": "2021-10-28T18:39:01.538Z"
   },
   {
    "duration": 5,
    "start_time": "2021-10-28T18:39:08.192Z"
   },
   {
    "duration": 6,
    "start_time": "2021-10-28T18:39:17.423Z"
   },
   {
    "duration": 4,
    "start_time": "2021-10-28T18:39:20.369Z"
   },
   {
    "duration": 45,
    "start_time": "2021-10-28T18:42:28.001Z"
   },
   {
    "duration": 3012,
    "start_time": "2021-10-28T18:59:49.909Z"
   },
   {
    "duration": 67,
    "start_time": "2021-10-28T19:00:31.779Z"
   },
   {
    "duration": 173,
    "start_time": "2021-10-28T19:00:39.635Z"
   },
   {
    "duration": 4,
    "start_time": "2021-10-28T19:00:43.396Z"
   },
   {
    "duration": 7,
    "start_time": "2021-10-28T19:01:16.221Z"
   },
   {
    "duration": 4,
    "start_time": "2021-10-28T19:06:31.395Z"
   },
   {
    "duration": 3131,
    "start_time": "2021-10-28T19:06:36.817Z"
   },
   {
    "duration": 4,
    "start_time": "2021-10-28T19:07:26.096Z"
   },
   {
    "duration": 3420,
    "start_time": "2021-10-28T19:07:28.484Z"
   },
   {
    "duration": 174,
    "start_time": "2021-10-28T19:08:22.330Z"
   },
   {
    "duration": 6,
    "start_time": "2021-10-28T19:08:31.470Z"
   },
   {
    "duration": 2,
    "start_time": "2021-10-28T19:08:56.631Z"
   },
   {
    "duration": 6,
    "start_time": "2021-10-28T19:09:02.967Z"
   },
   {
    "duration": 5,
    "start_time": "2021-10-28T19:09:41.621Z"
   },
   {
    "duration": 3084,
    "start_time": "2021-10-28T19:09:43.647Z"
   },
   {
    "duration": 6,
    "start_time": "2021-10-28T19:11:35.747Z"
   },
   {
    "duration": 4,
    "start_time": "2021-10-28T19:11:41.310Z"
   },
   {
    "duration": 2846,
    "start_time": "2021-10-28T19:11:44.043Z"
   },
   {
    "duration": 4,
    "start_time": "2021-10-28T19:12:25.915Z"
   },
   {
    "duration": 7961,
    "start_time": "2021-10-28T19:12:29.927Z"
   },
   {
    "duration": 14,
    "start_time": "2021-10-28T19:12:49.131Z"
   },
   {
    "duration": 4558,
    "start_time": "2021-10-28T19:12:58.440Z"
   },
   {
    "duration": 10,
    "start_time": "2021-10-28T19:13:06.874Z"
   },
   {
    "duration": 228,
    "start_time": "2021-10-28T19:17:29.161Z"
   },
   {
    "duration": 175,
    "start_time": "2021-10-28T19:19:02.089Z"
   },
   {
    "duration": 187,
    "start_time": "2021-10-28T19:19:04.233Z"
   },
   {
    "duration": 3,
    "start_time": "2021-10-28T19:19:10.180Z"
   },
   {
    "duration": 4,
    "start_time": "2021-10-28T19:19:12.876Z"
   },
   {
    "duration": 183,
    "start_time": "2021-10-28T19:19:17.427Z"
   },
   {
    "duration": 5,
    "start_time": "2021-10-28T19:19:19.806Z"
   },
   {
    "duration": 5,
    "start_time": "2021-10-28T19:19:39.652Z"
   },
   {
    "duration": 65,
    "start_time": "2021-10-28T19:19:46.133Z"
   },
   {
    "duration": 4,
    "start_time": "2021-10-28T19:19:56.084Z"
   },
   {
    "duration": 2817,
    "start_time": "2021-10-28T19:19:58.260Z"
   },
   {
    "duration": 2938,
    "start_time": "2021-10-28T19:20:12.973Z"
   },
   {
    "duration": 5,
    "start_time": "2021-10-28T19:22:29.922Z"
   },
   {
    "duration": 5,
    "start_time": "2021-10-28T19:22:35.336Z"
   },
   {
    "duration": 381,
    "start_time": "2021-10-28T19:22:59.035Z"
   },
   {
    "duration": 4,
    "start_time": "2021-10-28T19:23:12.269Z"
   },
   {
    "duration": 6,
    "start_time": "2021-10-28T19:23:16.597Z"
   },
   {
    "duration": 59,
    "start_time": "2021-10-28T19:25:39.958Z"
   },
   {
    "duration": 5,
    "start_time": "2021-10-28T19:25:56.556Z"
   },
   {
    "duration": 2934,
    "start_time": "2021-10-28T19:26:00.241Z"
   },
   {
    "duration": 324,
    "start_time": "2021-10-28T19:27:45.378Z"
   },
   {
    "duration": 2891,
    "start_time": "2021-10-28T19:27:51.664Z"
   },
   {
    "duration": 1543,
    "start_time": "2021-10-29T14:09:14.198Z"
   },
   {
    "duration": 936,
    "start_time": "2021-10-29T14:09:15.744Z"
   },
   {
    "duration": 56,
    "start_time": "2021-10-29T14:09:16.684Z"
   },
   {
    "duration": 61,
    "start_time": "2021-10-29T14:09:16.745Z"
   },
   {
    "duration": 34,
    "start_time": "2021-10-29T14:09:16.809Z"
   },
   {
    "duration": 46,
    "start_time": "2021-10-29T14:09:16.846Z"
   },
   {
    "duration": 33,
    "start_time": "2021-10-29T14:09:16.895Z"
   },
   {
    "duration": 56,
    "start_time": "2021-10-29T14:09:16.932Z"
   },
   {
    "duration": 23,
    "start_time": "2021-10-29T14:09:16.991Z"
   },
   {
    "duration": 11,
    "start_time": "2021-10-29T14:09:17.017Z"
   },
   {
    "duration": 53,
    "start_time": "2021-10-29T14:09:17.031Z"
   },
   {
    "duration": 16,
    "start_time": "2021-10-29T14:09:17.087Z"
   },
   {
    "duration": 8,
    "start_time": "2021-10-29T14:09:17.106Z"
   },
   {
    "duration": 9,
    "start_time": "2021-10-29T14:09:17.117Z"
   },
   {
    "duration": 7,
    "start_time": "2021-10-29T14:09:17.128Z"
   },
   {
    "duration": 48,
    "start_time": "2021-10-29T14:09:17.137Z"
   },
   {
    "duration": 6,
    "start_time": "2021-10-29T14:09:17.188Z"
   },
   {
    "duration": 6,
    "start_time": "2021-10-29T14:09:17.197Z"
   },
   {
    "duration": 8,
    "start_time": "2021-10-29T14:09:17.206Z"
   },
   {
    "duration": 11,
    "start_time": "2021-10-29T14:09:17.217Z"
   },
   {
    "duration": 78,
    "start_time": "2021-10-29T14:09:17.232Z"
   },
   {
    "duration": 12,
    "start_time": "2021-10-29T14:09:17.312Z"
   },
   {
    "duration": 57,
    "start_time": "2021-10-29T14:09:17.328Z"
   },
   {
    "duration": 10,
    "start_time": "2021-10-29T14:09:17.389Z"
   },
   {
    "duration": 364,
    "start_time": "2021-10-29T14:09:17.402Z"
   },
   {
    "duration": 276,
    "start_time": "2021-10-29T14:09:17.769Z"
   },
   {
    "duration": 267,
    "start_time": "2021-10-29T14:09:18.048Z"
   },
   {
    "duration": 567,
    "start_time": "2021-10-29T14:09:18.318Z"
   },
   {
    "duration": 596,
    "start_time": "2021-10-29T14:09:18.888Z"
   },
   {
    "duration": 9,
    "start_time": "2021-10-29T14:09:19.487Z"
   },
   {
    "duration": 650,
    "start_time": "2021-10-29T14:09:19.498Z"
   },
   {
    "duration": 8,
    "start_time": "2021-10-29T14:09:20.151Z"
   },
   {
    "duration": 25,
    "start_time": "2021-10-29T14:09:20.162Z"
   },
   {
    "duration": 586,
    "start_time": "2021-10-29T14:09:20.190Z"
   },
   {
    "duration": 7,
    "start_time": "2021-10-29T14:09:20.782Z"
   },
   {
    "duration": 8,
    "start_time": "2021-10-29T14:09:20.791Z"
   },
   {
    "duration": 9,
    "start_time": "2021-10-29T14:09:20.802Z"
   },
   {
    "duration": 318,
    "start_time": "2021-10-29T14:09:20.813Z"
   },
   {
    "duration": 5,
    "start_time": "2021-10-29T14:09:21.134Z"
   },
   {
    "duration": 22,
    "start_time": "2021-10-29T14:09:21.142Z"
   },
   {
    "duration": 12,
    "start_time": "2021-10-29T14:09:21.184Z"
   },
   {
    "duration": 4639,
    "start_time": "2021-10-29T14:09:21.198Z"
   },
   {
    "duration": 148,
    "start_time": "2021-10-29T14:28:34.721Z"
   },
   {
    "duration": 5634,
    "start_time": "2021-10-29T14:28:52.809Z"
   },
   {
    "duration": 6627,
    "start_time": "2021-10-29T14:29:07.295Z"
   },
   {
    "duration": 5,
    "start_time": "2021-10-29T14:38:52.048Z"
   },
   {
    "duration": 6717,
    "start_time": "2021-10-29T14:41:27.581Z"
   },
   {
    "duration": 26851,
    "start_time": "2021-10-29T14:41:43.464Z"
   },
   {
    "duration": 278,
    "start_time": "2021-10-29T14:42:36.223Z"
   },
   {
    "duration": 5,
    "start_time": "2021-10-29T14:42:41.343Z"
   },
   {
    "duration": 14,
    "start_time": "2021-10-29T14:47:44.847Z"
   },
   {
    "duration": 3,
    "start_time": "2021-10-29T14:49:20.558Z"
   },
   {
    "duration": 8259,
    "start_time": "2021-10-29T14:52:01.111Z"
   },
   {
    "duration": 6769,
    "start_time": "2021-10-29T14:52:17.705Z"
   },
   {
    "duration": 484445,
    "start_time": "2021-10-29T14:53:28.631Z"
   },
   {
    "duration": 630952,
    "start_time": "2021-10-29T15:01:48.317Z"
   },
   {
    "duration": 5,
    "start_time": "2021-10-29T15:13:32.404Z"
   },
   {
    "duration": 92,
    "start_time": "2021-10-29T15:13:58.329Z"
   },
   {
    "duration": 16013,
    "start_time": "2021-10-29T15:15:01.867Z"
   },
   {
    "duration": 4,
    "start_time": "2021-10-29T15:17:17.561Z"
   },
   {
    "duration": 340,
    "start_time": "2021-10-29T15:18:01.930Z"
   },
   {
    "duration": 385,
    "start_time": "2021-10-29T15:18:06.704Z"
   },
   {
    "duration": 828,
    "start_time": "2021-10-29T15:20:06.735Z"
   },
   {
    "duration": 467,
    "start_time": "2021-10-29T15:20:32.494Z"
   },
   {
    "duration": 818,
    "start_time": "2021-10-29T15:21:19.866Z"
   },
   {
    "duration": 4,
    "start_time": "2021-10-29T15:23:15.503Z"
   },
   {
    "duration": 15330,
    "start_time": "2021-10-29T15:24:07.666Z"
   },
   {
    "duration": 19023,
    "start_time": "2021-10-29T15:24:58.058Z"
   },
   {
    "duration": 11541,
    "start_time": "2021-10-29T15:25:21.150Z"
   },
   {
    "duration": 3,
    "start_time": "2021-10-29T15:26:19.539Z"
   },
   {
    "duration": 2650,
    "start_time": "2021-10-29T15:26:24.583Z"
   },
   {
    "duration": 5,
    "start_time": "2021-10-29T15:26:34.596Z"
   },
   {
    "duration": 1107,
    "start_time": "2021-10-29T15:26:57.296Z"
   },
   {
    "duration": 41,
    "start_time": "2021-10-29T15:29:30.314Z"
   },
   {
    "duration": 24,
    "start_time": "2021-10-29T15:29:33.437Z"
   },
   {
    "duration": 4,
    "start_time": "2021-10-29T15:52:10.669Z"
   },
   {
    "duration": 94,
    "start_time": "2021-10-29T15:54:24.930Z"
   },
   {
    "duration": 671,
    "start_time": "2021-10-29T15:56:04.245Z"
   },
   {
    "duration": 88,
    "start_time": "2021-10-29T15:57:40.408Z"
   },
   {
    "duration": 91,
    "start_time": "2021-10-29T15:58:32.571Z"
   },
   {
    "duration": 103,
    "start_time": "2021-10-29T15:59:08.499Z"
   },
   {
    "duration": 6,
    "start_time": "2021-10-29T15:59:15.238Z"
   },
   {
    "duration": 451,
    "start_time": "2021-10-29T15:59:25.402Z"
   },
   {
    "duration": 296,
    "start_time": "2021-10-29T15:59:34.462Z"
   },
   {
    "duration": 7,
    "start_time": "2021-10-29T16:15:54.461Z"
   },
   {
    "duration": 9,
    "start_time": "2021-10-29T16:16:31.398Z"
   },
   {
    "duration": 14,
    "start_time": "2021-10-29T16:16:36.250Z"
   },
   {
    "duration": 11,
    "start_time": "2021-10-29T16:16:50.364Z"
   },
   {
    "duration": 21,
    "start_time": "2021-10-29T16:18:07.910Z"
   },
   {
    "duration": 29,
    "start_time": "2021-10-29T16:18:14.334Z"
   },
   {
    "duration": 8,
    "start_time": "2021-10-29T16:18:50.718Z"
   },
   {
    "duration": 19,
    "start_time": "2021-10-29T16:19:00.605Z"
   },
   {
    "duration": 31,
    "start_time": "2021-10-29T16:19:06.880Z"
   },
   {
    "duration": 349,
    "start_time": "2021-10-29T16:20:02.803Z"
   },
   {
    "duration": 38,
    "start_time": "2021-10-29T16:20:22.370Z"
   },
   {
    "duration": 10,
    "start_time": "2021-10-29T16:20:45.161Z"
   },
   {
    "duration": 13,
    "start_time": "2021-10-29T16:20:45.905Z"
   },
   {
    "duration": 25,
    "start_time": "2021-10-29T16:20:49.723Z"
   },
   {
    "duration": 47,
    "start_time": "2021-10-29T16:20:51.577Z"
   },
   {
    "duration": 8,
    "start_time": "2021-10-29T16:21:03.441Z"
   },
   {
    "duration": 11,
    "start_time": "2021-10-29T16:21:04.723Z"
   },
   {
    "duration": 20,
    "start_time": "2021-10-29T16:21:05.535Z"
   },
   {
    "duration": 44,
    "start_time": "2021-10-29T16:21:06.136Z"
   },
   {
    "duration": 37,
    "start_time": "2021-10-29T16:21:26.042Z"
   },
   {
    "duration": 37,
    "start_time": "2021-10-29T16:22:02.935Z"
   },
   {
    "duration": 7,
    "start_time": "2021-10-29T16:22:19.244Z"
   },
   {
    "duration": 37,
    "start_time": "2021-10-29T16:22:23.372Z"
   },
   {
    "duration": 6,
    "start_time": "2021-10-29T16:23:42.273Z"
   },
   {
    "duration": 8,
    "start_time": "2021-10-29T16:23:43.715Z"
   },
   {
    "duration": 10,
    "start_time": "2021-10-29T16:23:44.389Z"
   },
   {
    "duration": 8,
    "start_time": "2021-10-29T16:25:19.235Z"
   },
   {
    "duration": 36,
    "start_time": "2021-10-29T16:25:19.934Z"
   },
   {
    "duration": 12,
    "start_time": "2021-10-29T16:25:22.770Z"
   },
   {
    "duration": 41,
    "start_time": "2021-10-29T16:25:24.698Z"
   },
   {
    "duration": 4,
    "start_time": "2021-10-29T16:28:29.105Z"
   },
   {
    "duration": 6,
    "start_time": "2021-10-29T16:28:33.971Z"
   },
   {
    "duration": 3,
    "start_time": "2021-10-29T16:29:00.307Z"
   },
   {
    "duration": 6,
    "start_time": "2021-10-29T16:29:03.512Z"
   },
   {
    "duration": 3,
    "start_time": "2021-10-29T16:29:18.451Z"
   },
   {
    "duration": 7,
    "start_time": "2021-10-29T16:29:21.347Z"
   },
   {
    "duration": 3,
    "start_time": "2021-10-29T16:30:00.930Z"
   },
   {
    "duration": 6,
    "start_time": "2021-10-29T16:30:05.524Z"
   },
   {
    "duration": 4,
    "start_time": "2021-10-29T16:30:54.961Z"
   },
   {
    "duration": 6,
    "start_time": "2021-10-29T16:30:58.319Z"
   },
   {
    "duration": 3,
    "start_time": "2021-10-29T16:32:44.043Z"
   },
   {
    "duration": 6,
    "start_time": "2021-10-29T16:32:44.719Z"
   },
   {
    "duration": 4,
    "start_time": "2021-10-29T16:33:09.310Z"
   },
   {
    "duration": 6,
    "start_time": "2021-10-29T16:33:10.775Z"
   },
   {
    "duration": 3,
    "start_time": "2021-10-29T16:33:18.920Z"
   },
   {
    "duration": 6,
    "start_time": "2021-10-29T16:33:20.524Z"
   },
   {
    "duration": 4,
    "start_time": "2021-10-29T16:33:31.088Z"
   },
   {
    "duration": 6,
    "start_time": "2021-10-29T16:33:32.848Z"
   },
   {
    "duration": 4,
    "start_time": "2021-10-29T16:33:42.948Z"
   },
   {
    "duration": 6,
    "start_time": "2021-10-29T16:33:43.688Z"
   },
   {
    "duration": 291,
    "start_time": "2021-10-29T16:34:05.635Z"
   },
   {
    "duration": 6,
    "start_time": "2021-10-29T16:34:30.107Z"
   },
   {
    "duration": 6,
    "start_time": "2021-10-29T16:34:34.133Z"
   },
   {
    "duration": 3,
    "start_time": "2021-10-29T16:34:49.962Z"
   },
   {
    "duration": 5,
    "start_time": "2021-10-29T16:34:53.254Z"
   },
   {
    "duration": 283,
    "start_time": "2021-10-29T16:35:17.652Z"
   },
   {
    "duration": 284,
    "start_time": "2021-10-29T16:36:47.700Z"
   },
   {
    "duration": 292,
    "start_time": "2021-10-29T16:38:08.031Z"
   },
   {
    "duration": 10,
    "start_time": "2021-10-29T16:38:19.687Z"
   },
   {
    "duration": 35,
    "start_time": "2021-10-29T16:38:26.018Z"
   },
   {
    "duration": 10,
    "start_time": "2021-10-29T16:38:38.370Z"
   },
   {
    "duration": 9845,
    "start_time": "2021-10-29T16:39:14.571Z"
   },
   {
    "duration": 3,
    "start_time": "2021-10-29T16:52:01.590Z"
   },
   {
    "duration": 22706,
    "start_time": "2021-10-29T16:52:28.290Z"
   },
   {
    "duration": 6,
    "start_time": "2021-10-29T16:52:57.820Z"
   },
   {
    "duration": 1110,
    "start_time": "2021-10-29T16:53:11.249Z"
   },
   {
    "duration": 4,
    "start_time": "2021-10-29T16:53:21.751Z"
   },
   {
    "duration": 12,
    "start_time": "2021-10-29T16:53:30.059Z"
   },
   {
    "duration": 1187,
    "start_time": "2021-10-29T16:53:34.078Z"
   },
   {
    "duration": 9,
    "start_time": "2021-10-29T16:53:49.988Z"
   },
   {
    "duration": 10,
    "start_time": "2021-10-29T16:53:50.744Z"
   },
   {
    "duration": 775,
    "start_time": "2021-10-29T16:53:54.258Z"
   },
   {
    "duration": 658,
    "start_time": "2021-10-29T16:53:59.440Z"
   },
   {
    "duration": 4717,
    "start_time": "2021-10-29T16:54:12.330Z"
   },
   {
    "duration": 5,
    "start_time": "2021-10-29T16:55:11.418Z"
   },
   {
    "duration": 917,
    "start_time": "2021-10-29T16:55:11.425Z"
   },
   {
    "duration": 43,
    "start_time": "2021-10-29T16:55:12.345Z"
   },
   {
    "duration": 24,
    "start_time": "2021-10-29T16:55:12.391Z"
   },
   {
    "duration": 32,
    "start_time": "2021-10-29T16:55:12.417Z"
   },
   {
    "duration": 16,
    "start_time": "2021-10-29T16:55:12.483Z"
   },
   {
    "duration": 30,
    "start_time": "2021-10-29T16:55:12.502Z"
   },
   {
    "duration": 53,
    "start_time": "2021-10-29T16:55:12.535Z"
   },
   {
    "duration": 20,
    "start_time": "2021-10-29T16:55:12.593Z"
   },
   {
    "duration": 7,
    "start_time": "2021-10-29T16:55:12.616Z"
   },
   {
    "duration": 18,
    "start_time": "2021-10-29T16:55:12.625Z"
   },
   {
    "duration": 36,
    "start_time": "2021-10-29T16:55:12.646Z"
   },
   {
    "duration": 7,
    "start_time": "2021-10-29T16:55:12.684Z"
   },
   {
    "duration": 14,
    "start_time": "2021-10-29T16:55:12.693Z"
   },
   {
    "duration": 6,
    "start_time": "2021-10-29T16:55:12.709Z"
   },
   {
    "duration": 8,
    "start_time": "2021-10-29T16:55:12.717Z"
   },
   {
    "duration": 6,
    "start_time": "2021-10-29T16:55:12.728Z"
   },
   {
    "duration": 48,
    "start_time": "2021-10-29T16:55:12.736Z"
   },
   {
    "duration": 12,
    "start_time": "2021-10-29T16:55:12.786Z"
   },
   {
    "duration": 11,
    "start_time": "2021-10-29T16:55:12.800Z"
   },
   {
    "duration": 30,
    "start_time": "2021-10-29T16:55:12.814Z"
   },
   {
    "duration": 37,
    "start_time": "2021-10-29T16:55:12.847Z"
   },
   {
    "duration": 25,
    "start_time": "2021-10-29T16:55:12.886Z"
   },
   {
    "duration": 11,
    "start_time": "2021-10-29T16:55:12.914Z"
   },
   {
    "duration": 281,
    "start_time": "2021-10-29T16:55:12.928Z"
   },
   {
    "duration": 270,
    "start_time": "2021-10-29T16:55:13.212Z"
   },
   {
    "duration": 324,
    "start_time": "2021-10-29T16:55:13.489Z"
   },
   {
    "duration": 547,
    "start_time": "2021-10-29T16:55:13.817Z"
   },
   {
    "duration": 572,
    "start_time": "2021-10-29T16:55:14.367Z"
   },
   {
    "duration": 10,
    "start_time": "2021-10-29T16:55:14.943Z"
   },
   {
    "duration": 566,
    "start_time": "2021-10-29T16:55:14.956Z"
   },
   {
    "duration": 7,
    "start_time": "2021-10-29T16:55:15.526Z"
   },
   {
    "duration": 9,
    "start_time": "2021-10-29T16:55:15.535Z"
   },
   {
    "duration": 549,
    "start_time": "2021-10-29T16:55:15.546Z"
   },
   {
    "duration": 6,
    "start_time": "2021-10-29T16:55:16.097Z"
   },
   {
    "duration": 9,
    "start_time": "2021-10-29T16:55:16.105Z"
   },
   {
    "duration": 8,
    "start_time": "2021-10-29T16:55:16.116Z"
   },
   {
    "duration": 288,
    "start_time": "2021-10-29T16:55:16.126Z"
   },
   {
    "duration": 6,
    "start_time": "2021-10-29T16:55:19.686Z"
   },
   {
    "duration": 8,
    "start_time": "2021-10-29T16:55:21.548Z"
   },
   {
    "duration": 10,
    "start_time": "2021-10-29T16:55:22.202Z"
   },
   {
    "duration": 4,
    "start_time": "2021-10-29T16:55:23.356Z"
   },
   {
    "duration": 6692,
    "start_time": "2021-10-29T16:55:25.234Z"
   },
   {
    "duration": 690,
    "start_time": "2021-10-29T16:55:36.044Z"
   },
   {
    "duration": 6,
    "start_time": "2021-10-29T16:55:38.552Z"
   },
   {
    "duration": 15534,
    "start_time": "2021-10-29T16:56:31.158Z"
   },
   {
    "duration": 8072,
    "start_time": "2021-10-29T16:57:44.877Z"
   },
   {
    "duration": 15160,
    "start_time": "2021-10-29T16:57:55.861Z"
   },
   {
    "duration": 14788,
    "start_time": "2021-10-29T16:58:54.811Z"
   },
   {
    "duration": 761,
    "start_time": "2021-10-29T16:59:19.759Z"
   },
   {
    "duration": 5,
    "start_time": "2021-10-29T16:59:47.998Z"
   },
   {
    "duration": 6661,
    "start_time": "2021-10-29T16:59:52.418Z"
   },
   {
    "duration": 717,
    "start_time": "2021-10-29T17:00:01.988Z"
   },
   {
    "duration": 15362,
    "start_time": "2021-10-29T17:00:07.266Z"
   },
   {
    "duration": 6,
    "start_time": "2021-10-29T17:00:27.328Z"
   },
   {
    "duration": 409,
    "start_time": "2021-10-29T17:00:46.269Z"
   },
   {
    "duration": 3,
    "start_time": "2021-10-29T17:02:01.709Z"
   },
   {
    "duration": 303,
    "start_time": "2021-10-29T17:02:37.211Z"
   },
   {
    "duration": 278,
    "start_time": "2021-10-29T17:03:17.539Z"
   },
   {
    "duration": 7,
    "start_time": "2021-10-29T17:03:24.768Z"
   },
   {
    "duration": 8,
    "start_time": "2021-10-29T17:03:27.736Z"
   },
   {
    "duration": 806,
    "start_time": "2021-10-29T17:04:16.667Z"
   },
   {
    "duration": 15220,
    "start_time": "2021-10-29T17:04:22.246Z"
   },
   {
    "duration": 486,
    "start_time": "2021-10-29T17:04:40.157Z"
   },
   {
    "duration": 7,
    "start_time": "2021-10-29T17:04:43.408Z"
   },
   {
    "duration": 9,
    "start_time": "2021-10-29T17:04:44.046Z"
   },
   {
    "duration": 10,
    "start_time": "2021-10-29T17:04:46.830Z"
   },
   {
    "duration": 34,
    "start_time": "2021-10-29T17:04:47.412Z"
   },
   {
    "duration": 28,
    "start_time": "2021-10-29T17:04:54.520Z"
   },
   {
    "duration": 10,
    "start_time": "2021-10-29T17:05:07.348Z"
   },
   {
    "duration": 28,
    "start_time": "2021-10-29T17:05:10.656Z"
   },
   {
    "duration": 3,
    "start_time": "2021-10-29T17:06:22.758Z"
   },
   {
    "duration": 4,
    "start_time": "2021-10-29T17:06:24.607Z"
   },
   {
    "duration": 753,
    "start_time": "2021-10-29T17:06:41.398Z"
   },
   {
    "duration": 15322,
    "start_time": "2021-10-29T17:06:49.539Z"
   },
   {
    "duration": 430,
    "start_time": "2021-10-29T17:07:35.757Z"
   },
   {
    "duration": 10,
    "start_time": "2021-10-29T17:07:39.717Z"
   },
   {
    "duration": 31,
    "start_time": "2021-10-29T17:07:40.395Z"
   },
   {
    "duration": 7,
    "start_time": "2021-10-29T17:07:50.487Z"
   },
   {
    "duration": 8,
    "start_time": "2021-10-29T17:07:51.170Z"
   },
   {
    "duration": 7,
    "start_time": "2021-10-29T17:08:04.134Z"
   },
   {
    "duration": 11,
    "start_time": "2021-10-29T17:08:04.896Z"
   },
   {
    "duration": 4,
    "start_time": "2021-10-29T17:08:57.009Z"
   },
   {
    "duration": 8,
    "start_time": "2021-10-29T17:08:58.419Z"
   },
   {
    "duration": 3,
    "start_time": "2021-10-29T17:10:29.399Z"
   },
   {
    "duration": 814,
    "start_time": "2021-10-29T17:10:57.625Z"
   },
   {
    "duration": 1179950,
    "start_time": "2021-10-29T17:26:37.132Z"
   },
   {
    "duration": 442817,
    "start_time": "2021-10-29T17:46:25.300Z"
   },
   {
    "duration": 6,
    "start_time": "2021-10-29T17:54:13.199Z"
   },
   {
    "duration": 6910,
    "start_time": "2021-10-29T17:54:21.716Z"
   },
   {
    "duration": 422,
    "start_time": "2021-10-29T17:54:34.348Z"
   },
   {
    "duration": 4,
    "start_time": "2021-10-29T17:54:53.893Z"
   },
   {
    "duration": 8,
    "start_time": "2021-10-29T17:54:54.571Z"
   },
   {
    "duration": 88,
    "start_time": "2021-10-29T17:54:58.205Z"
   },
   {
    "duration": 40,
    "start_time": "2021-10-29T17:55:44.718Z"
   },
   {
    "duration": 16,
    "start_time": "2021-10-29T17:55:56.372Z"
   },
   {
    "duration": 5,
    "start_time": "2021-10-29T17:56:52.779Z"
   },
   {
    "duration": 17,
    "start_time": "2021-10-29T17:56:55.549Z"
   },
   {
    "duration": 449,
    "start_time": "2021-10-29T18:03:42.986Z"
   },
   {
    "duration": 303,
    "start_time": "2021-10-29T18:03:58.061Z"
   },
   {
    "duration": 39794,
    "start_time": "2021-10-29T18:04:29.632Z"
   },
   {
    "duration": 41,
    "start_time": "2021-10-29T18:05:37.060Z"
   },
   {
    "duration": 22,
    "start_time": "2021-10-29T18:05:44.180Z"
   },
   {
    "duration": 6,
    "start_time": "2021-10-29T18:06:11.748Z"
   },
   {
    "duration": 20,
    "start_time": "2021-10-29T18:06:15.324Z"
   },
   {
    "duration": 9,
    "start_time": "2021-10-29T18:11:03.752Z"
   },
   {
    "duration": 6,
    "start_time": "2021-10-29T18:11:12.578Z"
   },
   {
    "duration": 6,
    "start_time": "2021-10-29T18:11:17.978Z"
   },
   {
    "duration": 8,
    "start_time": "2021-10-29T18:12:20.105Z"
   },
   {
    "duration": 9,
    "start_time": "2021-10-29T18:13:16.711Z"
   },
   {
    "duration": 9,
    "start_time": "2021-10-29T18:13:20.347Z"
   },
   {
    "duration": 793,
    "start_time": "2021-10-29T18:13:47.575Z"
   },
   {
    "duration": 5,
    "start_time": "2021-10-29T18:13:52.700Z"
   },
   {
    "duration": 8,
    "start_time": "2021-10-29T18:14:15.395Z"
   },
   {
    "duration": 8,
    "start_time": "2021-10-29T18:14:37.973Z"
   },
   {
    "duration": 860,
    "start_time": "2021-10-29T18:14:39.874Z"
   },
   {
    "duration": 5,
    "start_time": "2021-10-29T18:14:41.356Z"
   },
   {
    "duration": 768,
    "start_time": "2021-10-29T18:18:19.165Z"
   },
   {
    "duration": 5,
    "start_time": "2021-10-29T18:18:20.645Z"
   },
   {
    "duration": 7,
    "start_time": "2021-10-29T18:19:28.060Z"
   },
   {
    "duration": 6,
    "start_time": "2021-10-29T18:19:30.043Z"
   },
   {
    "duration": 283,
    "start_time": "2021-10-29T18:19:31.005Z"
   },
   {
    "duration": 5,
    "start_time": "2021-10-29T18:19:32.009Z"
   },
   {
    "duration": 8,
    "start_time": "2021-10-29T18:20:54.126Z"
   },
   {
    "duration": 538,
    "start_time": "2021-10-29T18:21:41.748Z"
   },
   {
    "duration": 37,
    "start_time": "2021-10-29T18:22:14.888Z"
   },
   {
    "duration": 9,
    "start_time": "2021-10-29T18:22:27.345Z"
   },
   {
    "duration": 4,
    "start_time": "2021-10-29T18:22:29.028Z"
   },
   {
    "duration": 6,
    "start_time": "2021-10-29T18:22:34.616Z"
   },
   {
    "duration": 5,
    "start_time": "2021-10-29T18:22:45.829Z"
   },
   {
    "duration": 5,
    "start_time": "2021-10-29T18:23:05.669Z"
   },
   {
    "duration": 12,
    "start_time": "2021-10-29T18:23:48.178Z"
   },
   {
    "duration": 4,
    "start_time": "2021-10-29T18:23:54.455Z"
   },
   {
    "duration": 317,
    "start_time": "2021-10-29T18:24:59.569Z"
   },
   {
    "duration": 172,
    "start_time": "2021-10-29T18:25:05.038Z"
   },
   {
    "duration": 339,
    "start_time": "2021-10-29T18:25:21.800Z"
   },
   {
    "duration": 9,
    "start_time": "2021-10-29T18:25:42.660Z"
   },
   {
    "duration": 5,
    "start_time": "2021-10-29T18:25:44.707Z"
   },
   {
    "duration": 1056,
    "start_time": "2021-10-29T18:26:07.587Z"
   },
   {
    "duration": 6,
    "start_time": "2021-10-29T18:26:17.567Z"
   },
   {
    "duration": 293,
    "start_time": "2021-10-29T18:26:35.712Z"
   },
   {
    "duration": 299,
    "start_time": "2021-10-29T18:26:45.084Z"
   },
   {
    "duration": 5,
    "start_time": "2021-10-29T18:26:47.208Z"
   },
   {
    "duration": 305,
    "start_time": "2021-10-29T18:27:20.621Z"
   },
   {
    "duration": 6,
    "start_time": "2021-10-29T18:27:21.683Z"
   },
   {
    "duration": 4,
    "start_time": "2021-10-29T18:27:31.047Z"
   },
   {
    "duration": 5,
    "start_time": "2021-10-29T18:27:36.925Z"
   },
   {
    "duration": 1495,
    "start_time": "2021-10-30T05:06:11.958Z"
   },
   {
    "duration": 900,
    "start_time": "2021-10-30T05:06:13.456Z"
   },
   {
    "duration": 39,
    "start_time": "2021-10-30T05:06:14.359Z"
   },
   {
    "duration": 42,
    "start_time": "2021-10-30T05:06:14.402Z"
   },
   {
    "duration": 33,
    "start_time": "2021-10-30T05:06:14.447Z"
   },
   {
    "duration": 51,
    "start_time": "2021-10-30T05:06:14.482Z"
   },
   {
    "duration": 30,
    "start_time": "2021-10-30T05:06:14.535Z"
   },
   {
    "duration": 26,
    "start_time": "2021-10-30T05:06:14.568Z"
   },
   {
    "duration": 21,
    "start_time": "2021-10-30T05:06:14.622Z"
   },
   {
    "duration": 7,
    "start_time": "2021-10-30T05:06:14.645Z"
   },
   {
    "duration": 18,
    "start_time": "2021-10-30T05:06:14.655Z"
   },
   {
    "duration": 12,
    "start_time": "2021-10-30T05:06:14.676Z"
   },
   {
    "duration": 7,
    "start_time": "2021-10-30T05:06:14.723Z"
   },
   {
    "duration": 8,
    "start_time": "2021-10-30T05:06:14.733Z"
   },
   {
    "duration": 7,
    "start_time": "2021-10-30T05:06:14.743Z"
   },
   {
    "duration": 13,
    "start_time": "2021-10-30T05:06:14.752Z"
   },
   {
    "duration": 11,
    "start_time": "2021-10-30T05:06:14.767Z"
   },
   {
    "duration": 20,
    "start_time": "2021-10-30T05:06:14.780Z"
   },
   {
    "duration": 22,
    "start_time": "2021-10-30T05:06:14.802Z"
   },
   {
    "duration": 10,
    "start_time": "2021-10-30T05:06:14.826Z"
   },
   {
    "duration": 39,
    "start_time": "2021-10-30T05:06:14.838Z"
   },
   {
    "duration": 12,
    "start_time": "2021-10-30T05:06:14.880Z"
   },
   {
    "duration": 44,
    "start_time": "2021-10-30T05:06:14.898Z"
   },
   {
    "duration": 10,
    "start_time": "2021-10-30T05:06:14.946Z"
   },
   {
    "duration": 273,
    "start_time": "2021-10-30T05:06:14.958Z"
   },
   {
    "duration": 260,
    "start_time": "2021-10-30T05:06:15.234Z"
   },
   {
    "duration": 240,
    "start_time": "2021-10-30T05:06:15.496Z"
   },
   {
    "duration": 538,
    "start_time": "2021-10-30T05:06:15.739Z"
   },
   {
    "duration": 566,
    "start_time": "2021-10-30T05:06:16.280Z"
   },
   {
    "duration": 9,
    "start_time": "2021-10-30T05:06:16.849Z"
   },
   {
    "duration": 618,
    "start_time": "2021-10-30T05:06:16.860Z"
   },
   {
    "duration": 7,
    "start_time": "2021-10-30T05:06:17.481Z"
   },
   {
    "duration": 9,
    "start_time": "2021-10-30T05:06:17.491Z"
   },
   {
    "duration": 543,
    "start_time": "2021-10-30T05:06:17.523Z"
   },
   {
    "duration": 6,
    "start_time": "2021-10-30T05:06:18.069Z"
   },
   {
    "duration": 8,
    "start_time": "2021-10-30T05:06:18.078Z"
   },
   {
    "duration": 9,
    "start_time": "2021-10-30T05:06:18.089Z"
   },
   {
    "duration": 297,
    "start_time": "2021-10-30T05:06:18.100Z"
   },
   {
    "duration": 6,
    "start_time": "2021-10-30T05:06:18.399Z"
   },
   {
    "duration": 15,
    "start_time": "2021-10-30T05:06:18.422Z"
   },
   {
    "duration": 11,
    "start_time": "2021-10-30T05:06:18.439Z"
   },
   {
    "duration": 12,
    "start_time": "2021-10-30T05:06:18.453Z"
   },
   {
    "duration": 6863,
    "start_time": "2021-10-30T05:06:18.468Z"
   },
   {
    "duration": 27644,
    "start_time": "2021-10-30T05:06:25.334Z"
   },
   {
    "duration": 5,
    "start_time": "2021-10-30T05:06:52.981Z"
   },
   {
    "duration": 710,
    "start_time": "2021-10-30T05:06:52.988Z"
   },
   {
    "duration": 604167,
    "start_time": "2021-10-30T05:06:53.700Z"
   },
   {
    "duration": 5,
    "start_time": "2021-10-30T05:16:57.870Z"
   },
   {
    "duration": 14747,
    "start_time": "2021-10-30T05:16:57.878Z"
   },
   {
    "duration": 5,
    "start_time": "2021-10-30T05:17:12.627Z"
   },
   {
    "duration": 470,
    "start_time": "2021-10-30T05:17:12.635Z"
   },
   {
    "duration": 2702,
    "start_time": "2021-10-30T05:17:13.107Z"
   },
   {
    "duration": 12,
    "start_time": "2021-10-30T05:17:15.811Z"
   },
   {
    "duration": 4,
    "start_time": "2021-10-30T05:17:15.825Z"
   },
   {
    "duration": 14,
    "start_time": "2021-10-30T05:17:15.831Z"
   },
   {
    "duration": 9,
    "start_time": "2021-10-30T05:17:15.847Z"
   },
   {
    "duration": 11,
    "start_time": "2021-10-30T05:17:15.859Z"
   },
   {
    "duration": 9,
    "start_time": "2021-10-30T05:17:15.873Z"
   },
   {
    "duration": 52,
    "start_time": "2021-10-30T05:17:15.885Z"
   },
   {
    "duration": 5,
    "start_time": "2021-10-30T05:17:15.940Z"
   },
   {
    "duration": 9777,
    "start_time": "2021-10-30T05:17:15.948Z"
   },
   {
    "duration": 1064,
    "start_time": "2021-10-30T05:17:25.728Z"
   },
   {
    "duration": 680286,
    "start_time": "2021-10-30T05:17:26.795Z"
   },
   {
    "duration": 4,
    "start_time": "2021-10-30T05:28:47.083Z"
   },
   {
    "duration": 10641,
    "start_time": "2021-10-30T05:28:47.089Z"
   },
   {
    "duration": 660,
    "start_time": "2021-10-30T05:28:57.732Z"
   },
   {
    "duration": 4,
    "start_time": "2021-10-30T05:28:58.394Z"
   },
   {
    "duration": 9,
    "start_time": "2021-10-30T05:28:58.422Z"
   },
   {
    "duration": 41,
    "start_time": "2021-10-30T05:28:58.435Z"
   },
   {
    "duration": 51,
    "start_time": "2021-10-30T05:28:58.479Z"
   },
   {
    "duration": 39844,
    "start_time": "2021-10-30T05:28:58.532Z"
   },
   {
    "duration": 22,
    "start_time": "2021-10-30T05:29:38.378Z"
   },
   {
    "duration": 23,
    "start_time": "2021-10-30T05:29:38.402Z"
   },
   {
    "duration": 8,
    "start_time": "2021-10-30T05:29:38.428Z"
   },
   {
    "duration": 9,
    "start_time": "2021-10-30T05:29:38.438Z"
   },
   {
    "duration": 311,
    "start_time": "2021-10-30T05:29:38.449Z"
   },
   {
    "duration": 5,
    "start_time": "2021-10-30T05:29:38.762Z"
   },
   {
    "duration": 10,
    "start_time": "2021-10-30T05:29:38.769Z"
   },
   {
    "duration": 10,
    "start_time": "2021-10-30T05:29:38.781Z"
   },
   {
    "duration": 316,
    "start_time": "2021-10-30T05:29:38.794Z"
   },
   {
    "duration": 8,
    "start_time": "2021-10-30T05:29:39.113Z"
   },
   {
    "duration": 4,
    "start_time": "2021-10-30T05:29:39.123Z"
   },
   {
    "duration": 6,
    "start_time": "2021-10-30T05:29:39.130Z"
   },
   {
    "duration": 466,
    "start_time": "2021-10-30T06:01:17.932Z"
   },
   {
    "duration": 1257,
    "start_time": "2021-10-30T12:22:55.281Z"
   },
   {
    "duration": 726,
    "start_time": "2021-10-30T12:22:56.540Z"
   },
   {
    "duration": 23,
    "start_time": "2021-10-30T12:23:47.151Z"
   },
   {
    "duration": 16,
    "start_time": "2021-10-30T12:23:48.144Z"
   },
   {
    "duration": 19,
    "start_time": "2021-10-30T12:23:48.700Z"
   },
   {
    "duration": 10,
    "start_time": "2021-10-30T12:23:49.278Z"
   },
   {
    "duration": 19,
    "start_time": "2021-10-30T12:23:50.096Z"
   },
   {
    "duration": 17,
    "start_time": "2021-10-30T12:23:50.335Z"
   },
   {
    "duration": 14,
    "start_time": "2021-10-30T12:23:51.605Z"
   },
   {
    "duration": 5,
    "start_time": "2021-10-30T12:24:26.093Z"
   },
   {
    "duration": 11,
    "start_time": "2021-10-30T12:24:27.037Z"
   },
   {
    "duration": 9,
    "start_time": "2021-10-30T12:24:28.514Z"
   },
   {
    "duration": 6,
    "start_time": "2021-10-30T12:24:29.441Z"
   },
   {
    "duration": 6,
    "start_time": "2021-10-30T12:24:29.846Z"
   },
   {
    "duration": 4,
    "start_time": "2021-10-30T12:24:30.440Z"
   },
   {
    "duration": 5,
    "start_time": "2021-10-30T12:24:31.022Z"
   },
   {
    "duration": 3,
    "start_time": "2021-10-30T12:24:53.977Z"
   },
   {
    "duration": 3,
    "start_time": "2021-10-30T12:24:54.401Z"
   },
   {
    "duration": 4,
    "start_time": "2021-10-30T12:24:54.728Z"
   },
   {
    "duration": 5,
    "start_time": "2021-10-30T12:24:55.384Z"
   },
   {
    "duration": 16,
    "start_time": "2021-10-30T12:26:17.571Z"
   },
   {
    "duration": 13,
    "start_time": "2021-10-30T12:26:26.054Z"
   },
   {
    "duration": 15,
    "start_time": "2021-10-30T12:26:26.489Z"
   },
   {
    "duration": 7,
    "start_time": "2021-10-30T12:27:01.623Z"
   },
   {
    "duration": 187,
    "start_time": "2021-10-30T12:27:01.632Z"
   },
   {
    "duration": 158,
    "start_time": "2021-10-30T12:27:02.713Z"
   },
   {
    "duration": 157,
    "start_time": "2021-10-30T12:27:04.149Z"
   },
   {
    "duration": 351,
    "start_time": "2021-10-30T12:27:42.461Z"
   },
   {
    "duration": 350,
    "start_time": "2021-10-30T12:27:42.919Z"
   },
   {
    "duration": 7,
    "start_time": "2021-10-30T12:27:48.526Z"
   },
   {
    "duration": 401,
    "start_time": "2021-10-30T12:27:49.256Z"
   },
   {
    "duration": 5,
    "start_time": "2021-10-30T12:27:51.052Z"
   },
   {
    "duration": 6,
    "start_time": "2021-10-30T12:27:51.225Z"
   },
   {
    "duration": 333,
    "start_time": "2021-10-30T12:27:51.384Z"
   },
   {
    "duration": 5,
    "start_time": "2021-10-30T12:28:30.873Z"
   },
   {
    "duration": 5,
    "start_time": "2021-10-30T12:28:31.072Z"
   },
   {
    "duration": 5,
    "start_time": "2021-10-30T12:28:31.221Z"
   },
   {
    "duration": 174,
    "start_time": "2021-10-30T12:28:31.547Z"
   },
   {
    "duration": 4,
    "start_time": "2021-10-30T12:29:36.754Z"
   },
   {
    "duration": 11,
    "start_time": "2021-10-30T12:31:31.341Z"
   },
   {
    "duration": 8,
    "start_time": "2021-10-30T12:31:31.707Z"
   },
   {
    "duration": 2,
    "start_time": "2021-10-30T12:31:34.375Z"
   },
   {
    "duration": 4,
    "start_time": "2021-10-30T12:35:47.822Z"
   },
   {
    "duration": 542,
    "start_time": "2021-10-30T12:44:10.700Z"
   },
   {
    "duration": 18144,
    "start_time": "2021-10-30T12:44:13.273Z"
   },
   {
    "duration": 12312,
    "start_time": "2021-10-30T12:44:39.528Z"
   },
   {
    "duration": 4,
    "start_time": "2021-10-30T12:44:51.842Z"
   },
   {
    "duration": 365,
    "start_time": "2021-10-30T12:44:57.042Z"
   },
   {
    "duration": 2219,
    "start_time": "2021-10-30T12:45:14.449Z"
   },
   {
    "duration": 4,
    "start_time": "2021-10-30T12:45:16.766Z"
   },
   {
    "duration": 4,
    "start_time": "2021-10-30T12:46:06.676Z"
   },
   {
    "duration": 6,
    "start_time": "2021-10-30T12:46:07.218Z"
   },
   {
    "duration": 4,
    "start_time": "2021-10-30T12:46:52.178Z"
   },
   {
    "duration": 3,
    "start_time": "2021-10-30T12:47:24.985Z"
   },
   {
    "duration": 7,
    "start_time": "2021-10-30T12:47:25.522Z"
   },
   {
    "duration": 4,
    "start_time": "2021-10-30T12:47:26.547Z"
   },
   {
    "duration": 11,
    "start_time": "2021-10-30T12:47:31.636Z"
   },
   {
    "duration": 4,
    "start_time": "2021-10-30T12:47:31.822Z"
   },
   {
    "duration": 7802,
    "start_time": "2021-10-30T12:47:32.895Z"
   },
   {
    "duration": 941,
    "start_time": "2021-10-30T12:47:40.699Z"
   },
   {
    "duration": 557757,
    "start_time": "2021-10-30T12:47:41.643Z"
   },
   {
    "duration": 5,
    "start_time": "2021-10-30T12:56:59.402Z"
   },
   {
    "duration": 8714,
    "start_time": "2021-10-30T12:56:59.409Z"
   },
   {
    "duration": 449,
    "start_time": "2021-10-30T12:57:08.125Z"
   },
   {
    "duration": 3,
    "start_time": "2021-10-30T12:57:08.577Z"
   },
   {
    "duration": 16,
    "start_time": "2021-10-30T12:57:08.582Z"
   },
   {
    "duration": 89,
    "start_time": "2021-10-31T07:24:31.001Z"
   },
   {
    "duration": 115,
    "start_time": "2021-10-31T07:27:57.169Z"
   },
   {
    "duration": 1077,
    "start_time": "2021-10-31T07:28:05.779Z"
   },
   {
    "duration": 718,
    "start_time": "2021-10-31T07:28:06.858Z"
   },
   {
    "duration": 21,
    "start_time": "2021-10-31T07:28:07.578Z"
   },
   {
    "duration": 14,
    "start_time": "2021-10-31T07:28:07.601Z"
   },
   {
    "duration": 39,
    "start_time": "2021-10-31T07:28:07.617Z"
   },
   {
    "duration": 9,
    "start_time": "2021-10-31T07:28:07.658Z"
   },
   {
    "duration": 18,
    "start_time": "2021-10-31T07:28:07.669Z"
   },
   {
    "duration": 18,
    "start_time": "2021-10-31T07:28:07.689Z"
   },
   {
    "duration": 39,
    "start_time": "2021-10-31T07:28:07.709Z"
   },
   {
    "duration": 5,
    "start_time": "2021-10-31T07:28:07.750Z"
   },
   {
    "duration": 11,
    "start_time": "2021-10-31T07:28:07.757Z"
   },
   {
    "duration": 10,
    "start_time": "2021-10-31T07:28:07.770Z"
   },
   {
    "duration": 4,
    "start_time": "2021-10-31T07:28:07.782Z"
   },
   {
    "duration": 9,
    "start_time": "2021-10-31T07:28:07.788Z"
   },
   {
    "duration": 5,
    "start_time": "2021-10-31T07:28:07.798Z"
   },
   {
    "duration": 5,
    "start_time": "2021-10-31T07:28:07.805Z"
   },
   {
    "duration": 3,
    "start_time": "2021-10-31T07:28:07.812Z"
   },
   {
    "duration": 28,
    "start_time": "2021-10-31T07:28:07.817Z"
   },
   {
    "duration": 6,
    "start_time": "2021-10-31T07:28:07.847Z"
   },
   {
    "duration": 8,
    "start_time": "2021-10-31T07:28:07.854Z"
   },
   {
    "duration": 25,
    "start_time": "2021-10-31T07:28:07.864Z"
   },
   {
    "duration": 10,
    "start_time": "2021-10-31T07:28:07.890Z"
   },
   {
    "duration": 13,
    "start_time": "2021-10-31T07:28:07.904Z"
   },
   {
    "duration": 25,
    "start_time": "2021-10-31T07:28:07.919Z"
   },
   {
    "duration": 157,
    "start_time": "2021-10-31T07:28:07.947Z"
   },
   {
    "duration": 154,
    "start_time": "2021-10-31T07:28:08.106Z"
   },
   {
    "duration": 145,
    "start_time": "2021-10-31T07:28:08.262Z"
   },
   {
    "duration": 310,
    "start_time": "2021-10-31T07:28:08.409Z"
   },
   {
    "duration": 334,
    "start_time": "2021-10-31T07:28:08.721Z"
   },
   {
    "duration": 6,
    "start_time": "2021-10-31T07:28:09.057Z"
   },
   {
    "duration": 380,
    "start_time": "2021-10-31T07:28:09.064Z"
   },
   {
    "duration": 4,
    "start_time": "2021-10-31T07:28:09.446Z"
   },
   {
    "duration": 9,
    "start_time": "2021-10-31T07:28:09.452Z"
   },
   {
    "duration": 312,
    "start_time": "2021-10-31T07:28:09.462Z"
   },
   {
    "duration": 1085,
    "start_time": "2021-10-31T07:28:23.013Z"
   },
   {
    "duration": 1021,
    "start_time": "2021-10-31T07:28:43.801Z"
   },
   {
    "duration": 265,
    "start_time": "2021-10-31T07:29:24.319Z"
   },
   {
    "duration": 310,
    "start_time": "2021-10-31T07:31:49.675Z"
   },
   {
    "duration": 7544,
    "start_time": "2021-10-31T07:47:03.021Z"
   },
   {
    "duration": 5,
    "start_time": "2021-10-31T07:47:26.179Z"
   },
   {
    "duration": 5,
    "start_time": "2021-10-31T07:47:26.944Z"
   },
   {
    "duration": 5,
    "start_time": "2021-10-31T07:47:27.511Z"
   },
   {
    "duration": 170,
    "start_time": "2021-10-31T07:47:30.433Z"
   },
   {
    "duration": 158,
    "start_time": "2021-10-31T07:47:32.986Z"
   },
   {
    "duration": 20,
    "start_time": "2021-10-31T07:48:34.692Z"
   },
   {
    "duration": 35,
    "start_time": "2021-10-31T07:49:30.631Z"
   },
   {
    "duration": 180,
    "start_time": "2021-10-31T07:49:37.393Z"
   },
   {
    "duration": 48,
    "start_time": "2021-10-31T07:50:34.451Z"
   },
   {
    "duration": 26,
    "start_time": "2021-10-31T07:50:53.719Z"
   },
   {
    "duration": 34,
    "start_time": "2021-10-31T07:51:06.913Z"
   },
   {
    "duration": 189,
    "start_time": "2021-10-31T07:51:34.842Z"
   },
   {
    "duration": 94,
    "start_time": "2021-10-31T07:52:20.985Z"
   },
   {
    "duration": 6,
    "start_time": "2021-10-31T08:27:32.288Z"
   },
   {
    "duration": 275,
    "start_time": "2021-10-31T08:32:36.587Z"
   },
   {
    "duration": 5,
    "start_time": "2021-10-31T08:32:41.847Z"
   },
   {
    "duration": 4,
    "start_time": "2021-10-31T08:33:47.453Z"
   },
   {
    "duration": 4,
    "start_time": "2021-10-31T08:33:50.419Z"
   },
   {
    "duration": 3,
    "start_time": "2021-10-31T08:34:54.296Z"
   },
   {
    "duration": 5,
    "start_time": "2021-10-31T08:34:55.792Z"
   },
   {
    "duration": 264,
    "start_time": "2021-10-31T08:35:14.755Z"
   },
   {
    "duration": 494,
    "start_time": "2021-10-31T08:38:56.346Z"
   },
   {
    "duration": 29,
    "start_time": "2021-10-31T08:40:44.944Z"
   },
   {
    "duration": 8,
    "start_time": "2021-10-31T08:41:13.672Z"
   },
   {
    "duration": 24,
    "start_time": "2021-10-31T08:41:16.657Z"
   },
   {
    "duration": 4,
    "start_time": "2021-10-31T08:41:55.269Z"
   },
   {
    "duration": 9,
    "start_time": "2021-10-31T08:41:58.537Z"
   },
   {
    "duration": 4,
    "start_time": "2021-10-31T08:42:00.081Z"
   },
   {
    "duration": 253,
    "start_time": "2021-10-31T08:42:44.040Z"
   },
   {
    "duration": 4,
    "start_time": "2021-10-31T08:42:47.796Z"
   },
   {
    "duration": 265,
    "start_time": "2021-10-31T08:43:04.353Z"
   },
   {
    "duration": 22755,
    "start_time": "2021-10-31T08:45:06.951Z"
   },
   {
    "duration": 30,
    "start_time": "2021-10-31T08:46:17.728Z"
   },
   {
    "duration": 4,
    "start_time": "2021-10-31T08:46:27.589Z"
   },
   {
    "duration": 7,
    "start_time": "2021-10-31T08:46:28.419Z"
   },
   {
    "duration": 4,
    "start_time": "2021-10-31T08:46:29.605Z"
   },
   {
    "duration": 3,
    "start_time": "2021-10-31T08:46:31.363Z"
   },
   {
    "duration": 262,
    "start_time": "2021-10-31T09:10:52.771Z"
   },
   {
    "duration": 3,
    "start_time": "2021-10-31T09:11:37.806Z"
   },
   {
    "duration": 2,
    "start_time": "2021-10-31T09:11:42.312Z"
   },
   {
    "duration": 563,
    "start_time": "2021-10-31T09:12:09.118Z"
   },
   {
    "duration": 4,
    "start_time": "2021-10-31T09:12:56.249Z"
   },
   {
    "duration": 4057,
    "start_time": "2021-10-31T09:13:26.445Z"
   },
   {
    "duration": 3,
    "start_time": "2021-10-31T09:17:25.427Z"
   },
   {
    "duration": 4,
    "start_time": "2021-10-31T09:17:30.551Z"
   },
   {
    "duration": 15430,
    "start_time": "2021-10-31T09:17:31.266Z"
   },
   {
    "duration": 6,
    "start_time": "2021-10-31T09:17:49.758Z"
   },
   {
    "duration": 3020,
    "start_time": "2021-10-31T09:17:55.784Z"
   },
   {
    "duration": 3,
    "start_time": "2021-10-31T09:18:56.939Z"
   },
   {
    "duration": 3,
    "start_time": "2021-10-31T09:19:17.105Z"
   },
   {
    "duration": 3,
    "start_time": "2021-10-31T09:19:23.861Z"
   },
   {
    "duration": 15342,
    "start_time": "2021-10-31T09:19:24.561Z"
   },
   {
    "duration": 4,
    "start_time": "2021-10-31T09:19:42.194Z"
   },
   {
    "duration": 2910,
    "start_time": "2021-10-31T09:19:44.524Z"
   },
   {
    "duration": 30298,
    "start_time": "2021-10-31T09:20:03.453Z"
   },
   {
    "duration": 3,
    "start_time": "2021-10-31T09:20:35.995Z"
   },
   {
    "duration": 296,
    "start_time": "2021-10-31T09:22:11.357Z"
   },
   {
    "duration": 4,
    "start_time": "2021-10-31T09:22:12.976Z"
   },
   {
    "duration": 293,
    "start_time": "2021-10-31T09:22:16.846Z"
   },
   {
    "duration": 4,
    "start_time": "2021-10-31T09:22:17.797Z"
   },
   {
    "duration": 4,
    "start_time": "2021-10-31T09:22:26.046Z"
   },
   {
    "duration": 293,
    "start_time": "2021-10-31T09:22:28.265Z"
   },
   {
    "duration": 4,
    "start_time": "2021-10-31T09:22:29.217Z"
   },
   {
    "duration": 330921,
    "start_time": "2021-10-31T09:22:58.666Z"
   },
   {
    "duration": 4,
    "start_time": "2021-10-31T09:28:33.461Z"
   },
   {
    "duration": 5027,
    "start_time": "2021-10-31T09:28:41.460Z"
   },
   {
    "duration": 4,
    "start_time": "2021-10-31T09:30:20.656Z"
   },
   {
    "duration": 5,
    "start_time": "2021-10-31T09:30:50.545Z"
   },
   {
    "duration": 1646,
    "start_time": "2021-10-31T09:31:23.319Z"
   },
   {
    "duration": 4,
    "start_time": "2021-10-31T09:31:27.919Z"
   },
   {
    "duration": 7,
    "start_time": "2021-10-31T09:32:21.855Z"
   },
   {
    "duration": 315,
    "start_time": "2021-10-31T09:32:58.677Z"
   },
   {
    "duration": 7,
    "start_time": "2021-10-31T09:33:00.244Z"
   },
   {
    "duration": 4,
    "start_time": "2021-10-31T09:34:31.277Z"
   },
   {
    "duration": 1604,
    "start_time": "2021-10-31T09:34:37.865Z"
   },
   {
    "duration": 3,
    "start_time": "2021-10-31T09:34:40.715Z"
   },
   {
    "duration": 250,
    "start_time": "2021-10-31T09:34:56.825Z"
   },
   {
    "duration": 3,
    "start_time": "2021-10-31T09:35:00.604Z"
   },
   {
    "duration": 1628,
    "start_time": "2021-10-31T09:36:28.557Z"
   },
   {
    "duration": 5,
    "start_time": "2021-10-31T09:36:31.352Z"
   },
   {
    "duration": 4,
    "start_time": "2021-10-31T09:37:35.173Z"
   },
   {
    "duration": 7,
    "start_time": "2021-10-31T09:37:37.427Z"
   },
   {
    "duration": 4,
    "start_time": "2021-10-31T09:37:39.211Z"
   },
   {
    "duration": 300,
    "start_time": "2021-10-31T09:37:56.110Z"
   },
   {
    "duration": 5,
    "start_time": "2021-10-31T09:37:57.546Z"
   },
   {
    "duration": 1616,
    "start_time": "2021-10-31T09:38:01.394Z"
   },
   {
    "duration": 4,
    "start_time": "2021-10-31T09:38:03.769Z"
   },
   {
    "duration": 81,
    "start_time": "2021-10-31T09:38:29.360Z"
   },
   {
    "duration": 1766,
    "start_time": "2021-10-31T09:38:34.469Z"
   },
   {
    "duration": 5,
    "start_time": "2021-10-31T09:38:37.003Z"
   },
   {
    "duration": 4,
    "start_time": "2021-10-31T09:38:50.433Z"
   },
   {
    "duration": 1661,
    "start_time": "2021-10-31T09:39:52.854Z"
   },
   {
    "duration": 4,
    "start_time": "2021-10-31T09:39:56.159Z"
   },
   {
    "duration": 1623,
    "start_time": "2021-10-31T09:40:26.671Z"
   },
   {
    "duration": 4,
    "start_time": "2021-10-31T09:40:29.227Z"
   },
   {
    "duration": 5270,
    "start_time": "2021-10-31T09:40:40.929Z"
   },
   {
    "duration": 4,
    "start_time": "2021-10-31T09:40:47.361Z"
   },
   {
    "duration": 30325,
    "start_time": "2021-10-31T09:41:26.768Z"
   },
   {
    "duration": 3,
    "start_time": "2021-10-31T09:41:59.389Z"
   },
   {
    "duration": 45,
    "start_time": "2021-10-31T09:42:02.117Z"
   },
   {
    "duration": 1669,
    "start_time": "2021-10-31T09:42:17.801Z"
   },
   {
    "duration": 4,
    "start_time": "2021-10-31T09:42:20.175Z"
   },
   {
    "duration": 621,
    "start_time": "2021-10-31T09:43:13.327Z"
   },
   {
    "duration": 5,
    "start_time": "2021-10-31T09:43:15.554Z"
   },
   {
    "duration": 345,
    "start_time": "2021-10-31T09:43:25.539Z"
   },
   {
    "duration": 2,
    "start_time": "2021-10-31T09:43:39.683Z"
   },
   {
    "duration": 307,
    "start_time": "2021-10-31T09:43:44.865Z"
   },
   {
    "duration": 5150,
    "start_time": "2021-10-31T09:43:49.833Z"
   },
   {
    "duration": 3,
    "start_time": "2021-10-31T09:44:17.972Z"
   },
   {
    "duration": 316,
    "start_time": "2021-10-31T09:44:21.436Z"
   },
   {
    "duration": 5082,
    "start_time": "2021-10-31T09:44:33.578Z"
   },
   {
    "duration": 4,
    "start_time": "2021-10-31T09:44:42.600Z"
   },
   {
    "duration": 69,
    "start_time": "2021-10-31T09:44:45.282Z"
   },
   {
    "duration": 4,
    "start_time": "2021-10-31T09:44:48.540Z"
   },
   {
    "duration": 6,
    "start_time": "2021-10-31T09:44:50.488Z"
   },
   {
    "duration": 1484,
    "start_time": "2021-10-31T11:59:07.294Z"
   },
   {
    "duration": 843,
    "start_time": "2021-10-31T11:59:08.781Z"
   },
   {
    "duration": 38,
    "start_time": "2021-10-31T11:59:09.628Z"
   },
   {
    "duration": 24,
    "start_time": "2021-10-31T11:59:09.670Z"
   },
   {
    "duration": 59,
    "start_time": "2021-10-31T11:59:09.696Z"
   },
   {
    "duration": 16,
    "start_time": "2021-10-31T11:59:09.758Z"
   },
   {
    "duration": 56,
    "start_time": "2021-10-31T11:59:09.776Z"
   },
   {
    "duration": 26,
    "start_time": "2021-10-31T11:59:09.837Z"
   },
   {
    "duration": 21,
    "start_time": "2021-10-31T11:59:09.866Z"
   },
   {
    "duration": 45,
    "start_time": "2021-10-31T11:59:09.889Z"
   },
   {
    "duration": 17,
    "start_time": "2021-10-31T11:59:09.936Z"
   },
   {
    "duration": 11,
    "start_time": "2021-10-31T11:59:09.955Z"
   },
   {
    "duration": 8,
    "start_time": "2021-10-31T11:59:09.968Z"
   },
   {
    "duration": 7,
    "start_time": "2021-10-31T11:59:09.979Z"
   },
   {
    "duration": 6,
    "start_time": "2021-10-31T11:59:10.029Z"
   },
   {
    "duration": 19,
    "start_time": "2021-10-31T11:59:10.039Z"
   },
   {
    "duration": 15,
    "start_time": "2021-10-31T11:59:10.061Z"
   },
   {
    "duration": 19,
    "start_time": "2021-10-31T11:59:10.078Z"
   },
   {
    "duration": 7,
    "start_time": "2021-10-31T11:59:10.100Z"
   },
   {
    "duration": 20,
    "start_time": "2021-10-31T11:59:10.109Z"
   },
   {
    "duration": 23,
    "start_time": "2021-10-31T11:59:10.132Z"
   },
   {
    "duration": 14,
    "start_time": "2021-10-31T11:59:10.158Z"
   },
   {
    "duration": 59,
    "start_time": "2021-10-31T11:59:10.178Z"
   },
   {
    "duration": 11,
    "start_time": "2021-10-31T11:59:10.240Z"
   },
   {
    "duration": 276,
    "start_time": "2021-10-31T11:59:10.254Z"
   },
   {
    "duration": 257,
    "start_time": "2021-10-31T11:59:10.533Z"
   },
   {
    "duration": 252,
    "start_time": "2021-10-31T11:59:10.792Z"
   },
   {
    "duration": 549,
    "start_time": "2021-10-31T11:59:11.046Z"
   },
   {
    "duration": 674,
    "start_time": "2021-10-31T11:59:11.598Z"
   },
   {
    "duration": 10,
    "start_time": "2021-10-31T11:59:12.274Z"
   },
   {
    "duration": 612,
    "start_time": "2021-10-31T11:59:12.286Z"
   },
   {
    "duration": 7,
    "start_time": "2021-10-31T11:59:12.902Z"
   },
   {
    "duration": 22,
    "start_time": "2021-10-31T11:59:12.911Z"
   },
   {
    "duration": 540,
    "start_time": "2021-10-31T11:59:12.937Z"
   },
   {
    "duration": 5,
    "start_time": "2021-10-31T11:59:13.480Z"
   },
   {
    "duration": 21,
    "start_time": "2021-10-31T11:59:13.487Z"
   },
   {
    "duration": 31,
    "start_time": "2021-10-31T11:59:13.511Z"
   },
   {
    "duration": 277,
    "start_time": "2021-10-31T11:59:13.545Z"
   },
   {
    "duration": 46,
    "start_time": "2021-10-31T11:59:13.824Z"
   },
   {
    "duration": 299,
    "start_time": "2021-10-31T11:59:13.873Z"
   },
   {
    "duration": 4,
    "start_time": "2021-10-31T11:59:14.174Z"
   },
   {
    "duration": 6,
    "start_time": "2021-10-31T11:59:31.683Z"
   },
   {
    "duration": 9,
    "start_time": "2021-10-31T11:59:32.638Z"
   },
   {
    "duration": 5,
    "start_time": "2021-10-31T11:59:33.339Z"
   },
   {
    "duration": 3,
    "start_time": "2021-10-31T11:59:35.171Z"
   },
   {
    "duration": 3,
    "start_time": "2021-10-31T11:59:40.829Z"
   },
   {
    "duration": 39235,
    "start_time": "2021-10-31T11:59:42.795Z"
   },
   {
    "duration": 7,
    "start_time": "2021-10-31T12:00:24.426Z"
   },
   {
    "duration": 3,
    "start_time": "2021-10-31T12:00:57.263Z"
   },
   {
    "duration": 5,
    "start_time": "2021-10-31T12:00:59.635Z"
   },
   {
    "duration": 315,
    "start_time": "2021-10-31T12:01:14.697Z"
   },
   {
    "duration": 5,
    "start_time": "2021-10-31T12:01:17.680Z"
   },
   {
    "duration": 1703,
    "start_time": "2021-10-31T12:01:20.388Z"
   },
   {
    "duration": 5,
    "start_time": "2021-10-31T12:01:23.871Z"
   },
   {
    "duration": 1370,
    "start_time": "2021-10-31T12:02:11.828Z"
   },
   {
    "duration": 5,
    "start_time": "2021-10-31T12:02:14.368Z"
   },
   {
    "duration": 412,
    "start_time": "2021-10-31T12:02:17.953Z"
   },
   {
    "duration": 414,
    "start_time": "2021-10-31T12:02:24.775Z"
   },
   {
    "duration": 5,
    "start_time": "2021-10-31T12:02:26.521Z"
   },
   {
    "duration": 299,
    "start_time": "2021-10-31T12:02:42.818Z"
   },
   {
    "duration": 1849,
    "start_time": "2021-10-31T12:02:56.401Z"
   },
   {
    "duration": 6,
    "start_time": "2021-10-31T12:02:59.443Z"
   },
   {
    "duration": 6186,
    "start_time": "2021-10-31T12:03:35.160Z"
   },
   {
    "duration": 5,
    "start_time": "2021-10-31T12:03:44.238Z"
   },
   {
    "duration": 33913,
    "start_time": "2021-10-31T12:03:47.356Z"
   },
   {
    "duration": 5,
    "start_time": "2021-10-31T12:04:41.067Z"
   },
   {
    "duration": 275,
    "start_time": "2021-10-31T12:04:54.324Z"
   },
   {
    "duration": 4778,
    "start_time": "2021-10-31T12:05:01.406Z"
   },
   {
    "duration": 23,
    "start_time": "2021-10-31T12:05:12.426Z"
   },
   {
    "duration": 1035,
    "start_time": "2021-10-31T12:05:22.094Z"
   },
   {
    "duration": 6,
    "start_time": "2021-10-31T12:05:24.307Z"
   },
   {
    "duration": 7,
    "start_time": "2021-10-31T12:06:07.740Z"
   },
   {
    "duration": 10,
    "start_time": "2021-10-31T12:06:08.741Z"
   },
   {
    "duration": 7,
    "start_time": "2021-10-31T12:07:55.577Z"
   },
   {
    "duration": 7,
    "start_time": "2021-10-31T12:10:50.487Z"
   },
   {
    "duration": 37,
    "start_time": "2021-10-31T12:10:55.528Z"
   },
   {
    "duration": 11,
    "start_time": "2021-10-31T12:11:34.566Z"
   },
   {
    "duration": 4,
    "start_time": "2021-10-31T12:11:36.210Z"
   },
   {
    "duration": 49825,
    "start_time": "2021-10-31T12:11:54.673Z"
   },
   {
    "duration": 5,
    "start_time": "2021-10-31T12:13:37.487Z"
   },
   {
    "duration": 343,
    "start_time": "2021-10-31T12:14:18.693Z"
   },
   {
    "duration": 5,
    "start_time": "2021-10-31T12:14:24.586Z"
   },
   {
    "duration": 264,
    "start_time": "2021-10-31T12:14:47.702Z"
   },
   {
    "duration": 7,
    "start_time": "2021-10-31T12:14:57.921Z"
   },
   {
    "duration": 75,
    "start_time": "2021-10-31T12:28:19.988Z"
   },
   {
    "duration": 221,
    "start_time": "2021-10-31T12:30:54.603Z"
   },
   {
    "duration": 236,
    "start_time": "2021-10-31T12:31:02.199Z"
   },
   {
    "duration": 249,
    "start_time": "2021-10-31T12:31:06.155Z"
   },
   {
    "duration": 7,
    "start_time": "2021-10-31T12:32:14.217Z"
   },
   {
    "duration": 249,
    "start_time": "2021-10-31T12:33:29.750Z"
   },
   {
    "duration": 39262,
    "start_time": "2021-10-31T12:33:55.374Z"
   },
   {
    "duration": 219,
    "start_time": "2021-10-31T12:34:59.558Z"
   },
   {
    "duration": 7,
    "start_time": "2021-10-31T12:35:07.308Z"
   },
   {
    "duration": 23,
    "start_time": "2021-10-31T12:35:28.916Z"
   },
   {
    "duration": 350,
    "start_time": "2021-10-31T12:39:57.130Z"
   },
   {
    "duration": 242,
    "start_time": "2021-10-31T12:40:05.050Z"
   },
   {
    "duration": 41095,
    "start_time": "2021-10-31T12:40:28.313Z"
   },
   {
    "duration": 23,
    "start_time": "2021-10-31T12:41:11.090Z"
   },
   {
    "duration": 6,
    "start_time": "2021-10-31T12:41:15.958Z"
   },
   {
    "duration": 20,
    "start_time": "2021-10-31T12:41:19.078Z"
   },
   {
    "duration": 221,
    "start_time": "2021-10-31T12:46:58.049Z"
   },
   {
    "duration": 39,
    "start_time": "2021-10-31T12:47:30.566Z"
   },
   {
    "duration": 258,
    "start_time": "2021-10-31T12:47:41.272Z"
   },
   {
    "duration": 5,
    "start_time": "2021-10-31T12:48:21.219Z"
   },
   {
    "duration": 273,
    "start_time": "2021-10-31T12:48:25.505Z"
   },
   {
    "duration": 240,
    "start_time": "2021-10-31T12:49:10.014Z"
   },
   {
    "duration": 253,
    "start_time": "2021-10-31T12:50:09.031Z"
   },
   {
    "duration": 23,
    "start_time": "2021-10-31T12:50:17.544Z"
   },
   {
    "duration": 41,
    "start_time": "2021-10-31T12:50:22.002Z"
   },
   {
    "duration": 262,
    "start_time": "2021-10-31T12:52:38.223Z"
   },
   {
    "duration": 224,
    "start_time": "2021-10-31T12:52:43.770Z"
   },
   {
    "duration": 233,
    "start_time": "2021-10-31T12:52:48.525Z"
   },
   {
    "duration": 289,
    "start_time": "2021-10-31T12:52:56.881Z"
   },
   {
    "duration": 6,
    "start_time": "2021-10-31T13:03:52.109Z"
   },
   {
    "duration": 36,
    "start_time": "2021-10-31T13:03:56.587Z"
   },
   {
    "duration": 6,
    "start_time": "2021-10-31T13:04:14.214Z"
   },
   {
    "duration": 482,
    "start_time": "2021-10-31T13:04:15.932Z"
   },
   {
    "duration": 6,
    "start_time": "2021-10-31T13:04:38.574Z"
   },
   {
    "duration": 6,
    "start_time": "2021-10-31T13:04:42.000Z"
   },
   {
    "duration": 6,
    "start_time": "2021-10-31T13:04:43.664Z"
   },
   {
    "duration": 5,
    "start_time": "2021-10-31T13:04:45.180Z"
   },
   {
    "duration": 36,
    "start_time": "2021-10-31T13:05:10.515Z"
   },
   {
    "duration": 6,
    "start_time": "2021-10-31T13:05:41.055Z"
   },
   {
    "duration": 6,
    "start_time": "2021-10-31T13:05:44.201Z"
   },
   {
    "duration": 6,
    "start_time": "2021-10-31T13:05:46.571Z"
   },
   {
    "duration": 6,
    "start_time": "2021-10-31T13:05:48.003Z"
   },
   {
    "duration": 3,
    "start_time": "2021-10-31T13:05:50.272Z"
   },
   {
    "duration": 4,
    "start_time": "2021-10-31T13:05:51.346Z"
   },
   {
    "duration": 6,
    "start_time": "2021-10-31T13:06:47.621Z"
   },
   {
    "duration": 6,
    "start_time": "2021-10-31T13:06:49.243Z"
   },
   {
    "duration": 751201,
    "start_time": "2021-10-31T13:10:03.552Z"
   },
   {
    "duration": 5,
    "start_time": "2021-10-31T13:22:38.902Z"
   },
   {
    "duration": 6035,
    "start_time": "2021-10-31T13:22:43.207Z"
   },
   {
    "duration": 31809,
    "start_time": "2021-10-31T13:23:38.376Z"
   },
   {
    "duration": 5,
    "start_time": "2021-10-31T13:24:11.727Z"
   },
   {
    "duration": 5,
    "start_time": "2021-10-31T13:26:42.549Z"
   },
   {
    "duration": 5,
    "start_time": "2021-10-31T13:35:25.896Z"
   },
   {
    "duration": 235,
    "start_time": "2021-10-31T13:38:30.362Z"
   },
   {
    "duration": 9,
    "start_time": "2021-10-31T13:38:39.542Z"
   },
   {
    "duration": 8,
    "start_time": "2021-10-31T13:38:47.488Z"
   },
   {
    "duration": 79,
    "start_time": "2021-10-31T13:39:09.092Z"
   },
   {
    "duration": 7,
    "start_time": "2021-10-31T13:40:30.092Z"
   },
   {
    "duration": 9,
    "start_time": "2021-10-31T13:40:30.782Z"
   },
   {
    "duration": 39534,
    "start_time": "2021-10-31T13:41:05.275Z"
   },
   {
    "duration": 5,
    "start_time": "2021-10-31T13:41:47.464Z"
   },
   {
    "duration": 339,
    "start_time": "2021-10-31T13:42:10.729Z"
   },
   {
    "duration": 6,
    "start_time": "2021-10-31T13:42:12.154Z"
   },
   {
    "duration": 1856,
    "start_time": "2021-10-31T13:42:20.215Z"
   },
   {
    "duration": 4,
    "start_time": "2021-10-31T13:42:23.043Z"
   },
   {
    "duration": 4921,
    "start_time": "2021-10-31T13:43:15.480Z"
   },
   {
    "duration": 5,
    "start_time": "2021-10-31T13:43:43.502Z"
   },
   {
    "duration": 5394,
    "start_time": "2021-10-31T13:44:14.836Z"
   },
   {
    "duration": 24,
    "start_time": "2021-10-31T13:44:27.110Z"
   },
   {
    "duration": 8,
    "start_time": "2021-10-31T13:45:28.059Z"
   },
   {
    "duration": 3,
    "start_time": "2021-10-31T13:45:59.508Z"
   },
   {
    "duration": 7,
    "start_time": "2021-10-31T13:46:08.337Z"
   },
   {
    "duration": 13,
    "start_time": "2021-10-31T13:46:31.235Z"
   },
   {
    "duration": 5,
    "start_time": "2021-10-31T13:46:33.724Z"
   },
   {
    "duration": 232,
    "start_time": "2021-10-31T13:49:19.650Z"
   },
   {
    "duration": 53649,
    "start_time": "2021-10-31T13:53:30.119Z"
   },
   {
    "duration": 7,
    "start_time": "2021-10-31T13:54:25.831Z"
   },
   {
    "duration": 359,
    "start_time": "2021-10-31T13:54:28.541Z"
   },
   {
    "duration": 6,
    "start_time": "2021-10-31T13:54:35.079Z"
   },
   {
    "duration": 103,
    "start_time": "2021-10-31T13:55:08.928Z"
   },
   {
    "duration": 55,
    "start_time": "2021-10-31T13:55:14.975Z"
   },
   {
    "duration": 13,
    "start_time": "2021-10-31T13:56:27.534Z"
   },
   {
    "duration": 1563,
    "start_time": "2021-10-31T13:57:05.909Z"
   },
   {
    "duration": 896,
    "start_time": "2021-10-31T13:57:07.475Z"
   },
   {
    "duration": 56,
    "start_time": "2021-10-31T13:57:08.374Z"
   },
   {
    "duration": 35,
    "start_time": "2021-10-31T13:57:08.433Z"
   },
   {
    "duration": 57,
    "start_time": "2021-10-31T13:57:08.471Z"
   },
   {
    "duration": 19,
    "start_time": "2021-10-31T13:57:08.532Z"
   },
   {
    "duration": 29,
    "start_time": "2021-10-31T13:57:08.553Z"
   },
   {
    "duration": 70,
    "start_time": "2021-10-31T13:57:08.586Z"
   },
   {
    "duration": 20,
    "start_time": "2021-10-31T13:57:08.659Z"
   },
   {
    "duration": 8,
    "start_time": "2021-10-31T13:57:08.681Z"
   },
   {
    "duration": 43,
    "start_time": "2021-10-31T13:57:08.692Z"
   },
   {
    "duration": 12,
    "start_time": "2021-10-31T13:57:08.738Z"
   },
   {
    "duration": 10,
    "start_time": "2021-10-31T13:57:08.753Z"
   },
   {
    "duration": 9,
    "start_time": "2021-10-31T13:57:08.766Z"
   },
   {
    "duration": 6,
    "start_time": "2021-10-31T13:57:08.778Z"
   },
   {
    "duration": 47,
    "start_time": "2021-10-31T13:57:08.786Z"
   },
   {
    "duration": 9,
    "start_time": "2021-10-31T13:57:08.835Z"
   },
   {
    "duration": 5,
    "start_time": "2021-10-31T13:57:08.847Z"
   },
   {
    "duration": 8,
    "start_time": "2021-10-31T13:57:08.855Z"
   },
   {
    "duration": 13,
    "start_time": "2021-10-31T13:57:08.865Z"
   },
   {
    "duration": 35,
    "start_time": "2021-10-31T13:57:08.881Z"
   },
   {
    "duration": 13,
    "start_time": "2021-10-31T13:57:08.930Z"
   },
   {
    "duration": 22,
    "start_time": "2021-10-31T13:57:08.949Z"
   },
   {
    "duration": 10,
    "start_time": "2021-10-31T13:57:08.975Z"
   },
   {
    "duration": 298,
    "start_time": "2021-10-31T13:57:08.987Z"
   },
   {
    "duration": 268,
    "start_time": "2021-10-31T13:57:09.287Z"
   },
   {
    "duration": 259,
    "start_time": "2021-10-31T13:57:09.557Z"
   },
   {
    "duration": 552,
    "start_time": "2021-10-31T13:57:09.819Z"
   },
   {
    "duration": 603,
    "start_time": "2021-10-31T13:57:10.373Z"
   },
   {
    "duration": 8,
    "start_time": "2021-10-31T13:57:10.978Z"
   },
   {
    "duration": 637,
    "start_time": "2021-10-31T13:57:10.989Z"
   },
   {
    "duration": 7,
    "start_time": "2021-10-31T13:57:11.628Z"
   },
   {
    "duration": 21,
    "start_time": "2021-10-31T13:57:11.637Z"
   },
   {
    "duration": 551,
    "start_time": "2021-10-31T13:57:11.660Z"
   },
   {
    "duration": 6,
    "start_time": "2021-10-31T13:57:12.213Z"
   },
   {
    "duration": 14,
    "start_time": "2021-10-31T13:57:12.221Z"
   },
   {
    "duration": 10,
    "start_time": "2021-10-31T13:57:12.238Z"
   },
   {
    "duration": 302,
    "start_time": "2021-10-31T13:57:12.251Z"
   },
   {
    "duration": 43,
    "start_time": "2021-10-31T13:57:12.556Z"
   },
   {
    "duration": 301,
    "start_time": "2021-10-31T13:57:12.601Z"
   },
   {
    "duration": 5,
    "start_time": "2021-10-31T13:57:12.904Z"
   },
   {
    "duration": 18,
    "start_time": "2021-10-31T13:57:12.911Z"
   },
   {
    "duration": 18,
    "start_time": "2021-10-31T13:57:12.933Z"
   },
   {
    "duration": 5,
    "start_time": "2021-10-31T13:57:12.953Z"
   },
   {
    "duration": 9,
    "start_time": "2021-10-31T13:57:12.961Z"
   },
   {
    "duration": 39312,
    "start_time": "2021-10-31T13:57:12.972Z"
   },
   {
    "duration": 4,
    "start_time": "2021-10-31T13:57:52.286Z"
   },
   {
    "duration": 20,
    "start_time": "2021-10-31T13:57:52.293Z"
   },
   {
    "duration": 29,
    "start_time": "2021-10-31T13:57:52.315Z"
   },
   {
    "duration": 393,
    "start_time": "2021-10-31T13:57:52.347Z"
   },
   {
    "duration": 6,
    "start_time": "2021-10-31T13:57:52.742Z"
   },
   {
    "duration": 2143,
    "start_time": "2021-10-31T13:57:52.750Z"
   },
   {
    "duration": 5,
    "start_time": "2021-10-31T13:57:54.895Z"
   },
   {
    "duration": 562202,
    "start_time": "2021-10-31T13:57:54.902Z"
   },
   {
    "duration": 5,
    "start_time": "2021-10-31T14:07:17.107Z"
   },
   {
    "duration": 4597,
    "start_time": "2021-10-31T14:07:17.133Z"
   },
   {
    "duration": 11,
    "start_time": "2021-10-31T14:07:21.733Z"
   },
   {
    "duration": 24977,
    "start_time": "2021-10-31T14:07:21.746Z"
   },
   {
    "duration": 6,
    "start_time": "2021-10-31T14:07:46.725Z"
   },
   {
    "duration": 206,
    "start_time": "2021-10-31T14:07:46.734Z"
   },
   {
    "duration": 1000,
    "start_time": "2021-10-31T14:07:46.942Z"
   },
   {
    "duration": 10,
    "start_time": "2021-10-31T14:07:48.030Z"
   },
   {
    "duration": 12,
    "start_time": "2021-10-31T14:07:48.042Z"
   },
   {
    "duration": 12,
    "start_time": "2021-10-31T14:07:48.057Z"
   },
   {
    "duration": 425,
    "start_time": "2021-10-31T14:07:48.072Z"
   },
   {
    "duration": 612,
    "start_time": "2021-10-31T14:07:47.890Z"
   },
   {
    "duration": 606,
    "start_time": "2021-10-31T14:07:47.898Z"
   },
   {
    "duration": 604,
    "start_time": "2021-10-31T14:07:47.902Z"
   },
   {
    "duration": 601,
    "start_time": "2021-10-31T14:07:47.907Z"
   },
   {
    "duration": 600,
    "start_time": "2021-10-31T14:07:47.910Z"
   },
   {
    "duration": 598,
    "start_time": "2021-10-31T14:07:47.914Z"
   },
   {
    "duration": 592,
    "start_time": "2021-10-31T14:07:47.922Z"
   },
   {
    "duration": 590,
    "start_time": "2021-10-31T14:07:47.926Z"
   },
   {
    "duration": 588,
    "start_time": "2021-10-31T14:07:47.930Z"
   },
   {
    "duration": 588,
    "start_time": "2021-10-31T14:07:47.933Z"
   },
   {
    "duration": 586,
    "start_time": "2021-10-31T14:07:47.937Z"
   },
   {
    "duration": 585,
    "start_time": "2021-10-31T14:07:47.941Z"
   },
   {
    "duration": 584,
    "start_time": "2021-10-31T14:07:47.944Z"
   },
   {
    "duration": 581,
    "start_time": "2021-10-31T14:07:47.948Z"
   },
   {
    "duration": 579,
    "start_time": "2021-10-31T14:07:47.951Z"
   },
   {
    "duration": 579,
    "start_time": "2021-10-31T14:07:47.954Z"
   },
   {
    "duration": 576,
    "start_time": "2021-10-31T14:07:47.958Z"
   },
   {
    "duration": 575,
    "start_time": "2021-10-31T14:07:47.961Z"
   },
   {
    "duration": 573,
    "start_time": "2021-10-31T14:07:47.964Z"
   },
   {
    "duration": 567,
    "start_time": "2021-10-31T14:07:47.973Z"
   },
   {
    "duration": 566,
    "start_time": "2021-10-31T14:07:47.976Z"
   },
   {
    "duration": 563,
    "start_time": "2021-10-31T14:07:47.981Z"
   },
   {
    "duration": 562,
    "start_time": "2021-10-31T14:07:47.984Z"
   },
   {
    "duration": 559,
    "start_time": "2021-10-31T14:07:47.988Z"
   },
   {
    "duration": 558,
    "start_time": "2021-10-31T14:07:47.991Z"
   },
   {
    "duration": 556,
    "start_time": "2021-10-31T14:07:47.994Z"
   },
   {
    "duration": 553,
    "start_time": "2021-10-31T14:07:47.998Z"
   },
   {
    "duration": 550,
    "start_time": "2021-10-31T14:07:48.002Z"
   },
   {
    "duration": 547,
    "start_time": "2021-10-31T14:07:48.006Z"
   },
   {
    "duration": 545,
    "start_time": "2021-10-31T14:07:48.010Z"
   },
   {
    "duration": 8,
    "start_time": "2021-10-31T14:09:06.285Z"
   },
   {
    "duration": 4,
    "start_time": "2021-10-31T14:09:16.607Z"
   },
   {
    "duration": 11,
    "start_time": "2021-10-31T14:09:16.613Z"
   },
   {
    "duration": 13,
    "start_time": "2021-10-31T14:09:16.627Z"
   },
   {
    "duration": 13,
    "start_time": "2021-10-31T14:09:16.642Z"
   },
   {
    "duration": 3,
    "start_time": "2021-10-31T14:09:16.657Z"
   },
   {
    "duration": 52948,
    "start_time": "2021-10-31T14:09:16.662Z"
   },
   {
    "duration": 5,
    "start_time": "2021-10-31T14:10:09.613Z"
   },
   {
    "duration": 369,
    "start_time": "2021-10-31T14:10:09.630Z"
   },
   {
    "duration": 5,
    "start_time": "2021-10-31T14:10:10.002Z"
   },
   {
    "duration": 423888,
    "start_time": "2021-10-31T14:10:10.010Z"
   },
   {
    "duration": 5,
    "start_time": "2021-10-31T14:17:13.901Z"
   },
   {
    "duration": 276,
    "start_time": "2021-10-31T14:17:13.908Z"
   },
   {
    "duration": 612,
    "start_time": "2021-10-31T14:17:13.575Z"
   },
   {
    "duration": 610,
    "start_time": "2021-10-31T14:17:13.578Z"
   },
   {
    "duration": 607,
    "start_time": "2021-10-31T14:17:13.582Z"
   },
   {
    "duration": 606,
    "start_time": "2021-10-31T14:17:13.585Z"
   },
   {
    "duration": 604,
    "start_time": "2021-10-31T14:17:13.588Z"
   },
   {
    "duration": 602,
    "start_time": "2021-10-31T14:17:13.591Z"
   },
   {
    "duration": 600,
    "start_time": "2021-10-31T14:17:13.595Z"
   },
   {
    "duration": 598,
    "start_time": "2021-10-31T14:17:13.598Z"
   },
   {
    "duration": 590,
    "start_time": "2021-10-31T14:17:13.607Z"
   },
   {
    "duration": 589,
    "start_time": "2021-10-31T14:17:13.610Z"
   },
   {
    "duration": 587,
    "start_time": "2021-10-31T14:17:13.613Z"
   },
   {
    "duration": 585,
    "start_time": "2021-10-31T14:17:13.616Z"
   },
   {
    "duration": 583,
    "start_time": "2021-10-31T14:17:13.620Z"
   },
   {
    "duration": 582,
    "start_time": "2021-10-31T14:17:13.623Z"
   },
   {
    "duration": 580,
    "start_time": "2021-10-31T14:17:13.626Z"
   },
   {
    "duration": 579,
    "start_time": "2021-10-31T14:17:13.629Z"
   },
   {
    "duration": 576,
    "start_time": "2021-10-31T14:17:13.633Z"
   },
   {
    "duration": 575,
    "start_time": "2021-10-31T14:17:13.636Z"
   },
   {
    "duration": 13738,
    "start_time": "2021-10-31T14:25:27.055Z"
   },
   {
    "duration": 159,
    "start_time": "2021-10-31T14:25:46.878Z"
   },
   {
    "duration": 6,
    "start_time": "2021-10-31T14:25:47.045Z"
   },
   {
    "duration": 80,
    "start_time": "2021-10-31T14:25:47.055Z"
   },
   {
    "duration": 11,
    "start_time": "2021-10-31T14:25:47.138Z"
   },
   {
    "duration": 39,
    "start_time": "2021-10-31T14:25:47.151Z"
   },
   {
    "duration": 50,
    "start_time": "2021-10-31T14:25:47.192Z"
   },
   {
    "duration": 40,
    "start_time": "2021-10-31T14:25:47.245Z"
   },
   {
    "duration": 262,
    "start_time": "2021-10-31T14:25:47.287Z"
   },
   {
    "duration": 630,
    "start_time": "2021-10-31T14:25:46.922Z"
   },
   {
    "duration": 624,
    "start_time": "2021-10-31T14:25:46.929Z"
   },
   {
    "duration": 609,
    "start_time": "2021-10-31T14:25:46.946Z"
   },
   {
    "duration": 606,
    "start_time": "2021-10-31T14:25:46.950Z"
   },
   {
    "duration": 602,
    "start_time": "2021-10-31T14:25:46.955Z"
   },
   {
    "duration": 600,
    "start_time": "2021-10-31T14:25:46.958Z"
   },
   {
    "duration": 593,
    "start_time": "2021-10-31T14:25:46.967Z"
   },
   {
    "duration": 590,
    "start_time": "2021-10-31T14:25:46.971Z"
   },
   {
    "duration": 587,
    "start_time": "2021-10-31T14:25:46.975Z"
   },
   {
    "duration": 584,
    "start_time": "2021-10-31T14:25:46.979Z"
   },
   {
    "duration": 44218,
    "start_time": "2021-10-31T14:26:45.421Z"
   },
   {
    "duration": 22,
    "start_time": "2021-10-31T14:27:31.674Z"
   },
   {
    "duration": 7,
    "start_time": "2021-10-31T14:27:45.838Z"
   },
   {
    "duration": 11,
    "start_time": "2021-10-31T14:28:10.529Z"
   },
   {
    "duration": 5,
    "start_time": "2021-10-31T14:28:14.557Z"
   },
   {
    "duration": 6,
    "start_time": "2021-10-31T14:28:16.903Z"
   },
   {
    "duration": 5,
    "start_time": "2021-10-31T14:28:19.723Z"
   },
   {
    "duration": 7,
    "start_time": "2021-10-31T14:28:22.045Z"
   },
   {
    "duration": 7,
    "start_time": "2021-10-31T14:28:23.455Z"
   },
   {
    "duration": 7,
    "start_time": "2021-10-31T14:28:24.567Z"
   },
   {
    "duration": 6,
    "start_time": "2021-10-31T14:28:25.601Z"
   },
   {
    "duration": 4,
    "start_time": "2021-10-31T14:28:27.249Z"
   },
   {
    "duration": 5,
    "start_time": "2021-10-31T14:28:28.353Z"
   },
   {
    "duration": 34,
    "start_time": "2021-10-31T14:39:44.785Z"
   },
   {
    "duration": 6,
    "start_time": "2021-10-31T14:39:45.959Z"
   },
   {
    "duration": 5,
    "start_time": "2021-10-31T14:39:47.104Z"
   },
   {
    "duration": 4,
    "start_time": "2021-10-31T14:39:50.309Z"
   },
   {
    "duration": 4,
    "start_time": "2021-10-31T14:39:51.568Z"
   },
   {
    "duration": 72,
    "start_time": "2021-10-31T14:40:38.803Z"
   },
   {
    "duration": 1537,
    "start_time": "2021-10-31T14:51:01.775Z"
   },
   {
    "duration": 1002,
    "start_time": "2021-10-31T14:51:03.315Z"
   },
   {
    "duration": 44,
    "start_time": "2021-10-31T14:51:04.320Z"
   },
   {
    "duration": 26,
    "start_time": "2021-10-31T14:51:04.366Z"
   },
   {
    "duration": 40,
    "start_time": "2021-10-31T14:51:04.394Z"
   },
   {
    "duration": 27,
    "start_time": "2021-10-31T14:51:04.437Z"
   },
   {
    "duration": 38,
    "start_time": "2021-10-31T14:51:04.467Z"
   },
   {
    "duration": 45,
    "start_time": "2021-10-31T14:51:04.508Z"
   },
   {
    "duration": 20,
    "start_time": "2021-10-31T14:51:04.558Z"
   },
   {
    "duration": 62,
    "start_time": "2021-10-31T14:51:04.582Z"
   },
   {
    "duration": 20,
    "start_time": "2021-10-31T14:51:04.647Z"
   },
   {
    "duration": 75,
    "start_time": "2021-10-31T14:51:04.670Z"
   },
   {
    "duration": 8,
    "start_time": "2021-10-31T14:51:04.750Z"
   },
   {
    "duration": 9,
    "start_time": "2021-10-31T14:51:04.762Z"
   },
   {
    "duration": 14,
    "start_time": "2021-10-31T14:51:04.774Z"
   },
   {
    "duration": 49,
    "start_time": "2021-10-31T14:51:04.791Z"
   },
   {
    "duration": 13,
    "start_time": "2021-10-31T14:51:04.843Z"
   },
   {
    "duration": 6,
    "start_time": "2021-10-31T14:51:04.858Z"
   },
   {
    "duration": 9,
    "start_time": "2021-10-31T14:51:04.866Z"
   },
   {
    "duration": 13,
    "start_time": "2021-10-31T14:51:04.877Z"
   },
   {
    "duration": 25,
    "start_time": "2021-10-31T14:51:04.892Z"
   },
   {
    "duration": 18,
    "start_time": "2021-10-31T14:51:04.919Z"
   },
   {
    "duration": 30,
    "start_time": "2021-10-31T14:51:04.940Z"
   },
   {
    "duration": 10,
    "start_time": "2021-10-31T14:51:04.973Z"
   },
   {
    "duration": 403,
    "start_time": "2021-10-31T14:51:04.986Z"
   },
   {
    "duration": 406,
    "start_time": "2021-10-31T14:51:05.392Z"
   },
   {
    "duration": 280,
    "start_time": "2021-10-31T14:51:05.805Z"
   },
   {
    "duration": 572,
    "start_time": "2021-10-31T14:51:06.090Z"
   },
   {
    "duration": 611,
    "start_time": "2021-10-31T14:51:06.665Z"
   },
   {
    "duration": 8,
    "start_time": "2021-10-31T14:51:07.279Z"
   },
   {
    "duration": 672,
    "start_time": "2021-10-31T14:51:07.289Z"
   },
   {
    "duration": 6,
    "start_time": "2021-10-31T14:51:07.964Z"
   },
   {
    "duration": 9,
    "start_time": "2021-10-31T14:51:07.972Z"
   },
   {
    "duration": 590,
    "start_time": "2021-10-31T14:51:07.984Z"
   },
   {
    "duration": 6,
    "start_time": "2021-10-31T14:51:08.577Z"
   },
   {
    "duration": 15,
    "start_time": "2021-10-31T14:51:08.585Z"
   },
   {
    "duration": 5,
    "start_time": "2021-10-31T14:51:08.603Z"
   },
   {
    "duration": 295,
    "start_time": "2021-10-31T14:51:08.611Z"
   },
   {
    "duration": 62,
    "start_time": "2021-10-31T14:51:08.908Z"
   },
   {
    "duration": 398,
    "start_time": "2021-10-31T14:51:08.972Z"
   },
   {
    "duration": 3,
    "start_time": "2021-10-31T14:51:09.372Z"
   },
   {
    "duration": 10,
    "start_time": "2021-10-31T14:51:09.378Z"
   },
   {
    "duration": 11,
    "start_time": "2021-10-31T14:51:09.390Z"
   },
   {
    "duration": 29,
    "start_time": "2021-10-31T14:51:09.403Z"
   },
   {
    "duration": 12,
    "start_time": "2021-10-31T14:51:09.442Z"
   },
   {
    "duration": 40781,
    "start_time": "2021-10-31T14:51:09.457Z"
   },
   {
    "duration": 6,
    "start_time": "2021-10-31T14:51:50.240Z"
   },
   {
    "duration": 10,
    "start_time": "2021-10-31T14:51:50.249Z"
   },
   {
    "duration": 6,
    "start_time": "2021-10-31T14:51:50.264Z"
   },
   {
    "duration": 324,
    "start_time": "2021-10-31T14:51:50.272Z"
   },
   {
    "duration": 5,
    "start_time": "2021-10-31T14:51:50.598Z"
   },
   {
    "duration": 1660,
    "start_time": "2021-10-31T14:51:50.605Z"
   },
   {
    "duration": 4,
    "start_time": "2021-10-31T14:51:52.267Z"
   },
   {
    "duration": 589590,
    "start_time": "2021-10-31T14:51:52.273Z"
   },
   {
    "duration": 4,
    "start_time": "2021-10-31T15:01:41.866Z"
   },
   {
    "duration": 6963,
    "start_time": "2021-10-31T15:01:41.872Z"
   },
   {
    "duration": 6,
    "start_time": "2021-10-31T15:01:48.837Z"
   },
   {
    "duration": 36371,
    "start_time": "2021-10-31T15:01:48.852Z"
   },
   {
    "duration": 5,
    "start_time": "2021-10-31T15:02:25.228Z"
   },
   {
    "duration": 117,
    "start_time": "2021-10-31T15:02:25.236Z"
   },
   {
    "duration": 1193,
    "start_time": "2021-10-31T15:02:25.358Z"
   },
   {
    "duration": 77,
    "start_time": "2021-10-31T15:02:26.558Z"
   },
   {
    "duration": 20,
    "start_time": "2021-10-31T15:02:26.637Z"
   },
   {
    "duration": 9,
    "start_time": "2021-10-31T15:02:26.659Z"
   },
   {
    "duration": 11,
    "start_time": "2021-10-31T15:02:26.670Z"
   },
   {
    "duration": 6,
    "start_time": "2021-10-31T15:02:26.683Z"
   },
   {
    "duration": 10,
    "start_time": "2021-10-31T15:02:26.691Z"
   },
   {
    "duration": 11,
    "start_time": "2021-10-31T15:02:26.733Z"
   },
   {
    "duration": 18,
    "start_time": "2021-10-31T15:02:26.746Z"
   },
   {
    "duration": 4,
    "start_time": "2021-10-31T15:02:26.766Z"
   },
   {
    "duration": 55513,
    "start_time": "2021-10-31T15:02:26.772Z"
   },
   {
    "duration": 5,
    "start_time": "2021-10-31T15:03:22.288Z"
   },
   {
    "duration": 392,
    "start_time": "2021-10-31T15:03:22.295Z"
   },
   {
    "duration": 5,
    "start_time": "2021-10-31T15:03:22.689Z"
   },
   {
    "duration": 432645,
    "start_time": "2021-10-31T15:03:22.697Z"
   },
   {
    "duration": 5,
    "start_time": "2021-10-31T15:10:35.345Z"
   },
   {
    "duration": 11702,
    "start_time": "2021-10-31T15:10:35.353Z"
   },
   {
    "duration": 93,
    "start_time": "2021-10-31T15:10:47.057Z"
   },
   {
    "duration": 12,
    "start_time": "2021-10-31T15:10:47.230Z"
   },
   {
    "duration": 21,
    "start_time": "2021-10-31T15:10:47.254Z"
   },
   {
    "duration": 56,
    "start_time": "2021-10-31T15:10:47.284Z"
   },
   {
    "duration": 58,
    "start_time": "2021-10-31T15:10:47.343Z"
   },
   {
    "duration": 17,
    "start_time": "2021-10-31T15:10:47.404Z"
   },
   {
    "duration": 46537,
    "start_time": "2021-10-31T15:10:47.436Z"
   },
   {
    "duration": 10,
    "start_time": "2021-10-31T15:11:33.975Z"
   },
   {
    "duration": 8,
    "start_time": "2021-10-31T15:11:33.988Z"
   },
   {
    "duration": 50,
    "start_time": "2021-10-31T15:11:33.998Z"
   },
   {
    "duration": 9,
    "start_time": "2021-10-31T15:11:34.051Z"
   },
   {
    "duration": 7,
    "start_time": "2021-10-31T15:11:34.062Z"
   },
   {
    "duration": 7,
    "start_time": "2021-10-31T15:11:34.071Z"
   },
   {
    "duration": 55,
    "start_time": "2021-10-31T15:11:34.081Z"
   },
   {
    "duration": 6,
    "start_time": "2021-10-31T15:11:34.139Z"
   },
   {
    "duration": 7,
    "start_time": "2021-10-31T15:11:34.153Z"
   },
   {
    "duration": 7,
    "start_time": "2021-10-31T15:11:34.163Z"
   },
   {
    "duration": 8,
    "start_time": "2021-10-31T15:11:34.172Z"
   },
   {
    "duration": 1635,
    "start_time": "2021-11-01T16:04:57.138Z"
   },
   {
    "duration": 871,
    "start_time": "2021-11-01T16:04:58.776Z"
   },
   {
    "duration": 50,
    "start_time": "2021-11-01T16:04:59.650Z"
   },
   {
    "duration": 26,
    "start_time": "2021-11-01T16:04:59.703Z"
   },
   {
    "duration": 33,
    "start_time": "2021-11-01T16:04:59.732Z"
   },
   {
    "duration": 17,
    "start_time": "2021-11-01T16:04:59.800Z"
   },
   {
    "duration": 33,
    "start_time": "2021-11-01T16:04:59.820Z"
   },
   {
    "duration": 60,
    "start_time": "2021-11-01T16:04:59.859Z"
   },
   {
    "duration": 25,
    "start_time": "2021-11-01T16:04:59.923Z"
   },
   {
    "duration": 10,
    "start_time": "2021-11-01T16:04:59.951Z"
   },
   {
    "duration": 48,
    "start_time": "2021-11-01T16:04:59.964Z"
   },
   {
    "duration": 29,
    "start_time": "2021-11-01T16:05:00.015Z"
   },
   {
    "duration": 18,
    "start_time": "2021-11-01T16:05:00.047Z"
   },
   {
    "duration": 21,
    "start_time": "2021-11-01T16:05:00.068Z"
   },
   {
    "duration": 27,
    "start_time": "2021-11-01T16:05:00.091Z"
   },
   {
    "duration": 29,
    "start_time": "2021-11-01T16:05:00.120Z"
   },
   {
    "duration": 14,
    "start_time": "2021-11-01T16:05:00.151Z"
   },
   {
    "duration": 25,
    "start_time": "2021-11-01T16:05:00.167Z"
   },
   {
    "duration": 21,
    "start_time": "2021-11-01T16:05:00.195Z"
   },
   {
    "duration": 22,
    "start_time": "2021-11-01T16:05:00.218Z"
   },
   {
    "duration": 49,
    "start_time": "2021-11-01T16:05:00.242Z"
   },
   {
    "duration": 14,
    "start_time": "2021-11-01T16:05:00.294Z"
   },
   {
    "duration": 37,
    "start_time": "2021-11-01T16:05:00.316Z"
   },
   {
    "duration": 19,
    "start_time": "2021-11-01T16:05:00.358Z"
   },
   {
    "duration": 300,
    "start_time": "2021-11-01T16:05:00.379Z"
   },
   {
    "duration": 267,
    "start_time": "2021-11-01T16:05:00.682Z"
   },
   {
    "duration": 268,
    "start_time": "2021-11-01T16:05:00.951Z"
   },
   {
    "duration": 549,
    "start_time": "2021-11-01T16:05:01.222Z"
   },
   {
    "duration": 602,
    "start_time": "2021-11-01T16:05:01.774Z"
   },
   {
    "duration": 22,
    "start_time": "2021-11-01T16:05:02.378Z"
   },
   {
    "duration": 667,
    "start_time": "2021-11-01T16:05:02.403Z"
   },
   {
    "duration": 7,
    "start_time": "2021-11-01T16:05:03.073Z"
   },
   {
    "duration": 7,
    "start_time": "2021-11-01T16:05:03.101Z"
   },
   {
    "duration": 550,
    "start_time": "2021-11-01T16:05:03.110Z"
   },
   {
    "duration": 6,
    "start_time": "2021-11-01T16:05:03.663Z"
   },
   {
    "duration": 11,
    "start_time": "2021-11-01T16:05:03.671Z"
   },
   {
    "duration": 6,
    "start_time": "2021-11-01T16:05:03.701Z"
   },
   {
    "duration": 288,
    "start_time": "2021-11-01T16:05:03.710Z"
   },
   {
    "duration": 45,
    "start_time": "2021-11-01T16:05:04.001Z"
   },
   {
    "duration": 292,
    "start_time": "2021-11-01T16:05:04.048Z"
   },
   {
    "duration": 5,
    "start_time": "2021-11-01T16:05:04.342Z"
   },
   {
    "duration": 9,
    "start_time": "2021-11-01T16:05:04.350Z"
   },
   {
    "duration": 42,
    "start_time": "2021-11-01T16:05:04.362Z"
   },
   {
    "duration": 5,
    "start_time": "2021-11-01T16:05:04.406Z"
   },
   {
    "duration": 8,
    "start_time": "2021-11-01T16:05:04.414Z"
   },
   {
    "duration": 38829,
    "start_time": "2021-11-01T16:05:04.424Z"
   },
   {
    "duration": 5,
    "start_time": "2021-11-01T16:05:43.256Z"
   },
   {
    "duration": 7,
    "start_time": "2021-11-01T16:05:43.263Z"
   },
   {
    "duration": 79,
    "start_time": "2021-11-01T16:05:43.273Z"
   },
   {
    "duration": 308,
    "start_time": "2021-11-01T16:05:43.355Z"
   },
   {
    "duration": 5,
    "start_time": "2021-11-01T16:05:43.666Z"
   },
   {
    "duration": 1559,
    "start_time": "2021-11-01T16:05:43.673Z"
   },
   {
    "duration": 5,
    "start_time": "2021-11-01T16:05:45.234Z"
   },
   {
    "duration": 567083,
    "start_time": "2021-11-01T16:05:45.242Z"
   },
   {
    "duration": 6,
    "start_time": "2021-11-01T16:15:12.327Z"
   },
   {
    "duration": 10270,
    "start_time": "2021-11-01T16:15:12.335Z"
   },
   {
    "duration": 6,
    "start_time": "2021-11-01T16:15:22.607Z"
   },
   {
    "duration": 53640,
    "start_time": "2021-11-01T16:15:22.615Z"
   },
   {
    "duration": 4,
    "start_time": "2021-11-01T16:16:16.258Z"
   },
   {
    "duration": 144,
    "start_time": "2021-11-01T16:16:16.265Z"
   },
   {
    "duration": 991,
    "start_time": "2021-11-01T16:16:16.412Z"
   },
   {
    "duration": 4,
    "start_time": "2021-11-01T16:16:17.406Z"
   },
   {
    "duration": 89,
    "start_time": "2021-11-01T16:16:17.412Z"
   },
   {
    "duration": 22,
    "start_time": "2021-11-01T16:16:17.504Z"
   },
   {
    "duration": 11,
    "start_time": "2021-11-01T16:16:17.528Z"
   },
   {
    "duration": 4,
    "start_time": "2021-11-01T16:16:17.542Z"
   },
   {
    "duration": 19,
    "start_time": "2021-11-01T16:16:17.548Z"
   },
   {
    "duration": 27,
    "start_time": "2021-11-01T16:16:17.574Z"
   },
   {
    "duration": 19,
    "start_time": "2021-11-01T16:16:17.604Z"
   },
   {
    "duration": 8,
    "start_time": "2021-11-01T16:16:17.626Z"
   },
   {
    "duration": 52911,
    "start_time": "2021-11-01T16:16:17.636Z"
   },
   {
    "duration": 5,
    "start_time": "2021-11-01T16:17:10.549Z"
   },
   {
    "duration": 370,
    "start_time": "2021-11-01T16:17:10.556Z"
   },
   {
    "duration": 5,
    "start_time": "2021-11-01T16:17:10.928Z"
   },
   {
    "duration": 405220,
    "start_time": "2021-11-01T16:17:10.935Z"
   },
   {
    "duration": 6,
    "start_time": "2021-11-01T16:23:56.158Z"
   },
   {
    "duration": 13815,
    "start_time": "2021-11-01T16:23:56.167Z"
   },
   {
    "duration": 216,
    "start_time": "2021-11-01T16:24:09.985Z"
   },
   {
    "duration": 21,
    "start_time": "2021-11-01T16:24:10.204Z"
   },
   {
    "duration": 12,
    "start_time": "2021-11-01T16:24:10.228Z"
   },
   {
    "duration": 11,
    "start_time": "2021-11-01T16:24:10.242Z"
   },
   {
    "duration": 3,
    "start_time": "2021-11-01T16:41:02.679Z"
   },
   {
    "duration": 6,
    "start_time": "2021-11-01T16:41:05.818Z"
   },
   {
    "duration": 4,
    "start_time": "2021-11-01T16:41:11.295Z"
   },
   {
    "duration": 5,
    "start_time": "2021-11-01T16:41:12.489Z"
   },
   {
    "duration": 3,
    "start_time": "2021-11-01T16:41:16.263Z"
   },
   {
    "duration": 6,
    "start_time": "2021-11-01T16:41:18.831Z"
   },
   {
    "duration": 8,
    "start_time": "2021-11-01T16:41:49.806Z"
   },
   {
    "duration": 41,
    "start_time": "2021-11-01T16:41:52.984Z"
   },
   {
    "duration": 10,
    "start_time": "2021-11-01T16:41:58.148Z"
   },
   {
    "duration": 43,
    "start_time": "2021-11-01T16:41:59.302Z"
   },
   {
    "duration": 13,
    "start_time": "2021-11-01T16:43:39.431Z"
   },
   {
    "duration": 41,
    "start_time": "2021-11-01T16:43:40.752Z"
   },
   {
    "duration": 12,
    "start_time": "2021-11-01T16:56:00.739Z"
   },
   {
    "duration": 44,
    "start_time": "2021-11-01T16:56:02.808Z"
   },
   {
    "duration": 3,
    "start_time": "2021-11-01T16:56:19.033Z"
   },
   {
    "duration": 6,
    "start_time": "2021-11-01T16:56:43.961Z"
   },
   {
    "duration": 13,
    "start_time": "2021-11-01T16:56:49.759Z"
   },
   {
    "duration": 7,
    "start_time": "2021-11-01T16:57:15.950Z"
   },
   {
    "duration": 39,
    "start_time": "2021-11-01T16:57:19.618Z"
   },
   {
    "duration": 6,
    "start_time": "2021-11-01T16:57:54.465Z"
   },
   {
    "duration": 13,
    "start_time": "2021-11-01T16:57:57.699Z"
   },
   {
    "duration": 6,
    "start_time": "2021-11-01T16:59:04.422Z"
   },
   {
    "duration": 6,
    "start_time": "2021-11-01T16:59:09.024Z"
   },
   {
    "duration": 6,
    "start_time": "2021-11-01T16:59:10.582Z"
   },
   {
    "duration": 12,
    "start_time": "2021-11-01T17:00:01.196Z"
   },
   {
    "duration": 41,
    "start_time": "2021-11-01T17:00:04.791Z"
   },
   {
    "duration": 19,
    "start_time": "2021-11-01T17:00:21.012Z"
   },
   {
    "duration": 6,
    "start_time": "2021-11-01T17:00:25.218Z"
   },
   {
    "duration": 6,
    "start_time": "2021-11-01T17:00:37.115Z"
   },
   {
    "duration": 5,
    "start_time": "2021-11-01T17:00:41.073Z"
   },
   {
    "duration": 6,
    "start_time": "2021-11-01T17:00:42.552Z"
   },
   {
    "duration": 5,
    "start_time": "2021-11-01T17:00:43.694Z"
   },
   {
    "duration": 5,
    "start_time": "2021-11-01T17:00:49.263Z"
   },
   {
    "duration": 34,
    "start_time": "2021-11-01T17:00:50.746Z"
   },
   {
    "duration": 6,
    "start_time": "2021-11-01T17:00:52.903Z"
   },
   {
    "duration": 6,
    "start_time": "2021-11-01T17:00:53.959Z"
   },
   {
    "duration": 16,
    "start_time": "2021-11-01T17:01:06.801Z"
   },
   {
    "duration": 7,
    "start_time": "2021-11-01T17:01:14.589Z"
   },
   {
    "duration": 4,
    "start_time": "2021-11-01T17:01:15.755Z"
   },
   {
    "duration": 41,
    "start_time": "2021-11-01T17:01:59.402Z"
   },
   {
    "duration": 34,
    "start_time": "2021-11-01T17:03:18.338Z"
   },
   {
    "duration": 6,
    "start_time": "2021-11-01T17:03:20.896Z"
   },
   {
    "duration": 5,
    "start_time": "2021-11-01T17:03:21.958Z"
   },
   {
    "duration": 112,
    "start_time": "2021-11-01T17:04:25.089Z"
   },
   {
    "duration": 40,
    "start_time": "2021-11-01T17:04:29.578Z"
   },
   {
    "duration": 6,
    "start_time": "2021-11-01T17:04:38.529Z"
   },
   {
    "duration": 509,
    "start_time": "2021-11-01T17:04:39.995Z"
   },
   {
    "duration": 7,
    "start_time": "2021-11-01T17:05:04.329Z"
   },
   {
    "duration": 13,
    "start_time": "2021-11-01T17:05:10.782Z"
   },
   {
    "duration": 42,
    "start_time": "2021-11-01T17:05:12.945Z"
   },
   {
    "duration": 10,
    "start_time": "2021-11-01T17:05:15.470Z"
   },
   {
    "duration": 5,
    "start_time": "2021-11-01T17:05:17.920Z"
   },
   {
    "duration": 5,
    "start_time": "2021-11-01T17:05:29.751Z"
   },
   {
    "duration": 6,
    "start_time": "2021-11-01T17:05:31.281Z"
   },
   {
    "duration": 5,
    "start_time": "2021-11-01T17:05:32.357Z"
   },
   {
    "duration": 13380,
    "start_time": "2021-11-01T17:06:25.702Z"
   },
   {
    "duration": 33,
    "start_time": "2021-11-01T17:06:51.145Z"
   },
   {
    "duration": 6,
    "start_time": "2021-11-01T17:06:52.420Z"
   },
   {
    "duration": 6,
    "start_time": "2021-11-01T17:06:53.712Z"
   },
   {
    "duration": 9983,
    "start_time": "2021-11-01T17:07:12.135Z"
   },
   {
    "duration": 33,
    "start_time": "2021-11-01T17:07:40.964Z"
   },
   {
    "duration": 6,
    "start_time": "2021-11-01T17:07:42.715Z"
   },
   {
    "duration": 6,
    "start_time": "2021-11-01T17:07:43.805Z"
   },
   {
    "duration": 3,
    "start_time": "2021-11-01T17:08:29.243Z"
   },
   {
    "duration": 4,
    "start_time": "2021-11-01T17:08:30.333Z"
   },
   {
    "duration": 1636,
    "start_time": "2021-11-01T17:09:55.615Z"
   },
   {
    "duration": 887,
    "start_time": "2021-11-01T17:09:57.253Z"
   },
   {
    "duration": 36,
    "start_time": "2021-11-01T17:09:58.143Z"
   },
   {
    "duration": 41,
    "start_time": "2021-11-01T17:09:58.183Z"
   },
   {
    "duration": 32,
    "start_time": "2021-11-01T17:09:58.226Z"
   },
   {
    "duration": 49,
    "start_time": "2021-11-01T17:09:58.261Z"
   },
   {
    "duration": 30,
    "start_time": "2021-11-01T17:09:58.313Z"
   },
   {
    "duration": 53,
    "start_time": "2021-11-01T17:09:58.347Z"
   },
   {
    "duration": 22,
    "start_time": "2021-11-01T17:09:58.403Z"
   },
   {
    "duration": 7,
    "start_time": "2021-11-01T17:09:58.427Z"
   },
   {
    "duration": 16,
    "start_time": "2021-11-01T17:09:58.436Z"
   },
   {
    "duration": 46,
    "start_time": "2021-11-01T17:09:58.455Z"
   },
   {
    "duration": 7,
    "start_time": "2021-11-01T17:09:58.503Z"
   },
   {
    "duration": 8,
    "start_time": "2021-11-01T17:09:58.512Z"
   },
   {
    "duration": 4,
    "start_time": "2021-11-01T17:09:58.523Z"
   },
   {
    "duration": 8,
    "start_time": "2021-11-01T17:09:58.529Z"
   },
   {
    "duration": 5,
    "start_time": "2021-11-01T17:09:58.539Z"
   },
   {
    "duration": 7,
    "start_time": "2021-11-01T17:09:58.546Z"
   },
   {
    "duration": 47,
    "start_time": "2021-11-01T17:09:58.555Z"
   },
   {
    "duration": 8,
    "start_time": "2021-11-01T17:09:58.605Z"
   },
   {
    "duration": 39,
    "start_time": "2021-11-01T17:09:58.616Z"
   },
   {
    "duration": 53,
    "start_time": "2021-11-01T17:09:58.658Z"
   },
   {
    "duration": 28,
    "start_time": "2021-11-01T17:09:58.721Z"
   },
   {
    "duration": 11,
    "start_time": "2021-11-01T17:09:58.753Z"
   },
   {
    "duration": 287,
    "start_time": "2021-11-01T17:09:58.766Z"
   },
   {
    "duration": 277,
    "start_time": "2021-11-01T17:09:59.055Z"
   },
   {
    "duration": 253,
    "start_time": "2021-11-01T17:09:59.334Z"
   },
   {
    "duration": 563,
    "start_time": "2021-11-01T17:09:59.589Z"
   },
   {
    "duration": 608,
    "start_time": "2021-11-01T17:10:00.155Z"
   },
   {
    "duration": 8,
    "start_time": "2021-11-01T17:10:00.765Z"
   },
   {
    "duration": 674,
    "start_time": "2021-11-01T17:10:00.776Z"
   },
   {
    "duration": 7,
    "start_time": "2021-11-01T17:10:01.452Z"
   },
   {
    "duration": 31,
    "start_time": "2021-11-01T17:10:01.461Z"
   },
   {
    "duration": 558,
    "start_time": "2021-11-01T17:10:01.495Z"
   },
   {
    "duration": 6,
    "start_time": "2021-11-01T17:10:02.055Z"
   },
   {
    "duration": 16,
    "start_time": "2021-11-01T17:10:02.063Z"
   },
   {
    "duration": 30,
    "start_time": "2021-11-01T17:10:02.082Z"
   },
   {
    "duration": 286,
    "start_time": "2021-11-01T17:10:02.114Z"
   },
   {
    "duration": 45,
    "start_time": "2021-11-01T17:10:02.403Z"
   },
   {
    "duration": 302,
    "start_time": "2021-11-01T17:10:02.451Z"
   },
   {
    "duration": 5,
    "start_time": "2021-11-01T17:10:02.755Z"
   },
   {
    "duration": 18,
    "start_time": "2021-11-01T17:10:02.762Z"
   },
   {
    "duration": 25,
    "start_time": "2021-11-01T17:10:02.784Z"
   },
   {
    "duration": 5,
    "start_time": "2021-11-01T17:10:02.812Z"
   },
   {
    "duration": 8,
    "start_time": "2021-11-01T17:10:02.819Z"
   },
   {
    "duration": 43028,
    "start_time": "2021-11-01T17:10:02.829Z"
   },
   {
    "duration": 6,
    "start_time": "2021-11-01T17:10:45.859Z"
   },
   {
    "duration": 10,
    "start_time": "2021-11-01T17:10:45.868Z"
   },
   {
    "duration": 7,
    "start_time": "2021-11-01T17:10:45.880Z"
   },
   {
    "duration": 344,
    "start_time": "2021-11-01T17:10:45.889Z"
   },
   {
    "duration": 4,
    "start_time": "2021-11-01T17:10:46.236Z"
   },
   {
    "duration": 2241,
    "start_time": "2021-11-01T17:10:46.243Z"
   },
   {
    "duration": 5,
    "start_time": "2021-11-01T17:10:48.486Z"
   },
   {
    "duration": 554799,
    "start_time": "2021-11-01T17:10:48.501Z"
   },
   {
    "duration": 5,
    "start_time": "2021-11-01T17:20:03.303Z"
   },
   {
    "duration": 6639,
    "start_time": "2021-11-01T17:20:03.310Z"
   },
   {
    "duration": 6,
    "start_time": "2021-11-01T17:20:09.952Z"
   },
   {
    "duration": 534,
    "start_time": "2021-11-01T17:20:09.961Z"
   },
   {
    "duration": -365,
    "start_time": "2021-11-01T17:20:10.866Z"
   },
   {
    "duration": -369,
    "start_time": "2021-11-01T17:20:10.871Z"
   },
   {
    "duration": -373,
    "start_time": "2021-11-01T17:20:10.877Z"
   },
   {
    "duration": -375,
    "start_time": "2021-11-01T17:20:10.881Z"
   },
   {
    "duration": -377,
    "start_time": "2021-11-01T17:20:10.886Z"
   },
   {
    "duration": -380,
    "start_time": "2021-11-01T17:20:10.891Z"
   },
   {
    "duration": -384,
    "start_time": "2021-11-01T17:20:10.897Z"
   },
   {
    "duration": -386,
    "start_time": "2021-11-01T17:20:10.901Z"
   },
   {
    "duration": -388,
    "start_time": "2021-11-01T17:20:10.905Z"
   },
   {
    "duration": -389,
    "start_time": "2021-11-01T17:20:10.909Z"
   },
   {
    "duration": -391,
    "start_time": "2021-11-01T17:20:10.913Z"
   },
   {
    "duration": -393,
    "start_time": "2021-11-01T17:20:10.917Z"
   },
   {
    "duration": -432,
    "start_time": "2021-11-01T17:20:10.958Z"
   },
   {
    "duration": -434,
    "start_time": "2021-11-01T17:20:10.962Z"
   },
   {
    "duration": -436,
    "start_time": "2021-11-01T17:20:10.966Z"
   },
   {
    "duration": -439,
    "start_time": "2021-11-01T17:20:10.971Z"
   },
   {
    "duration": -441,
    "start_time": "2021-11-01T17:20:10.975Z"
   },
   {
    "duration": -442,
    "start_time": "2021-11-01T17:20:10.979Z"
   },
   {
    "duration": -444,
    "start_time": "2021-11-01T17:20:10.983Z"
   },
   {
    "duration": -445,
    "start_time": "2021-11-01T17:20:10.986Z"
   },
   {
    "duration": -446,
    "start_time": "2021-11-01T17:20:10.990Z"
   },
   {
    "duration": -449,
    "start_time": "2021-11-01T17:20:10.994Z"
   },
   {
    "duration": -451,
    "start_time": "2021-11-01T17:20:10.997Z"
   },
   {
    "duration": -401,
    "start_time": "2021-11-01T17:20:11.001Z"
   },
   {
    "duration": -403,
    "start_time": "2021-11-01T17:20:11.005Z"
   },
   {
    "duration": -406,
    "start_time": "2021-11-01T17:20:11.009Z"
   },
   {
    "duration": -408,
    "start_time": "2021-11-01T17:20:11.013Z"
   },
   {
    "duration": -410,
    "start_time": "2021-11-01T17:20:11.016Z"
   },
   {
    "duration": -413,
    "start_time": "2021-11-01T17:20:11.020Z"
   },
   {
    "duration": -414,
    "start_time": "2021-11-01T17:20:11.023Z"
   },
   {
    "duration": -417,
    "start_time": "2021-11-01T17:20:11.027Z"
   },
   {
    "duration": -420,
    "start_time": "2021-11-01T17:20:11.031Z"
   },
   {
    "duration": -421,
    "start_time": "2021-11-01T17:20:11.034Z"
   },
   {
    "duration": -424,
    "start_time": "2021-11-01T17:20:11.038Z"
   },
   {
    "duration": -426,
    "start_time": "2021-11-01T17:20:11.042Z"
   },
   {
    "duration": -428,
    "start_time": "2021-11-01T17:20:11.045Z"
   },
   {
    "duration": -442,
    "start_time": "2021-11-01T17:20:11.060Z"
   },
   {
    "duration": -443,
    "start_time": "2021-11-01T17:20:11.063Z"
   },
   {
    "duration": -446,
    "start_time": "2021-11-01T17:20:11.067Z"
   },
   {
    "duration": -449,
    "start_time": "2021-11-01T17:20:11.071Z"
   },
   {
    "duration": 34088,
    "start_time": "2021-11-01T17:21:04.189Z"
   },
   {
    "duration": 4,
    "start_time": "2021-11-01T17:21:44.758Z"
   },
   {
    "duration": 39,
    "start_time": "2021-11-01T17:21:44.765Z"
   },
   {
    "duration": 1001,
    "start_time": "2021-11-01T17:21:44.807Z"
   },
   {
    "duration": 91,
    "start_time": "2021-11-01T17:21:45.811Z"
   },
   {
    "duration": 95,
    "start_time": "2021-11-01T17:21:45.906Z"
   },
   {
    "duration": 12,
    "start_time": "2021-11-01T17:21:46.004Z"
   },
   {
    "duration": 8,
    "start_time": "2021-11-01T17:21:46.021Z"
   },
   {
    "duration": 8,
    "start_time": "2021-11-01T17:21:46.032Z"
   },
   {
    "duration": 9,
    "start_time": "2021-11-01T17:21:46.042Z"
   },
   {
    "duration": 48,
    "start_time": "2021-11-01T17:21:46.053Z"
   },
   {
    "duration": 14,
    "start_time": "2021-11-01T17:21:46.103Z"
   },
   {
    "duration": 4,
    "start_time": "2021-11-01T17:21:46.119Z"
   },
   {
    "duration": 51623,
    "start_time": "2021-11-01T17:21:46.125Z"
   },
   {
    "duration": 6,
    "start_time": "2021-11-01T17:22:37.751Z"
   },
   {
    "duration": 372,
    "start_time": "2021-11-01T17:22:37.761Z"
   },
   {
    "duration": 5,
    "start_time": "2021-11-01T17:22:38.136Z"
   },
   {
    "duration": 404550,
    "start_time": "2021-11-01T17:22:38.144Z"
   },
   {
    "duration": 5,
    "start_time": "2021-11-01T17:29:22.701Z"
   },
   {
    "duration": 10724,
    "start_time": "2021-11-01T17:29:22.712Z"
   },
   {
    "duration": 162,
    "start_time": "2021-11-01T17:29:33.439Z"
   },
   {
    "duration": 96,
    "start_time": "2021-11-01T17:29:33.605Z"
   },
   {
    "duration": 9,
    "start_time": "2021-11-01T17:29:33.703Z"
   },
   {
    "duration": 13,
    "start_time": "2021-11-01T17:29:33.714Z"
   },
   {
    "duration": 71,
    "start_time": "2021-11-01T17:29:33.729Z"
   },
   {
    "duration": 15,
    "start_time": "2021-11-01T17:29:33.803Z"
   },
   {
    "duration": 6,
    "start_time": "2021-11-01T17:29:33.821Z"
   },
   {
    "duration": 18,
    "start_time": "2021-11-01T17:29:33.829Z"
   },
   {
    "duration": 76,
    "start_time": "2021-11-01T17:29:33.849Z"
   },
   {
    "duration": 10,
    "start_time": "2021-11-01T17:29:33.928Z"
   },
   {
    "duration": 6,
    "start_time": "2021-11-01T17:29:33.941Z"
   },
   {
    "duration": 60,
    "start_time": "2021-11-01T17:29:33.950Z"
   },
   {
    "duration": 5,
    "start_time": "2021-11-01T17:29:34.012Z"
   },
   {
    "duration": 13,
    "start_time": "2021-11-01T17:29:34.020Z"
   },
   {
    "duration": 10,
    "start_time": "2021-11-01T17:29:34.036Z"
   },
   {
    "duration": 384,
    "start_time": "2021-11-01T17:29:34.048Z"
   },
   {
    "duration": -365,
    "start_time": "2021-11-01T17:29:34.799Z"
   },
   {
    "duration": -369,
    "start_time": "2021-11-01T17:29:34.804Z"
   },
   {
    "duration": -371,
    "start_time": "2021-11-01T17:29:34.808Z"
   },
   {
    "duration": -373,
    "start_time": "2021-11-01T17:29:34.811Z"
   },
   {
    "duration": -375,
    "start_time": "2021-11-01T17:29:34.815Z"
   },
   {
    "duration": 29,
    "start_time": "2021-11-01T17:31:28.685Z"
   },
   {
    "duration": 29,
    "start_time": "2021-11-01T17:31:30.492Z"
   },
   {
    "duration": 5,
    "start_time": "2021-11-01T17:31:31.597Z"
   },
   {
    "duration": 6,
    "start_time": "2021-11-01T17:31:32.673Z"
   },
   {
    "duration": 4,
    "start_time": "2021-11-01T17:31:34.210Z"
   },
   {
    "duration": 5,
    "start_time": "2021-11-01T17:31:35.779Z"
   }
  ],
  "kernelspec": {
   "display_name": "Python 3",
   "language": "python",
   "name": "python3"
  },
  "language_info": {
   "codemirror_mode": {
    "name": "ipython",
    "version": 3
   },
   "file_extension": ".py",
   "mimetype": "text/x-python",
   "name": "python",
   "nbconvert_exporter": "python",
   "pygments_lexer": "ipython3",
   "version": "3.8.5"
  },
  "toc": {
   "base_numbering": 1,
   "nav_menu": {},
   "number_sections": true,
   "sideBar": true,
   "skip_h1_title": true,
   "title_cell": "Содержание",
   "title_sidebar": "Contents",
   "toc_cell": true,
   "toc_position": {
    "height": "calc(100% - 180px)",
    "left": "10px",
    "top": "150px",
    "width": "324.162px"
   },
   "toc_section_display": true,
   "toc_window_display": true
  }
 },
 "nbformat": 4,
 "nbformat_minor": 2
}
